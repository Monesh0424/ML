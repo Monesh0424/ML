{
  "nbformat": 4,
  "nbformat_minor": 0,
  "metadata": {
    "colab": {
      "name": "Image classification (CIFAR - 10)- CNN",
      "provenance": [],
      "collapsed_sections": [],
      "authorship_tag": "ABX9TyPWbea9jQLnBAyepQFVHtlk",
      "include_colab_link": true
    },
    "kernelspec": {
      "name": "python3",
      "display_name": "Python 3"
    }
  },
  "cells": [
    {
      "cell_type": "markdown",
      "metadata": {
        "id": "view-in-github",
        "colab_type": "text"
      },
      "source": [
        "<a href=\"https://colab.research.google.com/github/Monesh0424/My-Portfolio/blob/master/Image_classification_(CIFAR_10)_CNN.ipynb\" target=\"_parent\"><img src=\"https://colab.research.google.com/assets/colab-badge.svg\" alt=\"Open In Colab\"/></a>"
      ]
    },
    {
      "cell_type": "markdown",
      "metadata": {
        "id": "jDlDuFHLcl8L",
        "colab_type": "text"
      },
      "source": [
        "Objective - To train a deep learning model to classify images in cifar-10 dataset, with 10 classes in label. "
      ]
    },
    {
      "cell_type": "markdown",
      "metadata": {
        "id": "zLQezAX3uNMb",
        "colab_type": "text"
      },
      "source": [
        "- CIFAR-10 is a dataset that consists of several images divided into the following 10 classes: \n",
        "    - Airplanes\n",
        "    - Cars \n",
        "    - Birds\n",
        "    - Cats\n",
        "    - Deer\n",
        "    - Dogs\n",
        "    - Frogs\n",
        "    - Horses\n",
        "    - Ships\n",
        "    - Trucks"
      ]
    },
    {
      "cell_type": "code",
      "metadata": {
        "id": "LaDfw9H2cs8p",
        "colab_type": "code",
        "colab": {}
      },
      "source": [
        "# Importing libraries\n",
        "\n",
        "\n",
        "\n",
        "import numpy as np\n",
        "import pandas as pd\n",
        "import matplotlib.pyplot as plt\n",
        "import seaborn as sns"
      ],
      "execution_count": null,
      "outputs": []
    },
    {
      "cell_type": "code",
      "metadata": {
        "id": "mGKHXqRiaH-6",
        "colab_type": "code",
        "colab": {}
      },
      "source": [
        "# Importing dataset\n",
        "\n",
        "\n",
        "from keras.datasets import cifar10\n",
        "(X_train,y_train),(X_test,y_test) = cifar10.load_data()"
      ],
      "execution_count": null,
      "outputs": []
    },
    {
      "cell_type": "code",
      "metadata": {
        "id": "izWkRJiRqHy3",
        "colab_type": "code",
        "colab": {}
      },
      "source": [
        "X_train.shape"
      ],
      "execution_count": null,
      "outputs": []
    },
    {
      "cell_type": "markdown",
      "metadata": {
        "id": "C0hh3J23qygw",
        "colab_type": "text"
      },
      "source": [
        "Observation:\n",
        "        1) There are 50000 images in training dataset.\n",
        "        2) Width and height of each image is 32\n",
        "        3) All images are color images."
      ]
    },
    {
      "cell_type": "code",
      "metadata": {
        "id": "5dY4AfAuqYHq",
        "colab_type": "code",
        "colab": {}
      },
      "source": [
        "# Visualising data\n",
        "\n",
        "\n",
        "\n",
        "plt.imshow(X_train[1000])"
      ],
      "execution_count": null,
      "outputs": []
    },
    {
      "cell_type": "code",
      "metadata": {
        "id": "XZEBjy6ar0a-",
        "colab_type": "code",
        "colab": {}
      },
      "source": [
        "print(y_train[1000])"
      ],
      "execution_count": null,
      "outputs": []
    },
    {
      "cell_type": "code",
      "metadata": {
        "id": "7Popj_CZr-EG",
        "colab_type": "code",
        "colab": {}
      },
      "source": [
        "# Printing mulitple images\n",
        "\n",
        "W_grid = 15\n",
        "h_grid = 15\n",
        "\n",
        "fig , axes = plt.subplots(W_grid , h_grid)\n",
        "\n",
        "axes = axes.ravel()\n",
        "\n"
      ],
      "execution_count": null,
      "outputs": []
    },
    {
      "cell_type": "code",
      "metadata": {
        "id": "CtsNKerqs6S1",
        "colab_type": "code",
        "colab": {}
      },
      "source": [
        ""
      ],
      "execution_count": null,
      "outputs": []
    }
  ]
}