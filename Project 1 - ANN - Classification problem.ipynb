{
 "cells": [
  {
   "cell_type": "raw",
   "metadata": {},
   "source": [
    "Objective - Predicting whether or not customers will repay their loan based on historical information"
   ]
  },
  {
   "cell_type": "code",
   "execution_count": 1,
   "metadata": {},
   "outputs": [],
   "source": [
    "import numpy as np\n",
    "import pandas as pd\n",
    "import seaborn as sns\n",
    "import matplotlib.pyplot as plt"
   ]
  },
  {
   "cell_type": "code",
   "execution_count": 2,
   "metadata": {},
   "outputs": [
    {
     "data": {
      "text/html": [
       "<div>\n",
       "<style scoped>\n",
       "    .dataframe tbody tr th:only-of-type {\n",
       "        vertical-align: middle;\n",
       "    }\n",
       "\n",
       "    .dataframe tbody tr th {\n",
       "        vertical-align: top;\n",
       "    }\n",
       "\n",
       "    .dataframe thead th {\n",
       "        text-align: right;\n",
       "    }\n",
       "</style>\n",
       "<table border=\"1\" class=\"dataframe\">\n",
       "  <thead>\n",
       "    <tr style=\"text-align: right;\">\n",
       "      <th></th>\n",
       "      <th>loan_amnt</th>\n",
       "      <th>term</th>\n",
       "      <th>int_rate</th>\n",
       "      <th>installment</th>\n",
       "      <th>grade</th>\n",
       "      <th>sub_grade</th>\n",
       "      <th>emp_title</th>\n",
       "      <th>emp_length</th>\n",
       "      <th>home_ownership</th>\n",
       "      <th>annual_inc</th>\n",
       "      <th>...</th>\n",
       "      <th>open_acc</th>\n",
       "      <th>pub_rec</th>\n",
       "      <th>revol_bal</th>\n",
       "      <th>revol_util</th>\n",
       "      <th>total_acc</th>\n",
       "      <th>initial_list_status</th>\n",
       "      <th>application_type</th>\n",
       "      <th>mort_acc</th>\n",
       "      <th>pub_rec_bankruptcies</th>\n",
       "      <th>address</th>\n",
       "    </tr>\n",
       "  </thead>\n",
       "  <tbody>\n",
       "    <tr>\n",
       "      <th>0</th>\n",
       "      <td>10000.0</td>\n",
       "      <td>36 months</td>\n",
       "      <td>11.44</td>\n",
       "      <td>329.48</td>\n",
       "      <td>B</td>\n",
       "      <td>B4</td>\n",
       "      <td>Marketing</td>\n",
       "      <td>10+ years</td>\n",
       "      <td>RENT</td>\n",
       "      <td>117000.0</td>\n",
       "      <td>...</td>\n",
       "      <td>16.0</td>\n",
       "      <td>0.0</td>\n",
       "      <td>36369.0</td>\n",
       "      <td>41.8</td>\n",
       "      <td>25.0</td>\n",
       "      <td>w</td>\n",
       "      <td>INDIVIDUAL</td>\n",
       "      <td>0.0</td>\n",
       "      <td>0.0</td>\n",
       "      <td>0174 Michelle Gateway\\r\\nMendozaberg, OK 22690</td>\n",
       "    </tr>\n",
       "    <tr>\n",
       "      <th>1</th>\n",
       "      <td>8000.0</td>\n",
       "      <td>36 months</td>\n",
       "      <td>11.99</td>\n",
       "      <td>265.68</td>\n",
       "      <td>B</td>\n",
       "      <td>B5</td>\n",
       "      <td>Credit analyst</td>\n",
       "      <td>4 years</td>\n",
       "      <td>MORTGAGE</td>\n",
       "      <td>65000.0</td>\n",
       "      <td>...</td>\n",
       "      <td>17.0</td>\n",
       "      <td>0.0</td>\n",
       "      <td>20131.0</td>\n",
       "      <td>53.3</td>\n",
       "      <td>27.0</td>\n",
       "      <td>f</td>\n",
       "      <td>INDIVIDUAL</td>\n",
       "      <td>3.0</td>\n",
       "      <td>0.0</td>\n",
       "      <td>1076 Carney Fort Apt. 347\\r\\nLoganmouth, SD 05113</td>\n",
       "    </tr>\n",
       "    <tr>\n",
       "      <th>2</th>\n",
       "      <td>15600.0</td>\n",
       "      <td>36 months</td>\n",
       "      <td>10.49</td>\n",
       "      <td>506.97</td>\n",
       "      <td>B</td>\n",
       "      <td>B3</td>\n",
       "      <td>Statistician</td>\n",
       "      <td>&lt; 1 year</td>\n",
       "      <td>RENT</td>\n",
       "      <td>43057.0</td>\n",
       "      <td>...</td>\n",
       "      <td>13.0</td>\n",
       "      <td>0.0</td>\n",
       "      <td>11987.0</td>\n",
       "      <td>92.2</td>\n",
       "      <td>26.0</td>\n",
       "      <td>f</td>\n",
       "      <td>INDIVIDUAL</td>\n",
       "      <td>0.0</td>\n",
       "      <td>0.0</td>\n",
       "      <td>87025 Mark Dale Apt. 269\\r\\nNew Sabrina, WV 05113</td>\n",
       "    </tr>\n",
       "    <tr>\n",
       "      <th>3</th>\n",
       "      <td>7200.0</td>\n",
       "      <td>36 months</td>\n",
       "      <td>6.49</td>\n",
       "      <td>220.65</td>\n",
       "      <td>A</td>\n",
       "      <td>A2</td>\n",
       "      <td>Client Advocate</td>\n",
       "      <td>6 years</td>\n",
       "      <td>RENT</td>\n",
       "      <td>54000.0</td>\n",
       "      <td>...</td>\n",
       "      <td>6.0</td>\n",
       "      <td>0.0</td>\n",
       "      <td>5472.0</td>\n",
       "      <td>21.5</td>\n",
       "      <td>13.0</td>\n",
       "      <td>f</td>\n",
       "      <td>INDIVIDUAL</td>\n",
       "      <td>0.0</td>\n",
       "      <td>0.0</td>\n",
       "      <td>823 Reid Ford\\r\\nDelacruzside, MA 00813</td>\n",
       "    </tr>\n",
       "    <tr>\n",
       "      <th>4</th>\n",
       "      <td>24375.0</td>\n",
       "      <td>60 months</td>\n",
       "      <td>17.27</td>\n",
       "      <td>609.33</td>\n",
       "      <td>C</td>\n",
       "      <td>C5</td>\n",
       "      <td>Destiny Management Inc.</td>\n",
       "      <td>9 years</td>\n",
       "      <td>MORTGAGE</td>\n",
       "      <td>55000.0</td>\n",
       "      <td>...</td>\n",
       "      <td>13.0</td>\n",
       "      <td>0.0</td>\n",
       "      <td>24584.0</td>\n",
       "      <td>69.8</td>\n",
       "      <td>43.0</td>\n",
       "      <td>f</td>\n",
       "      <td>INDIVIDUAL</td>\n",
       "      <td>1.0</td>\n",
       "      <td>0.0</td>\n",
       "      <td>679 Luna Roads\\r\\nGreggshire, VA 11650</td>\n",
       "    </tr>\n",
       "  </tbody>\n",
       "</table>\n",
       "<p>5 rows × 27 columns</p>\n",
       "</div>"
      ],
      "text/plain": [
       "   loan_amnt        term  int_rate  installment grade sub_grade  \\\n",
       "0    10000.0   36 months     11.44       329.48     B        B4   \n",
       "1     8000.0   36 months     11.99       265.68     B        B5   \n",
       "2    15600.0   36 months     10.49       506.97     B        B3   \n",
       "3     7200.0   36 months      6.49       220.65     A        A2   \n",
       "4    24375.0   60 months     17.27       609.33     C        C5   \n",
       "\n",
       "                 emp_title emp_length home_ownership  annual_inc  ...  \\\n",
       "0                Marketing  10+ years           RENT    117000.0  ...   \n",
       "1          Credit analyst     4 years       MORTGAGE     65000.0  ...   \n",
       "2             Statistician   < 1 year           RENT     43057.0  ...   \n",
       "3          Client Advocate    6 years           RENT     54000.0  ...   \n",
       "4  Destiny Management Inc.    9 years       MORTGAGE     55000.0  ...   \n",
       "\n",
       "  open_acc pub_rec revol_bal revol_util total_acc  initial_list_status  \\\n",
       "0     16.0     0.0   36369.0       41.8      25.0                    w   \n",
       "1     17.0     0.0   20131.0       53.3      27.0                    f   \n",
       "2     13.0     0.0   11987.0       92.2      26.0                    f   \n",
       "3      6.0     0.0    5472.0       21.5      13.0                    f   \n",
       "4     13.0     0.0   24584.0       69.8      43.0                    f   \n",
       "\n",
       "  application_type  mort_acc  pub_rec_bankruptcies  \\\n",
       "0       INDIVIDUAL       0.0                   0.0   \n",
       "1       INDIVIDUAL       3.0                   0.0   \n",
       "2       INDIVIDUAL       0.0                   0.0   \n",
       "3       INDIVIDUAL       0.0                   0.0   \n",
       "4       INDIVIDUAL       1.0                   0.0   \n",
       "\n",
       "                                             address  \n",
       "0     0174 Michelle Gateway\\r\\nMendozaberg, OK 22690  \n",
       "1  1076 Carney Fort Apt. 347\\r\\nLoganmouth, SD 05113  \n",
       "2  87025 Mark Dale Apt. 269\\r\\nNew Sabrina, WV 05113  \n",
       "3            823 Reid Ford\\r\\nDelacruzside, MA 00813  \n",
       "4             679 Luna Roads\\r\\nGreggshire, VA 11650  \n",
       "\n",
       "[5 rows x 27 columns]"
      ]
     },
     "execution_count": 2,
     "metadata": {},
     "output_type": "execute_result"
    }
   ],
   "source": [
    "# Importing data\n",
    "\n",
    "data = pd.read_csv(r'C:\\Users\\USER\\Desktop\\DL\\TF_2_Notebooks_and_Data\\DATA\\lending_club_loan_two.csv')\n",
    "data.head()"
   ]
  },
  {
   "cell_type": "code",
   "execution_count": 3,
   "metadata": {},
   "outputs": [
    {
     "name": "stdout",
     "output_type": "stream",
     "text": [
      "<class 'pandas.core.frame.DataFrame'>\n",
      "RangeIndex: 396030 entries, 0 to 396029\n",
      "Data columns (total 27 columns):\n",
      " #   Column                Non-Null Count   Dtype  \n",
      "---  ------                --------------   -----  \n",
      " 0   loan_amnt             396030 non-null  float64\n",
      " 1   term                  396030 non-null  object \n",
      " 2   int_rate              396030 non-null  float64\n",
      " 3   installment           396030 non-null  float64\n",
      " 4   grade                 396030 non-null  object \n",
      " 5   sub_grade             396030 non-null  object \n",
      " 6   emp_title             373103 non-null  object \n",
      " 7   emp_length            377729 non-null  object \n",
      " 8   home_ownership        396030 non-null  object \n",
      " 9   annual_inc            396030 non-null  float64\n",
      " 10  verification_status   396030 non-null  object \n",
      " 11  issue_d               396030 non-null  object \n",
      " 12  loan_status           396030 non-null  object \n",
      " 13  purpose               396030 non-null  object \n",
      " 14  title                 394275 non-null  object \n",
      " 15  dti                   396030 non-null  float64\n",
      " 16  earliest_cr_line      396030 non-null  object \n",
      " 17  open_acc              396030 non-null  float64\n",
      " 18  pub_rec               396030 non-null  float64\n",
      " 19  revol_bal             396030 non-null  float64\n",
      " 20  revol_util            395754 non-null  float64\n",
      " 21  total_acc             396030 non-null  float64\n",
      " 22  initial_list_status   396030 non-null  object \n",
      " 23  application_type      396030 non-null  object \n",
      " 24  mort_acc              358235 non-null  float64\n",
      " 25  pub_rec_bankruptcies  395495 non-null  float64\n",
      " 26  address               396030 non-null  object \n",
      "dtypes: float64(12), object(15)\n",
      "memory usage: 81.6+ MB\n"
     ]
    }
   ],
   "source": [
    "data.info()"
   ]
  },
  {
   "cell_type": "markdown",
   "metadata": {},
   "source": [
    "# EDA"
   ]
  },
  {
   "cell_type": "code",
   "execution_count": 4,
   "metadata": {},
   "outputs": [
    {
     "data": {
      "text/plain": [
       "<matplotlib.axes._subplots.AxesSubplot at 0xd2740f2ec8>"
      ]
     },
     "execution_count": 4,
     "metadata": {},
     "output_type": "execute_result"
    },
    {
     "data": {
      "image/png": "[encoded data removed]",
      "text/plain": [
       "<Figure size 432x288 with 1 Axes>"
      ]
     },
     "metadata": {
      "needs_background": "light"
     },
     "output_type": "display_data"
    }
   ],
   "source": [
    "sns.countplot(data['loan_status'])"
   ]
  },
  {
   "cell_type": "raw",
   "metadata": {},
   "source": [
    "Data set is imbalanced"
   ]
  },
  {
   "cell_type": "code",
   "execution_count": 5,
   "metadata": {},
   "outputs": [
    {
     "data": {
      "text/plain": [
       "<matplotlib.axes._subplots.AxesSubplot at 0xd201e67e08>"
      ]
     },
     "execution_count": 5,
     "metadata": {},
     "output_type": "execute_result"
    },
    {
     "data": {
      "image/png": "[encoded data removed]",
      "text/plain": [
       "<Figure size 864x432 with 1 Axes>"
      ]
     },
     "metadata": {
      "needs_background": "light"
     },
     "output_type": "display_data"
    }
   ],
   "source": [
    "# Distribution of loan amount \n",
    "\n",
    "plt.figure(figsize=(12,6))\n",
    "sns.distplot(data['loan_amnt'] , kde=False)"
   ]
  },
  {
   "cell_type": "code",
   "execution_count": 6,
   "metadata": {},
   "outputs": [
    {
     "data": {
      "text/html": [
       "<div>\n",
       "<style scoped>\n",
       "    .dataframe tbody tr th:only-of-type {\n",
       "        vertical-align: middle;\n",
       "    }\n",
       "\n",
       "    .dataframe tbody tr th {\n",
       "        vertical-align: top;\n",
       "    }\n",
       "\n",
       "    .dataframe thead th {\n",
       "        text-align: right;\n",
       "    }\n",
       "</style>\n",
       "<table border=\"1\" class=\"dataframe\">\n",
       "  <thead>\n",
       "    <tr style=\"text-align: right;\">\n",
       "      <th></th>\n",
       "      <th>loan_amnt</th>\n",
       "      <th>int_rate</th>\n",
       "      <th>installment</th>\n",
       "      <th>annual_inc</th>\n",
       "      <th>dti</th>\n",
       "      <th>open_acc</th>\n",
       "      <th>pub_rec</th>\n",
       "      <th>revol_bal</th>\n",
       "      <th>revol_util</th>\n",
       "      <th>total_acc</th>\n",
       "      <th>mort_acc</th>\n",
       "      <th>pub_rec_bankruptcies</th>\n",
       "    </tr>\n",
       "  </thead>\n",
       "  <tbody>\n",
       "    <tr>\n",
       "      <th>loan_amnt</th>\n",
       "      <td>1.000000</td>\n",
       "      <td>0.168921</td>\n",
       "      <td>0.953929</td>\n",
       "      <td>0.336887</td>\n",
       "      <td>0.016636</td>\n",
       "      <td>0.198556</td>\n",
       "      <td>-0.077779</td>\n",
       "      <td>0.328320</td>\n",
       "      <td>0.099911</td>\n",
       "      <td>0.223886</td>\n",
       "      <td>0.222315</td>\n",
       "      <td>-0.106539</td>\n",
       "    </tr>\n",
       "    <tr>\n",
       "      <th>int_rate</th>\n",
       "      <td>0.168921</td>\n",
       "      <td>1.000000</td>\n",
       "      <td>0.162758</td>\n",
       "      <td>-0.056771</td>\n",
       "      <td>0.079038</td>\n",
       "      <td>0.011649</td>\n",
       "      <td>0.060986</td>\n",
       "      <td>-0.011280</td>\n",
       "      <td>0.293659</td>\n",
       "      <td>-0.036404</td>\n",
       "      <td>-0.082583</td>\n",
       "      <td>0.057450</td>\n",
       "    </tr>\n",
       "    <tr>\n",
       "      <th>installment</th>\n",
       "      <td>0.953929</td>\n",
       "      <td>0.162758</td>\n",
       "      <td>1.000000</td>\n",
       "      <td>0.330381</td>\n",
       "      <td>0.015786</td>\n",
       "      <td>0.188973</td>\n",
       "      <td>-0.067892</td>\n",
       "      <td>0.316455</td>\n",
       "      <td>0.123915</td>\n",
       "      <td>0.202430</td>\n",
       "      <td>0.193694</td>\n",
       "      <td>-0.098628</td>\n",
       "    </tr>\n",
       "    <tr>\n",
       "      <th>annual_inc</th>\n",
       "      <td>0.336887</td>\n",
       "      <td>-0.056771</td>\n",
       "      <td>0.330381</td>\n",
       "      <td>1.000000</td>\n",
       "      <td>-0.081685</td>\n",
       "      <td>0.136150</td>\n",
       "      <td>-0.013720</td>\n",
       "      <td>0.299773</td>\n",
       "      <td>0.027871</td>\n",
       "      <td>0.193023</td>\n",
       "      <td>0.236320</td>\n",
       "      <td>-0.050162</td>\n",
       "    </tr>\n",
       "    <tr>\n",
       "      <th>dti</th>\n",
       "      <td>0.016636</td>\n",
       "      <td>0.079038</td>\n",
       "      <td>0.015786</td>\n",
       "      <td>-0.081685</td>\n",
       "      <td>1.000000</td>\n",
       "      <td>0.136181</td>\n",
       "      <td>-0.017639</td>\n",
       "      <td>0.063571</td>\n",
       "      <td>0.088375</td>\n",
       "      <td>0.102128</td>\n",
       "      <td>-0.025439</td>\n",
       "      <td>-0.014558</td>\n",
       "    </tr>\n",
       "    <tr>\n",
       "      <th>open_acc</th>\n",
       "      <td>0.198556</td>\n",
       "      <td>0.011649</td>\n",
       "      <td>0.188973</td>\n",
       "      <td>0.136150</td>\n",
       "      <td>0.136181</td>\n",
       "      <td>1.000000</td>\n",
       "      <td>-0.018392</td>\n",
       "      <td>0.221192</td>\n",
       "      <td>-0.131420</td>\n",
       "      <td>0.680728</td>\n",
       "      <td>0.109205</td>\n",
       "      <td>-0.027732</td>\n",
       "    </tr>\n",
       "    <tr>\n",
       "      <th>pub_rec</th>\n",
       "      <td>-0.077779</td>\n",
       "      <td>0.060986</td>\n",
       "      <td>-0.067892</td>\n",
       "      <td>-0.013720</td>\n",
       "      <td>-0.017639</td>\n",
       "      <td>-0.018392</td>\n",
       "      <td>1.000000</td>\n",
       "      <td>-0.101664</td>\n",
       "      <td>-0.075910</td>\n",
       "      <td>0.019723</td>\n",
       "      <td>0.011552</td>\n",
       "      <td>0.699408</td>\n",
       "    </tr>\n",
       "    <tr>\n",
       "      <th>revol_bal</th>\n",
       "      <td>0.328320</td>\n",
       "      <td>-0.011280</td>\n",
       "      <td>0.316455</td>\n",
       "      <td>0.299773</td>\n",
       "      <td>0.063571</td>\n",
       "      <td>0.221192</td>\n",
       "      <td>-0.101664</td>\n",
       "      <td>1.000000</td>\n",
       "      <td>0.226346</td>\n",
       "      <td>0.191616</td>\n",
       "      <td>0.194925</td>\n",
       "      <td>-0.124532</td>\n",
       "    </tr>\n",
       "    <tr>\n",
       "      <th>revol_util</th>\n",
       "      <td>0.099911</td>\n",
       "      <td>0.293659</td>\n",
       "      <td>0.123915</td>\n",
       "      <td>0.027871</td>\n",
       "      <td>0.088375</td>\n",
       "      <td>-0.131420</td>\n",
       "      <td>-0.075910</td>\n",
       "      <td>0.226346</td>\n",
       "      <td>1.000000</td>\n",
       "      <td>-0.104273</td>\n",
       "      <td>0.007514</td>\n",
       "      <td>-0.086751</td>\n",
       "    </tr>\n",
       "    <tr>\n",
       "      <th>total_acc</th>\n",
       "      <td>0.223886</td>\n",
       "      <td>-0.036404</td>\n",
       "      <td>0.202430</td>\n",
       "      <td>0.193023</td>\n",
       "      <td>0.102128</td>\n",
       "      <td>0.680728</td>\n",
       "      <td>0.019723</td>\n",
       "      <td>0.191616</td>\n",
       "      <td>-0.104273</td>\n",
       "      <td>1.000000</td>\n",
       "      <td>0.381072</td>\n",
       "      <td>0.042035</td>\n",
       "    </tr>\n",
       "    <tr>\n",
       "      <th>mort_acc</th>\n",
       "      <td>0.222315</td>\n",
       "      <td>-0.082583</td>\n",
       "      <td>0.193694</td>\n",
       "      <td>0.236320</td>\n",
       "      <td>-0.025439</td>\n",
       "      <td>0.109205</td>\n",
       "      <td>0.011552</td>\n",
       "      <td>0.194925</td>\n",
       "      <td>0.007514</td>\n",
       "      <td>0.381072</td>\n",
       "      <td>1.000000</td>\n",
       "      <td>0.027239</td>\n",
       "    </tr>\n",
       "    <tr>\n",
       "      <th>pub_rec_bankruptcies</th>\n",
       "      <td>-0.106539</td>\n",
       "      <td>0.057450</td>\n",
       "      <td>-0.098628</td>\n",
       "      <td>-0.050162</td>\n",
       "      <td>-0.014558</td>\n",
       "      <td>-0.027732</td>\n",
       "      <td>0.699408</td>\n",
       "      <td>-0.124532</td>\n",
       "      <td>-0.086751</td>\n",
       "      <td>0.042035</td>\n",
       "      <td>0.027239</td>\n",
       "      <td>1.000000</td>\n",
       "    </tr>\n",
       "  </tbody>\n",
       "</table>\n",
       "</div>"
      ],
      "text/plain": [
       "                      loan_amnt  int_rate  installment  annual_inc       dti  \\\n",
       "loan_amnt              1.000000  0.168921     0.953929    0.336887  0.016636   \n",
       "int_rate               0.168921  1.000000     0.162758   -0.056771  0.079038   \n",
       "installment            0.953929  0.162758     1.000000    0.330381  0.015786   \n",
       "annual_inc             0.336887 -0.056771     0.330381    1.000000 -0.081685   \n",
       "dti                    0.016636  0.079038     0.015786   -0.081685  1.000000   \n",
       "open_acc               0.198556  0.011649     0.188973    0.136150  0.136181   \n",
       "pub_rec               -0.077779  0.060986    -0.067892   -0.013720 -0.017639   \n",
       "revol_bal              0.328320 -0.011280     0.316455    0.299773  0.063571   \n",
       "revol_util             0.099911  0.293659     0.123915    0.027871  0.088375   \n",
       "total_acc              0.223886 -0.036404     0.202430    0.193023  0.102128   \n",
       "mort_acc               0.222315 -0.082583     0.193694    0.236320 -0.025439   \n",
       "pub_rec_bankruptcies  -0.106539  0.057450    -0.098628   -0.050162 -0.014558   \n",
       "\n",
       "                      open_acc   pub_rec  revol_bal  revol_util  total_acc  \\\n",
       "loan_amnt             0.198556 -0.077779   0.328320    0.099911   0.223886   \n",
       "int_rate              0.011649  0.060986  -0.011280    0.293659  -0.036404   \n",
       "installment           0.188973 -0.067892   0.316455    0.123915   0.202430   \n",
       "annual_inc            0.136150 -0.013720   0.299773    0.027871   0.193023   \n",
       "dti                   0.136181 -0.017639   0.063571    0.088375   0.102128   \n",
       "open_acc              1.000000 -0.018392   0.221192   -0.131420   0.680728   \n",
       "pub_rec              -0.018392  1.000000  -0.101664   -0.075910   0.019723   \n",
       "revol_bal             0.221192 -0.101664   1.000000    0.226346   0.191616   \n",
       "revol_util           -0.131420 -0.075910   0.226346    1.000000  -0.104273   \n",
       "total_acc             0.680728  0.019723   0.191616   -0.104273   1.000000   \n",
       "mort_acc              0.109205  0.011552   0.194925    0.007514   0.381072   \n",
       "pub_rec_bankruptcies -0.027732  0.699408  -0.124532   -0.086751   0.042035   \n",
       "\n",
       "                      mort_acc  pub_rec_bankruptcies  \n",
       "loan_amnt             0.222315             -0.106539  \n",
       "int_rate             -0.082583              0.057450  \n",
       "installment           0.193694             -0.098628  \n",
       "annual_inc            0.236320             -0.050162  \n",
       "dti                  -0.025439             -0.014558  \n",
       "open_acc              0.109205             -0.027732  \n",
       "pub_rec               0.011552              0.699408  \n",
       "revol_bal             0.194925             -0.124532  \n",
       "revol_util            0.007514             -0.086751  \n",
       "total_acc             0.381072              0.042035  \n",
       "mort_acc              1.000000              0.027239  \n",
       "pub_rec_bankruptcies  0.027239              1.000000  "
      ]
     },
     "execution_count": 6,
     "metadata": {},
     "output_type": "execute_result"
    }
   ],
   "source": [
    "# Correlation\n",
    "\n",
    "data.corr()"
   ]
  },
  {
   "cell_type": "code",
   "execution_count": 7,
   "metadata": {},
   "outputs": [
    {
     "data": {
      "text/plain": [
       "(10, 0)"
      ]
     },
     "execution_count": 7,
     "metadata": {},
     "output_type": "execute_result"
    },
    {
     "data": {
      "image/png": "[encoded data removed]",
      "text/plain": [
       "<Figure size 864x504 with 2 Axes>"
      ]
     },
     "metadata": {
      "needs_background": "light"
     },
     "output_type": "display_data"
    }
   ],
   "source": [
    "plt.figure(figsize=(12,7))\n",
    "sns.heatmap(data.corr() , annot=True , cmap='viridis')\n",
    "plt.ylim(10,0)"
   ]
  },
  {
   "cell_type": "code",
   "execution_count": 8,
   "metadata": {},
   "outputs": [
    {
     "data": {
      "text/plain": [
       "<matplotlib.axes._subplots.AxesSubplot at 0xd2034caa88>"
      ]
     },
     "execution_count": 8,
     "metadata": {},
     "output_type": "execute_result"
    },
    {
     "data": {
      "image/png": "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
      6trjlenELw7LTBZLiOX4TYpUNs19IcMbjxybdTDN3q8lKr3euX5auMWdwIrI7/3JWY8TCpjI8B7GsxPvjUT02hUHwZ0kl2mPpLdplA5pu0Q4PP6yIpWUVndfLw4ReNSQv93NElVNWHrR7ZlTVB8rI83Pn8dpZPHsgf/1nJrZcWceuzW5OMQ54/Fvg202afnzEE3ZCsnTGE6sYwSzZ/zLZ9tRTkeKkNRqzPINN0yltdXorLqTHlwu4pNRgtv4OmsI5hSDRN0C3XR1aGi3A01j/j4NFQmwQUW+7c/jpr2CmXKP9KsqGEED8FosBKc8jmNNnKuN09y4UQbwsh3q6qqmqfiSoUipMinWSHufDaZQJNe/ptDtQFaQwZlqEwj928ooKGZsNy2Zjjd6/bwYxhPZOe8Vl1E5U1sUZF/bvlWobCvGbW2uRr8vweqhvCjF+2hTFL3mBdxT4WjuvL+lsvZOVNg9m6txqAEcX5RA3J0B65vHL7xWy64xJeuf1ihvbIRTck4ajBC1v3s3zyQDbdcQnLJw/kha37OZIgzVGQ4yUaLySEY2qyXXMy0Q3aJO0BqTs3Mwus5ffdngHu076zEELcAIwEhstjAZNKoDDhtALg8/jP6caTkFIuA5ZBLGbRnnNWKBQnhl02k1noBukzgSprgkm1DYnH0jX4MdNgC3K8LJ88gINHQ6wuL8Xt1CjK9x/XtTRzeJEl09GvMJsbhnbn+ifeTFJvnXxRd440RPC5HZQNOTupu97iif3xeRxEdck1/ZM7780fU0I0Xhln7oTmvfg+/z68F9ne5JjNiQgotjy3o1ezrfHI9n5DK7iFEFcAdwOXSCmbEg79AXhWCPFrYgHuIuBNYjuLIiFEd2A/MB6YcDrnrFAoTpyWDXtcTo2G5ihVDSHgWCZQSx+7KW+RTufIbryj18XaGUP4TnYGNU0R7vn9O9aCufKmwbbX5MYzlJrCOt06Z1rHZwzrmeJmWrTxQ+6/6jymr6hgdXlp2valmhC2irSry0st95bZfGnngfoUzai2tE9Nd25N07EaDzNe8nB83icQ326VU2YshBDPAcOAzkKISuB+4F7AA7wiYj1rt0gpZ0gp3xNCrCEWuI4Ct0op9fh9bgNeAhzAE1LK907VnBUKRfvRsmFPZ5/khVsuxDAMDAkrpg5mz+FGFm3cTVVDyOpk99sbArY6Rw3NkRRdpscm9udwQyhJmmNoj1ymXdwDhyYQApZOCiRpTD1WFmDei+/z8s5DFOR4WTH1mEFpuePpV5jN1It6cKCuudXdTSw2kP7YmCVvpIy33DHY7cZatk9Nd64upW2Nhxlcbw9OZTbUdTbDv2vl/F8Av7AZ/zPw53acmkKhOI0kiud53Q4O10eY9syxBXFJWYDsTCf7jsQW2nDUAEjKEgJ45b2DXH7+GSwY25cuHTzsPdzEM298ypXnn8mCcX1xCMG1gQIuOSffcgWNKM7ngavPY9W0UkK6gdep8cAf37MW1cqaIL/8806WlgWYvqIiRbhvxrCe3PH8dmaPLG5VddapCYRI09r0OJpRJm1pn5ruXBG/p92z2wsl96FQKE6a1grvDENypDHE+weOWs17tu+rswwFxILLVfUhmiMGzRGD+68uxpDw8KbdhPWY0QjrBg9v2s0V55/Jgpd2ketzM+l3b7Jo425G9evK7PXvMnzhXyn73T+49NwuPLJpd1L8YdzSLVw071VueOJNqhvDVltUUyJk6kU9yM50sW7GEApyvDw6ob8VLM71uamsCVqCfl53LDaQWPz2WFkAn0drVQrk8esHJI2n2zEkBrzTFePZnZv22e0X31ZyHwqF4uSwK7xbOilArzw/Nc0RItGYuylqSKt1aXbmMTfPuEABM4b15EhjmI+rGllXsY9p3+1hW8vw6IT++DMcVNWHY4uk38O8MSXWDgKO9Y8wRQLt4g83r9zKnFF9WLRxN3de3jvpGQvH9iXDpfHoqx8xe2QxuT53TJMpx2sJ+i2e2I+cTCerykvRDRnvFyEJhg2ihrRVpF10Xb827xhOlmbdsFfDva5fuz1DGQuFQnFS2BXeTX+mgpU3DeYXf9ppW7xmtjvN83uYWHp2UtbR3NElPP73T7j/qvNSFvlbn93KypsG8+DoPrgdsX4UdcFIq9lR6TKuunXOZObwopRn3PH8dh780flcN+hszs7NJMOp4XQIHhrXl9vXbGfbvloMCeOX/cO2+M2pabaKtE5NpMRv2psMl8P22Rmub2g2lEKh+PaQLtWzqj7E6EBh0mKc5491qMtwaTw6oT9HGsMp9Q9Pvb6HWZefQ9SQPPij83FoAk0Iq5NdbVMEn8fJ/tpmZq3dYcURWi7cpkhgusZBAL262KfUuhwaZb/bwsY7LsHpEDgdghyfmwVj+/Kd7Awk8NjE/mS4HDSEohyqD7Fk88fohsTpFDw6oR9HGiNWrKWTz0U7biDS0snrZklZwEoBNmNBnbyprq6TRcUsFArFSZGu8K66MZz0Vt+vMJs7L+8dy1R68FUefXU33fN8KVlHNwztzpQn3+KS+Zv5+4eHKOyUyRkdMyg+swO/vraE7MzYwisgKY7Q0k//h22xwrjiM7NY2iK+MHd0Cb/68/sEI0baokGzsC8UlXx8qJF5L36AlJK6pgg/++N7HG2OMuXJt7hm8evM2bCTu67ojcepoUtJc8RIEiJsjhjop0h/L5EjTWEWtZBHX7TxQ440pRb0nSynTEjwq0QJCSoUpx7DkLz/xdGktFRTi2l0oJCte6u5dtDZODSBISVf1DUz78VYncHyyQOTRAE7+dxW/GFcoICyIWdb9QxmEPk7HT00hnXCUcnk5W+S5/dw1xW9OaNDBoYEj0vjx89us6Q/AP5424V8Xtec1Gt7275aXrhlKE1hPcVN9tTre7hhaHcWvLSLheP6Wm6ypZMCzNmwk9kji5mzYWfKbuX56UMwpORaGyHC1eWldM3JPKX/Fp9WN3LJ/M0p43+bNYyzctsuDvWVCAkqFIpvN5om6JXnZ+VNg+MZTbEUzpnDe/H2nsNcdUFBUkxi/pgS7r+6mP/6w07+8s4BZg7vZblN1s4YYi2y0y7ukRK4vjleEHc0GGXRxg/57Q0BwlGZZFAWT+xPXpabfoXZlsqs1+20Xdz9HidOTbB88kAaQlHysjzUNIYZHShkwUu7qGoI4XFq1nXmTildHCSiGyCwPZZuZ9GWftxtJV3BYnsG0ZWxUCgUJ01tc9SSAb/z8t7898YPuX5IN7533plJct9mNfOcUX2YN6aExlDUMhSQ3BjIqYm0xW2L4vf3uV3c9FTy/W9ZuZVV5aWEogafVTfx4F8+IC/LbSuDMf+lD6yiPDO91SwCHFGcz8J4e9PlkweyaONuyz2VLg7iSFNnMaI4H4cQ7K9pSjII6STcW5Mkbw23Q7ONl7hVnYVCofg6YAa5ZwzryVOv72HqRT245/fvsL8maLvgZ7odhHWDzlkeFo7ty9JJAcYFCuiQ4eSxibH6Bke8iC0RM6vohqHduef376S0KDXv/0VdM8MX/pXZ69/lzst7U1Uf5uGNH7J88kBWl5eyfPJAHt74YVJR3qy1O6z03ldu/y4zh/fi+ife5JL5m5m9/l3uuqI3G3ceZP6YEtZV7EuJk8wdXYKmgdctrM8AMUPx4+G9uHbZFi6c+yrXLH6NXQfrrR1FW0UD24LTAZoQSfESTQhslEJOGmUsFArFSWMGubO9Lq4f0o07nt9uuWXsFnxNCKK6ZPyyLVy7bAvrKvZRNuRsZq3dwX3r32POqD5kOJMXXVPWw+UQVozBfMNveX9zsa2siSnSzhsTkzA/0hjm2mVbONIYTpHEqKwJEooYLNn8MQ5NS9rxmMZk5veK6NbZx/1XnUd2piumKHvLUKvLnmFAc1jy8KbdVpB51uXnpKjnmgbhREQD20JT2LB2Rua9bl65laawcVL3s0O5oRQKRZtp6WfPznDy7E2DCeuSTLdm9cfOyXTz6IR+3PrstiQdp46ZLiY8fqxOYcqF3aluCLNwbF9qgxEWbdzNIxP64XYKnpwyCE2AIUE3dAx5LCZgZkK1DFAveGmXNdfKmiB1wQg/+cE5Vl+H1txIM4cXcaQxbPX5TgyKN0d0Pq5qpKRrB2qbIinP1USs0jxRn2l1eWlag3AiooFtQY9Lp5uaWLohefxvn1jdBtsDZSwUCkWrRKMGhxpCRHQDhyaoa4rQEIqiCUGm28H0FRUM7ZHLDRd2s4LJBTlefnPtBcwfU4ImBE1hHQlJC36/wmz8Hiez1m5NWngBpj5VkbKQrikvZURxflJb1QVj+5Ln9+B2aszZ8F5SJlRBjpeIHpMR6ZabydJJAbburbaNYfzxn/u5suRMqupD3HVF75QGRqFobOfx6IR+tt3wHrjqvBTdqHSGyYxdtFU0sC34PfbS6X5P+/mhVOqsQqEA7LNzDEPywcH6pGKvx8oCbH7/IH0Ksq2udX+/61Kuezw1bfTBH51P2e/eBGDjHZfgcWpW4HvF1EGWnHjiNc9OG8zF8zanzO+Ney/lcH04WY22LIBGzGcfjsqkY49M6EcoYliusYIcL0vLAmR6NPYeDiYFgpvCOjuTKAMAACAASURBVEebo3T0urjz+e0pc3r6xkFctvCvbL9vOPtqQinFb4U5Hha/+jEjLyiwDJEZs0g0TIlB7PbMhtpf09QuabsqdVahULRKYnZOnt/DzOFFdO/sw+UQLNr4YZJr5nB9iHEDCxEa1pgh7eW5CztlsnnWMBxCEIrq6Ibk4ev68ePntqVtcuRIo95qGKT65VdUsHzyQO5au4O8LDery0s5UNdMdWOYhuZokjGqrAkyfUWF1Qc88d4rpg5m3ov/5NfX9rWdkzUHCRkuLUkRN8OlYUhY+ve9QMz9pBsSp0Mjz+dOqwnVnhIgrUuntw/KWCgUCqobwzz0yi4evu4CXA5H0pvzwrF98bg0bnt2m2VIgpGYdMe5Z2YhJbjS5PkfqGtm/LIt1i7A73GQleFkzqg+eNL47YWARyb0oyYhDTTH50JPsyCK+Mv4yzsP8fNRfYjoBnM27GThWPuF/4yOGfztrksxpEQTgvVbKwGoagillRN3OWLxmKawweTlb9m+wUPMYFw/tHtSIVyeqx1TktLQmnR6e6GyoRSKfxFalxM3mHpRD2qboinZQHc8vx2/x8XQHrmWbMftq//JnsONTHj8H1wyfzP7a5ttJbK9Lo2lkwIsHNuXw/UhBILJy9+K+9abeGhc36RrHhrXF6dDIxJNls2IRA08TvuU2n1Hgtx5eW9GFOdz4GgzeVke5ozqQ35cI6rl+ZluBxMe38Kw+Ztjf5/bhY5eB8snDwQpbSXIV7yxh+nPVBz3Df7LBKm/DJlppNMz3e23xKuYhULxL0C6IrAuHTwE482Frl22hYVj+3Ltsi0p12/8j0vI8jo4GtTRBDgdGj/f8B5V9WFmDOtJUb4/lkmU5UE3JLohefGdAww7t0uSz35pWYCnXt/L8OIunHOGn7AuqTxyLH5Q0MmLz+1k3NI3bCU19lY3JgWfzQyoqoYQT984iDvWbOc34/sihIZTgyONkaRd0tKyAP+dUGdh3nt1eSkXzn0VgDu+V8T/61+AISVCCLZ/Vs05Z2YjBHhdDl557wCXFZ9p7Uw27TzA9887k2uXbflShXVfhkNHg4AkrGNJp7sdAIL8Dt7jXH2MryRmIYR4AhgJHJJS9omPdQJWA92AvcA4KWWNiPVY/W/gB0ATMFlKuTV+zQ3Af8Zv+3Mp5VOnas4KxTeddEFTuyKw/9m6j0lDuxM1JE4R6xGRLoMnouscOqonLbx2AeT5Y0qY92Js8V5SFiAY1q202CWbP2b6igpWTB1M2e/+wfLJA5NkPcxnPXvT4LSSGvNe3MUzNw7iUH2I2mDE6mkNUBeMANAcMfi8tolMtwNNCFZMHUxdMObS8nkctnUWUUNan3t1RSUDuneyPsf8MSXctXYHAM9MDRDo3pkJ8WC++Qbf0avxwi0XkuN1tVvQ+kTQhODzulCK/Ml3OrZTA25OrRvqSeCKFmP3ABullEXAxvjvAFcCRfE/5cBjYBmX+4HBwCDgfiFEzimcs0LxjcXcPZhd6a5Z/Bp7qxs5VN9MUzjK7JHF9CvMBmKNh37Ytyvjl8XcMeMf32JVKresUF44ti8+jyvFPVXTGLEMhTk2a+0OZgzrGavqXlFBTjwV1O3QuP/qYvL8Hiv24Egj62HqHCVi6hzNHF7EF0ebueP57Ux/psIyFAU5XhpDUX4z/gIiurRcWLev+SfVjSHystzctXYHUmJ7b1Mnau2MITz4o/MBuOfKc2KpuVkeqhpCANQFjZRCu5tXVFAXNMj1udld1ZD0/ZsV26eaUNSwDIU5r1tWbiUU/QYU5Ukp/yaE6NZieBQwLP7zU8Bm4O74+NMy5hPbIoTIFkKcGT/3FSnlEQAhxCvEDNBzp2reCsU3FTNInZihVN0QSmkwtH7bfm4bXmS9HUOydtP6bft5csognI5YcVdU1wnrRsrCntj1zqSyJkhRvp+lkwJs3HmQRGkilyb4yQ/ORROxGgunQ2PtjCFUN4YtNVgzwN2y4G7+mBJ+/Ow2qhpCPDSuL49M6MdtCQV/S8oC6IbBJ1WNVjqvOZ9/X/VP1kwvZdu+WlxOYVtnkeGKiQYmuuD6FWbH5ccdrLhpMJpoPesonYTHC7dceEobH8G3Mxuqi5TyAICU8oAQIj8+3hXYl3BeZXws3bhCoWiBYRhJ3emWTx6YsnDevW4HT984iKjN4l9ZE6T3GX7ysroxefkxA/PklIF4nMkLO8SMhZ3LavehBtZV7OPOy3uz93DMHQTgcmp065DBoaMh7ry8Nz/f8B6jA4Xk+twsHNeX1W9+ytUXFGBIrMK3nnk+9h0JWtLmALev2c6q8lJWlZdS3RDmi6PNODWYsWJb2gyoqB5bND+paqLqaFNSW9Rtn1YjZRb5HTz8739cgkNAbTCM1+2gpjFi1Y+YsY10WUftLeFxIpyObKivS+qs3SeSrYyn3kCIcmIuLM4666z2m5lC8Q1BlyR1p8t0O2wXryONYTr53EnV0LXBCFv3ViMlSe6mPL+HqvpQSlA5K8PJqn98ytM3DuJIY5jqxjDrKvZZvSDuuqI31Q1hy1iZuwO/x0nHTBf/vfHDlLarS8oC+DIcuDTBtO/24PY121k4tm9STYT5GXRDMvG3MdmQfoXZLBgXMxLpYi6aJlg7YwjdO2fi8zitwkBzZ3FGBzfv7q9n0cbdVDWEYtIkXje/fjm5xqSDV2PltMFEotKSInE5BR28Gs0R+wX7dGRHuZ0aj03sn1ywOLE/Huc3V3X2YNy9RPxvM9JUCRQmnFcAfN7KeApSymVSygFSygF5eXntPnGF4uuObFEYl05sr6PXhd/j4MeXFTFnw06uXbaFORt2ctUFBdS26Gs9Y1hPy1DAsd1JfpaHi3t34fon3mTMkjeYs2Ent15axPpt+9m2r5YzOmSkXDdr7Q6ieixTqmXbVTPGsaeqCaFBx0xXq+mv5jXmHD+rbooZnDTd81yaoL45Sm0wahtzMAX3Fozry4M/Op+HN+2m8kiQ/xxZzK+v7YvbofHgXz4gFIGjTREmL3+Tyxb+lcnL3+RoU4RQBEvCI/HZX0bC40SQwIbtsQ6Bm+64hOWTB7Jh+37aL2Jx+ncWfwBuAB6M/70+Yfw2IcQqYsHsurib6iXglwlB7RHAvad5zgrFN4KW4nRLNn/M0rL+NIUNOvvd6DL2BrryjT1MKO2WUg09Y0UFT904KOke6Zr9RA2Zstjf+uxWZo8sZk1FJbqUtoJ8TofAkFCU72f2yGIrVmHeI9PtIBKVLHhpF6MDhdQGIzx94yAe/Mv7Vv+JpWUBXA7B3++6lCONITQhuG/9e1acY8FLu5gzqg9n5WZSVR+ik8+FgWTKk2+x6Y5LUj5Pnt9DfXM0aRe0cGxfsn3HRA/NHVUoaq/uurq8FE0T9O6SlbZiuzW+rPSHUxP8KFCAiFcoChH7/bS7oYQQHill6HhjLY4/RyxA3VkIUUksq+lBYI0QYirwGTA2fvqfiaXNfkQsdXYKgJTyiBBiDmDuQ39mBrsVCkUyuT43T984iE+rm+jsd5Od6SIUNWgK60xKCHL/5toLcDrsM5GcmuCZqYPYe7iJv7xzgFy/x9a1kq6a2nyLbgrrPHB1MUcaY+msbofGg6P7UNMUSWrDatZJmMHtpnCsjqOli+rRCf154OrziOiSX/xpp2U4Fk/sjz/DSV6WmwUv7WL55IFEdAN/hguBJNfn5rXdh/hu7y6sLi/FaVOhPXN4kW0h4pxRfZLGnnp9Dz/9YXGrgeSTkfA40UZIdoZFN2RcG+vYv/NjE/u3q+psm4ryhBBbpZT9jzf2dUEV5Sn+FTEXnYde2cUNQ7sTjhp43Q5bYbzV5aVs/bSafmfnJgV6/Rkepjz5liWC97BNbGH+mBJ0Q9qKAD43rRRDSrwuBx9XNSTFOp6+cZCVmZV4jdnX+qFxfcnxucl0ORhnI4q3przUdvzJKYNwOYTVsS9RNbalmJ+duN8zUwdx6YK/pnyfq8tLefAvHzBjWE/yszx09LrwOLUTEuxry46hqj7ENYtfS7mnXRZVOsPSIcP51QoJCiHOIJZ95BVC9ONYwLkDcGo7kCsUihOiNhgmohvcN/I8q+9zJE3Wk8sp6JbXISXQm5XhoF9hNtcP6WYtqFX1YWaPLObf8vx8dqSJeS/Geka0TG99bGJ/5mx4j5d3HuL/7r40JWZxpDGcNtV2zqg+FHbKRBCrGUj39m43rgmQEkvcL9cfExSMxo3gz/74XpI7bMM/K63e2zmZbiTSdvckgTsv7530GdffOpTFE/unFL9luFLDv23dMZxIFlW69NyVNw22dfudztTZy4HJxALLv04Yrwd+0m6zUCgUJ41hSGqDYRpCUQDGx1M9l08eSLfOmfYV2VFpG+h9csog7rnyHPI7eKxj2/bVMv2ZClaXlyZlJi14KVbTUZTvRzek1dcasHVTJfbZTpyLbkgy3Q6iRizDSEuTBtpyvF9hNjOHF8W67xmSRRt3U5TvZ9KQsy2xvz/NvChlZzR3dAnNEZ3miM6BuiDLX9uTYvh+c+0FnNHBw/iERk2VNUEaQjor3viU5ZMHJjUZuu2yfyPXT8rnbUvdxYk0QkpnWDKcmm0fjox2zIZq1VjEpTWeEkKMllKua7enKhSKVmlrwDMS0fn8aDO6IXE5tKQq3kUbd7PoulgDopaLSLqYg1MT3PH8dp5uEeiGWBwicWzbvlrmbNjJnFF9yM50JclouDRhm5q7tCzA9AQX0OKJ/S0jY/5ekJNhmwaaEU8PfXjTbqZc2B2/x5l0zsKxfTkrN5OX3vmcZ+PuMJcmrBiJ+RnvXreD5ZMH4vc4rViOuXvK9bnp0iGDI40haoLRlO/IqQle/6SaNRWV1lhBjpd//15Ryr9NW3cM6Roh5XhdVNWHkv4PpDMshsQ2++z56UNS5nWytDUbaoMQYgIxTSfrGinlz9ptJgqFAkjvvijK81MTjBCO6rgcGg4NvqgLWYvv2hlDkhaRbftq+Z+t+/l//Qt4+sZBuBwaQsTE70zZi5aLjise+HY5BEsnBTh0NGSJ/J2Z7WHh2L5JWlBLygJEdN1KcTXvJ4VMiQ3EVFE9PDN1EFLGahTmvfi+ZWQqa2ISFWuml1q9rE1D8/Cm3fzX1X3Y/MEhZg7vFa/9SM5KuuP57ayZPoQBCdpNLb8T89ymsI7P40hx3fziT+8zf2wJtz67jSenpBpMpyZsja9d1lFbdwwts6iEEDgEfF4X5OcJwXzz/4CdYYkY9q67iHH65T7WA3VABZA2A0qhUHx57NwXD72yi3//Xi/rLXlEcT73XXWeZSjM61q6aQZ075RUgTx3dAlPvb6H/7r6PNse1pqILWg1TRE0IVLSST893GAFsR2a4PXdVSx69WPWTC9Nul9Ux9bNtWb6EPbXBOmZn4muC6Ze1IPRgUIrhbayJkhEl0m9rE3+84cG1wQKGB9Xx7WNa+hGUmZTOteXP8OJ12XvuqlvjtWaZLpTC93CusELW/enuKF+PPzfkuZiGBKJZMXUwew53GgV+z1+/QAcWqyzXeKOUdMEuT53ykvC3NElVNWH2bav1nJh2aXnHqgLpuzk1lXswyFOfwV3gZSypSigQqFoB1q6nIyEt8R+hdnMGNaTXvl+fvWX95k9stjKzKlrUUBnFqSZC/bM4UW2BXWzRxajS/jbroNJi97atz/j7NzuzB1dQocMF2W/S/bX/+7/PmHm8F5JxmfxxP787oYAn1Q18vQbe623dPOaRGKGwODpN/am7DoSpcYdrcQsqupDVNa0Xqnd2ndixiPuXLOdO0b0SumkN2vtDh780fkU5HgJRY2UHY7boXFN/65Jva7njynBnSCCZbczXFoW4IxsD3VNUa5+5DXbgLfdS4L572W+JISjum16bqZbs93JtWc/i7Yai9eFEOdLKd9ptycrFAr7hWVSgBHF+VTVh61snN9eH7CVxxhRnG+9gW/bV8vuL+pYedNgqupD5Gd5GNojl2kX90h6C87P8uB1aoweUBh/g465ma4rPRuHEHTwunBqMcnyxIV3dKAwpR7hlpVbeWbqIBa+/GFS5tD/3XWp/WIuBKMDhSm7jrvXxUQMc/1umiM6D43ry+1rjrm7HhoXq6Lu5HMnVWq3/D6cmuD56UP45Z/fZ9u+Wrbtq+Wp1/ewurzUcj85HbG3bZdDsw8WuxzMH1NCKKLzkx8Ux7KqBFYgfflre5IMyPLX9nD/VedZ97Bb9KfHd1UPxg2+ee1Dr+ziF9eUkJflSRvjMI1va9IhTWF7NdzV5aXk+GwvOWHaaiwuAiYLIfYQc0MJQEopS9pnGgrFvya2C8szFTx702A+rmrk7nU7yPN78Htc3PR08mIwI94bYueBess1dVnxGVbV8ds/HU7ZkLOT3oIXT+zPGR0z0KW0mh4l8umRJgRwuD7EA1cX88AfdloV1rk+t+1ipsVdHWZ21DlnZOFxabYLfkQ30laF98jzoQloDEXJ6+DhySmDLP0lpwMcAn7xp51JldoLxvalS4cM9h5uZPb/vGv1nzDnXtUQYsqF3akNRixFWbO2I93upKPXxeN/+4QbhnazdlfmDkIImHpRj6S4zcKxfTFDFoYhCUZSA+Omi8wuM8uIxxXSxTjMebYmHXI6VGfbWpR3tt24lPLTdptJO6KK8hTfFPbXNFkd2hJ57e5LkcD+miCdfG7cTo1L5m9OOW/zncNwaIKjzRE6ep04NEFDs45DE2kLyFaVl+LUBHsONyYVr912WVFS/UAscKsxdukbVozki7rmFEnxJ6cM4uOqBqY/U2EV33XIcNIYjhLROSa45wCv28m2z2JZVC3nZdZGuJ0aew83psQSunf2UfqrTZZrLtvropPPbdtAac6oPnTLzWRvdROFnbws++snSRlM//sfFxOKGknCiYnusJnDi5IUe837rpk+xLaL35rpQzijQwa7DtbzRV2z7bWry0tt/z3WTB/Cd7K9aXeZnX1uNE1rVQJkf03TV1uUZyKl/FQIcRFQJKVcLoTIA/zHu06hULROurdJ3ZBM+O2xt9qVNw22PW/XwXrmbNjJkrIAboeDuuaItXj+ddYw27dN3ZA4NYFT03jmxkHo8fagD/7l/RT//XPTSvnjbRdiSJIK+MxA+W2XFbHsrx8zOlDAiOJ8fvrDYpojOoaUfF7bnLLg98zzsXVvteUqM9Vqb7usiAynxr0vvMN9V51nmwa6Ki4PbtZ9AGmznTLdDiQQ1g3mvfgBowOFlrEoyIn17TYr1VfeNBhDSvYebrLiJmflZqaNuaTbNZi7xDy/J8VF9vj1A3CmafaU+MLucWpWcWFTWMfrcpCXlXFcnagsr8aSskCS4VtSFiDLe5pjFkKI+4EBQG9gOeACVgAXtttMFIpvKa3VTNjl2C+dFODnf9qZtFi++v4XSU17RhTnc8+V51IXjDB7ZDGLNn7IdYPOppPPxYM/Oh+XQ8MZr3Vo2W/a49TiBXwySTNq0fh+VuaN+dxQVOfzuuaknYAZY3h2WimPbNzN659UM/N7Rdx1xTl8UtVIt9xMwrq0XfBXl5dy9QUFlry4uai9+v5BRl7Qlar6cNoaEMOQKdlJufEYRksj2hTWLbmJqvqw5b4xjZZZhf7yzkPsPFDPgrF9CesG91x5DrXBCFX1Idv7thZ8N2MOlTVByyWX7Y31/DizozdtZpYZh6huDNvKobSleVIwJNENI8nQ6IZBMCTp0E6dVdsas7gG6AdsBZBSfi6EyGqfKSgU316OJ/mgaYKiPD9rpg8hohs4NYGmxRa4FVMHcWa2F5/bgW7IWDB18kC8Lo3qxkhKB7yCnAzqglErw8fMiAGsXP3HJva3fNl3tmiJOnPVNn5z7QWMWfIGACOK89GEoCjfb7t4H6gN8von1SyfPAABluJpQyhKR80+LqEbMind14y9zBnVh72HG5k5vAiXI00jH4dGB6+L1eWx1N1Pq5toCuspne8endCPjl43NU1hOnpdLLruAiTw97suxeMU1Id07ruqmEP1Icud1qWDx/o+RhTnM3tkcUoBoSl1/uiEfhxpjFiLciefC5cm0CWWcTZ3P+Zib6bG2tVImIbsyzRPihiSW+OdAxO/s1Xlpce9tq201ViEpZRSCCEBhBDtFF9XKL7dHE/ywTAku6sarHNGFOfzwNXn8ZMfnMPta7anCOMV5MTE+m59NrkgzVREbdmH+eYVFTw7rZR7rjwXQ0JjKIJuSDr77YPV5husKbh3/RNvMntkse3i3TXHy9oZpRxuiDDlyS0Ji3X/tG/g6fpun5WbyZ1rtvPray/AIYRtcHx/TZCxS9+w0l///uEhyoZ0RyJ5ZuogDAk+t4Oq+lBKYHreizH30uKJ/Xlk027LeMaC0wJNiHj9iEFtU5TrHo+JEi4Y25czO2agCUEoqpPhFvg8TktNF8DncZLhFvxw0essaWGcE43B8STMT0T2A5J3rK3txtqLtjq01gghlgLZQohpwP8Cj7fbLBSKbynhqE6e38PSSQFWl5eydFKAPL/HeltM7Ju9uryUWZefw+GGsLVQ3jGiV6uCfP0Ks1k6KcC9V55r1SAkYr6ZVtWH+LiqAY9TozYYsRbzRMzF/MV/v4hZl59jva2nayjUHNGJGqSk09767Fa0eB/txGsSi/5aPvdAbZCqhhBuhyAUNfjlnz+wvpPZI4v55Z8/wIj79itrgvx/q//JpKHdOXi0mfcP1POrP7/PoaPNRA2Z0m9i1todzBjWk8qaWKrv6EChdex3//cJOT43X9Q189GhBsJRybZPq5k9sph7rjyHumCEX/xpJ59WN+J2OgiFJVX1IWavf5drl21h9vp3qaoPEQpLa5d01xXnsrq8lDmj+qR0qjNrJLrmZJKX5UmKRZxI8yRzx3rN4te4cO6ruOLS6y2/V6fjNMcspJQLhBDfB44Si1vcJ6V8pd1moVB8S/G6HbZVwl63I17la3DrpUXWTsF0FeX5PeT5PfTM9yUVzr34zgE6el1M/243xg06G4cmiOqSqGHQHNFt30wPN4QZv2yLFR/48MBRSgo62spWHGkMU98cpUOG07rPtn21SWmxH3xRzwtb93PD0G40huxdJ3pCH22zpuCp12P1CC2fawbLl5YF2PppNf3PziUvK3mBzMtyUxuMJD0jakjWvLWP1z+pZu7oEpa/lr7fRGKhoPlzv8JsbhjaPanf+PwxJXz/vDOtzCJzfmd18nLwaDNndLTvAGi6eyprglQ3hJLSdNsSc4Dj7zwSabljdTuEbYDb7fgKenBLKV8RQvzDvEYI0Uk1IlIoWiddEdfP/9/57K1uxKGJFJfSzSu3MmdUHzr5XBxuiCT549fMKEVIwfjBZ7P3cFNCz+gA+R08tgZAJryRz1hRwaryUhxAJ58rqZZBN3SONEYsob1Ew2OKBi6fPJDpz8Tu8d8bP+SeK8+1NVAuTTDlwu62GkqdfG5LfDArw4XHKbh+SDf+8M9KJg7phiZg5vBeSQvf4on9WfHGp1babK7PTVSXTLukB1O/242apih3XXEOzjTuL9PQJP48Y1jPlG5/s9bu4Jmpg1KC+U9OGUR1Y5i8LI+9cYy7e0z33OZZw9CEYP3WyqSYw/EEItvaPKllfEM3JHlZLlaVl1r9SVzt3Pq7rdlQ04GfAUHAIF6UB/Ro3+koFN8upCFtC7H0eIC2k89t24egW2cfTk0wZ8OxXgwZLo3qFsbDrAu4eWVsAb/7xXeS7jXvxV3cc+U51nxMP7YuIByVHG5osgK1nf1u/J7YjsIucPzYxP48/rdPKMjxckbHDEYHCnnwL++npIkuLQvgcQk6Z3mSsnM6Z3moDYZZ+PKH/PSHxQB8UhXTTYJY74gJj//DaoaUuGDfsnIrC8b2RU9o52rGMnJ87qTgdMt5mzEL0+g8sin2vHRFhi27y1XWBAlGdJZs/phHJ/a3N45xN9CSsgAHapsxpKQprHNFyZmW5MaJdsRrjZbxDQPJ4aPhFKXeLh1PrGtfa7S1KG83MERKebhdHirE7cBNxAzOO8TaqJ4JrAI6Ecu6miSlDAshPMDTQACoBq6VUu5t7f6qKE/xdeHz2qBtEdfq8lKONIbp5HPzeW2Qx//+CaMDheT63ORlefC6NKKG5GhzBKfmQBOxHPz/+uN7KamwpnbQX2cNs1JSTR4eX0L/s3OtRkDb4m4epyb4xKbw7TvZXib+9h+sLi9FCElTWCZVUWtCWHLoX9Q1M2bJG0lFcrXBCOd37UAoquNxOdB1MOJ1HE4HIOHjqkbOzs0koksuWxjrULd0UsAyEGbxWkveuOdSPviigUy3wzKqVQ0h5ozqk9RnY0RxPnddcS7VDSEkUJCdgS7BoQkcGgTDZsW0ZtWOJH6fC8b2ZXzC882kgs9rg3TvnMnB+nCKBlOXrNhOp6ohZGUlmd9pj84+unT0nlBHvOPR0vD8/a5LLc2ulv/PTmtRHvAxsd7YXxohRFdgJlAspQwKIdYA44n14H5ISrlKCLEEmAo8Fv+7Rkr5b0KI8cBc4Nr2mItC0d4kuhl8HgfRNEVcEUPG9IB0g8f//omt7lPXbA/VjXDTU8kpsi1rIcxc/gN1zUnpng+PL6FHfock//vSSQH8Ho36kGHre18xdTCPTeyPUxPMXp/eML18+3fJi8uSJxbJmZlKLofGoYMNFH+nI4aMVXG/W1lHUZcO3PP7d1g+eSBCHHMZJUqA2MlwjCjO50hjJEkF19xVZbqT/S0v7zzE1It6JMUNTKVcDDjaHKGmMUJnvzul692SsgBRw7Cebz7naHNMLuS1uy+lYs9hnp1WipQSIQSbdh7g++ediQQeffWjFJfjfXHdqC+TGtuSlvGN0yH30VZjcS8xMcF/kCBRLqWc+SWe6xVCRIi1Zz0AXAZMiB9/CniAmLEYFf8ZYC3wiBBCyLZsiRSKU0yicfC6HRw8GrKqeP9r1HlkODVbt8WeqkaKuviJ6pIpF3anJ+q5KgAAIABJREFUOWKwcGxf64150cYPue+q82wF98wF27xXU1hn7ugS5v7lAxZdd4G1WJ3VKZOxCbuaypqY7tTz04ekTbXUBNy3/j2qGkI8MqEf1w/phsuhWfPKz/LQrzCb5ojBurf38eiE/knB+aWTAuRkunA7NDRBkqFaEndPrZsxhKghiRqSVeWlPPP6niQDsWTzxyl9M+79wblM+t2bKd/FnFF9aGqhcZUYlzDPPXg0tgv6x72XEQzrltEZUZzP0zcOwqkJPq9rpqPXyZwNO1MC82YGlT9D48Je+Xx8qMFyr13YKx9/hkZjyF77yYwxn2hq7PFIjG/sr2myr005QfdWa7TVWCwFNhFzGX2pbhpSyv1CiAXAZ8RiIC8T65NRK6WMxk+rJNb7m/jf++LXRoUQdUAu0C4uMYXiZIlGDXYdqrfko5dPHsjs9e+S5/cwb0wJTWGdDl4X628dSlPYsHzhWRkO63e/24GeoO7qdmj8anQfXA4H4TS9qBOrkZeUBcjKcPLopo+oagjRHDEsd046uY+Ibth2sltXsQ+nJti2r5Z+hdkEw3pSgd/8MSV08rmZMayn9Tb+5t5aq8Ncjs9NVDfY9UUDvbv4U1JYZ6yo4MEfnY/HqSXVUCwpC3BmR4+1KwLIcCXLXpj3aPlZuuVmcrQ5krQTWHZ9gA4ZLivIvGnnAaobw0Csv3fijsqs4F5VXsr4ZVsYFyiwstPy/B5mDi/i7ivP5UBtMGYkw5LD8dTZxO+lg8dJOCpTAuZ3r9vBmnim1PGK8r4MeT53aoypLEBeO9zbpK3GIiql/I/2eKAQIofYbqE7UAs8D1xpc6q5c7AzjSm7CiFEOVAOcNZZZ7XHVBWKtBiG5PO6YFLLzkx3rPPaPVeeY+kzTf9uN666oCAlpVEQ8+W7szw0R5LfdH/6w3ORUhDRDdu3xS4dMth4xyV8Vt2UpLQ6ofQs1r79meVaaU2awuex73/gy4gFY++6onfKbsdMEe2Zd6yiu6VOU2e/h85+d1q3yHeyvUmSFqYRWV1eSq4/liVV1MWfEktomZ1lfhaXU8Of4eKpGwfRHNHp5HNTHU8VTkohdQr6FWYTTuMWNA35mopKdh9qYP6YErIyXCkig1HDXsZkVXkp9SF7tVk9vlqdSGrsieJ2O+md57PEGJ2aIM/nxu1uc8LrcWlrxcarQohyIcSZQohO5p+TfOb3gD1SyiopZQT4PTCUWMGf+ckKgM/jP1cChQDx4x2BlJRdKeUyKeUAKeWAvLy8k5yaQtE2qhvDHIoXwY0LFPDK7RdTkOPlkQn9uOP57VYh3qSh3VOK1masqMCf4eRoc5QPDtRz88qt1vk/+cG5CCGQSGvhTyzSWjyxP4cbmrnhiTeZ8uRbVne5WWt30BwxGHZOF6SUzB5ZbElTLJ88kNXlpSyfPJBHJ/TDpQka0/Q/aAxJ+hVm4/c4rcKzORt2cuflvcnze6zCuLUzhrB0UoB+hdnW3PKyPDz3j71c9chrVgprIgU5MV2q2SOLrevMZ0cNSV0wJoJo2BiaRRt3s6QskPJd/OyP7zF84V+54Yk3qW2KYBjS9vveX9PMnZf3tvqIt5xXS/KyMlLuc/e6Ha1WSvvcDtt7J9qC1oryvixut5OuOZmcneuja05muxoKaPvOwowl3JswdrKps58BpUKITGJuqOHA28CrwBhiGVE3EGvlCvCH+O9vxI9vUvEKxVdNOKpT3RjmgZHn8L3zzowX2EFUl+T5PVYjoCenDLRdXADuXreDhWP7kuf3cP/VxUSisYCpYYBL07h+aHe2flptBVOdmiDDpdGQUAiXmInUNcfL67ur6JGfxfRnKtg6ezhOTUtymSwtC+ByCkLN6dVTZwzrmeJCunvdDhaM7UttUyQpIGzKZXTOctPQHGXYOV247Nwz0NL0qv7sSBNzNuy0gtOmzLkhJc0RgxHF+TgdqXGeqoZYM6flkwfGFHMdGnM2vJfUv/vudTtYedNg28+V6XZwx//P3pmHR1Fm+//zVu/ZQ0gQSGSTxbAECEsAR1lmXEaUq6xCUJYhIK4zCvKbkVGH8V4UGXc2x0EEFBDGi+K43EHRUcAlIC5B2ZWwZSGBdKfXqvr9UV1FV7oaGcVRMed5fKTT3VVvd+Cc9z3nu7ywg+em9OXRMd25bdXHxroeHdMdZ3S2pMur1NaHLK9zOhkTu00ktKo9F+JMGdxtztYNVVV9XwixFg0eGwG2A0uAV4BVQog/R3/2dPQtTwPLhRB70E4UY87WWhqjMb5tOO02jtT46N2mKX96+XOGF+aRm+khxWXX+tzRhGGXrAfctqgTnaKqLLm+J6GINvANyypL3t7L5n3VPDm2B22y0xjbwENbT1h6kamJ6hTtPualZ+smpHnsrC4pIhBW4kT7NMe2ooTkNbsk6HheqmWibJ7uNkFzy2v83PHCDh4aWcCgh942dvsCbTZg5VU9vDDXNKifs6GMeSO6cfSEJmf+7KQ+2ASWYn2qqp22ivu1JiwrcR7dp0vmtboFrarNhWLnIU6bBKrKc1OKkAT86eXPmXFZJ+sWXlTGxKogKKdhrZ8LcdpiIYS49nTPq6r6929zU1VV7wHuafDjfUAfi9cGgJHf5j6N0RhnKxoyb9NdNobkN2fFlv3cNKg9T761mxmXdcIXjNC+WQoLx/Xk8IkANomErOrf//pCctKcHD1pxu0vGNcTwAQVhVO753kjuhnGRLHIHv3aKS47o5dsTTjgjsiawZDVuiRJcDT6uGGiVFXrIXN2FCG1/WAt01duY/bQfFSw9KqO1Xdqn5PCnGFd8Dht3PeSNpQPhGVSXDYkIUyf65HR3ZFVjeBYURckELGe59glETfo1U8xepGOPTXp71tdUsTYp7Ya9rXzXv/CsiicriB4nDZL1rrHeZap1D9QfNPJ4qrTPKeizRsaozHO6YglQPVvm8WNg9qhKAp2GxT3a8PJQJibBrU3JcYHhndj24FqurZMI7sBkznN48AXjHBeumY0cOMK88B3+sptPDeliIisMHtoviGjrT+vGRV9weNje5gGwbHD1rfuvCTh6cEmaWJ9D772ZRzb+9Ex3fE4JEtkTSzqKPZ6X1fXM21gO2PYn+FxcNIfNpBUsWube21X432SEIRkhfui1q25mR6aJDsJRuLFAG9f/TFrSooYtWQrz0/piy8UieNILCwuxCEJHt+4i7nXdqV5hrY23dBocXEhkrAueMEo8swmSUaBqKwLGUivnDQ3f97wOfde3dkSHisJyPA4aZbmNv2um6W5yfCcPUTSDxmnLRaqqk78Ty2kMRrjxxq6MuzySb2RJIna+jAeh41qb5hpK0ot5SnuWqe1VJa9t58RvfJM13PaBBlJTupDMirWyasiygvIzdQkvyUBh08EWFd6UDPn8QaJyNbDVllRGfTQ25TePSQuoS4Y1xO3QyIY0djGOpIJzJ4R//OPnaZC8vhGTaKjoVidvmvXJUX0lk+LDI/l2nRZjHkjumG3YXxv+jxFVlQjcTd8r46wCkZUjtQGef6Dr+LWOHtoZ94oq+CNsgpjnjPrik60zPSgqiqyimXB08cK3hhEUyzS650ZA7muTysEwvJkcd/VXZAkQV6GNsTXEUk5KWd3iP1Dxje1oU4Ll1VV9S9ndzmN0Rg/johtO9klwb1X51NTH2Hqcu30oHMq9J20VXI77gsxpm8rE5kMor7LJUVGUrFKXjovoLxGk/zWC9LC4kJK91fxwPBu1NZbO69FPYjwhxWeeHO3KbE98eZu/nhVZyQBj4zuzu2rTw16HxndHdCG7HrCjY2Si9uRm+kxds61/rCxa9dJdU+O7cnKrV9x6y/bW66tZZQF/uBrX/KX0QXMvbYr6R4H6UkOBEKTJRHWCV1PunUBbZZhtcY/XHnKeyPWgGh1SRFjnnqfNVOLLNtvVV7t+65I4JDniEp926R4kcNFxYXYJJ134417rlOzVOz2sycV/kPFN7WhGt3wGuNnFw11d1655SIykhwmTkXTFKeRhHXZC6uEn53qshQKDCsqFbV+jp6oT9hj1yO2IN0YVY3908ufM/PyTpay1KBpLcmKmjChIgmWvLPXtK4l7+zlnqs6U5UgYWanunjhw4Nc3DHHxNpeVFyIEDB7aD5PvrWbWwa3x2mTLIfUdkkYmk4HqupxOyRkVeVQjZ+l7+1n1hUXUu0NWSZ0nY1cW39KQdaqxZbovbOH5rPsvf0M75VnahXpLOjcTA+LNu2Ne79eDCY+8yHv3TWIlz8uNw3u1370Ndf3b0OFN2gJ210ztR8tMuLhuT+1+KY21H3/qYU0RmP8GEJRVI6eDBiSHfNGdKNZmov6kBmuqqhaC6V/2yxuGXJBnDf0k2N78o9PDtG1RRoLinsQkSEiK2SluJg7vAvuKIt57rVd2RCTfOw2iZVb9puE+fTWE0B2ipbYZl1xIR6HDYc93nf5tuc/ptIbZE1JkfUuOXofK1JeWFFY8+HBuIS5uLiQr6rquLpHS9x2iVVTipCjcF4daRQ7W7n36s4EwoppSD1/ZAGyqjLz8o54nDae2/o1twxpTzCiUOMLc32/1sx9dSfTB12AE5tZsTbFiTcYITfTQ14TDWrbcI3zRxbgD8uWs5j/vrYrczaUMX9kAQIIyQpJaIPnGl+YvCYelk/ug6yoRGSF56YUUXEyQLUvxGMbd3HbkA4arFcS/DL/PNN86uFRBdglQSBR+0z+TqIXP5o4U9VZN5qgX2fAsP9WVXXS97e0bx+NqrONcSbREOGU6XGwu9KLLxhhzYcHuWnwBdgksEsSwYhiwEYXjy9kXelBJg5oY7B8s1Nc/GW0xkPITHKQ7LJz7GSQlz8u58qClnFzg+bpbrZ9XUuHZin8bvUOozjYJEGax86kZz4yvX7Flq/YXeG1NFJ68LUvjSSdm3lK7G/77CEcqg3GnTxaZrgIyyqBiEIockpVVlUV5r3+JbcMbo8SFcnLTHKiRItCRFU5HB1UW9m96ieiaQPbkd88zVIFddWUIsY8tZXHr+tORFZNsh/LJvVhyPy36ZGXwf9c24UUtwM52vv/v8+PcFmXFgQiGtRVVlVUVVPBVVSVGl+I+14uY97IAsPMKPa+Syf05lcPv0NupodnJ/Ux1G4BVpcUYZOEMSNaMbmvYcsae43npxThcUgcrw9xqCZgFLKWmW6aJDkJyaqlwvBP6WRxNlRnlwNfAJeh+VqMA3aeneU1RmP85yMSUTh8wk9FXZBqX4h1pQe5bUgH9lWepG+7bO68rAMhWUVWVAQqYVkxTg8t0t3c0F8T/5uxVkvE5TV+dh3zsq70IDcNas/+qnpmr/+MpRN6G7tQOIV2WlVSRLpHKyq633ZsAciO6kXpr186oTe19WF+u+bjOIRRrLCg3rIC+PJoHa2aJhuKq7pM+P5KL5W+iGkoD5qy64zLNCvR5ulufKGIkfA1GZJ8mqW5WT6pD5Ik4jgXOnciK6oRZbXLDkd/3jTFbSom5TV+vq7WxPDa56QQklWTZMeCcT2xSfC71TvITnXGnYqeHNuTP1/ThSSnZAl5DYRP6UvFbo9zMzUhxlB0919e46fKa21Pe7jWT8tMN4qqktckySiyEUV7f06K27ItmJNy9jwlfsg402JxgaqqI4UQw1RVXSaEeA54/ftcWGM0xvcViqKaBAAvzc/h97/OR1FVerTKwi7BoVoz92FRcSFNU5ysmNwXh02wYcchxvRpxePX9SDFZScQljnhD/P7X+dT/PT7zB9ZEIViioSIpTujjGK9UOjPWRWAE/4wnqj2VOz1YosDnEIj9cjLQEVwz/rPTT4ZTruNSl+EFulu0yxFLyYNeRG6vesN/dsYxSE385T1a8O1ZCU7aZLshARDajX6fyvE02Mbd7NwXE88TrvpdKAXzOenFHHnZR2RBHFSJTc9t41nJ/VBTcCD0FVjY+U3YnkQ971UZqwjLCssndA7zjdDR3n95Y1dcQKM91zVGbtdolOzVNZM7UdEVrDbJHJSXOfEcBvOvFjoer+1QoguwFGg9feyosZojO85qnxBo1D0yMvglsHt2V/lM9oKnZqnxiWjaStKDZOdS/NzuHlwe8b/7QPTzvZfuyoY3acV5TV+Ax0E1knTHi0ioYg1/LVhAaj2hZizoSzO6EffGet/XlhcyKadx7h1SHujRaQPuPUWzLrSg9xxaUfTiSYW3aWvQS9aQJya6o0rt/HEdT1IdtlNg96MJCeLNu3lliEXxMmM6zOFh0cVIFkUk0pvUPP4SND7l1VN1XX5pD6Wz9cFIvht1nauulPevBHdSHLY2HjHJUhoWk33v6IVisXjC8lJdZGRpEGH3yiriCsoC4p7cPPg9nFtRUdUh9xul34yLad/N860WCyJqsXejabVlALM/t5W1RiN8T1GMHxqWD3z8o54gxHTIHZRcaHlrlk32RlemGckC/25m57bxvJJfXDYBUsn9KZ5uotFxYWEIrIlOkdPLolgorEFQJ8FlNf4OT8ryXh9bqaHv03ohV2SePOOS4yEPb5fG2TVuggd94UYXpjHSX8Eb1A2VGUzkqzhv3rRsnouPcnJ+KdjThvFhaR5bEwffAFCCJ5+d59ph//0u/u456rOhGXF0o513ohu7K/ycX6TJMvvxBEtsLJqDTdOdtlJdkqkuu08M1GTDXHYJE74w8y6ohP1IZkkp42vj/vJTHZS4Q0iCcHMyztRWReMm7/oJlM6mXD7wVoCIYVXdhyKQ0ON73/WFJF+tHGmxWKjqqo1wDtExQOFEOf+t9MY52RIMQ5tzdM9pmFmw1OEHpfm59Ak2cnqkiKaNigk+vvqwzJKiAZy4/n8v79/ZsmUBqjyhnh4VIFpZvHomO7kZnhYO60f1b6QSXCvsi5ozAVaZLg5XBswcSUeGN4NFdXgb2SnuIzheX1IJiwr2s5XVXnqX18ZLaqmKdbwX72fb/XcgSqf+bSxopTnpxRx7EQAFZhxeScmLj3V1lowricuu8TNUdvRWIZ0szQ3x31B7n2pjMXX97QkEzrs2u+tyhuKe37eiG54g2GaJHuothjqn9/EwxdHvajAf/9jJ3+48kJGL9lqDK4byo7HmkyV1/hxO2zG72tgp2Zx7bqzaTL0Y40zLRbrgJ4NfrYWzRe7MRrjRxmKolLrD+EPyciq5hvtsgsEsHxyHw5U1SMSyD+0bppsJEi97aQnCN1boWEiTnPb2VPhY/7IAhRVG47bJGHJlJaiUhzN0rW2SyxMNN3j4NVPD9P+vHQTw1lXeG2XnczeSh/npbuNQqGv+651n7C6pIjFm/bwzMTecTvmh0cV0DTFyT3rPzPJVlyan2Mp8dE0xYGiYLJr1RPw7P/9LO57C8uKkYSfm9LH5K+wt+IkTZKdcbyT+1/ZyaNjuqOoKrOu6EQ4olqSCe+5qjOLigvxh2RWbPmKOcO60LppssZur/Vz30tlPD62hyXXYXVJkSEtUukNmkiPx04GTnuqys3UPETWTutHdqoLbyBs+n0lOW2WpjvnWnwTg7sTGlw2vYGoYBoxENrGaIwfWyiKyoFqH8dOBoxkeWl+ThyKZs1UMxehR14Gtw5pjyTgmYl98Ici5KS6KDtSZ7RsPiuv5W8TelHtDRnXnvqL1uQ10XrVTrtEusfB3Fd3UlkXTzDTcflLJ/TGLgRjl35oSlY6m/r+V3YaO+90j4N5r3/BLUM68OBrX1BZF+LRMd0TII5U1pSWc/uv2sftmH+7ZgerS4q4vl9r0xxCn2ssndCb476QIZ9xXZ9Wxpxm+eQ+2IRAkgSOaBGMjdxMj2EiNLowlxN+2dC90otPqkuyhP9W+4Jcs2ALAG/PGGhJJrz7ynyapjgIyw5uGnwBkhBsLDvChS0yjOsl8puIKKrB5m5Ieqz2WTPh9bnT4vGFeBwSHqeN+18p45bB7U3XT3LaDNb8uRzfdLLoCAwFMjCLCtYBU76vRTVGY3zXqPaF+Kq63jS0HV6YFze4FkJj/C59bz/X92ttiM/dvkojtv31hkIqvSHDLvXWIe25qntL7JJg0tqPjCF5cb/WlNf4TbMPPSk9+NqXzBnWhbwmHg4e95Oe5MBh0/rvbbOTLcUCm6a4TNpEb88YyJ+GdUFRVe6+Mh+7TRAIW7eHhNCGtYm0o6q8IZpbaDe9UVbB5IvaMnrJVuNnky9qazxXdqSOOcO64LAJDtfEM88XFhfy2qdHABjWM9eQVtfve2N0h2/lNKdJjWhxOgFERcVQrr31+e3MvLwjTZIdxk4/kUS5XRJRNz4XD7620/iuAdaVHrRse2Wnuvj79P7YJYE/JNM8XRMJrAtGiA1Z0Tgf53p8E4N7PbBeCNFPVdUt/6E1NUZjfOdQFIXWWUnMH1lAyww3Qmi6Qw0TcyAk8+K2Q4bvcsNEb5ds/GbZByZDo/IaP2un9TMS0rSB7SztNmP73hOf+ZDVJUUmNJVVYdFnE7aYHrg+3K32hpgaJQDOvLwjS9/bHzckfnhUAcGIzJwNZawuKbL02U512/kqymlomFTDMWxjfXethz7kb5bmJq9JEs9tPRA36O3ZOgsANcGAPZHdambSKV9xh03wtwm94ohvDptgd4UPp00iJ81FpTfIyUDE9L3f8cv2lkUs3SMBHjxOG7/9VUfKjtQZz0++qC1Ou2DOsC5kJDlIdTvwOCScdkHFyZDJM/uFaf2YYHESXDut37f7i/oTijOdWVwjhPgczdnuNaAAuF1V1RXf28oaozG+ZSiKSpUvxNTlpdw6qB1JLnuc9tK2A8f5dUELJElQckm7OFz/ss37eXBEN+w2TVMoJ9XJLc+fmg/Eti4yPI6E7Y/YvreeeK3QVA3NgNQodUyfDxyqDRiEvNlD840E2XBI7LDBziNe5o8swGmXLGGeSU6JVz89Ekcg0z0y9Ps+ObYHdYEIq0uKjEJTH5I1xFJWEov/dYDF/zpgfN4eeRmM6duK1SWnN1ey+rnTLrF2Wj+aR2Xb6wJmhNqjY7qT4XZw17pPWDG5L0LAgnE942C28/+5G8A0K6n2BjjhV2iZmQRoUuIvTh+APxRh59E65r76BaAh4+ySMP4uWMGJwxHFUusrFDk3JD1OF2daLC5VVXWmEOIaNE/skWg2qI3FojF+FBEr3SEJYaBY+rfPNnk+ZKe4SHXbGXRhM26I8iRiTwmgJb0b+rcxIV4awmkXbdpr7Opr/WGDbJao763LjC8eX8h5aW7LwqKbATVNcRptk1p/GLsEqW6bkaByouKE5TV+U6tqy6xBVHlPGSb9a+aguKKks8eL+7XisY27jELTJNnJKzsOc01hLm/ecQkuu0R9WOamKHJJLzTpHju3r9rBXVeYneR65GUw8/KOhsLuOzMHWu7w3U5r0yVQGbFoC/+aOZCIgmF7qq/7tlUfs2ZqEeU1GtGxeZqbNLcdX1CO+95Xl5bToXma8b3okht66D7YlXWYWOwNTylJTlvc78ltt565uM8R4t3p4kyLhc4Q+jXwvKqqx8V3mOgIITKAvwJd0EyUJgFfAqvRyH4HgFGqqtYI7UaPRu9dD0xQVXXbt755Y5xzoavEPvx/X3Lz4PbaMHhEN2RFQyTNHprPxrJjXNOzJSkuO1XRGYTVKQG0tlJDEtq0FaUsn9yHipNBYze5bPN+lk7oTUhWcNmlOAjsouJCslIcrPxNX+5/pcwgea38TV9rHoFNIq9JEnYbPPJ/u1lTWk5upofHr+uOw2YzIaOsNKEUFRMSKBHXQlZUo4g0JOzFSmxYyY48O0kzs2ye7jaJJ8aSAAF2HqnjSI3P8A8XQvBm2RGyOjcnyWmzRBPpn0FJMGsJyxoc2O2wYbdLZNhdpLlVnrq+l6lVtGBcT554c7fxuR4Y3g2bRbrKSnaa3puV7DTdVy/0sT+zajfOWPsJa0qKzvSv6082zrQcviyE+ALoBWwUQmQDge9w30eB11RV7YTW0toJzELjc7QHNkYfA1wBtI/+VwIs/A73bYxzKCIRhcO1fo6e9JOR5ODWIR2YvnIbL20/RKrbway/f8ol8zZpek2DL6BFhobRb0hA008JOuO6YdKAqKZQdLialexk/qgCfndpB+a9/gURWeXVT44QUVRW/qYvb915CXOGdWH2/37GF0e8jPvr+0ZSLq/xc/8rZSwuLjQxvBeM60ltfYi9lV7++5WdDMlvZpxIclLdcXDQGWs/4dYh7Y33L4waB8WuW0/AsaHPQ6w+33FfKO4e0wa2M70mGFG487KOjPvr+/xx/efMGdaFjXdcQquspLjvtP156Yx9aiuXzNvE2Ke20rF5OnabxL0vlRlaTCFZ4d6XyghGVB4Y3o37XykzWlVW637q+l5kJZ9ynpMkQcdmqbw4fQDv3TWINVP78cqOQwwvzGN1SZEmS755P5IUn+oavrdFhsd0X12uPPb3FD4N2upcjzM6WaiqOksI8QBwUlVVWQjhA4Z9mxsKIdKAi4EJ0WuHgJAQYhgwMPqyZcAm4K7ofZ5VNXncrUKIDCFEc1VVj3yb+zfGuRHhsMzhkwHCskIgrGhktfWf0b9tFlf3aMn9r5Qxe2g+bZsm4bDZCMsKTruNNk2TcdgEr9/+Cw5U1xvD7mWb9/P8lCIO12rsXqvBsKJqCrS6Ouni4kImDmjDk2/t5qZBGtw2FFFMwoFWrYw3yiq49+rOcS2gDs3TyPA4GF6YR9eWacaJZNYVF1omqPOzkoxWle4SF7sTPlzrjzvtPDyqADmB4ZIuthd7j4ayI8kuu7ETL6/xM/GZD8nN9LCqgRy6/p3GQnF1MqIV70QIjAH/f1/T1RKd5HFItEhPjXOe09tKoJ0yR/dpxVfV9QA4bRKzrrjQVGBO997Yk0alN4jHaWPutV0Nhz99vVZIrXM9zrQNBXAh0FoIEfueZ7/FPdsClcBSIUQBUArcBjTTC4CqqkeEEDnR17cEDsa8vzz6s8Zi8TMNRVHZVeHl0Y27+P2v85m24kOSJ6ORAAAgAElEQVReurk/66b1IxxtPf3+1/k8//4Bzktz849PDnJlQUsDxaK3JtaVHuRPwzTfhVZZbsIynJfuJtVts/R6eHfXMQpbZ9EjL0ObFawoZe61XQ1YqZ78v6mVkZvpQVUxEual+TlxaKzFxYUgMAngNbzGngqvKenOHppvIs8tfW8/d17W0Wj5qGifr9YfYfmkPqz64Ct6ts4yCpaiKsZn0+/RUHbELlmTGK1MhyYOaMPMtZ+YridJgifG9jBY3DrZ8I41OwwkmKKouOyCZyb2MZRdZUVGUTkji9JgxOyj8dT1lorbpr9P+rwrK8XJ32/sz9fH66n2hUz+4C9OH0BEli1VbX8GteLMioUQYjnQDvgY0LcfKt+uWNjR2OC3qKr6vhDiUU61nCxvb/GzuDOfEKIErU3F+eef/y2W1Rg/9tD/UQfCEVwOG/de3RlZUXnp5v4c94Xj2MqLiwtJ89gZ37+Nacgdiz66ceU2FhcXcqwubBSHf/7ukjg+xo0rSg258eemFPHERm2mcF4UvaPvwhvOP6yc1xYWF5LkOtUWGV6YZxQK/VpTV5Qyb0Q3nDYJIYibeyyd0AubJPHi9P5U1AVZV3qQPRU+8ppohL7MZCd1/jDO6OA13WMnosB1T5m1nB7fuMskmHffsM5c/cR7Jsb4P393MXsrfSzbvJ+7rrjQsnCFIorJdCgv00OlN2gQ9/TrOyRBOKIaMFWdvKgn5AeGd8MfUZi17jOTAdSiTXt5ZMwpLkaivxuhiGycDPTvcsqzH/Hi9AHGCaLh+2JdEfXi0iTZaZJR0dtfR0/6eefLY3GQ4TZNz331ozM9WfQC8tUzcUr65igHylVVfT/6eC1asTimt5eEEM2BipjXxzre5wKHG15UVdUlwBLQzI/Owjob40cQiqJS5Q0SCMsIITh6IoDdJmiS7MQuSSiqTCCkcPC4Pw7mqO/8z0uPJ6Dpyb28xk+K2879r5xCxdgSSIDovf66QJibBl/AhAGtcTtsjCrMZfO+aiOpxe48K71BMpMdrCkpIhwje6GLEvbIy6Bjs1SDHa63xbJTXKS47MxYa7YvnT00n6Mnghz3hU2KrouKCwnLMg++9gXX9WnF/a/s5ImxPXh2835G9Doft8MW5x9x44pSZg/N542yCmNGsaqkyNCkevrdfZqC6wufUOkN8vCoAryBsOXOWghM7aV37xpIktNmOh2oqoKiqjRNdTJy8Rbj808b2I7JF7WlRYaHW5/fzuNje1i2qhLpL8UmfF0avuHvLhSRLd9b7QtZFpe/T+/Pi9MHGMZYWclOJEmQ4pYY2j3XhJRbWFxIirsRDaXHZ8B5nIXWj6qqR4UQB4UQHVVV/RIYApRF/7sBmBv9//roW14CbhZCrAL6Aica5xU/j1AUlS+P1jFl+UcGe/r8rCSO1PpZuGkPNw26gEBYoXm623I2UF7jNxjZVjMIvUW0r9LHDf3bGCqjtmh/uuHuWVZULs3PISKrJm+HBeN6MukXrfl/6z4zevXLJvVBAF9V1/O3fx3giq7Nad00iWBEpU12KooKowpzGdkr1xAyjCXn3TqkvYE00j+LLnAYkhUT5DP2uRv6t+H8JtquXgi4olsLymv8tMpKsmSKx84kymv8xg79wvNSueeqzoRkhfmjCgyTn3BE5aHXtRNE+5wUdld4eej1L3n8uu6mE5RN0hjmN648tWNfOK4nmUkSh2oDxverQ39zMz3MvbYrld4gLrsUZ1O7cFxP3A7rhByb8BO1/Zx2m+V7QxHZ8u9NOHKKlxEbXr8SnQ+d4lk8vnEX917VmbRzXADpTItFU6BMCPEBYAjCqKp69be87y3ASiGEE9gHTERDZq0RQkwGvkbjcgD8Aw02uwcNOjvxW96zMX5CoSgqx04GjEIRy54+1T+XqA+FsUkCSQhLw5qvq+t59dMj3HlZRw7VaAA+p03izss6su6jgzwwvBvrtx/iiq7NmTeyG3srfaiqEp+sigvxOCX+cGU+YVmlf9ss1pSWmyCleivllsHtqQ9GkITgwuapNE1xceNKMylw2eb9/OHKfEu3OU0gL8kyiSU5bSRhXRiTnDbueGEHyyb1YfbQfGxCk6k4HVM8lqGtD2rnbChj3bR+7KvyxfEJWmR42H6wljkbylj5m75G0QpEVFMbSpaJK3Y3rtzG6pIilryzN26AvXh8IU2Tnbx08wC8wQjuBvBat9OWUFIjNuE3PNnFtpCswmm3/VvFBYFJgDH2ZHWux5kWi3vP5k1VVf0YrbXVMIZYvFYFbjqb92+MH3fobQWPQ6K8RmMsN+Q9LNu8n5mXdwIgySmR5LIZDGc9sTVNcTJz7afMvLwjagMrTFmRGVvUmpe2H2JcUSvTcHnBuJ6keU55IugEtTFLzKcJwCgYNknw4vT+pLoduB2ahpHLJrG/up47X9gRVxBmD82nss7avjOvicdA3zRUtpWE4Hh9YuG78ho/9SGZqctLefeuQQklSOZsKLPkIwgBC8f1JCxb8wlWTO5rfL+hiGzwLlx2ydQ6evOOSxJCTIcX5hmeECf8YbJTXWQm2UjzuKmsC7K3wmdqKerriyXWxUZswt9+sJaHXte0uNplJxtudYkG4w25Ft9UXFQ13ghKV/o91+OMGm2qqr5t9d/3vbjG+PmFfqLYc+yEkTD12YIePfIy+P2vL0QnhgbCqsHYhlOJLdnloNIbpE20/TNh6QcMnv82E5Z+QDCi4rZLXFnQIm64PH3lNlx2G3srvVTUBVHBpAekv2bKxZrInr4jrw/JTFj6Abc89zF7K3zUh2WapVp7X+SkuoxheGzkZmpcEAGsmNyX+aMKWFd6kNFLtjJ7/We4HRLbDlSbeCF6ol+0aS+5mR7SPQ5eufWihBIknc5LZVVJkSUfQVXh8Td3E0lA6BNCU6Z9cdshJj7zEbsrvAye/zaP/lOzRNXXpKjWHA979ORydfdckl02zkt343FKpLi04XMoIidsKSYameoJ/9L8HBaPL+QPV15Iq6wknnhzD6MWb2F3pRclAQ+iIdfixekD6NgsHp6rR6LvVE5w/XMpvkmi/F1VVS8SQtRhRiAJtE1/2ve6usb4WYWiqByqrcdhk2ibncazm/fz5NieHI8m1f5ts5g2sB1CwP6qeh7buJvsVCd3D81PsItVeGB4NyIKlrIXq0uKTEQ0PbJTXFR7Q0aLpaEciH4NXeF0wbieOO0Sd637JK5l9s/fXWJ5Ckhx2Vm4aQ+LxxcahU7nQaQnORgdw6SOdW27ceU2lk7oTSB8alf/VXU9D73+JZXeIIuLC/GHIjhtEkdOBCzvLSsqiqJwZUFLS3vQyrqQQehr+N4vjtYxZ0MZDwzvxu4Kr7ED37yvmumD27GqpIhQRCHdbbeU+0h2STz3m778OQbZ9dT1vWiarDX8PU4b2akuY8iuz1h0hrtVSJKgfXYKt/2yg+m71NeoD6xzUq2HCg25FjqqKnawrcfpNK/O9RBnB+D044pevXqpH3300Q+9jMY4g4hEFCp9QUIRBbskcNolghGFP738OTf0b8M7Xx5jfL/WyCqc9IdNc4QHhnfDZZdonu42UD+xcMbr+7fh5ue288iY7lwyb1Pcvd+eMZDDtX4CYcWYdWwsO0bJJe2orQ8ZyWrawHamgTJoCWJ1SRH1IZmn3tnHjQPbMWj+2yweX2h67cs3D+BkIBLX485IcnDSH+ZgtY+iC5oSjqhIAmw2wdin3o+7lz6cnjawnTFY3nagmhG9z6f8uN/o7TdJdnDvS2X84coLuf8VzREuFgL6yOjuLHlnL7OuuJDVH3wV950VtcvG7ZBIctoIhBUT4qrhvGPOsC60y0khIism1dk5G8p4eFR3cpu4icga610SArsNHJLEfy3YHPf5Xpw+gKxkp4FqigU0VNYF8Tgkmqd7yIlOkRsmdRWVay2uq6v+vjNzEOc3iR9Yx17H47Rx7GQwriUVe9I4UlvP18f9cd7i5zfx0Dwj/vo/tRBClKqqaklM+XdIeY3RGGc1QqEIuyt9Jge2xcWFNM9wMXtoZ46dDDCqTyuWbznApIvaciQk88zE3tgliSSnREjWCHhuhzWcUUfPWO0GL83PwS4JmqW5+aq6nrmvfkF2qpObB7c3VEf1BLl++6G4oenC4kJCssyvHn6H3EwPNw+5gKUTesehjg6fCLCu9KAJPbNs837uuaozd7+ocQlWbjnAiF7nI4RAUaxhuy3S3XFD/sXFhcx77QuTSZCeIKt9IbJTndhtwjQotkdPDnNf3clNg9qbvjO9GFR6g8y9tivPbjnAs1FU164o6ikWSdW6aTJ/3vC5cULQB/eLxxfiskvcs/5zw7Y1O9WFqkJYViw/XygiG6gmK0DDI6O7IyuaRIgVN2LF5L6W183wOLQ2oYgvMJkeB7srvcZ1rFRm4zkagjd3Ho3jWUwY0Pa7/WP4CURjsWiMHyQiEYUjdUGjUOh4e39Ypj6kcPREAEVVqfOHGdevNVXekDEobuh49+5dgyxJdKtLinhwRDc8TsnUEtHf37DVo6pqQunwZZv3G7LXNkmweXclrZqmGEieE/VhS9TRok17uffqfI77NNSR0yZx06ALsEuCaQPb0blFKs3SXAaaKSuBF7bbYYtDF02N4UnooSfIua9+wfxRBVz/tw/irqXvtmde3sloG8mKylPv7DOKQV6TJK7r04o71uxIeLIKhGX+eFVn7r4y35C7mHRRW9Lcdv532yHuHpqPooJNCFRUTgYipLkclp/PYZcMVJMVoOH21R8bYn1W3Ij9VT7L69aHZE0V1inFFZjnftPXdJ1Es5JYjkayS1huTJJd534bqrFYNMb3HvqOTqASjCiGz0BtfdgoFA13kg+P0nysI4qKTQijqEC8452sqJYeAxFFpT4kkxKx4bRhEMQcNimOoHbXuk94ZmJvy2SRlexk4gCtpRUrXbF8Uh9j165Lc8deb/bQfNaVHsQmSaZCsnh8IU6HNuh9YVo/HDH97ipvkKUTezMxRppkwbie2G3W4n8NUTs6Kmr7wVoCYWsOQYbHwaX5OQTCSpwEyu4KL5XeIHZJ0DRVMxiyYqEvGNcTgUooojD31Z3G6WLBuJ48vnEPm/dVc3HHbOoCERw2yeC2/Pm/uhrOhPqpo0myE6dNILBZAhr0detifVbciMc27o7zCV84rieBsEJWihOBiCswFQ3QaGfC0agLKAk3Jmnmef45F43FojG+19BbBv+77SBDC1qaZg7PTupDbqbHUhL8t2t2GHIdkWgxmDeiG+elaa53c6/tavArTucxkOq2EwyrTF526h/46pIiy+JiE9bDy2ZpbgIR2SRd8eTYnniDEUKygiSsE3mnKLFtdAOpkanLS3lhqjY0l9B8FGKLycOjClg7rR++oMzXx+u5Z/3nTBvYznJt2amnTiL6537wtS/JzfSQ5rHexdeH5NNyPJx2ifte/pw7L+vIQyMLEIAkBCt/0xeAg8frCYYVMpJcuO027r2qM3cP7YzbLmG3CW77ZXvutHfEG4jw5Ft7jKJw95X5SAJLZ8LFxYV0bJbKU9f34miCwbx+erHiRlR6gzTPcBusayEENgGSJJGV7OTICX/c7+hMpFkawmgjCTYmPwc0VOOAuzG+16isC3LNgvdYNqkPD7y6k+GFeeSkalIWQkAwrOAPy4xYtMVoRXVunmrYoNolgcMmOHIiQH1IjtvdrtjyFbf/qgOjFm+JSy5rpvbj3pc+4+4r87k4ZsD9/BQt6TUsLmluB3JMK0pvMZyX5iIcUQhHvZZtkmaao++mX5jWjy+O1MURAude25W8JkmWw/V/zRzILx7cxLt3DTLpVulrX1VShKyoxnutTl/zRnTTSHpOOyf8YQJh2Sig9SGZTuelsK+q3jxriXpLhyKK6TvR450ZA7lt1cfGEPv5KUUEIzJ7K32sKz3IjMs6MfGZD3l2Uh9S3HbCEcUSNQSnlIEr64JU+0KsKz3Ibb/sQH1QNjgxsZ9ZH3JX1gWoqAuaNhbzRnSjXdNkctI9CfWcTgd51f8eNpxbNURQfdPnOnbCb0lWbNs0mWbpP/2jReOAuzF+kFAUlVBEZv7IApIcUhzzdf7IAlJcds5Ld3Npfg7TB11Ak2QngYim9aQPZS9snspxXzhu+KgzpyMJhqYRWeGNsgruucos3S0rKrP+/qnpWjPWasSqKm+Qh0YWkJPq4qQ/TKrbxp4Kb1yRyvBou83sFJfJTCk2ideH5IRQSynKEUmE21eihdKKbJbXxMPB436yUpzctfZTslOd3DKkgwn1tLi4EFmFZZv3m6Up3tzNH6/qjD2BpIndJpmG2BFFMbShFhYXkpnk4KWbB3DsZJDro+gjq2StKCq7Kr1xUNZH/7mLP17VOeFsQJIEgYjCH9d/blq3Lm8OZm5EIohrw7Ai3/32Vx1pn53yb10nkfnRz4GU11gsGuN7iVj3uokD2qBYMF/veGEHz0/RdtD3DetCWJZx2SRO+s1tmUXFhTRNQG477gvRPN2dsG2Rm6l5JcSimdwO60FmRV2Q2vowrZsmUe0NEZYVaiqti9SKyX25unsLcjOTDG0n/fkZaz/hkdHdkYRACHhibA9qfGGjgGQmO5Ci5LZExcQmCWRVM1OK3Zlnp7pwO2y0zU7GG4gw64pO1IdkHDZNmVZWVFx2idr6MA5JaEKADXbBDklwwh+K8+BeVFxImluY1uGySTwypjt2SZCT4sLhsFFZF0wovqdzGap8wTiipD7HCYTjrVBjZwM2SVgKCcYm8VhuxJnE6QrMv3OdyM/Y/Ojcl0psjB8kqnxB3t9byZxhXTi/SVLCf2Sg4rQLXHYBCEKyGucKN21FKZlJDktGcLUvhBQtBvrz+i5WkmBRcSGycmqHvbqkiHSP9bXSPQ5mr/+MQQ+9ze2rPybF7eD8LGuNJkXVTifHTgYsn89MchKOzjPCUX8FnYUdjigIIZi9/jNDNC927QvH9STJKVHjCzPur+8zYtEW5mwo49YhHfhofxUCCIRlUj0Okpw2QrLCX97YRVhWUVQVj1MiI0lrqXmiGkurS4qYM6wLHqcNRVWZtKyUvCYuVpcU8faMgdHvRWJPhd9Yx6LiQu59+XMumbeJ0Uu2sqfKZ5wWrT5zfVA2mNINh+s98jIM8UEhNE+L2M/81PW9sElwqKYeR9QbI/Z5vch9l9ALQ8vMJLJTrSVAFEWlsi7IoZp6KuuCccxvRwIXv++6tp9CNJ4sGuOsRiSiUOkN4rQLft2tBZV1IR7duIv7hnXmzTsuQRICmyQ47gvyj08OEwjL1Ptkmqe7qa0PE4pYt5RO+MNxO2Ed19+lRee4dovOZXhs4y4eHNHVBLW9ND8njl385NiezH11ZxzK5ZmJfSx3wV9V11NeczqVU4kUtx1FUQ2nOv26v12zgzUlRZTXaEPXBZv2xLWK7rmqc5wMybQVpTw/pQibBJc98i/jO1hXepBbh3TAZRfIKkRklQEPvMXW/zeYBdEBcxJaUVnw1h5+/+sLWTaxNwePB03f58LiQlpleXjvrkEIIVj23j6GF+Yx+aK21PrDPPx/X3L/Nd0Siu/tr/KR7LKTneoygQWs5i3zRxYYwoR2SSAJmLXuE94oq+D1239hFDn9NKYXue8zzmQW4nJYK+K6EijinkvRWCwa46xFJKLwxbE69lee5MIWGUhRyOuTY3tQVRcy/QN7ZmJvru/fhoii4nbYCcvaYHn20HzLRFRe42fbgWpWTO5LlVdryyzbvJ9bh3TAYRfcPLh9QumKgzVBSvdX8dyUIlRVjTLFNURViwyPJvpnFwwvzDNkNUBL0P5QJJ6QN64nf1z/OWBWOdVZx62ykhBRiG5Cz+Zo4gtGtLlKLFcC4A9XJpIw0XgeuqOdLmKnqCqBsMLaj77mur6tAXjhw4Pc/ssOlMTMDZaMLyTJaScsK9zQQO9Kh4C2zEzi2Ak/F3dsFsc8VxSF7FR3HExV55U8MbYHgKn1Z4V2u+OFHcwZ1oV9lT7DmlWXNTlQXc+60oNxRe6eqzp/oxzHd4lE3haxpDx/WGH5lq9MpLyn3tnHbb9sf1bW8GOOxmLRGN8pIhGFCm+QsKzJdaS4bfRp05S6oIwQmtVnTpqbkYu2GJDDnFQXkhDc9/Ip9u/yyX3ITnGR5rbH7dxiZSaGFrSk2hciw+Pguj6tyEiyE46oPPHmbtPu/Ino7nzawHbGCWL9jqNMG9iOrGQnmclOXvr4MMMLc08raXH4RIBFm/Ya185JdXH0ZMCA0eqD54dHdcfjtMWdfOoCEetBcnTAXR+y7t+rqrU204EqH4AGa42us8obYtiT7xmtowVv7QFg/j81RVkdWaWd6jT9rcwk6xmQDgGVG8yYslM0BFUgolDtC9Ey023s/Gv9YYP5rc8dBMI47bXPSbG8V6usJO5Ys8N4vGzzfh4c0Q1vMMLvf62p8iqqakjKWxHrvgkF9e9EovZaLCnPaZfYvK+aNaXlxs9yMz3cae/4ne//Y49z/+zUGGc99L5uVV2AncfqGLV4i9HXjsgqVb4QE5Z+wKCH3mbOhjKqvSH6t80ypLGvWbCZ6//2Ab+7tANv3nEJyyf1wWmT+PN/dWbG2k/44/rPeWZiH9ZO68fsofmm5O1x2snwOFCBjuelICuahMQbZRVMXV7K6CVbmbq8lDfKKlBU1SB46a2QORvKGLFoCzf87QPGFbXi6Xf3xQ1hdU7DvBHdDNmORZv2Uh+SkVVNYiS2517pDZKT5oqbtdy17hNUVY3rvy+MkuxyMz00SXaweHyh6flHRndnwVt74mYZDwzvxmMbd5PktJnW2STZyZt3XMLzU4p4+eNyUyJbXVpOIKwx4vdUeKn2hvnTyztx2Kx77zqXQY1RndW/u+c/+IovjtbxVbWPk/4IF+Qkc8cLO5i6vJRKb5BnJ/VBReVQTT02SXD30HzNFhZrBdrDtX7jFNcjL4Mb+rdh4jMfcs2CzRQ//T4RRWHuq18we/1n+IIykYhqufOv9oXOyt9rvb3WcJ2xpDx7gnnKz0FIsPFk0Rj/VsT2dZdO6B3HZo2V5dB/Ni3a3jhyImDoJgHU+MLMWBs7N+jB3Gu74rBJHD3hJ9VtN2QmcjM13+kqbxAB+EMylXVB7n2pjFuHtE+AKJKMnbtVK+Sm57YZchk6xyPD46BlpsdQPa30BumRlxFH+tOJc/UhbddZH7TelUpCMPfVL3h+ShHhGMG96/u3Yc6wLiS77Ly7q4LnpxRxuFabgdz/iuZJfU3Plpa7d923IivZyaLiQk76w7idNmrqQwwtaMkrnx0ztcySXTZq6wUhWYOkbj9YG4cQM0AB0ZznsJ+C1k4b2I5lm/fHQZ8Xjy/kpZsH4A+dEuHT4bSX5udwy+D2zF7/mUGoNPmjjy/k0X/uMr6rhr+f7BQXgbBiGFIt3KS1ob5p5/9d4ky8Lfwh2WTypMN6nxjbA5LPyjJ+tNFYLBrj34paf4ijJwI8fl0PTU46xdzOaJritPwHfeREgPtf2cmtQ9rz0KgCAG6I0S3KTnFRH5IN/oM+BH1hWj++rq7nvHQ3FScDRiHSd3QzL+/Ig699GZeMFhUX4rJrTnWLiwvxJ5C+yEp2JiS8tYyS41BhTAN5kN+u0WC/uyu8zNlQlnAQXusPU+kNsqfCa+rNS0LTX3LaBd3ymrCnwhtn+LP0PW0m07C19dDrXxrorXmvf8FtQzqgqipHTgTYWHaM2UPzyUp20jzdzd9Ly7mqe0uyUpzUBSLGurDgYCzbvJ97r+oMnNpBz1j7CRkeB8ML8+KK7dTlpbw4fQAtM5Pi4LTDC/OMVmJ5jZ8HXztlSORx2sn0OPjtrzpSdqTO+D00PMlYFbLTQW6/a5wJf8Npt1nCes/WGn7M8YO1oYQQNiHEdiHEhujjNkKI94UQu4UQq6OWqwghXNHHe6LPt/6h1vxzD0XREtLs9Z9xzYLNjFmylZmXd6RHXobxGt2wKDZyMzXRuXuuzgegqi6IJLQCoce0ge3iyE53vLADRVEZvWQrihqPKpqx9hPOS3Oz/WAtD772Jc9PKTLaMckuiaMngxT9z5tkJjvISHJarqtJspNbh7SPS4Qz1n7C3gofsqISVqwRWoqqsmjTXspr/CQ5JRYVa+2kHnkZLJ3Qm2WT+pDucfDk2B48tnG38b671n2CokK1N8jYp943lHMbtp1uG9KBvEwN3vrWnQOZM6yLcbp4YHg3Zq7V0ENTV5QiCU1rak1pOXM2lAEa07yoXRbFT7/PoIfeZvb6z5jzX11Y+Zu+uJ0StwzpwJwNZYxespU5G8q4ZUgH3E4tJcTuoHNSXaZkHvsd6Lv6hv3+hvpO2w/WMvGZDwFtB1/jD9MkycGaqf14765BtMjwGJ/d6hSof2dPXd8rDnKbyNXu28Q3wWv108f3uYYfa/yQJ4vbgJ2AbqD0APCwqqqrhBCLgMnAwuj/a1RVvUAIMSb6utE/xIJ/rqEjUMIR2dKR7rkpfXHZJCKKisMmLAXdslKc1MT0lg9U1fPn/+rM3f+rtUUSicfJisq/Zg5EUa2lu4UQrC4pQgUcNoGs6sxoTeEVICSrzHhhh2XbZdGmvZRc0tby2klOjYCWiPSnqqoxSwlGFNI8dtZN60elN2Q6DcwfWWD5ufR2UtNUF+Offp/sFFfUfzsZt0Ni+optmpBfcSGpHjt5TZJ4ZEx3vjhaFycXfsIfNk4J9SGZsKwQjMQX2GlRpdquLdM4UHnSGH7bJMH2r6rJSs4CzDvoHnkZzB9VcNpdfUM4bSJIsd1mPaRun51itIBO93fh32Vun+34NuzxcyV+kJOFECIXuBL4a/SxAAYDa6MvWQb8V/TPw6KPiT4/ROh+mo3xvUckorDz6EmuWfAeRNFNq0uKWDy+kB55GWSnaD4FFXVB7nv5c3ZX+Hh04y7mXtuVN++4hDnDuhgwU10wTyennQxEuG+Y1vbQZwuxkTkqe5EAACAASURBVJvpYW+lj8O1gYQD2f1VPkYv2cqdL+xgf5WP3676mDkbPsdhk3DZJf7vtxfjtktkpzqRBCyf1IdNMwYag/M1peXsrfRZXltFg1M6bIIFDXb9C8b1JKKoRtH5n3/sRCCoC8pxg+47XtBkvmOvLUnCsEH1OCRWlxTxyJjudGiWgschOFDlY/vBWiPBK7LK3kovR04EmLOhzCgU+vUq6oLGgH/iMx/SMsNj3D82ymv8XJCdgssu0To7jTFLtnLJvE2MWbKV1tlpuOxaSshKdvLspD4sndCbWVd0IqIoLC4uTLijbrjjXld6kIUNXv/k2J7YBJZD6hp/2EjCLTM9lr8Ph006I2Ld9x0/hjX8EPFDnSweAWYCqdHHWUCtqqqR6ONyoGX0zy2BgwCqqkaEECeir6/6zy335xc6uc5hEzRJdrD+pv7U1IeN3brTJvHgiK54nDZAcGOUI6Hv3IcX5pm8FBQFS02dVSVFBk/g4VEFxk44tj9f6Q2ydlq/uOd1hVXT9ab0pTrKfI492dx5WUcmPXPK5CbWn8FKbXTeiG60zHDzt3f30blFmiU0949XdTahtSZf1BabdHopcf3ajqikxePX9SAkK+yt8JnkQPTPpb9fjX7nLTPccUPY2O9Bv4fHaScYsYblfn28HrcjJaHUtlUcqgnQIsPF3Gu74nbYyEl10SLdLMHhskvGQF4F0jx2E7EuyWXDbrf+fnRdqOxUF5GIYilFEtu2bIz/fPzHi4UQYihQoapqqRBioP5ji5eqZ/Bc7HVLgBKA888//yys9OcZiqJS4w9S4wvjDUTISXOhqBBSFVx2G83SXDhsEiluhWSXHUXVxPBmD82nRbqb/m2zmHJxW5x2yeQYJ6uJje5HL9kKaIPNVSVFHKrxG+gffQddH5L57398YSTsZmluFry1x0Aw6WqvKiKO+Xzjym3MGdbF+NljG3ebikOlN4jHaTOQWDrC5S+jC5h1xYUoipqQOKcPOvVhtv7nhgk6I8lp2LA2TXFikwTPTuqDPyyT7LLRoVmKobJ738ufmyCltw5pb7CXgxGFdllJrJnaj4is4LBJ+MNm+XR9x19TH0zIWXlkTPeEvw/QgAx1gbDp+YisktckiaMnAuyt9JHittPEriXwal/ItDlYPL7QhIrT17a6pOgbh9R2u0SnZqnGZ7TbJHJSXNjtjUj/HzJ+iJPFAOBqIcSvATfazOIRIEMIYY+eLnKBw9HXlwN5QLkQwg6kA8cbXlRV1SXAEtAkyr/3T3EOhg6LDcuaJ3VYVqn2hnj8zd0GbFJnKbdumkQwovA//9CMby7Nz+G+YV24vn9rS6tORwKVU4ftVAKo9Abxh2SDJBf7OllRTT30x67rzjU9WxoJ/9L8HOZHDZNiixScmj/ooQ/E9cLUJNnJvNfj7Ul3HdOQTit/09e6/x7dVcd+ToiHpGo2o9quWVHBadcEBgfPf5seeRn8aVhnqrwhY0c+4zINJZSd4rL06Uhx2fnyaB2PbdxNpTfIMxN7s6akiIgKbodE02StNRKR4fE3d7N8Uh9NJDGmAJ9OwBAgHFGoD8lxarr1IYXRS7Zqn6u4kAyP1q//pgG3/nuIKOo3wlNBKxgtMn76kt/nUvzHS7Wqqv9PVdVcVVVbA2OAN1VVHQe8BYyIvuwGYH30zy9FHxN9/k31XDTh+BFErT9EsstG83Q3lXVBvMEIN67cZsAms1NczLqikyG2N/7pD5h8UVtGFeYyfdAF+IIygbDM7KH59MjLMFAs0wa2QxJYkpls0XOj3mpY+9HXcaKAT47tyVPv7DN+Pm1gOw7VBowk2iMvg8kXteX6v33AJfM2MWdDGbOu6GSgtHIzPQYfQo/KKF/jjhd2MHPtJ9zQv00cAU5HOt3/Sllcv35RcSEep8TbM06hlLYfrGX7wVqWbd7P81OKeOvOS1hVUkSTZDvByKm/sqGITFjWHs+8vKP2nUVnOXe+sIOTgQjPTenL42N7WLbu/NEkfudlHclOcTFh6Yd8evgkY5/aSrX3FIggEJF5o6yCXRVegzynF1BFVZk/ssD0meaPLECKZoRwAinupilO4/HUFaUGIa4hoU0fcMeGXmD12cR7dw3ixekDzhoDuzG+3/gx8SzuAlYJIf4MbAeejv78aWC5EGIP2olizA+0vnM2FEWlLhgiGFEQaK2Ope/t567LLyQ7xUWHnBQev64H2akuk1GPPrx9fkpfymv83Pzc9rgTxfaDtbTPSSEYUSzJTI+O6c6bd1yC0yYhSSpXFrQ05gNZyU6yUpwsfGsva0rLNU7DsC60aZpsUnu949IOptOIvq6513Zl1t8/ZVFxIZnJdpZO6G30z5skO3DbJf42oReHagIkOW08M7EPSU6JTw+dNLXAKutCuBySqf/udkhEZBUhtN18bBto4oA2OG0Cl8OOLCtMX/FxXLtM92ZokeGJc6y7bdXHht+31e5ckoThC/6XUQXsqvDSIt1tDIt1qXCbJJj6i9ZckJPCit/0JSKrLHl7L5v3VeO0SaS4zGJ9KS4bEqf32ZBj9mmx0NmGhDZ9wH1jA6HCnBTXvy0L3hg/jvhBi4WqqpuATdE/7wP6WLwmAIz8jy7sZxSRiEKNP0QgrKCi6QdJAm4e3J7jvhAzL+/I+L99QHaKiwXFPVk1pS8qglBE4cgJP/Pf2IUQIm4XqnsXzNlQxu4KL11apFmSmew2ia+Pe0l125EkiVd2HGLGZZ2wSQKHTSKiyGzeVw0Q1R6SKK+pJyyrRhvlvGiijI3yGj95TZKYPTSfxzbu4pbB7Xn+g68MLapHRndHVlXqGliaLhzXk3WlB01oo1uHtDe8qmPXvrqkSOOLpLpMSTc71YWsqix7Zx/X929j+bltkmDTnQONtTZcu6yoOO3WrTtFVVlXepAb+rfBG4wwZ0MZT47taYgL1gdllGSVZKfE0O65BvlRT9gzLu9IWFaYumJb3LXXTNUG3I4EbaqjJwKmx/qswQpSmu6yGUUv1g+jMX6a0Tgx+plFrF7/CX+QSp9mYTlnw+ccPO5n+eb9qCpMX7mNYESzMe3fNouHR3cnEJaJKHD0RIAqb5CwrHL/tV2QhHXCy0p2srC4kB7np+OwCYO0BqdaOXYbzPr7pxw9GeTxjbu4uGMzJj7zIYPnv811T22lLiAzb0Q33o6Bu7708WFyM91GW0uXw44NjQeBoROlt9P0td2++mPCssptqz42FbkbV25j1hUXmtbZuqm1p4WsqKiqIDPZQftmKQCEZM1Zrv/ct1j8rwOGrEbDFpckabwQ3aCp4dptkrDUldJhujf0b8OyzfsNI6ebnttmaEXtr/JR7QtRH1J4fOMuA+48e2g+j2/cRSiiEJETqOFG22Nup42HR5nbVAvH9eTZLQeMx4vHF5pmDQ0hpU6nnZaZSbTKSqZlZlJjofiJx4+pDdUY33MoiqY4GoyoJDklfAEZIQkqTgaZeXknvIEI1w9oTSiikJ3iol1OMit/0xdvIGK4wcVCNSu9QeaN6EbTKDu64S40M9nJA6/u5L6ru6CqKi9/XM6zk/oYPtE19SFUhSgRLclSUmL6ym0sm9QHFejaMo3Hx/ZAVWHOhs+ZOKANyyf1we20WUJfj5w4tZ7yGj8ZHofp8enaPKt1pdboWhMNuEct2cqCqK+11WA+kazGPVd1ZsADb/HC1HhI8MOjCnDYJL4+Xs+Dr33J0gm9OeEPU+0LGe2xsiN1zB6ajzcYMdadlezkibE98AYi1IciOG0iTs/J0H/6hgF3hsdJVpQkmJHkIN3jYPUHXzG8MI+Si9tZQmcb49yOxpPFzyhOBkKcDER48LWd7K+q596XP6eqLsjs9Z/xy7+8w6ufHsYmJBw2ib/eUEi1N8y+Sp/BxgazwNvsofksfW8/IUWNOzXMH1nAnWt28EZZBSFZQVZVrujWgmMnA4z76/v84sG3mL5yG1XeEBlJ2p4lkaREjS/Eb1d9zFfV9YxZspXDtX7eKKvguqfeZ9D8t3n4jV00TXGaHOGapjh5cdsh4zqx0Fb9sT3Brt4pCXyhCE67xEUPvAVYD4NVThU0WbFWl7VFrU1jZTUmDmhjJNkXPjpIepLDtPbMZI1AqAsZHveFGLFoi2lArReHirpTs5JmaW7S3A7Cssrtqz62tLLVZTMSnniiuV+SBK2zkunSMp2cVBcZSQ4mX9yOLi3SaJWVTG5mUiOU9WcWjSeLn0EoikqtP0QoovDoP3cx64oLAbjnqs6Mjg6sRxXmMrxXHsfrQ/gCsiG5PX9kgZFsEjme2QQ8tnGXaQc899UvDCkM3YvabdesQuePLDAGvVNXlDJnWBeyU100TXFZ7narfSGTdlRDKYlreraMQzvVh2RG9spjTWm5kbgff3O3cc15I7rhtktxQ9gF43qybPN+BnZqRppbs19VFHj63X2m08HT7+5jxmWdAC0JV3tDJnc3Fc1VzReSeXHboTiznJsGX8DqkiKaJDsNqHHsZ14ztR/rSg8yf2RBQs+LJslO7n9lp7HuORtO+YM8MLxbwpOTrKg4bJLliee+q7sYr/2ug+jv06ioMf7zIc5FFGqvXr3Ujz766Idexo8iIhGFY3UBJAkjWUVkoqYyggPV9ZyX5jbaLcd9QY77wqS67YxYtIUVk/vw7JYDDC/Mo0NOCuNjiFcQTWwlRfR/4C3LYrJwXE9UIK+Jm0M1QUsF1VlXdEISgmS3jRP14Tj12Gc3H2B4Ya6JvBd7n7fu/P/tnXl8VOXZ97/3mT2THcIii4BC2UQgigF9FKVqXQAVWq2ASpVFrbY+LrWvVbHUtyr1cakiyNsKCgqIbbX4qLUUV6RCRKsiyKpBgYSQdTL7ud8/zsJMZpIAIQtwfz+ffDKZ5ZxrzmTu5Vp+1zlM+VOqXUunF7GnKkTXHC+14SjfV4aTsqG65nhZ9nEJFw05AadD4NQEwUiMXRUheuT7cDkEm/bUUhUIM6Bbbsqksvijb+zJyKrtsJordcvzsWl3DQO6ZrFjXyDFRdY9z8d/PfIOK2aOZPm6Eqad3QenJnA4NMLRGBluJ3EpqQhEiMQMocHE4rp5kwvpnO1B1yUxXbKvNsKe6pBdX2IF4K9MyF6zrsuy6UW4nFBWE7W1vqwYRI98D9leb7P/7w6mRami/SGEKJZSnpbuMbWzOEaJRuPsr4tQVhvhyVVf8+uL+5Prc1EVjLFrf5CuOR6Ex0nnbC/VoRgZbqN9ZW6GG7fDwbcVdXTP85HlddotSxN3GRaW7797ns/uGmelveZmuPG6BMFInGBYT9scaPb4wVQGo3Twu5n+fDGj+nTg+Z+NYH8gQnnAsP3aUb3R5YHsJ+s8VhqtaCDAHtcl0bhOaU2Y3/59IzNHn2S36Zz12kYev2ooy4p3MbxXPovW7ODOC/tTFYzRr3MmQoOfzFtrD3TLZ5zBS9MMWRKHELzw0Q57orAmjg0llXbR4OzLBvPSx99w39hBaesVXpxmZh05BJNHnphUyDh30nBWrN/BuKHdeXr1VrvfRuJ1ffbdbVxR2J3O2R527quzC/QSU5Z9bo25k4antJvVBFwxdy2v/XxUUrbS3qo6AmE32c2fKw6qRani6EJNFscYulnp7NQgpkvy/S5mjRuMUxNEYpJaM1V0zsQhRMy+14kr/Sf++TX3XDKQV4pLeHjCELJ9LnvV3pCSqKYJW1ZiQ0kls1du5JlJw8lwa4RjcVasL+GqM05MO6D3KfBTsr+OTtlGX4wxAzsnyUYAbNxdw0NXnJIi0dExy0OGWyOmp5fYcDk0nJpGx0xP+rTdhHqFm849mfJAxB7IPthcZlc+d831IoTGTxd8ZBcBzhx9EisGdbV7Skwo7GF3qLt1TF97kttTFUr7vjF39JleV1JfDysG8tx1pzN14Tq7OZM1EQG8+YuzGD+sW1JvD2uSSExZrgnFWZymX7SlslsTiidpaM2fXEiB/8gM5AfTolRxdKEiVMcQui7ZvKeGN/7zHXFprBZdDg2vyxCtE5ogFpe88LMRnJBrVDVb4mzWSn9CYQ8efH0jt47px6I1OxAcEH6b9862lKDonIlDcDs1wjGdJTecwft3nctjPxnKfa9+yU/mG6mv5w/qys59dWmDyZv21HD3Xz6nJhjjgoGdGpSJ6JGfQe+OfpZOL2L17eewcOoIsrwO/vDW18R1ncevHJpk1+NXDgUk++sixHQ9bdpuhlujS7aXey4ZiEPTuOPlzxjz6Ltc+exaenTws6c6xJXPruW7iiC1oajtPrImxLgu7Z4SiUKBPTscyOwqD0QaTI0FQ/gs3fu1BAnry2B0z/OR4XGlDVzPHH2S/Zr5kwtxaII128s5/7H3OO/Rdzn/sfdYs73cTjV2aILlM0by3p2jWT5jJD/onHXEgtYH06JUcXShdhbHEBXBMHuqQ1w+vBvVIZ24ruN2GtlNnbI8VAWjxHTdjjtYAWorGL2rIsgJOV4mFPYgy+vkrh8NwO0Uad0/PfJ9lOw3ejE4BPxy2af2MZ+6ehi3X9APl0OjvDZCnwI/D77+VYpm0jOThnPfq1+yq8KQjlhywxlsN+XC6+8SSvbXkeV1sj8Qtc/95KotbCipZNrZfXj2vW1Jwdpn39vG/WMH2avx9b8Zk9S7waFBNC6pi8TYH4gkdamzXEUPXXEKAD6Xg6kL11OQ6UnqGaEn9LPokuPlX7efQ1w34gxWZpc1wdZ/3y5T50SX6XdFcdO1l+8/kJZs7SDiDTRjyvUZAfkTcn10yfZSVhNKm1K8rzZiK992zmkZ/aWDaVGqOLpQk8UxQiQSozYUp0e+j12V4aTA5cKpp+NzOSjZH+Slj79JyeqZOfokZrxQzAUDOyEhpe91YsZQWW2YgiwP4ZhOJK4z581N3HJeP7u9akGmh2C99qhLbjiDstqwHc+wBtvacCwpFTQQjnFSJ3+KUurTVw/n6dVbuOPCH+CL6gQjcTpkum2JjRXrv+WWMf1SpCXKa41q4+55PnbtD7K3Jmy/71eKS3hg3GCjNWxW+grwLjleXr/1LDLM9rH1JTvuvqi/PfjvrgyhS0ldJM4JuR68LmfaOI7ltpo1dpBZyxFPm5G1Yv23zJ9SyLJ6n9eiNTu460cD0k4wdZE4C645zU5Y0JFJGVqW4m1lnRGjcrVg6uvx3CToWEVlQx2FJKYk+twOHJqkLiLRdYkEfvv3L5lQ2INcnwuHJsjxORFCIxiJmRk20aTeCQ5h9KNYfP0ZdvGdRfc8HytmjqQuEqcmFCPf77ZTNBOfc++lhlz3/CmFSb0iAC4Y2IlfjOmX1D3PKuyzJgtjYjodt1PDoYEuBbWhKNk+F6FoHK/TwZOrtjBmYGdyfS50KY3Vd34Gm/fU0DPPQ7bPYwdrq4NhLnpyjZ3lE4vr3JygXTVn4hB6d/Rz36tfcO+lg/jpgtSsodnjBxOJ6+RnuAGZUjjXIz/DvC7RlGOfVOBnd1XYlktPjCtsKKlk9R2jOfcP7zB/SiGf7Cxn4mk97WyoSCyOz+Wgc5aXLWW1yavzKafRJdedklk2b3IhXXM95PkONOMprQnxm79+zoTCHnTK8pDpcRKJG1LzmoBeHfxq8FYkobKhjiESUxINvaahIAX7aqPcuKSYZyYNT6nanTtpOB38TtxOF99VBFNkp/t09PPitCJkAz0nIjFDstzj1NhdFUrp65BYHZ0u5vCPjaXce+lAe4Ucjev43I4k8b2HJwwhEtfZvi+QFIh+9eYzqQ3H8Dg11mwvt4PI1useuuIUZq/caPvoY6abKdPr4b07R4MApya4ecmGtCKGt5zXlz1VoZQq6ieuGkokpnNihwycDsHVC5LF/m5b/hkvzxyJEPD06q1Jx37uwx3MGjuIp1dv4aVpReytDiVVXxvBd8O9l+tzMf/9ncx/f2fSNXvvrtE4nVqDq/Mst7vJfg8d/R5uO/8HSZPN/MmF5PtdtrS4QnGwqMniKGNfbZi/fVLCC9ePwOvU2B+IUlodtt1LHfxu24UDB7Jrlk0vQiNV8M/qVve7lV9y76WDGsx2isQNRVorYJvOBQI0WEAWiupJO45hPXKZPX4wJ3bIYEtpLYvW7ODuiwYw751tSa/L97uZ9dqXFGS5U9xT88yB76VpRWiaZOK8j1J2DhPnfcSy6UUNivnpUpLhduBOUJX1ODU6ZXv4vjLEltJaBnTJSjuJRmM6HqeWVlLD6dS4+6IBSKTRQS7BtTdn4hA7E6tTdvpCRKepFd5QYdzB9HtoyhXUnovm2rNtxytqsjhKsGTEETBuWHd+/79f8euLBxCMxDmpk5/Z4wfjdApqQ/GkQKzlX4/qssHMm7guufPC/uyrTR8Q9Tg1Nu+poXdHv51Sm9TcZ3Ih1aGo3R710R+fauskWYOn1Y/Cel1ZbZhsn5Pbl39GWW2YuZOGE4nHU3YbDg3uvqi/0abTlMWwtIoeeuMru2J54dTTWWrWDDiEwKFJKusi7KoI4tJEg/pLN7+4wU41tdJiZ40bxE/mH6ixWNpAdzcjo0mkrYT+3WWnEI7pXPNnYwc4e/xgenbIoKwmjM9lCIEPPiEbr1tL20K00xFqIdrQZNOei+bas23HMypmcRRgCQBWB2Pk+V0U7yynT0E2MxYX253r+nXONFp0uh2U1hhV2InVyh6nRrbXxU8aqOjdVRHkoTc2cf+4gUkxjZ75Pua/u50xAztzSrdsduyrY9GaHUwo7GH0m/C7yfI62VleR3kgYu8M5vz4VCrrIvZ9G0oquWBgJ+760QDKa8NIoFuuFylhW1mAJ1cZUhxWBbQVCL5/7CA0AXEJGW6NYERHQlJfjWE9clM6ys2bXIjfozHlT+v4202jCERiROOgCSMDyeUAv9vJaQ+usiudgbQxl9dvPYvKumjK7qFPxwyEEGwrC6Q8dnKBnwnmTifxWi+cOoJAOEqXbK+diRSL6ZTWhlu1hWhZTZjL536YYl97KJprz7Yd6zQWs1B1Fu2cmNk3QkrwuR343Bqn9uzAE6u+NoLEE0/B53YQ0w13ihBGrwmr89q9r35BJGZUZntcGs9MGp5Ub/DMpOFU1kWpDEbZUFLJ3NVb6dc5ky45Xvp1ziTT4+CiU7pyQo4xsFsTRa4ZeK4ORbls7homzvuI2Ss3Gt3bstwEwlHiumT2yo22n/7WMf2oMDurBSNxQjEdv8dBRzOzyapfCMd05ry1iWtH9eaBv3/J/kAUlyaoCka58tm1KY15EnWjwNgtzVxcjMfp5JnJhcR1SWl1mOue+5jzHn2X6577mNLqMHFdcsHATuT73bz1y//ivbvOpX8DLidr92BJfS9as8PuP56u5iHagC4TSGa9ZrxHC8ul1LODnxNyfa0i0Neei+bas23HM8oN1Y6JRGJsMQO+BZkefnfZYHIznGR6NGaNHQQCKgJR7nj5M7tf8wm5PtvdAgeCscumF1EVjJCT4WLh1BH2Cjuux3FoGvPe2WYP6A/8PVmQ7qWPv+EXP+yHx6nxfy4ZQMxcobscGrNXfpkyUC6cOoI7X/4MwI6jdM3x8sk35ZzaswNSSoQQ/Gvjbs4f1JX7Xv2S2eMH06fAj1MTVAajTCjskSTH/dK0IqqDcbsaOdEt1GC/57hOz3wvNaE4C95PFgJc8P527hs7iFvH9GPOW5u4/qw+XL9oPfdeOjDF5fRKcQm3jumX5Cp6zOz3LWV6116iPIlF9zwf28oCRoW9o23dKVbRXH372kPRXHu27XhG7SzaKZFIjPI6Q+htVJ8O/PHqoXTN9RCK6ewPRNm8t5ZwVLfTUa3VdUODV0yX1ITiPLVqKw5TVNDr0sj1ufG7HTx+1VCWTi/iyVVf29lOiVXdM14oRpeSmmDMXqH/dMFarh3V2+51bb2m3NwlWBIVE+d9RFyXdMnJ4OoFazlnzjtcvWAtg7rl4nZq3HPJAPp1zkQi2V0V4pInP0iR495bHWL80x8ydeE6XJpIkgO3guqJWIH5HJ8HTcC1o5Jlwq8d1RtNwMzFxVwzspcdY0lXpX7zuX1Zv2MfC6eOSJIRl4DToaU9t9flYME1pyUd5+EJQ3iluMTsPd62k4VVNJdoX3spmmvPth3PtPrOQgjRA3ge6ALowLNSyieEEPnAMqAXsBP4iZSyQgghgCeAi4E64Dop5SetbXdroeuS6lCYQFgnpksKMj386uIfsD8Qxe104EDgcmr0yM9AaILnrjudBe9tT1pdp1uVAeRmuFizvZwpo3pxQq6HYERnb3WQm178lKXTiyivjaSkxRZkehjYNZs//nQY0bhMybSytIisTKPEzKjE87scGnl+d1KBmDXgZvucROOSqmCMTtleLhjYKaWOozwQsTWZ4lIa9R7msTQhUjKlrAplXTdW/+lcRVasJrEt64aSSl7d8F2SmOHTq7dw7ajeuJ3GAB+J6zzyphFP6ZTpSVup3NHvoaPfw9LpRZTVhMn0OAlF40wo7GGn7bYl7blorj3bdjzTFm6oGHC7lPITIUQWUCyEeBu4DlglpXxICHE3cDfwK+AioK/5cwbwjPn7mMJqd6qjAwfqBRZOLSQUlWR6HOytDuNxCsJRPWlgfGZSIQVZhtTD7qpg2oym0mpDEG/h1BG4nIJQROeWFzdQVhtm3uRCQtE4uRmupInGChxbBWur7zgn7a4lURdp3uRCvK4DvaOt+zK9gohuTHJ2kNkp8DigOhjjl8sODLZzJw0HSHKFvbrhO+6+qL+9A7hgYCfuvmgAVcGo3fM6qVI5y4PTKSgPRIg3UD8SN11Fjnqd8BoSM3zuutPtQDjAPZcMbLQWAkATglte2pCaGuto+019c/tVtCTt2bbjlVb/j5VS7rZ2BlLKGuAroBswHlhkPm0RcJl5ezzwvDRYC+QKIbq2stktiq5LNu2p5t5XP6eyLko4GrdVQuuikrg0elDcuLgYv9uZsrq/cUkxgYjOnIlDeO7DHbbEg+UyyXA7yPO7cDs1hIDKIGLzCQAAHJNJREFUgNEx7smfDmXFzJHkZ7hwOYyCu6euHmbvRG4d0zcpcByLy7Qul645Xlb99zm8NK2IvAwXL6/7lnsvHciKmSNZcsMZ5GY4qQnqrN64x6zQFridGqs37qE2rNu6Utb7uWnJJ9x5YX9WzBzJ0ulFLFqzg3FDT0hqW/qPjaVc8+ePKa0JE4npvPjRTrrn+SjIMuoWVqz7llBEJxKLN9ij2yEED084oJVkPaehjn1WC1Pr9U5rQqjXezpxBZxhyoQnulTmmoq8bUFiD/aymjC6fuxlQypahjYNcAshegHDgH8DnaWUu8GYUIQQncyndQNKEl62y7xvd71jTQemA/Ts2bNF7T5S6Lqkoi5MXMLe6jD3jx1EIBKjKhglGNXpmOk2mxRpeFxGEVdD3c8E8Mibm7l1TF86ZXnI9hoV1UKAx6nhcgi2lwWS6h+evnoYDk1LCtw++uNTmTNxCJoQdM5O1kxa8N72lP4Iz5jqrSUVQbrlekEIJhX1QmKsqnUpefKfW/n5mJOZtXITs1Zust1JA07IbbgPthDk+d3E4jo3nXsymZ70Qez+XbIQkLYKelJRL3xuJzFdT7vb0jTBH97azP+5eAAFWR57Ys1toKd4ZV3Uvv3M5EIyvU0HXAPh9DLhv/hhX3Izmnz5EUXVLyiaQ5tNFkKITOAV4JdSymrRcMAv3QMpyyEp5bPAs2DUWRwpO1uKaDROTSRKOCbRhOTkTplIIBozMoXuSDOoz165MW22Tvc8Q6V0Q0klUxeu4/27RuNxarZOks+lUR2KJ63Md1UE2R+Ipqit3v7yZ3YMYvUd5ySda3nxLvIynHbDHE0InA5jQuqe58PtMHSddtUEU7SSrNV9QabH7nJXkOlhjtnbuv77+XZ/HVMXrrMzjzKytLTPK9lfR6+O/gYrzzv43ZRU1PHIm5vTyn3cc8kAygMRXl5fwpiBncnSnGR7nSlxiPlTCsn3u3n3ztFoQuBxadSG4kRi4Ub96W6nI61MyZ3O/s3/JzpEVEMiRXNok8lCCOHCmCiWSCn/Yt69VwjR1dxVdAWsCOcuoEfCy7sD37eetUcWXZfURsJE4xCM6GY/ZMF3lcbKPNPr5MHXNyYNbJGY5LblxUnZOvW1nxa8tx0wBiIpobQ2RGlNxD7GCbm+lJV5htuRdrVuSV07zayjxBX56P6dbQ0mMGbtfbVRrntuHQ9PGMKiNTuYemZvW4V2V4UhKbJ8RhEvXH86LoeDPVUhHrriFDK9Th55M1W63BIZtHYgQhgtX9PtDgAEMu1jbnMAdzlEg3Iffo/TdoOt2V5uBKczjX7giXGIPJ+LimAUzQn7AhFmLCg+qNV5B7+bl6adYS4KjFiNxynaJLNH1S8omkNbZEMJ4E/AV1LK/0l46DXgWuAh8/erCff/XAixFCOwXWW5q442YjGdQCSC0OD7yjA3mhXYVvWxtWuorzX0zKTh9uCbKHndv0sWmhAsTmjxOX9yIQjDBZSoR/TStFTJioZ0nLrlWX2atST3TF0kTobbwY2LP0lSi33oilOSMqOs92INzrsqgnhdGuWBKDcuXpc0oJfVRJIkvLvmePn5ixsAkvpsr5g5Mu3u4O6L+vPEP7cy7Zw+KQFuKWDz3ho6ZbnTyn143RpdcxoOTtdfbRdkeSirOSD/br23xlbnum5keaUoxGbLVnf91K9fGNYjl1vH9CUujTiGyjhSNEZbRNnOBKYA5wkhPjV/LsaYJM4XQmwBzjf/BvhfYDuwFVgA3NQGNjebUChGdTiCLqEmqNv9CxKrj3N9LtwOLSXN88Yln3DrmL72saxKZ12X7KkKce2ZvXn3ztEsueEMYrqOx9Q8SjxGdSiaUj+Q53cxv14HuWcmDcfj1IjrknBU55Od+wFjoOzbOZNZr220Jwrr2C4zs8d6D9Zvi+55PoKRA+/Zeu6dK4zubkn1GNJoCztz9ElJ16E8ELF3B1c+u5YZLxRTVhumMhhlefEuVqz7lpM6ZSYFuEv2GwO5EIIOpj6TFfTvkHlAzruh4HQ6DnV1XlobTuk9PnNxMaWmBlZrkli/YGW63fvqF5z9yDtcPvdDNu+tUQFvRYO0+s5CSvkB6eMQAGPSPF8CN7eoUS1IJBKjNhojFjdSYXdXhY2GO6bYX99Omdx76UDmvbONymAUryu9a+jEDhlJ6agPTxjC79/4il+M6UeOV+ODbZXMe2cbZbVhltxwRtpjvFJckrQyn7t6Kw+MN5rwRGJGXceK9d9ydVEvwrE431WEOLFjJnWRuDEJodlCfxbd83xUBqNJtxNrLazdTkOB7PqTikvTmD+lkGAkeVBO536z3FXd83xcOrQ7v1t5oPL88SuH8uDrX7GrIkgwEqdXBz9ZXlez8/YPtbo4Gk/f1S4W19M+/1BpSp21/uN9CzLtndSVCfpaKn6haAol99GChEIxgnqM/YEoupQ4NY0nVn3NA+MHM2vcQPYHopTVhHE7NO4fN5AX137LzNEnpR2Mvq8Msvj6M6gKRumQafi7rxnZiydWfc3UM3vbE8XcScORaVp1ppOsmDtpONG45F8b9zBr5SZ7YA9F4+wPRPC5HXQ0XS+WC6qxAduKWcybXIguJatuP4dvy+v4zd++sFNy67+vxEnl4QlD0AT8oFMWe2pCSc/fUFLJojU7zO5yEpdDw+0SPHX1MIQQFO/cx31jBzH97JMoD0R48PWvbE0qt9NxxPL2D7VdqMuRPjB/JOosmspuauzx3VVBFb9QHBJKdbYF0HVJMBKmJixxOwWhqNGXuWOmm0hc4nQIdu4LpA3WvrNpL+OGdk/qKmcNwveNHQTA/kCE+1/9Milu8MLPRvB1aS2DumbxW1POInFQnze5kNVf7aVf12w7NqBLicMhEBjig0aqq873lSG8LgeZHidxXcfnNoLu940dxAtrdjDxtJ44NIEEQpE4WV4nToeGEBJdhwfMTn2J6q0f33Mee6sjSe1D500upFOWhx37Anar0wcvH0JBlodYTGdzaU1Se9iGAsnWoPjY25tT3ndLpIYeSq+FaDTOptLalJav/Ttl4nI1T+uoKXXWxh4HlLKrIgXVKa8V0XVJIBImEjcUSWtCRle4PL+Lumicnfvq6N3Rn7YJ0UvTiri6qBdup0iSm1i0Zge/+GE/fpsg8Pf01cNZsvYblhfvYldFkMpglNkrN7Jw6un8Y2MpZTWRJJeTyyF49J9bDqSyagKpg9sh2FsV4ZI/fpA0aV0+dw1gDCBLbjiDCYU9yHBrXDq0O1MXrksa+DK9DvL9XspqwtREovxjYynXn9UnaSD6w5tf88vzT+alaUbPCyvtFiG58tm1KSt0p1NjQJfsg5J8sOQhHrx8CLqus3zGSKSULSYTcSi7lMpQjJWf7kqqs1ix/lu6nH0yBc2cLJqKnzT2eNcc3yHtkBQKNVkcIYxJIoKGRJewu9IIbCZmO1lfysUNxBTCsThuh4bfo6EhcDu9dMry8MD4wdz/6hdJAn83v/gJz/9sBFtKaymrDZPlddnVyN3zfHbQGA70t142vcjOIvqfK4fi9zioCUX5zd++sI9rdc5bffs57KuNkJPh5Ol/bWXN9nKWTi9KCVLfuLiYpdOLyPcbg1Ncl0mxi/o1GlNG9barZCTgEIIPf3Vu2oH9UAbl9ioPEYnF0xYMXjOqd7OP3VT8pKnHPU4tKYPM0wrS6IqjFzVZHAGi0TiReJRAWJLlEQRCuh0bsFJJEwfYPVWhtF/ifbUReuT5qAnF0fUDXey652ek7Xu9PxDh1jF9cTs1/G6N3h0zqIvEmT+lMMl9M2fiEO5a8Z8kt9XOfQHAqLWof9xQNM51z61jzsQhROOSyqAhh1G/j4T1fCuDxu108PyaHcydNJyn/rUlJb4xblh3e3UNRpZDXkbTGUhHgrZq09mScttNxU8ae7w8EEnRv1JuKEVjqMmimUQiMaJ6jOqQTrZXY3t5GL+Z7WToDWWwcOrp7KkK8eg/vmZDSSUPv7GJZyYXJvmxH/vJqeT53cSlpCoQ5b6EmMTbt52ddsApD0Q4qcDPI29u4r6xg6gIRAhFdXIznPaKUYLdXMh63cMThvCHtzbbwnz1VWP3VIXsXcbs8YOZNW4wXpdGOKqntcNKne3gd3PZ8B787ZMS7rywP16XxrLpRUjAk1DYpmst5yJKR1vKXBxqQPxQaEqdtbHHVYGe4lBRk8VhEovp7AuEkbbyiGBfIM6+mjAFXbOYNW4gdZG4rdhq6S499MYmymrDhCJxXrh+BA4hEELgdAgyPYKKOp0//mtLUi3DivXfpvRptoLePx1xIlPP7I2GIR/+ws9GMKXeivHlGSPtyaMyGOUPb222axR2VSSrxlo2gjF4ZLgdSCnJ93uoCoZSdi3zpxSS4UkenG44++QGV/BtsWotD0R47O3kgr7H3t5sB9NbEk0T9C3IZPmMkUltU4/UJNWU+62hx1WDIcWhorKhDoNYTKcsEAIMl0pcN5r2PGxOBMumF/H13tok3SUwvoyzxw+mIMuDUzMa5/jdDnQJmV6N6/5czO8uH5zS73ne5EK65XmoDsYpqwlTHojwSnEJt5zXl1BUN3psuxxs2VtLbobLDk5bDOuRy2/HD0qSNU+cuBZOHYHbIexe2InuqtnjBzO4Ww4FWR50XbK3JkgsTlKQunOWr11X/u6tCrK1gT7ZVh/slqK9ive1V7sUbYvKhjqChEIxQnqMaFwSi+t2xtIrxSXcfVF/HnpjE+GY3qDuUp8CP9G4jsuh4XEKbly8wXYHzR4/mAyXgyfWfG3LX+T73Tg0+P3rm6kMRrh/7CA6Z3sYNHYQmoBwTCcW13FoRlMeS9cp8dxltWE6ZnnsTKTdVSF7ojAUZuGEHB+BSDzJXTVn4hA6Z3vJ87koqwkTicXxexzUSR3dLDIs8LdOzAEOP+4Qb6D50fIZI1va5HYr3qcaDCkOFTVZHCShkFGJrWkQ16GyLpok1f3whCH86YPtzBx9Et9XBonG0/dgdmgCh+agLhLjl0s/T3IH9eqYwdJ/f8NvLh0I0vhC61Ly1CojG2n+5EJcmuA3rxp1DJZLxajMHsSMF4oZ1iM3RVRv3uRCO5vqgoGduPfSQTzx06E4hMDndpDrc9uDx19uGkUoquMQ4HM7yPa42FJWy7Tn16fN7Gqt1WhzVsKygeZHrbGrbs+xgfaaQaZonyg31EEQCsWIE6MyqNuy34lSCWBMBJZP/E8fbOeuH/WnrCacNLA+O6UQKSUzFidPMlYMYfmMIpDwXWUIXUp0abi4vC4HXXO8dM3xsbcmyPayuhSXSs98H//1yDt0z/Px/M9GkOl1Eo3pSYqph7OCTCzsmj+lMKnQznrfrbFKbqoAraVe21xKa0JcMXdNyrn/ctMoOmV5W/TcCsWhotxQzSAUihHWY3xbEbazl1bMHJl2tdjB76YmFOPaUb15ed23XHtmb5ZOL0LXJW6nxnMfbOfHp/fkDz8+lYIsD9+W19kTxTyziVBcGums9Su4nZpA0wQOTWPRmh1JwdpFa3bwwLjBDdYrwOEHlhNXxol9vhPfd2uskiOxuK2nZb3vee9sO6hzt2RGUlOkk3mfM3GI3WVPoThaUJNFI4RCMfaHIkhJUjFaeSCS1sVUkOWhIMtDbTjG1UW9yHBrfFcR5jd/+8KeEPL9LjxOB04H9OucyRNXDUXTBG6nwKVBIKjz2qe7UiaDBy83Kqs7+j3cdv4PUga+ztneFnEFJWbN1C+0s953a2TQ+NyOFBfYnIlD8LmbPndb+ueDkXhaafWnrh4G/hY/vUJxxFBuqAYIhWKU1oWprIsSielMnPeR/diwHrlJvRYsUb4TcrwEIkYVttctGPbbVbbsdyiq43Fp5JurWY9TEI5JoglqrzecfTJ5PleTmkitWWCWGCtoy5jF0erOaUsXmEJxqDTmhlKTRT1iMZ2y2jBOh6AmFOOaP3/MvZcOTPHVW4Hi7yuD1EXi9Mz3kZvhIhTV+eSbcm5Z+h/7uVYc4fbln/H4VUMRQGlN2FZGtfjwV+fSLS+jzaqNGyLRHp/bQUyXdjyktWz7rqKOMx9enXK/dc3aKypFVXE0oWIWB0koFGNbeYAZpt7R/kCEXRXpW5neMqYfXpdG1xwvTodGjldw2/LPuf6sPkkTBRh+/apglLJao5dFLC7tVp4W3fN8WH3I21uWSnuw52gtIlMpqopjBTVZmEQiMfYGwnZgOW6upi1RvsTWn11yvDg08LpASgd7qkNE4k7uHzsISWovie55PirrokZ/Z7+HsppQyuTz8IQhONT40SBtGaRuLu1hslUomstRIzMphPiREGKzEGKrEOLuI338skCEspqwPci7NMErxSV2K1KrlanP5cClCTLcGnuro4RicbI8TsqqI7gcApcmmD8luVXp/MmFnNojx3Y9aAkZTcumF3HvpQNZtGYHmnbUfBytTuIK/cNfnctfbzpTuXIUilbkqNhZCCEcwNMYvbl3AeuEEK9JKTceqXPEEnYSuyqC5Pg0bh3TjydXHaimLsjykJvhYFdFmMyYk5fXfcv893faNRQdM73mKtLbqNuhg9+dNqPpaFgltyVqha5QtB1HRYBbCDESmCWlvND8+9cAUsrfp3v+4QS4v6uo44G/f5nUae3LWWOSCvFyfRrldXEcQpDj06iLctiB3vYWxFYoFIpjIcDdDShJ+HsXcEbiE4QQ04HpAD179jzkExT43dwyph9/TNhJ7K/T8TgEMbP/QkxCl0wPbrdx2TKbkbGpVskKheJo4miZLNItuZO2RFLKZ4FnwdhZHOoJ3G4nPyjwc//YQfZOomOGm+pIHKfZfyHLo1b/CoXi+ORomSx2AT0S/u4OfH+kT+J2O+nmTr4kBZ6j5RIpFApFy3G0pN+sA/oKIXoLIdzAVcBrbWyTQqFQHDccFctmKWVMCPFz4C3AAfxZSvllG5ulUCgUxw1HxWQBIKX8X+B/29oOhUKhOB45WtxQCoVCoWhD1GShUCgUiiY5KoryDhUhRBnwzSG8pCOwr4XMaQ7t1S5ov7a1V7ug/drWXu0CZdvh0By7TpRSFqR74JicLA4VIcT6hqoW25L2ahe0X9vaq13Qfm1rr3aBsu1waCm7lBtKoVAoFE2iJguFQqFQNImaLAyebWsDGqC92gXt17b2ahe0X9vaq12gbDscWsQuFbNQKBQKRZOonYVCoVAomuS4nixauvteI+fdKYT4XAjxqRBivXlfvhDibSHEFvN3nnm/EEI8adr4HyHE8ITjXGs+f4sQ4trDsOPPQohSIcQXCfcdMTuEEIXm+9xqvvagJXsbsG2WEOI787p9KoS4OOGxX5vn2SyEuDDh/rSfsakz9m/T5mWm5tjB2NVDCLFaCPGVEOJLIcQv2sN1a8Su9nDNvEKIj4UQn5m2PdDY8YQQHvPvrebjvQ7X5mbYtlAIsSPhug0172/t74FDCLFBCLGyza+ZlPK4/MHQmNoG9AHcwGfAwFY6906gY737HgHuNm/fDTxs3r4YeANDpr0I+Ld5fz6w3fydZ97OO0Q7zgaGA1+0hB3Ax8BI8zVvABc107ZZwB1pnjvQ/Pw8QG/zc3U09hkDy4GrzNvzgBsP0q6uwHDzdhbwtXn+Nr1ujdjVHq6ZADLN2y7g3+a1SHs84CZgnnn7KmDZ4drcDNsWAhPTPL+1vwf/DbwIrGzsM2iNa3Y87yxGAFullNullBFgKTC+De0ZDywyby8CLku4/3lpsBbIFUJ0BS4E3pZS7pdSVgBvAz86lBNKKd8D9reEHeZj2VLKj6TxX/t8wrEO17aGGA8slVKGpZQ7gK0Yn2/az9hc2Z0HrEjzPpuya7eU8hPzdg3wFUZzrja9bo3Y1RCtec2klLLW/NNl/shGjpd4LVcAY8zzH5LNzbStIVrteyCE6A5cAvw/8+/GPoMWv2bH82SRrvteY1+uI4kE/iGEKBZGhz+AzlLK3WB88YFOTdjZUvYfKTu6mbePtH0/N7f/fxamq+cwbOsAVEopY82xzdzqD8NYjbab61bPLmgH18x0p3wKlGIMpNsaOZ5tg/l4lXn+Fvku1LdNSmldtwfN6/aYEMJqa9man+fjwF2Abv7d2GfQ4tfseJ4smuy+14KcKaUcDlwE3CyEOLuR5zZkZ2vbf6h2tIR9zwAnAUOB3cCjbWWbECITeAX4pZSyurGntqZtaexqF9dMShmXUg7FaFw2AhjQyPHa1DYhxGDg10B/4HQM19KvWtM2IcSlQKmUsjjx7kaO1eJ2Hc+TRat030uHlPJ783cp8FeML89ec8uK+bu0CTtbyv4jZccu8/YRs09Kudf8YuvAAozrdji27cNwHzjr3X9QCCFcGAPyEinlX8y72/y6pbOrvVwzCyllJfAOhr+/oePZNpiP52C4JFv0u5Bg249Mt56UUoaB5zj863a4n+eZwDghxE4MF9F5GDuNtrtmjQU0juUfjF4e2zGCPlaAZ1ArnNcPZCXcXoMRa5hDcoD0EfP2JSQH1D6WBwJqOzCCaXnm7fzDsKcXyUHkI2YHRofDIg4E9i5upm1dE27fhuGLBRhEchBvO0YAr8HPGHiZ5EDhTQdpk8DwOz9e7/42vW6N2NUerlkBkGve9gHvA5c2dDzgZpKDtcsP1+Zm2NY14bo+DjzUht+D0RwIcLfZNWuTgbq9/GBkNnyN4T+9p5XO2cf8YD4DvrTOi+FfXAVsMX9b/2gCeNq08XPgtIRj/QwjYLUVmHoYtryE4ZqIYqw0rj+SdgCnAV+Yr3kKswi0Gba9YJ77PxhtdRMHwnvM82wmIdukoc/Y/Bw+Nm1+GfAcpF1nYWzX/wN8av5c3NbXrRG72sM1GwJsMG34ArivseMBXvPvrebjfQ7X5mbY9i/zun0BLOZAxlSrfg/M14/mwGTRZtdMVXArFAqFokmO55iFQqFQKA4SNVkoFAqFoknUZKFQKBSKJlGThUKhUCiaRE0WCoVCoWgSNVkoFAqFoknUZKFQJCCEqG36We0XIcRlQoiBbW2H4thDTRYKxbHFZRiy1ArFEUVNFgpFGswmN3OEEF+YjWuuNO/PFEKsEkJ8Yt4/3ry/lzAaDy0wm+j8Qwjha+T404QQ68ymO68IITLM+xcKIZ4RRiOj7UKIc0y12K+EEAsTXl8rhHjQfP1aIURnIcQoYBwwRxgNe05q0YukOK5Qk4VCkZ4rMJRaTwV+iDEAdwVCwOXSUA0+F3g0ofNZX+BpKeUgoBKY0Mjx/yKlPF1KeSpG74nrEx7LwxCOuw34O/AYhsbPKcLs2IahK7bWfP17wDQp5RoMSY87pZRDpZTbmncJFIoDqMlCoUjPWcBL0lBs3Qu8iyFXLYD/K4T4D/BPjB4Anc3X7JBSfmreLsYQQmyIwUKI94UQnwOTMCYDi79LQ4fnc2CvlPJzaajGfplwzAiw8iDPpVA0G2fTT1Eojksa6pM8CUOptFBKGTUlpL3mY+GE58UxVEwbYiFwmZTyMyHEdRhicRbWcfR6x9Q58J2NygPCbnHUd1nRwqidhUKRnveAK80uagUYPcE/xugTUGpOFOcCJx7m8bOA3WYPiklHxGKDGvPYCsURRU0WCkV6/oohW/0Zhlz1XVLKPcAS4DQhxHqMQX7TYR7/Xoy2p2834xjpWArcKYTYoALciiOJkihXKBQKRZOonYVCoVAomkQFxRSKFkQI8TRGP+VEnpBSPtcW9igUh4tyQykUCoWiSZQbSqFQKBRNoiYLhUKhUDSJmiwUCoVC0SRqslAoFApFk6jJQqFQKBRN8v8B3k03f6jyWCMAAAAASUVORK5CYII=\n",
      "text/plain": [
       "<Figure size 432x288 with 1 Axes>"
      ]
     },
     "metadata": {
      "needs_background": "light"
     },
     "output_type": "display_data"
    }
   ],
   "source": [
    "sns.scatterplot(data['loan_amnt'] , data['installment'])"
   ]
  },
  {
   "cell_type": "code",
   "execution_count": 9,
   "metadata": {},
   "outputs": [
    {
     "data": {
      "text/plain": [
       "<matplotlib.axes._subplots.AxesSubplot at 0xd2042a9508>"
      ]
     },
     "execution_count": 9,
     "metadata": {},
     "output_type": "execute_result"
    },
    {
     "data": {
      "image/png": "[encoded data removed]",
      "text/plain": [
       "<Figure size 432x288 with 1 Axes>"
      ]
     },
     "metadata": {
      "needs_background": "light"
     },
     "output_type": "display_data"
    }
   ],
   "source": [
    "# Loan status vs loan amount\n",
    "\n",
    "# Is Loan amount a factor for defaulting the loan ?\n",
    "# Higher the loan amount,higher the risk of default\n",
    "\n",
    "sns.boxplot(data['loan_status'] , data['loan_amnt'])"
   ]
  },
  {
   "cell_type": "code",
   "execution_count": 10,
   "metadata": {},
   "outputs": [
    {
     "data": {
      "text/html": [
       "<div>\n",
       "<style scoped>\n",
       "    .dataframe tbody tr th:only-of-type {\n",
       "        vertical-align: middle;\n",
       "    }\n",
       "\n",
       "    .dataframe tbody tr th {\n",
       "        vertical-align: top;\n",
       "    }\n",
       "\n",
       "    .dataframe thead th {\n",
       "        text-align: right;\n",
       "    }\n",
       "</style>\n",
       "<table border=\"1\" class=\"dataframe\">\n",
       "  <thead>\n",
       "    <tr style=\"text-align: right;\">\n",
       "      <th></th>\n",
       "      <th>count</th>\n",
       "      <th>mean</th>\n",
       "      <th>std</th>\n",
       "      <th>min</th>\n",
       "      <th>25%</th>\n",
       "      <th>50%</th>\n",
       "      <th>75%</th>\n",
       "      <th>max</th>\n",
       "    </tr>\n",
       "    <tr>\n",
       "      <th>loan_status</th>\n",
       "      <th></th>\n",
       "      <th></th>\n",
       "      <th></th>\n",
       "      <th></th>\n",
       "      <th></th>\n",
       "      <th></th>\n",
       "      <th></th>\n",
       "      <th></th>\n",
       "    </tr>\n",
       "  </thead>\n",
       "  <tbody>\n",
       "    <tr>\n",
       "      <th>Charged Off</th>\n",
       "      <td>77673.0</td>\n",
       "      <td>15126.300967</td>\n",
       "      <td>8505.090557</td>\n",
       "      <td>1000.0</td>\n",
       "      <td>8525.0</td>\n",
       "      <td>14000.0</td>\n",
       "      <td>20000.0</td>\n",
       "      <td>40000.0</td>\n",
       "    </tr>\n",
       "    <tr>\n",
       "      <th>Fully Paid</th>\n",
       "      <td>318357.0</td>\n",
       "      <td>13866.878771</td>\n",
       "      <td>8302.319699</td>\n",
       "      <td>500.0</td>\n",
       "      <td>7500.0</td>\n",
       "      <td>12000.0</td>\n",
       "      <td>19225.0</td>\n",
       "      <td>40000.0</td>\n",
       "    </tr>\n",
       "  </tbody>\n",
       "</table>\n",
       "</div>"
      ],
      "text/plain": [
       "                count          mean          std     min     25%      50%  \\\n",
       "loan_status                                                                 \n",
       "Charged Off   77673.0  15126.300967  8505.090557  1000.0  8525.0  14000.0   \n",
       "Fully Paid   318357.0  13866.878771  8302.319699   500.0  7500.0  12000.0   \n",
       "\n",
       "                 75%      max  \n",
       "loan_status                    \n",
       "Charged Off  20000.0  40000.0  \n",
       "Fully Paid   19225.0  40000.0  "
      ]
     },
     "execution_count": 10,
     "metadata": {},
     "output_type": "execute_result"
    }
   ],
   "source": [
    "data.groupby('loan_status')['loan_amnt'].describe()"
   ]
  },
  {
   "cell_type": "code",
   "execution_count": 11,
   "metadata": {},
   "outputs": [],
   "source": [
    "# Loan status based on grade assigned by company "
   ]
  },
  {
   "cell_type": "code",
   "execution_count": 12,
   "metadata": {},
   "outputs": [
    {
     "data": {
      "text/plain": [
       "array(['B', 'A', 'C', 'E', 'D', 'F', 'G'], dtype=object)"
      ]
     },
     "execution_count": 12,
     "metadata": {},
     "output_type": "execute_result"
    }
   ],
   "source": [
    "data['grade'].unique()"
   ]
  },
  {
   "cell_type": "code",
   "execution_count": 13,
   "metadata": {},
   "outputs": [
    {
     "data": {
      "text/plain": [
       "array(['B4', 'B5', 'B3', 'A2', 'C5', 'C3', 'A1', 'B2', 'C1', 'A5', 'E4',\n",
       "       'A4', 'A3', 'D1', 'C2', 'B1', 'D3', 'D5', 'D2', 'E1', 'E2', 'E5',\n",
       "       'F4', 'E3', 'D4', 'G1', 'F5', 'G2', 'C4', 'F1', 'F3', 'G5', 'G4',\n",
       "       'F2', 'G3'], dtype=object)"
      ]
     },
     "execution_count": 13,
     "metadata": {},
     "output_type": "execute_result"
    }
   ],
   "source": [
    "data['sub_grade'].unique()"
   ]
  },
  {
   "cell_type": "code",
   "execution_count": 14,
   "metadata": {},
   "outputs": [
    {
     "data": {
      "text/plain": [
       "<matplotlib.axes._subplots.AxesSubplot at 0xd2042f65c8>"
      ]
     },
     "execution_count": 14,
     "metadata": {},
     "output_type": "execute_result"
    },
    {
     "data": {
      "image/png": "[encoded data removed]",
      "text/plain": [
       "<Figure size 432x288 with 1 Axes>"
      ]
     },
     "metadata": {
      "needs_background": "light"
     },
     "output_type": "display_data"
    }
   ],
   "source": [
    "sns.countplot(data['grade'] , hue=data['loan_status'])"
   ]
  },
  {
   "cell_type": "code",
   "execution_count": 15,
   "metadata": {},
   "outputs": [
    {
     "data": {
      "text/plain": [
       "<matplotlib.axes._subplots.AxesSubplot at 0xd2740f0148>"
      ]
     },
     "execution_count": 15,
     "metadata": {},
     "output_type": "execute_result"
    },
    {
     "data": {
      "image/png": "[encoded data removed]",
      "text/plain": [
       "<Figure size 864x576 with 1 Axes>"
      ]
     },
     "metadata": {
      "needs_background": "light"
     },
     "output_type": "display_data"
    }
   ],
   "source": [
    "plt.figure(figsize=(12,8))\n",
    "sns.countplot(data['sub_grade'],hue=data['loan_status'])"
   ]
  },
  {
   "cell_type": "code",
   "execution_count": 16,
   "metadata": {},
   "outputs": [
    {
     "data": {
      "text/plain": [
       "<matplotlib.axes._subplots.AxesSubplot at 0xd2043a4f88>"
      ]
     },
     "execution_count": 16,
     "metadata": {},
     "output_type": "execute_result"
    },
    {
     "data": {
      "image/png": "[encoded data removed]",
      "text/plain": [
       "<Figure size 864x576 with 1 Axes>"
      ]
     },
     "metadata": {
      "needs_background": "light"
     },
     "output_type": "display_data"
    }
   ],
   "source": [
    "plt.figure(figsize=(12,8))\n",
    "subgrade_order = sorted(data['sub_grade'].unique())\n",
    "sns.countplot(data['sub_grade'],hue=data['loan_status'] , order=subgrade_order )"
   ]
  },
  {
   "cell_type": "code",
   "execution_count": 17,
   "metadata": {},
   "outputs": [
    {
     "data": {
      "text/plain": [
       "array(['Fully Paid', 'Charged Off'], dtype=object)"
      ]
     },
     "execution_count": 17,
     "metadata": {},
     "output_type": "execute_result"
    }
   ],
   "source": [
    "# Creating a feature loan_repaid which represents fully_paid as 1 and charged_off as 0\n",
    "\n",
    "data['loan_status'].unique()"
   ]
  },
  {
   "cell_type": "code",
   "execution_count": 18,
   "metadata": {},
   "outputs": [],
   "source": [
    "# Encoding label \n",
    "\n",
    "data['loan_repaid'] = data['loan_status'].map({'Fully Paid':1 , 'Charged Off':0})"
   ]
  },
  {
   "cell_type": "code",
   "execution_count": 19,
   "metadata": {},
   "outputs": [
    {
     "data": {
      "text/plain": [
       "array(['Fully Paid', 'Charged Off'], dtype=object)"
      ]
     },
     "execution_count": 19,
     "metadata": {},
     "output_type": "execute_result"
    }
   ],
   "source": [
    "data['loan_status'].unique()"
   ]
  },
  {
   "cell_type": "code",
   "execution_count": 20,
   "metadata": {},
   "outputs": [
    {
     "data": {
      "text/plain": [
       "array([1, 0], dtype=int64)"
      ]
     },
     "execution_count": 20,
     "metadata": {},
     "output_type": "execute_result"
    }
   ],
   "source": [
    "data['loan_repaid'].unique()"
   ]
  },
  {
   "cell_type": "code",
   "execution_count": 21,
   "metadata": {},
   "outputs": [
    {
     "data": {
      "text/plain": [
       "<matplotlib.axes._subplots.AxesSubplot at 0xd20334df88>"
      ]
     },
     "execution_count": 21,
     "metadata": {},
     "output_type": "execute_result"
    },
    {
     "data": {
      "image/png": "[encoded data removed]",
      "text/plain": [
       "<Figure size 432x288 with 1 Axes>"
      ]
     },
     "metadata": {
      "needs_background": "light"
     },
     "output_type": "display_data"
    }
   ],
   "source": [
    "# Bar plot\n",
    "\n",
    "data.corr()['loan_repaid'].sort_values().drop('loan_repaid').plot(kind='bar')\n",
    "\n",
    "\n",
    "# Interest rate is in high negative correlation with loan repaid - High interest rate leads to loan default"
   ]
  },
  {
   "cell_type": "markdown",
   "metadata": {},
   "source": [
    "# DATA PREPROCESSING"
   ]
  },
  {
   "cell_type": "code",
   "execution_count": 22,
   "metadata": {},
   "outputs": [
    {
     "data": {
      "text/plain": [
       "loan_amnt                   0\n",
       "term                        0\n",
       "int_rate                    0\n",
       "installment                 0\n",
       "grade                       0\n",
       "sub_grade                   0\n",
       "emp_title               22927\n",
       "emp_length              18301\n",
       "home_ownership              0\n",
       "annual_inc                  0\n",
       "verification_status         0\n",
       "issue_d                     0\n",
       "loan_status                 0\n",
       "purpose                     0\n",
       "title                    1755\n",
       "dti                         0\n",
       "earliest_cr_line            0\n",
       "open_acc                    0\n",
       "pub_rec                     0\n",
       "revol_bal                   0\n",
       "revol_util                276\n",
       "total_acc                   0\n",
       "initial_list_status         0\n",
       "application_type            0\n",
       "mort_acc                37795\n",
       "pub_rec_bankruptcies      535\n",
       "address                     0\n",
       "loan_repaid                 0\n",
       "dtype: int64"
      ]
     },
     "execution_count": 22,
     "metadata": {},
     "output_type": "execute_result"
    }
   ],
   "source": [
    "# Check for missing data\n",
    "\n",
    "data.isna().sum()"
   ]
  },
  {
   "cell_type": "code",
   "execution_count": 23,
   "metadata": {},
   "outputs": [
    {
     "data": {
      "text/plain": [
       "<matplotlib.axes._subplots.AxesSubplot at 0xd2033c3fc8>"
      ]
     },
     "execution_count": 23,
     "metadata": {},
     "output_type": "execute_result"
    },
    {
     "data": {
      "image/png": "[encoded data removed]",
      "text/plain": [
       "<Figure size 432x288 with 2 Axes>"
      ]
     },
     "metadata": {
      "needs_background": "light"
     },
     "output_type": "display_data"
    }
   ],
   "source": [
    "sns.heatmap(data.isna() , yticklabels=False)"
   ]
  },
  {
   "cell_type": "code",
   "execution_count": 24,
   "metadata": {},
   "outputs": [
    {
     "data": {
      "text/plain": [
       "loan_amnt               0.000000\n",
       "term                    0.000000\n",
       "int_rate                0.000000\n",
       "installment             0.000000\n",
       "grade                   0.000000\n",
       "sub_grade               0.000000\n",
       "emp_title               5.789208\n",
       "emp_length              4.621115\n",
       "home_ownership          0.000000\n",
       "annual_inc              0.000000\n",
       "verification_status     0.000000\n",
       "issue_d                 0.000000\n",
       "loan_status             0.000000\n",
       "purpose                 0.000000\n",
       "title                   0.443148\n",
       "dti                     0.000000\n",
       "earliest_cr_line        0.000000\n",
       "open_acc                0.000000\n",
       "pub_rec                 0.000000\n",
       "revol_bal               0.000000\n",
       "revol_util              0.069692\n",
       "total_acc               0.000000\n",
       "initial_list_status     0.000000\n",
       "application_type        0.000000\n",
       "mort_acc                9.543469\n",
       "pub_rec_bankruptcies    0.135091\n",
       "address                 0.000000\n",
       "loan_repaid             0.000000\n",
       "dtype: float64"
      ]
     },
     "execution_count": 24,
     "metadata": {},
     "output_type": "execute_result"
    }
   ],
   "source": [
    "# Missing amount of data in %ages\n",
    "\n",
    "data.isna().sum()*100 / len(data)"
   ]
  },
  {
   "cell_type": "code",
   "execution_count": 25,
   "metadata": {},
   "outputs": [
    {
     "data": {
      "text/plain": [
       "Teacher                                 4389\n",
       "Manager                                 4250\n",
       "Registered Nurse                        1856\n",
       "RN                                      1846\n",
       "Supervisor                              1830\n",
       "                                        ... \n",
       "customer resolution specialist             1\n",
       "RI DEPARTMENT OF CORRECTIONS               1\n",
       "Maryland Higher Education Commission       1\n",
       "Belleville & Associates                    1\n",
       "Courier/DOT                                1\n",
       "Name: emp_title, Length: 173105, dtype: int64"
      ]
     },
     "execution_count": 25,
     "metadata": {},
     "output_type": "execute_result"
    }
   ],
   "source": [
    "# Analysing emp_title\n",
    "\n",
    "data['emp_title'].value_counts()"
   ]
  },
  {
   "cell_type": "raw",
   "metadata": {},
   "source": [
    "Since there are way too many unique job titles and it's not possible to create dummy featues for all of them.\n",
    "Also , there is no importance for this information in predicting label. \n",
    "Hence,dropping this column is best solution"
   ]
  },
  {
   "cell_type": "code",
   "execution_count": 26,
   "metadata": {},
   "outputs": [],
   "source": [
    "data.drop('emp_title',inplace=True,axis=1)"
   ]
  },
  {
   "cell_type": "code",
   "execution_count": 27,
   "metadata": {},
   "outputs": [
    {
     "data": {
      "text/plain": [
       "10+ years    126041\n",
       "2 years       35827\n",
       "< 1 year      31725\n",
       "3 years       31665\n",
       "5 years       26495\n",
       "1 year        25882\n",
       "4 years       23952\n",
       "6 years       20841\n",
       "7 years       20819\n",
       "8 years       19168\n",
       "9 years       15314\n",
       "Name: emp_length, dtype: int64"
      ]
     },
     "execution_count": 27,
     "metadata": {},
     "output_type": "execute_result"
    }
   ],
   "source": [
    "# Analysing emp_length\n",
    "\n",
    "data['emp_length'].value_counts()"
   ]
  },
  {
   "cell_type": "code",
   "execution_count": 28,
   "metadata": {},
   "outputs": [
    {
     "data": {
      "text/plain": [
       "['1 year',\n",
       " '10+ years',\n",
       " '2 years',\n",
       " '3 years',\n",
       " '4 years',\n",
       " '5 years',\n",
       " '6 years',\n",
       " '7 years',\n",
       " '8 years',\n",
       " '9 years',\n",
       " '< 1 year']"
      ]
     },
     "execution_count": 28,
     "metadata": {},
     "output_type": "execute_result"
    }
   ],
   "source": [
    "sorted(data['emp_length'].dropna().unique())"
   ]
  },
  {
   "cell_type": "code",
   "execution_count": 29,
   "metadata": {},
   "outputs": [],
   "source": [
    "sorted_emp_len = [\n",
    " '< 1 year',\n",
    " '1 year',\n",
    " '2 years',\n",
    " '3 years',\n",
    " '4 years',\n",
    " '5 years',\n",
    " '6 years',\n",
    " '7 years',\n",
    " '8 years',\n",
    " '9 years',\n",
    " '10+ years']"
   ]
  },
  {
   "cell_type": "code",
   "execution_count": 30,
   "metadata": {},
   "outputs": [
    {
     "data": {
      "text/plain": [
       "<matplotlib.axes._subplots.AxesSubplot at 0xd2035b9e08>"
      ]
     },
     "execution_count": 30,
     "metadata": {},
     "output_type": "execute_result"
    },
    {
     "data": {
      "image/png": "[encoded data removed]",
      "text/plain": [
       "<Figure size 864x432 with 1 Axes>"
      ]
     },
     "metadata": {
      "needs_background": "light"
     },
     "output_type": "display_data"
    }
   ],
   "source": [
    "plt.figure(figsize=(12,6))\n",
    "sns.countplot(data['emp_length'] , order=sorted_emp_len)"
   ]
  },
  {
   "cell_type": "code",
   "execution_count": 31,
   "metadata": {},
   "outputs": [
    {
     "data": {
      "text/plain": [
       "<matplotlib.axes._subplots.AxesSubplot at 0xd2033e3b88>"
      ]
     },
     "execution_count": 31,
     "metadata": {},
     "output_type": "execute_result"
    },
    {
     "data": {
      "image/png": "[encoded data removed]",
      "text/plain": [
       "<Figure size 864x432 with 1 Axes>"
      ]
     },
     "metadata": {
      "needs_background": "light"
     },
     "output_type": "display_data"
    }
   ],
   "source": [
    "plt.figure(figsize=(12,6))\n",
    "sns.countplot(data['emp_length'] , hue=data['loan_status'] , order=sorted_emp_len)"
   ]
  },
  {
   "cell_type": "code",
   "execution_count": 32,
   "metadata": {},
   "outputs": [
    {
     "name": "stdout",
     "output_type": "stream",
     "text": [
      "emp_length\n",
      "1 year       4.021731\n",
      "10+ years    4.429291\n",
      "2 years      4.174321\n",
      "3 years      4.122129\n",
      "4 years      4.197917\n",
      "5 years      4.203260\n",
      "6 years      4.285569\n",
      "7 years      4.134155\n",
      "8 years      4.006007\n",
      "9 years      3.988274\n",
      "< 1 year     3.833917\n",
      "Name: loan_status, dtype: float64\n",
      "\n",
      "\n",
      "emp_length\n",
      "1 year       0.800865\n",
      "10+ years    0.815814\n",
      "2 years      0.806738\n",
      "3 years      0.804769\n",
      "4 years      0.807615\n",
      "5 years      0.807813\n",
      "6 years      0.810806\n",
      "7 years      0.805226\n",
      "8 years      0.800240\n",
      "9 years      0.799530\n",
      "< 1 year     0.793128\n",
      "Name: loan_status, dtype: float64\n"
     ]
    }
   ],
   "source": [
    "# Analysing the ratio between fully paid and charged off per year\n",
    "\n",
    "emp_fp = data[data['loan_status'] == 'Fully Paid'].groupby(data['emp_length']).count()['loan_status']\n",
    "emp_co = data[data['loan_status'] == 'Charged Off'].groupby(data['emp_length']).count()['loan_status']\n",
    "print(emp_fp / emp_co)\n",
    "print('\\n')\n",
    "print(emp_fp/(emp_fp+emp_co))"
   ]
  },
  {
   "cell_type": "code",
   "execution_count": 33,
   "metadata": {},
   "outputs": [
    {
     "data": {
      "text/plain": [
       "<matplotlib.axes._subplots.AxesSubplot at 0xd2049bb488>"
      ]
     },
     "execution_count": 33,
     "metadata": {},
     "output_type": "execute_result"
    },
    {
     "data": {
      "image/png": "[encoded data removed]",
      "text/plain": [
       "<Figure size 432x288 with 1 Axes>"
      ]
     },
     "metadata": {
      "needs_background": "light"
     },
     "output_type": "display_data"
    }
   ],
   "source": [
    "x = emp_fp/emp_co\n",
    "x.plot(kind='bar')"
   ]
  },
  {
   "cell_type": "raw",
   "metadata": {},
   "source": [
    "As the ratio between fully paid and charged off is same for all years , this feature does not provide any importance\n",
    "in predicting output.\n",
    "\n",
    "Hence dropping the feature emp_len"
   ]
  },
  {
   "cell_type": "code",
   "execution_count": 34,
   "metadata": {},
   "outputs": [],
   "source": [
    "data.drop('emp_length',inplace=True , axis=1)"
   ]
  },
  {
   "cell_type": "code",
   "execution_count": 35,
   "metadata": {},
   "outputs": [
    {
     "data": {
      "text/plain": [
       "loan_amnt                   0\n",
       "term                        0\n",
       "int_rate                    0\n",
       "installment                 0\n",
       "grade                       0\n",
       "sub_grade                   0\n",
       "home_ownership              0\n",
       "annual_inc                  0\n",
       "verification_status         0\n",
       "issue_d                     0\n",
       "loan_status                 0\n",
       "purpose                     0\n",
       "title                    1755\n",
       "dti                         0\n",
       "earliest_cr_line            0\n",
       "open_acc                    0\n",
       "pub_rec                     0\n",
       "revol_bal                   0\n",
       "revol_util                276\n",
       "total_acc                   0\n",
       "initial_list_status         0\n",
       "application_type            0\n",
       "mort_acc                37795\n",
       "pub_rec_bankruptcies      535\n",
       "address                     0\n",
       "loan_repaid                 0\n",
       "dtype: int64"
      ]
     },
     "execution_count": 35,
     "metadata": {},
     "output_type": "execute_result"
    }
   ],
   "source": [
    "data.isnull().sum()"
   ]
  },
  {
   "cell_type": "code",
   "execution_count": 36,
   "metadata": {},
   "outputs": [],
   "source": [
    "# As title column is only a replica of purpose , dropping title also\n",
    "\n",
    "data.drop('title',inplace=True,axis=1)"
   ]
  },
  {
   "cell_type": "code",
   "execution_count": 37,
   "metadata": {},
   "outputs": [
    {
     "data": {
      "text/plain": [
       "0.0     139777\n",
       "1.0      60416\n",
       "2.0      49948\n",
       "3.0      38049\n",
       "4.0      27887\n",
       "5.0      18194\n",
       "6.0      11069\n",
       "7.0       6052\n",
       "8.0       3121\n",
       "9.0       1656\n",
       "10.0       865\n",
       "11.0       479\n",
       "12.0       264\n",
       "13.0       146\n",
       "14.0       107\n",
       "15.0        61\n",
       "16.0        37\n",
       "17.0        22\n",
       "18.0        18\n",
       "19.0        15\n",
       "20.0        13\n",
       "24.0        10\n",
       "22.0         7\n",
       "21.0         4\n",
       "25.0         4\n",
       "27.0         3\n",
       "23.0         2\n",
       "32.0         2\n",
       "26.0         2\n",
       "31.0         2\n",
       "30.0         1\n",
       "28.0         1\n",
       "34.0         1\n",
       "Name: mort_acc, dtype: int64"
      ]
     },
     "execution_count": 37,
     "metadata": {},
     "output_type": "execute_result"
    }
   ],
   "source": [
    "# Analysing mort_acc\n",
    "\n",
    "data['mort_acc'].value_counts()\n",
    "\n",
    "\n",
    "# Almost 10% of missing values exists in mort_acc. We cannot drop it."
   ]
  },
  {
   "cell_type": "code",
   "execution_count": 38,
   "metadata": {},
   "outputs": [
    {
     "data": {
      "text/plain": [
       "int_rate               -0.082583\n",
       "dti                    -0.025439\n",
       "revol_util              0.007514\n",
       "pub_rec                 0.011552\n",
       "pub_rec_bankruptcies    0.027239\n",
       "loan_repaid             0.073111\n",
       "open_acc                0.109205\n",
       "installment             0.193694\n",
       "revol_bal               0.194925\n",
       "loan_amnt               0.222315\n",
       "annual_inc              0.236320\n",
       "total_acc               0.381072\n",
       "mort_acc                1.000000\n",
       "Name: mort_acc, dtype: float64"
      ]
     },
     "execution_count": 38,
     "metadata": {},
     "output_type": "execute_result"
    }
   ],
   "source": [
    "data.corr()['mort_acc'].sort_values()"
   ]
  },
  {
   "cell_type": "code",
   "execution_count": 39,
   "metadata": {},
   "outputs": [],
   "source": [
    "# total_acc is in correlation with mort_acc. \n",
    "# groupbying the data frame with total_acc and calculate mean value.\n",
    "# Apply fillna() with mean value for mort_acc per total_acc entry\n",
    "\n",
    "total_acc_avg = data.groupby(by='total_acc').mean()['mort_acc']   "
   ]
  },
  {
   "cell_type": "code",
   "execution_count": 40,
   "metadata": {},
   "outputs": [],
   "source": [
    "def fill_mort(total_acc , mort_acc):\n",
    "    if np.isnan(mort_acc):\n",
    "        return total_acc_avg[total_acc]\n",
    "    else:\n",
    "        return mort_acc"
   ]
  },
  {
   "cell_type": "code",
   "execution_count": 41,
   "metadata": {},
   "outputs": [],
   "source": [
    "data['mort_acc'] = data.apply(lambda x:fill_mort(x['total_acc'] , x['mort_acc']) , axis=1)"
   ]
  },
  {
   "cell_type": "code",
   "execution_count": 42,
   "metadata": {},
   "outputs": [
    {
     "data": {
      "text/plain": [
       "0"
      ]
     },
     "execution_count": 42,
     "metadata": {},
     "output_type": "execute_result"
    }
   ],
   "source": [
    "data.isnull()['mort_acc'].sum()"
   ]
  },
  {
   "cell_type": "code",
   "execution_count": 43,
   "metadata": {},
   "outputs": [],
   "source": [
    "data.dropna(inplace=True)"
   ]
  },
  {
   "cell_type": "code",
   "execution_count": 44,
   "metadata": {},
   "outputs": [
    {
     "data": {
      "text/plain": [
       "loan_amnt               0\n",
       "term                    0\n",
       "int_rate                0\n",
       "installment             0\n",
       "grade                   0\n",
       "sub_grade               0\n",
       "home_ownership          0\n",
       "annual_inc              0\n",
       "verification_status     0\n",
       "issue_d                 0\n",
       "loan_status             0\n",
       "purpose                 0\n",
       "dti                     0\n",
       "earliest_cr_line        0\n",
       "open_acc                0\n",
       "pub_rec                 0\n",
       "revol_bal               0\n",
       "revol_util              0\n",
       "total_acc               0\n",
       "initial_list_status     0\n",
       "application_type        0\n",
       "mort_acc                0\n",
       "pub_rec_bankruptcies    0\n",
       "address                 0\n",
       "loan_repaid             0\n",
       "dtype: int64"
      ]
     },
     "execution_count": 44,
     "metadata": {},
     "output_type": "execute_result"
    }
   ],
   "source": [
    "data.isnull().sum()"
   ]
  },
  {
   "cell_type": "markdown",
   "metadata": {},
   "source": [
    "# CATEGORICAL DATA"
   ]
  },
  {
   "cell_type": "code",
   "execution_count": 45,
   "metadata": {},
   "outputs": [
    {
     "data": {
      "text/plain": [
       "Index(['term', 'grade', 'sub_grade', 'home_ownership', 'verification_status',\n",
       "       'issue_d', 'loan_status', 'purpose', 'earliest_cr_line',\n",
       "       'initial_list_status', 'application_type', 'address'],\n",
       "      dtype='object')"
      ]
     },
     "execution_count": 45,
     "metadata": {},
     "output_type": "execute_result"
    }
   ],
   "source": [
    "# Categorical features in the data\n",
    "\n",
    "data.select_dtypes(['object']).columns"
   ]
  },
  {
   "cell_type": "code",
   "execution_count": 46,
   "metadata": {},
   "outputs": [
    {
     "data": {
      "text/plain": [
       "0          36 months\n",
       "1          36 months\n",
       "2          36 months\n",
       "3          36 months\n",
       "4          60 months\n",
       "             ...    \n",
       "396025     60 months\n",
       "396026     36 months\n",
       "396027     36 months\n",
       "396028     60 months\n",
       "396029     36 months\n",
       "Name: term, Length: 395219, dtype: object"
      ]
     },
     "execution_count": 46,
     "metadata": {},
     "output_type": "execute_result"
    }
   ],
   "source": [
    "data['term']"
   ]
  },
  {
   "cell_type": "code",
   "execution_count": 47,
   "metadata": {},
   "outputs": [
    {
     "data": {
      "text/plain": [
       "array([' 36 months', ' 60 months'], dtype=object)"
      ]
     },
     "execution_count": 47,
     "metadata": {},
     "output_type": "execute_result"
    }
   ],
   "source": [
    "data['term'].unique()"
   ]
  },
  {
   "cell_type": "code",
   "execution_count": 48,
   "metadata": {},
   "outputs": [],
   "source": [
    "data['term'] = data['term'].apply(lambda term : int(term[:3]))"
   ]
  },
  {
   "cell_type": "code",
   "execution_count": 49,
   "metadata": {},
   "outputs": [
    {
     "data": {
      "text/plain": [
       "0         36\n",
       "1         36\n",
       "2         36\n",
       "3         36\n",
       "4         60\n",
       "          ..\n",
       "396025    60\n",
       "396026    36\n",
       "396027    36\n",
       "396028    60\n",
       "396029    36\n",
       "Name: term, Length: 395219, dtype: int64"
      ]
     },
     "execution_count": 49,
     "metadata": {},
     "output_type": "execute_result"
    }
   ],
   "source": [
    "data['term']"
   ]
  },
  {
   "cell_type": "code",
   "execution_count": 50,
   "metadata": {},
   "outputs": [],
   "source": [
    "# Grade is subpart of sub grade.So dropping it.\n",
    "\n",
    "data.drop('grade',axis=1,inplace=True)"
   ]
  },
  {
   "cell_type": "code",
   "execution_count": 51,
   "metadata": {},
   "outputs": [],
   "source": [
    "# Encoding sub_grade\n",
    "\n",
    "\n",
    "dummies = pd.get_dummies(data['sub_grade'],drop_first=True)"
   ]
  },
  {
   "cell_type": "code",
   "execution_count": 52,
   "metadata": {},
   "outputs": [],
   "source": [
    "data.drop('sub_grade',inplace=True,axis=1)"
   ]
  },
  {
   "cell_type": "code",
   "execution_count": 53,
   "metadata": {},
   "outputs": [],
   "source": [
    "data = pd.concat([data,dummies],axis=1)"
   ]
  },
  {
   "cell_type": "code",
   "execution_count": 54,
   "metadata": {},
   "outputs": [
    {
     "data": {
      "text/plain": [
       "Index(['loan_amnt', 'term', 'int_rate', 'installment', 'home_ownership',\n",
       "       'annual_inc', 'verification_status', 'issue_d', 'loan_status',\n",
       "       'purpose', 'dti', 'earliest_cr_line', 'open_acc', 'pub_rec',\n",
       "       'revol_bal', 'revol_util', 'total_acc', 'initial_list_status',\n",
       "       'application_type', 'mort_acc', 'pub_rec_bankruptcies', 'address',\n",
       "       'loan_repaid', 'A2', 'A3', 'A4', 'A5', 'B1', 'B2', 'B3', 'B4', 'B5',\n",
       "       'C1', 'C2', 'C3', 'C4', 'C5', 'D1', 'D2', 'D3', 'D4', 'D5', 'E1', 'E2',\n",
       "       'E3', 'E4', 'E5', 'F1', 'F2', 'F3', 'F4', 'F5', 'G1', 'G2', 'G3', 'G4',\n",
       "       'G5'],\n",
       "      dtype='object')"
      ]
     },
     "execution_count": 54,
     "metadata": {},
     "output_type": "execute_result"
    }
   ],
   "source": [
    "data.columns"
   ]
  },
  {
   "cell_type": "code",
   "execution_count": 55,
   "metadata": {},
   "outputs": [],
   "source": [
    "dummy = pd.get_dummies(data[['verification_status','initial_list_status','application_type','purpose']] , drop_first=True)"
   ]
  },
  {
   "cell_type": "code",
   "execution_count": 56,
   "metadata": {},
   "outputs": [],
   "source": [
    "X = ['verification_status','initial_list_status','application_type','purpose']\n",
    "data.drop(X , inplace=True , axis=1)"
   ]
  },
  {
   "cell_type": "code",
   "execution_count": 57,
   "metadata": {},
   "outputs": [],
   "source": [
    "data = pd.concat([data,dummy],axis=1)"
   ]
  },
  {
   "cell_type": "code",
   "execution_count": 58,
   "metadata": {},
   "outputs": [
    {
     "data": {
      "text/plain": [
       "Index(['loan_amnt', 'term', 'int_rate', 'installment', 'home_ownership',\n",
       "       'annual_inc', 'issue_d', 'loan_status', 'dti', 'earliest_cr_line',\n",
       "       'open_acc', 'pub_rec', 'revol_bal', 'revol_util', 'total_acc',\n",
       "       'mort_acc', 'pub_rec_bankruptcies', 'address', 'loan_repaid', 'A2',\n",
       "       'A3', 'A4', 'A5', 'B1', 'B2', 'B3', 'B4', 'B5', 'C1', 'C2', 'C3', 'C4',\n",
       "       'C5', 'D1', 'D2', 'D3', 'D4', 'D5', 'E1', 'E2', 'E3', 'E4', 'E5', 'F1',\n",
       "       'F2', 'F3', 'F4', 'F5', 'G1', 'G2', 'G3', 'G4', 'G5',\n",
       "       'verification_status_Source Verified', 'verification_status_Verified',\n",
       "       'initial_list_status_w', 'application_type_INDIVIDUAL',\n",
       "       'application_type_JOINT', 'purpose_credit_card',\n",
       "       'purpose_debt_consolidation', 'purpose_educational',\n",
       "       'purpose_home_improvement', 'purpose_house', 'purpose_major_purchase',\n",
       "       'purpose_medical', 'purpose_moving', 'purpose_other',\n",
       "       'purpose_renewable_energy', 'purpose_small_business',\n",
       "       'purpose_vacation', 'purpose_wedding'],\n",
       "      dtype='object')"
      ]
     },
     "execution_count": 58,
     "metadata": {},
     "output_type": "execute_result"
    }
   ],
   "source": [
    "data.columns"
   ]
  },
  {
   "cell_type": "code",
   "execution_count": 59,
   "metadata": {},
   "outputs": [
    {
     "data": {
      "text/plain": [
       "MORTGAGE    198022\n",
       "RENT        159395\n",
       "OWN          37660\n",
       "OTHER          110\n",
       "NONE            29\n",
       "ANY              3\n",
       "Name: home_ownership, dtype: int64"
      ]
     },
     "execution_count": 59,
     "metadata": {},
     "output_type": "execute_result"
    }
   ],
   "source": [
    "data['home_ownership'].value_counts()"
   ]
  },
  {
   "cell_type": "code",
   "execution_count": 60,
   "metadata": {},
   "outputs": [],
   "source": [
    "data['home_ownership'].replace(['NONE','ANY'] , 'OTHER' , inplace = True )"
   ]
  },
  {
   "cell_type": "code",
   "execution_count": 61,
   "metadata": {},
   "outputs": [
    {
     "data": {
      "text/plain": [
       "MORTGAGE    198022\n",
       "RENT        159395\n",
       "OWN          37660\n",
       "OTHER          142\n",
       "Name: home_ownership, dtype: int64"
      ]
     },
     "execution_count": 61,
     "metadata": {},
     "output_type": "execute_result"
    }
   ],
   "source": [
    "data['home_ownership'].value_counts()"
   ]
  },
  {
   "cell_type": "code",
   "execution_count": 62,
   "metadata": {},
   "outputs": [],
   "source": [
    "d = pd.get_dummies(data['home_ownership'] , drop_first=True)"
   ]
  },
  {
   "cell_type": "code",
   "execution_count": 63,
   "metadata": {},
   "outputs": [],
   "source": [
    "data.drop('home_ownership',inplace=True,axis=1)"
   ]
  },
  {
   "cell_type": "code",
   "execution_count": 64,
   "metadata": {},
   "outputs": [],
   "source": [
    "data = pd.concat([d , data] , axis=1)"
   ]
  },
  {
   "cell_type": "code",
   "execution_count": 65,
   "metadata": {},
   "outputs": [
    {
     "data": {
      "text/plain": [
       "Index(['OTHER', 'OWN', 'RENT', 'loan_amnt', 'term', 'int_rate', 'installment',\n",
       "       'annual_inc', 'issue_d', 'loan_status', 'dti', 'earliest_cr_line',\n",
       "       'open_acc', 'pub_rec', 'revol_bal', 'revol_util', 'total_acc',\n",
       "       'mort_acc', 'pub_rec_bankruptcies', 'address', 'loan_repaid', 'A2',\n",
       "       'A3', 'A4', 'A5', 'B1', 'B2', 'B3', 'B4', 'B5', 'C1', 'C2', 'C3', 'C4',\n",
       "       'C5', 'D1', 'D2', 'D3', 'D4', 'D5', 'E1', 'E2', 'E3', 'E4', 'E5', 'F1',\n",
       "       'F2', 'F3', 'F4', 'F5', 'G1', 'G2', 'G3', 'G4', 'G5',\n",
       "       'verification_status_Source Verified', 'verification_status_Verified',\n",
       "       'initial_list_status_w', 'application_type_INDIVIDUAL',\n",
       "       'application_type_JOINT', 'purpose_credit_card',\n",
       "       'purpose_debt_consolidation', 'purpose_educational',\n",
       "       'purpose_home_improvement', 'purpose_house', 'purpose_major_purchase',\n",
       "       'purpose_medical', 'purpose_moving', 'purpose_other',\n",
       "       'purpose_renewable_energy', 'purpose_small_business',\n",
       "       'purpose_vacation', 'purpose_wedding'],\n",
       "      dtype='object')"
      ]
     },
     "execution_count": 65,
     "metadata": {},
     "output_type": "execute_result"
    }
   ],
   "source": [
    "data.columns"
   ]
  },
  {
   "cell_type": "code",
   "execution_count": 66,
   "metadata": {},
   "outputs": [],
   "source": [
    "# Analysing address column\n",
    "\n",
    "data['zipcode'] = data['address'].apply(lambda address:address[-5:])"
   ]
  },
  {
   "cell_type": "code",
   "execution_count": 67,
   "metadata": {},
   "outputs": [
    {
     "data": {
      "text/plain": [
       "Index(['OTHER', 'OWN', 'RENT', 'loan_amnt', 'term', 'int_rate', 'installment',\n",
       "       'annual_inc', 'issue_d', 'loan_status', 'dti', 'earliest_cr_line',\n",
       "       'open_acc', 'pub_rec', 'revol_bal', 'revol_util', 'total_acc',\n",
       "       'mort_acc', 'pub_rec_bankruptcies', 'address', 'loan_repaid', 'A2',\n",
       "       'A3', 'A4', 'A5', 'B1', 'B2', 'B3', 'B4', 'B5', 'C1', 'C2', 'C3', 'C4',\n",
       "       'C5', 'D1', 'D2', 'D3', 'D4', 'D5', 'E1', 'E2', 'E3', 'E4', 'E5', 'F1',\n",
       "       'F2', 'F3', 'F4', 'F5', 'G1', 'G2', 'G3', 'G4', 'G5',\n",
       "       'verification_status_Source Verified', 'verification_status_Verified',\n",
       "       'initial_list_status_w', 'application_type_INDIVIDUAL',\n",
       "       'application_type_JOINT', 'purpose_credit_card',\n",
       "       'purpose_debt_consolidation', 'purpose_educational',\n",
       "       'purpose_home_improvement', 'purpose_house', 'purpose_major_purchase',\n",
       "       'purpose_medical', 'purpose_moving', 'purpose_other',\n",
       "       'purpose_renewable_energy', 'purpose_small_business',\n",
       "       'purpose_vacation', 'purpose_wedding', 'zipcode'],\n",
       "      dtype='object')"
      ]
     },
     "execution_count": 67,
     "metadata": {},
     "output_type": "execute_result"
    }
   ],
   "source": [
    "data.columns"
   ]
  },
  {
   "cell_type": "code",
   "execution_count": 68,
   "metadata": {},
   "outputs": [
    {
     "data": {
      "text/plain": [
       "array(['22690', '05113', '00813', '11650', '30723', '70466', '29597',\n",
       "       '48052', '86630', '93700'], dtype=object)"
      ]
     },
     "execution_count": 68,
     "metadata": {},
     "output_type": "execute_result"
    }
   ],
   "source": [
    "data['zipcode'].unique()"
   ]
  },
  {
   "cell_type": "code",
   "execution_count": 69,
   "metadata": {},
   "outputs": [],
   "source": [
    "d55 = pd.get_dummies(data['zipcode'] , drop_first=True)"
   ]
  },
  {
   "cell_type": "code",
   "execution_count": 70,
   "metadata": {},
   "outputs": [],
   "source": [
    "data.drop('zipcode',inplace=True,axis=1)"
   ]
  },
  {
   "cell_type": "code",
   "execution_count": 71,
   "metadata": {},
   "outputs": [],
   "source": [
    "data = pd.concat([d55,data],axis=1)"
   ]
  },
  {
   "cell_type": "code",
   "execution_count": 72,
   "metadata": {},
   "outputs": [
    {
     "data": {
      "text/plain": [
       "Index(['05113', '11650', '22690', '29597', '30723', '48052', '70466', '86630',\n",
       "       '93700', 'OTHER', 'OWN', 'RENT', 'loan_amnt', 'term', 'int_rate',\n",
       "       'installment', 'annual_inc', 'issue_d', 'loan_status', 'dti',\n",
       "       'earliest_cr_line', 'open_acc', 'pub_rec', 'revol_bal', 'revol_util',\n",
       "       'total_acc', 'mort_acc', 'pub_rec_bankruptcies', 'address',\n",
       "       'loan_repaid', 'A2', 'A3', 'A4', 'A5', 'B1', 'B2', 'B3', 'B4', 'B5',\n",
       "       'C1', 'C2', 'C3', 'C4', 'C5', 'D1', 'D2', 'D3', 'D4', 'D5', 'E1', 'E2',\n",
       "       'E3', 'E4', 'E5', 'F1', 'F2', 'F3', 'F4', 'F5', 'G1', 'G2', 'G3', 'G4',\n",
       "       'G5', 'verification_status_Source Verified',\n",
       "       'verification_status_Verified', 'initial_list_status_w',\n",
       "       'application_type_INDIVIDUAL', 'application_type_JOINT',\n",
       "       'purpose_credit_card', 'purpose_debt_consolidation',\n",
       "       'purpose_educational', 'purpose_home_improvement', 'purpose_house',\n",
       "       'purpose_major_purchase', 'purpose_medical', 'purpose_moving',\n",
       "       'purpose_other', 'purpose_renewable_energy', 'purpose_small_business',\n",
       "       'purpose_vacation', 'purpose_wedding'],\n",
       "      dtype='object')"
      ]
     },
     "execution_count": 72,
     "metadata": {},
     "output_type": "execute_result"
    }
   ],
   "source": [
    "data.columns"
   ]
  },
  {
   "cell_type": "code",
   "execution_count": 73,
   "metadata": {},
   "outputs": [],
   "source": [
    "# Analysing issue_d\n",
    "\n",
    "data.drop('issue_d' , inplace=True , axis=1)"
   ]
  },
  {
   "cell_type": "code",
   "execution_count": 74,
   "metadata": {},
   "outputs": [],
   "source": [
    "# Analysing earliest_cr_line\n",
    "\n",
    "data['earliest_cr_line'] = pd.to_datetime(data['earliest_cr_line'])"
   ]
  },
  {
   "cell_type": "code",
   "execution_count": 75,
   "metadata": {},
   "outputs": [],
   "source": [
    "import datetime"
   ]
  },
  {
   "cell_type": "code",
   "execution_count": 76,
   "metadata": {},
   "outputs": [],
   "source": [
    "def year_extract(date):\n",
    "    return date.year     "
   ]
  },
  {
   "cell_type": "code",
   "execution_count": 77,
   "metadata": {},
   "outputs": [],
   "source": [
    "data['earliest_cr_line'] = data['earliest_cr_line'].apply(year_extract)"
   ]
  },
  {
   "cell_type": "markdown",
   "metadata": {},
   "source": [
    "# DATA SPLIT"
   ]
  },
  {
   "cell_type": "code",
   "execution_count": 78,
   "metadata": {},
   "outputs": [
    {
     "data": {
      "text/plain": [
       "Index(['05113', '11650', '22690', '29597', '30723', '48052', '70466', '86630',\n",
       "       '93700', 'OTHER', 'OWN', 'RENT', 'loan_amnt', 'term', 'int_rate',\n",
       "       'installment', 'annual_inc', 'loan_status', 'dti', 'earliest_cr_line',\n",
       "       'open_acc', 'pub_rec', 'revol_bal', 'revol_util', 'total_acc',\n",
       "       'mort_acc', 'pub_rec_bankruptcies', 'address', 'loan_repaid', 'A2',\n",
       "       'A3', 'A4', 'A5', 'B1', 'B2', 'B3', 'B4', 'B5', 'C1', 'C2', 'C3', 'C4',\n",
       "       'C5', 'D1', 'D2', 'D3', 'D4', 'D5', 'E1', 'E2', 'E3', 'E4', 'E5', 'F1',\n",
       "       'F2', 'F3', 'F4', 'F5', 'G1', 'G2', 'G3', 'G4', 'G5',\n",
       "       'verification_status_Source Verified', 'verification_status_Verified',\n",
       "       'initial_list_status_w', 'application_type_INDIVIDUAL',\n",
       "       'application_type_JOINT', 'purpose_credit_card',\n",
       "       'purpose_debt_consolidation', 'purpose_educational',\n",
       "       'purpose_home_improvement', 'purpose_house', 'purpose_major_purchase',\n",
       "       'purpose_medical', 'purpose_moving', 'purpose_other',\n",
       "       'purpose_renewable_energy', 'purpose_small_business',\n",
       "       'purpose_vacation', 'purpose_wedding'],\n",
       "      dtype='object')"
      ]
     },
     "execution_count": 78,
     "metadata": {},
     "output_type": "execute_result"
    }
   ],
   "source": [
    "data.columns"
   ]
  },
  {
   "cell_type": "code",
   "execution_count": 79,
   "metadata": {},
   "outputs": [],
   "source": [
    "data.drop('loan_status' , inplace=True , axis=1)"
   ]
  },
  {
   "cell_type": "code",
   "execution_count": 80,
   "metadata": {},
   "outputs": [],
   "source": [
    "data.drop('address' , inplace=True , axis=1)"
   ]
  },
  {
   "cell_type": "code",
   "execution_count": 81,
   "metadata": {},
   "outputs": [],
   "source": [
    "X = data.drop('loan_repaid',axis=1).values\n",
    "y = data['loan_repaid'].values"
   ]
  },
  {
   "cell_type": "markdown",
   "metadata": {},
   "source": [
    "# TRAIN TEST SPLIT"
   ]
  },
  {
   "cell_type": "code",
   "execution_count": 82,
   "metadata": {},
   "outputs": [],
   "source": [
    "from sklearn.model_selection import train_test_split"
   ]
  },
  {
   "cell_type": "code",
   "execution_count": 83,
   "metadata": {},
   "outputs": [],
   "source": [
    "X_train, X_test, y_train, y_test = train_test_split(X, y, test_size=0.2, random_state=101)"
   ]
  },
  {
   "cell_type": "markdown",
   "metadata": {},
   "source": [
    "# NORMALISING THE DATA"
   ]
  },
  {
   "cell_type": "code",
   "execution_count": 84,
   "metadata": {},
   "outputs": [],
   "source": [
    "from sklearn.preprocessing import MinMaxScaler"
   ]
  },
  {
   "cell_type": "code",
   "execution_count": 85,
   "metadata": {},
   "outputs": [],
   "source": [
    "scaler = MinMaxScaler()"
   ]
  },
  {
   "cell_type": "code",
   "execution_count": 86,
   "metadata": {},
   "outputs": [],
   "source": [
    "X_train = scaler.fit_transform(X_train)\n",
    "X_test = scaler.transform(X_test)"
   ]
  },
  {
   "cell_type": "markdown",
   "metadata": {},
   "source": [
    "# MODEL BUILDING"
   ]
  },
  {
   "cell_type": "code",
   "execution_count": 87,
   "metadata": {},
   "outputs": [
    {
     "name": "stderr",
     "output_type": "stream",
     "text": [
      "Using TensorFlow backend.\n"
     ]
    }
   ],
   "source": [
    "import keras"
   ]
  },
  {
   "cell_type": "code",
   "execution_count": 88,
   "metadata": {},
   "outputs": [],
   "source": [
    "from keras.layers import Dense , Dropout\n",
    "from keras.models import Sequential"
   ]
  },
  {
   "cell_type": "code",
   "execution_count": 89,
   "metadata": {},
   "outputs": [],
   "source": [
    "# Empty network\n",
    "model = Sequential()\n",
    "\n",
    "# input layer\n",
    "model.add(Dense(78,  activation='relu'))\n",
    "model.add(Dropout(0.2))\n",
    "\n",
    "# hidden layer - 1\n",
    "model.add(Dense(39, activation='relu'))\n",
    "model.add(Dropout(0.2))\n",
    "\n",
    "# hidden layer - 2\n",
    "model.add(Dense(19, activation='relu'))\n",
    "model.add(Dropout(0.2))\n",
    "\n",
    "# output layer\n",
    "model.add(Dense(units=1,activation='sigmoid'))  # Since label is categorical\n",
    "\n",
    "# Compile model\n",
    "model.compile(loss='binary_crossentropy', optimizer='adam')"
   ]
  },
  {
   "cell_type": "code",
   "execution_count": 90,
   "metadata": {},
   "outputs": [
    {
     "name": "stdout",
     "output_type": "stream",
     "text": [
      "Train on 316175 samples, validate on 79044 samples\n",
      "Epoch 1/25\n",
      "316175/316175 [==============================] - 9s 28us/step - loss: 0.2966 - val_loss: 0.2648\n",
      "Epoch 2/25\n",
      "316175/316175 [==============================] - 8s 27us/step - loss: 0.2655 - val_loss: 0.2632\n",
      "Epoch 3/25\n",
      "316175/316175 [==============================] - 8s 26us/step - loss: 0.2631 - val_loss: 0.2627\n",
      "Epoch 4/25\n",
      "316175/316175 [==============================] - 8s 26us/step - loss: 0.2617 - val_loss: 0.2622\n",
      "Epoch 5/25\n",
      "316175/316175 [==============================] - 8s 27us/step - loss: 0.2609 - val_loss: 0.2624\n",
      "Epoch 6/25\n",
      "316175/316175 [==============================] - 8s 27us/step - loss: 0.2604 - val_loss: 0.2617\n",
      "Epoch 7/25\n",
      "316175/316175 [==============================] - 8s 27us/step - loss: 0.2602 - val_loss: 0.2617\n",
      "Epoch 8/25\n",
      "316175/316175 [==============================] - 8s 26us/step - loss: 0.2596 - val_loss: 0.2620\n",
      "Epoch 9/25\n",
      "316175/316175 [==============================] - 8s 27us/step - loss: 0.2593 - val_loss: 0.2618\n",
      "Epoch 10/25\n",
      "316175/316175 [==============================] - 8s 26us/step - loss: 0.2591 - val_loss: 0.2616\n",
      "Epoch 11/25\n",
      "316175/316175 [==============================] - 8s 25us/step - loss: 0.2589 - val_loss: 0.2613\n",
      "Epoch 12/25\n",
      "316175/316175 [==============================] - 8s 26us/step - loss: 0.2585 - val_loss: 0.2610\n",
      "Epoch 13/25\n",
      "316175/316175 [==============================] - 8s 26us/step - loss: 0.2583 - val_loss: 0.2634\n",
      "Epoch 14/25\n",
      "316175/316175 [==============================] - 8s 27us/step - loss: 0.2580 - val_loss: 0.2613\n",
      "Epoch 15/25\n",
      "316175/316175 [==============================] - 8s 27us/step - loss: 0.2581 - val_loss: 0.2614\n",
      "Epoch 16/25\n",
      "316175/316175 [==============================] - 8s 27us/step - loss: 0.2576 - val_loss: 0.2614\n",
      "Epoch 17/25\n",
      "316175/316175 [==============================] - 8s 26us/step - loss: 0.2575 - val_loss: 0.2609\n",
      "Epoch 18/25\n",
      "316175/316175 [==============================] - 8s 26us/step - loss: 0.2574 - val_loss: 0.2610\n",
      "Epoch 19/25\n",
      "316175/316175 [==============================] - 8s 27us/step - loss: 0.2572 - val_loss: 0.2610\n",
      "Epoch 20/25\n",
      "316175/316175 [==============================] - 8s 26us/step - loss: 0.2568 - val_loss: 0.2620\n",
      "Epoch 21/25\n",
      "316175/316175 [==============================] - 8s 27us/step - loss: 0.2568 - val_loss: 0.2608\n",
      "Epoch 22/25\n",
      "316175/316175 [==============================] - 8s 27us/step - loss: 0.2568 - val_loss: 0.2610\n",
      "Epoch 23/25\n",
      "316175/316175 [==============================] - 8s 27us/step - loss: 0.2565 - val_loss: 0.2611\n",
      "Epoch 24/25\n",
      "316175/316175 [==============================] - 8s 27us/step - loss: 0.2562 - val_loss: 0.2609\n",
      "Epoch 25/25\n",
      "316175/316175 [==============================] - 8s 26us/step - loss: 0.2561 - val_loss: 0.2609\n"
     ]
    },
    {
     "data": {
      "text/plain": [
       "<keras.callbacks.callbacks.History at 0xd2247d5948>"
      ]
     },
     "execution_count": 90,
     "metadata": {},
     "output_type": "execute_result"
    }
   ],
   "source": [
    "model.fit(X_train , y_train , validation_data=[X_test , y_test] , batch_size=256 , epochs=25)"
   ]
  },
  {
   "cell_type": "markdown",
   "metadata": {},
   "source": [
    "# MODEL EVALUATION"
   ]
  },
  {
   "cell_type": "code",
   "execution_count": 91,
   "metadata": {},
   "outputs": [
    {
     "data": {
      "text/html": [
       "<div>\n",
       "<style scoped>\n",
       "    .dataframe tbody tr th:only-of-type {\n",
       "        vertical-align: middle;\n",
       "    }\n",
       "\n",
       "    .dataframe tbody tr th {\n",
       "        vertical-align: top;\n",
       "    }\n",
       "\n",
       "    .dataframe thead th {\n",
       "        text-align: right;\n",
       "    }\n",
       "</style>\n",
       "<table border=\"1\" class=\"dataframe\">\n",
       "  <thead>\n",
       "    <tr style=\"text-align: right;\">\n",
       "      <th></th>\n",
       "      <th>val_loss</th>\n",
       "      <th>loss</th>\n",
       "    </tr>\n",
       "  </thead>\n",
       "  <tbody>\n",
       "    <tr>\n",
       "      <th>0</th>\n",
       "      <td>0.264787</td>\n",
       "      <td>0.296587</td>\n",
       "    </tr>\n",
       "    <tr>\n",
       "      <th>1</th>\n",
       "      <td>0.263152</td>\n",
       "      <td>0.265477</td>\n",
       "    </tr>\n",
       "    <tr>\n",
       "      <th>2</th>\n",
       "      <td>0.262724</td>\n",
       "      <td>0.263149</td>\n",
       "    </tr>\n",
       "    <tr>\n",
       "      <th>3</th>\n",
       "      <td>0.262165</td>\n",
       "      <td>0.261656</td>\n",
       "    </tr>\n",
       "    <tr>\n",
       "      <th>4</th>\n",
       "      <td>0.262368</td>\n",
       "      <td>0.260948</td>\n",
       "    </tr>\n",
       "  </tbody>\n",
       "</table>\n",
       "</div>"
      ],
      "text/plain": [
       "   val_loss      loss\n",
       "0  0.264787  0.296587\n",
       "1  0.263152  0.265477\n",
       "2  0.262724  0.263149\n",
       "3  0.262165  0.261656\n",
       "4  0.262368  0.260948"
      ]
     },
     "execution_count": 91,
     "metadata": {},
     "output_type": "execute_result"
    }
   ],
   "source": [
    "losses = pd.DataFrame(model.history.history)\n",
    "losses.head()"
   ]
  },
  {
   "cell_type": "code",
   "execution_count": 92,
   "metadata": {},
   "outputs": [
    {
     "data": {
      "text/plain": [
       "<matplotlib.axes._subplots.AxesSubplot at 0xd224f62f48>"
      ]
     },
     "execution_count": 92,
     "metadata": {},
     "output_type": "execute_result"
    },
    {
     "data": {
      "image/png": "[encoded data removed]",
      "text/plain": [
       "<Figure size 432x288 with 1 Axes>"
      ]
     },
     "metadata": {
      "needs_background": "light"
     },
     "output_type": "display_data"
    }
   ],
   "source": [
    "losses.plot()"
   ]
  },
  {
   "cell_type": "code",
   "execution_count": 93,
   "metadata": {},
   "outputs": [],
   "source": [
    "from sklearn import metrics"
   ]
  },
  {
   "cell_type": "code",
   "execution_count": 94,
   "metadata": {},
   "outputs": [],
   "source": [
    "predictions= model.predict_classes(X_test)"
   ]
  },
  {
   "cell_type": "code",
   "execution_count": 95,
   "metadata": {},
   "outputs": [
    {
     "name": "stdout",
     "output_type": "stream",
     "text": [
      "              precision    recall  f1-score   support\n",
      "\n",
      "           0       0.96      0.45      0.62     15658\n",
      "           1       0.88      1.00      0.93     63386\n",
      "\n",
      "    accuracy                           0.89     79044\n",
      "   macro avg       0.92      0.72      0.77     79044\n",
      "weighted avg       0.90      0.89      0.87     79044\n",
      "\n"
     ]
    }
   ],
   "source": [
    "print(metrics.classification_report(y_test,predictions))"
   ]
  },
  {
   "cell_type": "code",
   "execution_count": 96,
   "metadata": {},
   "outputs": [
    {
     "name": "stdout",
     "output_type": "stream",
     "text": [
      "[[ 7075  8583]\n",
      " [  274 63112]]\n"
     ]
    }
   ],
   "source": [
    "print(metrics.confusion_matrix(y_test,predictions))"
   ]
  },
  {
   "cell_type": "raw",
   "metadata": {},
   "source": [
    "Observation - Model is unable to classify 'CHARGED OFF' well as dataset is imbalanced."
   ]
  },
  {
   "cell_type": "markdown",
   "metadata": {},
   "source": [
    "# BALANCING THE DATASET"
   ]
  },
  {
   "cell_type": "code",
   "execution_count": 141,
   "metadata": {},
   "outputs": [
    {
     "data": {
      "text/plain": [
       "Index(['05113', '11650', '22690', '29597', '30723', '48052', '70466', '86630',\n",
       "       '93700', 'OTHER', 'OWN', 'RENT', 'loan_amnt', 'term', 'int_rate',\n",
       "       'installment', 'annual_inc', 'dti', 'earliest_cr_line', 'open_acc',\n",
       "       'pub_rec', 'revol_bal', 'revol_util', 'total_acc', 'mort_acc',\n",
       "       'pub_rec_bankruptcies', 'loan_repaid', 'A2', 'A3', 'A4', 'A5', 'B1',\n",
       "       'B2', 'B3', 'B4', 'B5', 'C1', 'C2', 'C3', 'C4', 'C5', 'D1', 'D2', 'D3',\n",
       "       'D4', 'D5', 'E1', 'E2', 'E3', 'E4', 'E5', 'F1', 'F2', 'F3', 'F4', 'F5',\n",
       "       'G1', 'G2', 'G3', 'G4', 'G5', 'verification_status_Source Verified',\n",
       "       'verification_status_Verified', 'initial_list_status_w',\n",
       "       'application_type_INDIVIDUAL', 'application_type_JOINT',\n",
       "       'purpose_credit_card', 'purpose_debt_consolidation',\n",
       "       'purpose_educational', 'purpose_home_improvement', 'purpose_house',\n",
       "       'purpose_major_purchase', 'purpose_medical', 'purpose_moving',\n",
       "       'purpose_other', 'purpose_renewable_energy', 'purpose_small_business',\n",
       "       'purpose_vacation', 'purpose_wedding'],\n",
       "      dtype='object')"
      ]
     },
     "execution_count": 141,
     "metadata": {},
     "output_type": "execute_result"
    }
   ],
   "source": [
    "data.columns"
   ]
  },
  {
   "cell_type": "code",
   "execution_count": 142,
   "metadata": {},
   "outputs": [
    {
     "data": {
      "text/plain": [
       "1    317696\n",
       "0     77523\n",
       "Name: loan_repaid, dtype: int64"
      ]
     },
     "execution_count": 142,
     "metadata": {},
     "output_type": "execute_result"
    }
   ],
   "source": [
    "data['loan_repaid'].value_counts()"
   ]
  },
  {
   "cell_type": "code",
   "execution_count": 143,
   "metadata": {},
   "outputs": [],
   "source": [
    "# Applying bootstrapping technique.\n",
    "\n",
    "from sklearn.utils import resample"
   ]
  },
  {
   "cell_type": "code",
   "execution_count": 144,
   "metadata": {},
   "outputs": [],
   "source": [
    "high = data[data['loan_repaid']==1]  # over represented class\n",
    "low = data[data['loan_repaid']==0]   # under represented class"
   ]
  },
  {
   "cell_type": "code",
   "execution_count": 145,
   "metadata": {},
   "outputs": [],
   "source": [
    "# upsampling the under represented class\n",
    "\n",
    "upsampled = resample(low , replace = True , n_samples = 175000)"
   ]
  },
  {
   "cell_type": "code",
   "execution_count": 146,
   "metadata": {},
   "outputs": [],
   "source": [
    "balanced_data = pd.concat([high , upsampled])"
   ]
  },
  {
   "cell_type": "code",
   "execution_count": 147,
   "metadata": {},
   "outputs": [],
   "source": [
    "from sklearn.utils import shuffle"
   ]
  },
  {
   "cell_type": "code",
   "execution_count": 148,
   "metadata": {},
   "outputs": [],
   "source": [
    "balanced_data = shuffle(balanced_data)"
   ]
  },
  {
   "cell_type": "code",
   "execution_count": 149,
   "metadata": {},
   "outputs": [
    {
     "data": {
      "text/plain": [
       "1    317696\n",
       "0    175000\n",
       "Name: loan_repaid, dtype: int64"
      ]
     },
     "execution_count": 149,
     "metadata": {},
     "output_type": "execute_result"
    }
   ],
   "source": [
    "balanced_data['loan_repaid'].value_counts()"
   ]
  },
  {
   "cell_type": "code",
   "execution_count": 150,
   "metadata": {},
   "outputs": [
    {
     "data": {
      "text/plain": [
       "<matplotlib.axes._subplots.AxesSubplot at 0xd266504cc8>"
      ]
     },
     "execution_count": 150,
     "metadata": {},
     "output_type": "execute_result"
    },
    {
     "data": {
      "image/png": "[encoded data removed]",
      "text/plain": [
       "<Figure size 432x288 with 1 Axes>"
      ]
     },
     "metadata": {
      "needs_background": "light"
     },
     "output_type": "display_data"
    }
   ],
   "source": [
    "sns.countplot(balanced_data['loan_repaid'])"
   ]
  },
  {
   "cell_type": "code",
   "execution_count": 151,
   "metadata": {},
   "outputs": [
    {
     "data": {
      "text/html": [
       "<div>\n",
       "<style scoped>\n",
       "    .dataframe tbody tr th:only-of-type {\n",
       "        vertical-align: middle;\n",
       "    }\n",
       "\n",
       "    .dataframe tbody tr th {\n",
       "        vertical-align: top;\n",
       "    }\n",
       "\n",
       "    .dataframe thead th {\n",
       "        text-align: right;\n",
       "    }\n",
       "</style>\n",
       "<table border=\"1\" class=\"dataframe\">\n",
       "  <thead>\n",
       "    <tr style=\"text-align: right;\">\n",
       "      <th></th>\n",
       "      <th>05113</th>\n",
       "      <th>11650</th>\n",
       "      <th>22690</th>\n",
       "      <th>29597</th>\n",
       "      <th>30723</th>\n",
       "      <th>48052</th>\n",
       "      <th>70466</th>\n",
       "      <th>86630</th>\n",
       "      <th>93700</th>\n",
       "      <th>OTHER</th>\n",
       "      <th>...</th>\n",
       "      <th>purpose_home_improvement</th>\n",
       "      <th>purpose_house</th>\n",
       "      <th>purpose_major_purchase</th>\n",
       "      <th>purpose_medical</th>\n",
       "      <th>purpose_moving</th>\n",
       "      <th>purpose_other</th>\n",
       "      <th>purpose_renewable_energy</th>\n",
       "      <th>purpose_small_business</th>\n",
       "      <th>purpose_vacation</th>\n",
       "      <th>purpose_wedding</th>\n",
       "    </tr>\n",
       "  </thead>\n",
       "  <tbody>\n",
       "    <tr>\n",
       "      <th>324134</th>\n",
       "      <td>0</td>\n",
       "      <td>0</td>\n",
       "      <td>0</td>\n",
       "      <td>0</td>\n",
       "      <td>0</td>\n",
       "      <td>0</td>\n",
       "      <td>1</td>\n",
       "      <td>0</td>\n",
       "      <td>0</td>\n",
       "      <td>0</td>\n",
       "      <td>...</td>\n",
       "      <td>0</td>\n",
       "      <td>0</td>\n",
       "      <td>0</td>\n",
       "      <td>0</td>\n",
       "      <td>0</td>\n",
       "      <td>0</td>\n",
       "      <td>0</td>\n",
       "      <td>0</td>\n",
       "      <td>0</td>\n",
       "      <td>0</td>\n",
       "    </tr>\n",
       "    <tr>\n",
       "      <th>32834</th>\n",
       "      <td>0</td>\n",
       "      <td>0</td>\n",
       "      <td>0</td>\n",
       "      <td>0</td>\n",
       "      <td>0</td>\n",
       "      <td>1</td>\n",
       "      <td>0</td>\n",
       "      <td>0</td>\n",
       "      <td>0</td>\n",
       "      <td>0</td>\n",
       "      <td>...</td>\n",
       "      <td>0</td>\n",
       "      <td>0</td>\n",
       "      <td>0</td>\n",
       "      <td>0</td>\n",
       "      <td>0</td>\n",
       "      <td>1</td>\n",
       "      <td>0</td>\n",
       "      <td>0</td>\n",
       "      <td>0</td>\n",
       "      <td>0</td>\n",
       "    </tr>\n",
       "    <tr>\n",
       "      <th>119730</th>\n",
       "      <td>0</td>\n",
       "      <td>0</td>\n",
       "      <td>0</td>\n",
       "      <td>0</td>\n",
       "      <td>1</td>\n",
       "      <td>0</td>\n",
       "      <td>0</td>\n",
       "      <td>0</td>\n",
       "      <td>0</td>\n",
       "      <td>0</td>\n",
       "      <td>...</td>\n",
       "      <td>0</td>\n",
       "      <td>0</td>\n",
       "      <td>0</td>\n",
       "      <td>0</td>\n",
       "      <td>0</td>\n",
       "      <td>0</td>\n",
       "      <td>0</td>\n",
       "      <td>0</td>\n",
       "      <td>0</td>\n",
       "      <td>0</td>\n",
       "    </tr>\n",
       "    <tr>\n",
       "      <th>312376</th>\n",
       "      <td>0</td>\n",
       "      <td>0</td>\n",
       "      <td>0</td>\n",
       "      <td>0</td>\n",
       "      <td>0</td>\n",
       "      <td>0</td>\n",
       "      <td>0</td>\n",
       "      <td>1</td>\n",
       "      <td>0</td>\n",
       "      <td>0</td>\n",
       "      <td>...</td>\n",
       "      <td>0</td>\n",
       "      <td>0</td>\n",
       "      <td>0</td>\n",
       "      <td>0</td>\n",
       "      <td>0</td>\n",
       "      <td>0</td>\n",
       "      <td>0</td>\n",
       "      <td>0</td>\n",
       "      <td>0</td>\n",
       "      <td>0</td>\n",
       "    </tr>\n",
       "    <tr>\n",
       "      <th>144845</th>\n",
       "      <td>0</td>\n",
       "      <td>0</td>\n",
       "      <td>0</td>\n",
       "      <td>0</td>\n",
       "      <td>1</td>\n",
       "      <td>0</td>\n",
       "      <td>0</td>\n",
       "      <td>0</td>\n",
       "      <td>0</td>\n",
       "      <td>0</td>\n",
       "      <td>...</td>\n",
       "      <td>0</td>\n",
       "      <td>0</td>\n",
       "      <td>0</td>\n",
       "      <td>0</td>\n",
       "      <td>0</td>\n",
       "      <td>0</td>\n",
       "      <td>0</td>\n",
       "      <td>0</td>\n",
       "      <td>0</td>\n",
       "      <td>0</td>\n",
       "    </tr>\n",
       "  </tbody>\n",
       "</table>\n",
       "<p>5 rows × 79 columns</p>\n",
       "</div>"
      ],
      "text/plain": [
       "        05113  11650  22690  29597  30723  48052  70466  86630  93700  OTHER  \\\n",
       "324134      0      0      0      0      0      0      1      0      0      0   \n",
       "32834       0      0      0      0      0      1      0      0      0      0   \n",
       "119730      0      0      0      0      1      0      0      0      0      0   \n",
       "312376      0      0      0      0      0      0      0      1      0      0   \n",
       "144845      0      0      0      0      1      0      0      0      0      0   \n",
       "\n",
       "        ...  purpose_home_improvement  purpose_house  purpose_major_purchase  \\\n",
       "324134  ...                         0              0                       0   \n",
       "32834   ...                         0              0                       0   \n",
       "119730  ...                         0              0                       0   \n",
       "312376  ...                         0              0                       0   \n",
       "144845  ...                         0              0                       0   \n",
       "\n",
       "        purpose_medical  purpose_moving  purpose_other  \\\n",
       "324134                0               0              0   \n",
       "32834                 0               0              1   \n",
       "119730                0               0              0   \n",
       "312376                0               0              0   \n",
       "144845                0               0              0   \n",
       "\n",
       "        purpose_renewable_energy  purpose_small_business  purpose_vacation  \\\n",
       "324134                         0                       0                 0   \n",
       "32834                          0                       0                 0   \n",
       "119730                         0                       0                 0   \n",
       "312376                         0                       0                 0   \n",
       "144845                         0                       0                 0   \n",
       "\n",
       "        purpose_wedding  \n",
       "324134                0  \n",
       "32834                 0  \n",
       "119730                0  \n",
       "312376                0  \n",
       "144845                0  \n",
       "\n",
       "[5 rows x 79 columns]"
      ]
     },
     "execution_count": 151,
     "metadata": {},
     "output_type": "execute_result"
    }
   ],
   "source": [
    "balanced_data.head()"
   ]
  },
  {
   "cell_type": "code",
   "execution_count": 152,
   "metadata": {},
   "outputs": [],
   "source": [
    "X = balanced_data.drop('loan_repaid',axis=1).values\n",
    "y = balanced_data['loan_repaid'].values"
   ]
  },
  {
   "cell_type": "code",
   "execution_count": 153,
   "metadata": {},
   "outputs": [],
   "source": [
    "X_train, X_test, y_train, y_test = train_test_split(X, y, test_size=0.2, random_state=101)"
   ]
  },
  {
   "cell_type": "code",
   "execution_count": 154,
   "metadata": {},
   "outputs": [
    {
     "data": {
      "text/plain": [
       "(394156, 78)"
      ]
     },
     "execution_count": 154,
     "metadata": {},
     "output_type": "execute_result"
    }
   ],
   "source": [
    "X_train.shape"
   ]
  },
  {
   "cell_type": "code",
   "execution_count": 155,
   "metadata": {},
   "outputs": [],
   "source": [
    "X_train = scaler.fit_transform(X_train)\n",
    "X_test = scaler.transform(X_test)"
   ]
  },
  {
   "cell_type": "code",
   "execution_count": 186,
   "metadata": {},
   "outputs": [],
   "source": [
    "model2 = Sequential()\n",
    "\n",
    "# https://stats.stackexchange.com/questions/181/how-to-choose-the-number-of-hidden-layers-and-nodes-in-a-feedforward-neural-netw\n",
    "\n",
    "\n",
    "# input layer\n",
    "model2.add(Dense(78,  activation='relu'))\n",
    "model2.add(Dropout(0.2))\n",
    "\n",
    "# hidden layer - 1\n",
    "model2.add(Dense(39, activation='relu'))\n",
    "model2.add(Dropout(0.2))\n",
    "\n",
    "# hidden layer - 2\n",
    "model2.add(Dense(19, activation='relu'))\n",
    "model2.add(Dropout(0.2))\n",
    "\n",
    "# hidden layer - 3\n",
    "model2.add(Dense(9, activation='relu'))\n",
    "model2.add(Dropout(0.2))\n",
    "\n",
    "\n",
    "# output layer\n",
    "model2.add(Dense(units=1,activation='sigmoid'))\n",
    "\n",
    "# Compile model\n",
    "model2.compile(loss='binary_crossentropy', optimizer='adam')"
   ]
  },
  {
   "cell_type": "code",
   "execution_count": 187,
   "metadata": {},
   "outputs": [
    {
     "name": "stdout",
     "output_type": "stream",
     "text": [
      "Train on 394156 samples, validate on 98540 samples\n",
      "Epoch 1/25\n",
      "394156/394156 [==============================] - 12s 31us/step - loss: 0.3782 - val_loss: 0.3407\n",
      "Epoch 2/25\n",
      "394156/394156 [==============================] - 11s 28us/step - loss: 0.3442 - val_loss: 0.3390\n",
      "Epoch 3/25\n",
      "394156/394156 [==============================] - 11s 27us/step - loss: 0.3416 - val_loss: 0.3380\n",
      "Epoch 4/25\n",
      "394156/394156 [==============================] - 11s 27us/step - loss: 0.3404 - val_loss: 0.3382\n",
      "Epoch 5/25\n",
      "394156/394156 [==============================] - 11s 27us/step - loss: 0.3398 - val_loss: 0.3372\n",
      "Epoch 6/25\n",
      "394156/394156 [==============================] - 11s 27us/step - loss: 0.3388 - val_loss: 0.3360\n",
      "Epoch 7/25\n",
      "394156/394156 [==============================] - 11s 27us/step - loss: 0.3383 - val_loss: 0.3358\n",
      "Epoch 8/25\n",
      "394156/394156 [==============================] - 11s 27us/step - loss: 0.3378 - val_loss: 0.3351\n",
      "Epoch 9/25\n",
      "394156/394156 [==============================] - 11s 27us/step - loss: 0.3371 - val_loss: 0.3354\n",
      "Epoch 10/25\n",
      "394156/394156 [==============================] - 11s 27us/step - loss: 0.3367 - val_loss: 0.3349\n",
      "Epoch 11/25\n",
      "394156/394156 [==============================] - 11s 28us/step - loss: 0.3364 - val_loss: 0.3346\n",
      "Epoch 12/25\n",
      "394156/394156 [==============================] - 11s 27us/step - loss: 0.3357 - val_loss: 0.3350\n",
      "Epoch 13/25\n",
      "394156/394156 [==============================] - 10s 27us/step - loss: 0.3353 - val_loss: 0.3336\n",
      "Epoch 14/25\n",
      "394156/394156 [==============================] - 11s 27us/step - loss: 0.3351 - val_loss: 0.3334\n",
      "Epoch 15/25\n",
      "394156/394156 [==============================] - 11s 27us/step - loss: 0.3348 - val_loss: 0.3339\n",
      "Epoch 16/25\n",
      "394156/394156 [==============================] - 11s 27us/step - loss: 0.3342 - val_loss: 0.3328\n",
      "Epoch 17/25\n",
      "394156/394156 [==============================] - 11s 27us/step - loss: 0.3339 - val_loss: 0.3339\n",
      "Epoch 18/25\n",
      "394156/394156 [==============================] - 11s 27us/step - loss: 0.3335 - val_loss: 0.3330\n",
      "Epoch 19/25\n",
      "394156/394156 [==============================] - 11s 28us/step - loss: 0.3331 - val_loss: 0.3338\n",
      "Epoch 20/25\n",
      "394156/394156 [==============================] - 11s 27us/step - loss: 0.3332 - val_loss: 0.3320\n",
      "Epoch 21/25\n",
      "394156/394156 [==============================] - 11s 27us/step - loss: 0.3328 - val_loss: 0.3329\n",
      "Epoch 22/25\n",
      "394156/394156 [==============================] - 11s 27us/step - loss: 0.3323 - val_loss: 0.3334\n",
      "Epoch 23/25\n",
      "394156/394156 [==============================] - 11s 28us/step - loss: 0.3322 - val_loss: 0.3325\n",
      "Epoch 24/25\n",
      "394156/394156 [==============================] - 11s 27us/step - loss: 0.3320 - val_loss: 0.3324\n",
      "Epoch 25/25\n",
      "394156/394156 [==============================] - 11s 28us/step - loss: 0.3318 - val_loss: 0.3325\n"
     ]
    },
    {
     "data": {
      "text/plain": [
       "<keras.callbacks.callbacks.History at 0xd259d4ba88>"
      ]
     },
     "execution_count": 187,
     "metadata": {},
     "output_type": "execute_result"
    }
   ],
   "source": [
    "model2.fit(X_train , y_train , validation_data=[X_test , y_test] , batch_size=256 , epochs=25)"
   ]
  },
  {
   "cell_type": "code",
   "execution_count": 188,
   "metadata": {},
   "outputs": [],
   "source": [
    "losses2 = pd.DataFrame(model2.history.history)"
   ]
  },
  {
   "cell_type": "code",
   "execution_count": 189,
   "metadata": {},
   "outputs": [
    {
     "data": {
      "text/html": [
       "<div>\n",
       "<style scoped>\n",
       "    .dataframe tbody tr th:only-of-type {\n",
       "        vertical-align: middle;\n",
       "    }\n",
       "\n",
       "    .dataframe tbody tr th {\n",
       "        vertical-align: top;\n",
       "    }\n",
       "\n",
       "    .dataframe thead th {\n",
       "        text-align: right;\n",
       "    }\n",
       "</style>\n",
       "<table border=\"1\" class=\"dataframe\">\n",
       "  <thead>\n",
       "    <tr style=\"text-align: right;\">\n",
       "      <th></th>\n",
       "      <th>val_loss</th>\n",
       "      <th>loss</th>\n",
       "    </tr>\n",
       "  </thead>\n",
       "  <tbody>\n",
       "    <tr>\n",
       "      <th>0</th>\n",
       "      <td>0.340740</td>\n",
       "      <td>0.378224</td>\n",
       "    </tr>\n",
       "    <tr>\n",
       "      <th>1</th>\n",
       "      <td>0.338983</td>\n",
       "      <td>0.344221</td>\n",
       "    </tr>\n",
       "    <tr>\n",
       "      <th>2</th>\n",
       "      <td>0.338013</td>\n",
       "      <td>0.341563</td>\n",
       "    </tr>\n",
       "    <tr>\n",
       "      <th>3</th>\n",
       "      <td>0.338192</td>\n",
       "      <td>0.340378</td>\n",
       "    </tr>\n",
       "    <tr>\n",
       "      <th>4</th>\n",
       "      <td>0.337176</td>\n",
       "      <td>0.339832</td>\n",
       "    </tr>\n",
       "  </tbody>\n",
       "</table>\n",
       "</div>"
      ],
      "text/plain": [
       "   val_loss      loss\n",
       "0  0.340740  0.378224\n",
       "1  0.338983  0.344221\n",
       "2  0.338013  0.341563\n",
       "3  0.338192  0.340378\n",
       "4  0.337176  0.339832"
      ]
     },
     "execution_count": 189,
     "metadata": {},
     "output_type": "execute_result"
    }
   ],
   "source": [
    "losses2.head()"
   ]
  },
  {
   "cell_type": "code",
   "execution_count": 190,
   "metadata": {},
   "outputs": [
    {
     "data": {
      "text/plain": [
       "<matplotlib.axes._subplots.AxesSubplot at 0xd258291788>"
      ]
     },
     "execution_count": 190,
     "metadata": {},
     "output_type": "execute_result"
    },
    {
     "data": {
      "image/png": "[encoded data removed]",
      "text/plain": [
       "<Figure size 432x288 with 1 Axes>"
      ]
     },
     "metadata": {
      "needs_background": "light"
     },
     "output_type": "display_data"
    }
   ],
   "source": [
    "losses2.plot()"
   ]
  },
  {
   "cell_type": "code",
   "execution_count": 191,
   "metadata": {},
   "outputs": [],
   "source": [
    "pred = model2.predict_classes(X_test)"
   ]
  },
  {
   "cell_type": "code",
   "execution_count": 192,
   "metadata": {},
   "outputs": [
    {
     "name": "stdout",
     "output_type": "stream",
     "text": [
      "              precision    recall  f1-score   support\n",
      "\n",
      "           0       0.83      0.63      0.72     35302\n",
      "           1       0.82      0.93      0.87     63238\n",
      "\n",
      "    accuracy                           0.82     98540\n",
      "   macro avg       0.83      0.78      0.79     98540\n",
      "weighted avg       0.82      0.82      0.82     98540\n",
      "\n"
     ]
    }
   ],
   "source": [
    "print(metrics.classification_report(y_test , pred))"
   ]
  },
  {
   "cell_type": "code",
   "execution_count": 193,
   "metadata": {},
   "outputs": [
    {
     "name": "stdout",
     "output_type": "stream",
     "text": [
      "[[22247 13055]\n",
      " [ 4422 58816]]\n"
     ]
    }
   ],
   "source": [
    "print(metrics.confusion_matrix(y_test,pred))"
   ]
  },
  {
   "cell_type": "code",
   "execution_count": 194,
   "metadata": {},
   "outputs": [
    {
     "data": {
      "text/plain": [
       "0.7801323069484911"
      ]
     },
     "execution_count": 194,
     "metadata": {},
     "output_type": "execute_result"
    }
   ],
   "source": [
    "# AUC Score\n",
    "auc_score = metrics.roc_auc_score(y_test , pred)\n",
    "auc_score"
   ]
  },
  {
   "cell_type": "code",
   "execution_count": 199,
   "metadata": {},
   "outputs": [],
   "source": [
    "prob = pd.DataFrame(model2.predict_proba(X_test))"
   ]
  },
  {
   "cell_type": "code",
   "execution_count": 200,
   "metadata": {},
   "outputs": [
    {
     "data": {
      "text/plain": [
       "<matplotlib.legend.Legend at 0xd259855b08>"
      ]
     },
     "execution_count": 200,
     "metadata": {},
     "output_type": "execute_result"
    },
    {
     "data": {
      "image/png": "[encoded data removed]",
      "text/plain": [
       "<Figure size 432x288 with 1 Axes>"
      ]
     },
     "metadata": {
      "needs_background": "light"
     },
     "output_type": "display_data"
    }
   ],
   "source": [
    "# ROC Curve\n",
    "\n",
    "fpr , tpr , threshold = metrics.roc_curve(y_test,prob,drop_intermediate=False)\n",
    "plt.plot(fpr , tpr , label = 'ROC Curve (area = %0.2f)' %auc_score)\n",
    "plt.plot([0,1] , [0,1] , 'k--')\n",
    "plt.xlabel('False positive rate (1 - specificity)')\n",
    "plt.ylabel('True positive rate (Sensitivity)')\n",
    "plt.title('ROC Curve')\n",
    "plt.legend()"
   ]
  }
 ],
 "metadata": {
  "kernelspec": {
   "display_name": "Python 3",
   "language": "python",
   "name": "python3"
  },
  "language_info": {
   "codemirror_mode": {
    "name": "ipython",
    "version": 3
   },
   "file_extension": ".py",
   "mimetype": "text/x-python",
   "name": "python",
   "nbconvert_exporter": "python",
   "pygments_lexer": "ipython3",
   "version": "3.7.6"
  }
 },
 "nbformat": 4,
 "nbformat_minor": 4
}
