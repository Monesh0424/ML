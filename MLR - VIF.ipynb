{
 "cells": [
  {
   "cell_type": "code",
   "execution_count": 1,
   "metadata": {},
   "outputs": [],
   "source": [
    "# Importing libraries\n",
    "\n",
    "import numpy as np\n",
    "import pandas as pd\n",
    "import seaborn as sns\n",
    "import matplotlib.pyplot as plt\n",
    "%matplotlib inline"
   ]
  },
  {
   "cell_type": "code",
   "execution_count": 2,
   "metadata": {},
   "outputs": [
    {
     "data": {
      "text/html": [
       "<div>\n",
       "<style scoped>\n",
       "    .dataframe tbody tr th:only-of-type {\n",
       "        vertical-align: middle;\n",
       "    }\n",
       "\n",
       "    .dataframe tbody tr th {\n",
       "        vertical-align: top;\n",
       "    }\n",
       "\n",
       "    .dataframe thead th {\n",
       "        text-align: right;\n",
       "    }\n",
       "</style>\n",
       "<table border=\"1\" class=\"dataframe\">\n",
       "  <thead>\n",
       "    <tr style=\"text-align: right;\">\n",
       "      <th></th>\n",
       "      <th>price</th>\n",
       "      <th>area</th>\n",
       "      <th>bedrooms</th>\n",
       "      <th>bathrooms</th>\n",
       "      <th>stories</th>\n",
       "      <th>mainroad</th>\n",
       "      <th>guestroom</th>\n",
       "      <th>basement</th>\n",
       "      <th>hotwaterheating</th>\n",
       "      <th>airconditioning</th>\n",
       "      <th>parking</th>\n",
       "      <th>prefarea</th>\n",
       "      <th>furnishingstatus</th>\n",
       "    </tr>\n",
       "  </thead>\n",
       "  <tbody>\n",
       "    <tr>\n",
       "      <th>0</th>\n",
       "      <td>13300000</td>\n",
       "      <td>7420</td>\n",
       "      <td>4</td>\n",
       "      <td>2</td>\n",
       "      <td>3</td>\n",
       "      <td>yes</td>\n",
       "      <td>no</td>\n",
       "      <td>no</td>\n",
       "      <td>no</td>\n",
       "      <td>yes</td>\n",
       "      <td>2</td>\n",
       "      <td>yes</td>\n",
       "      <td>furnished</td>\n",
       "    </tr>\n",
       "    <tr>\n",
       "      <th>1</th>\n",
       "      <td>12250000</td>\n",
       "      <td>8960</td>\n",
       "      <td>4</td>\n",
       "      <td>4</td>\n",
       "      <td>4</td>\n",
       "      <td>yes</td>\n",
       "      <td>no</td>\n",
       "      <td>no</td>\n",
       "      <td>no</td>\n",
       "      <td>yes</td>\n",
       "      <td>3</td>\n",
       "      <td>no</td>\n",
       "      <td>furnished</td>\n",
       "    </tr>\n",
       "    <tr>\n",
       "      <th>2</th>\n",
       "      <td>12250000</td>\n",
       "      <td>9960</td>\n",
       "      <td>3</td>\n",
       "      <td>2</td>\n",
       "      <td>2</td>\n",
       "      <td>yes</td>\n",
       "      <td>no</td>\n",
       "      <td>yes</td>\n",
       "      <td>no</td>\n",
       "      <td>no</td>\n",
       "      <td>2</td>\n",
       "      <td>yes</td>\n",
       "      <td>semi-furnished</td>\n",
       "    </tr>\n",
       "    <tr>\n",
       "      <th>3</th>\n",
       "      <td>12215000</td>\n",
       "      <td>7500</td>\n",
       "      <td>4</td>\n",
       "      <td>2</td>\n",
       "      <td>2</td>\n",
       "      <td>yes</td>\n",
       "      <td>no</td>\n",
       "      <td>yes</td>\n",
       "      <td>no</td>\n",
       "      <td>yes</td>\n",
       "      <td>3</td>\n",
       "      <td>yes</td>\n",
       "      <td>furnished</td>\n",
       "    </tr>\n",
       "    <tr>\n",
       "      <th>4</th>\n",
       "      <td>11410000</td>\n",
       "      <td>7420</td>\n",
       "      <td>4</td>\n",
       "      <td>1</td>\n",
       "      <td>2</td>\n",
       "      <td>yes</td>\n",
       "      <td>yes</td>\n",
       "      <td>yes</td>\n",
       "      <td>no</td>\n",
       "      <td>yes</td>\n",
       "      <td>2</td>\n",
       "      <td>no</td>\n",
       "      <td>furnished</td>\n",
       "    </tr>\n",
       "  </tbody>\n",
       "</table>\n",
       "</div>"
      ],
      "text/plain": [
       "      price  area  bedrooms  bathrooms  stories mainroad guestroom basement  \\\n",
       "0  13300000  7420         4          2        3      yes        no       no   \n",
       "1  12250000  8960         4          4        4      yes        no       no   \n",
       "2  12250000  9960         3          2        2      yes        no      yes   \n",
       "3  12215000  7500         4          2        2      yes        no      yes   \n",
       "4  11410000  7420         4          1        2      yes       yes      yes   \n",
       "\n",
       "  hotwaterheating airconditioning  parking prefarea furnishingstatus  \n",
       "0              no             yes        2      yes        furnished  \n",
       "1              no             yes        3       no        furnished  \n",
       "2              no              no        2      yes   semi-furnished  \n",
       "3              no             yes        3      yes        furnished  \n",
       "4              no             yes        2       no        furnished  "
      ]
     },
     "execution_count": 2,
     "metadata": {},
     "output_type": "execute_result"
    }
   ],
   "source": [
    "# Importing data\n",
    "\n",
    "df = pd.read_csv(r'C:\\Users\\USER\\Desktop\\packt\\ML projects\\CODES\\2. Multiple Linear Regression\\Multiple_Linear_Regression\\Housing.csv')\n",
    "df.head()"
   ]
  },
  {
   "cell_type": "code",
   "execution_count": 3,
   "metadata": {},
   "outputs": [
    {
     "name": "stdout",
     "output_type": "stream",
     "text": [
      "<class 'pandas.core.frame.DataFrame'>\n",
      "RangeIndex: 545 entries, 0 to 544\n",
      "Data columns (total 13 columns):\n",
      " #   Column            Non-Null Count  Dtype \n",
      "---  ------            --------------  ----- \n",
      " 0   price             545 non-null    int64 \n",
      " 1   area              545 non-null    int64 \n",
      " 2   bedrooms          545 non-null    int64 \n",
      " 3   bathrooms         545 non-null    int64 \n",
      " 4   stories           545 non-null    int64 \n",
      " 5   mainroad          545 non-null    object\n",
      " 6   guestroom         545 non-null    object\n",
      " 7   basement          545 non-null    object\n",
      " 8   hotwaterheating   545 non-null    object\n",
      " 9   airconditioning   545 non-null    object\n",
      " 10  parking           545 non-null    int64 \n",
      " 11  prefarea          545 non-null    object\n",
      " 12  furnishingstatus  545 non-null    object\n",
      "dtypes: int64(6), object(7)\n",
      "memory usage: 55.5+ KB\n",
      "None\n"
     ]
    }
   ],
   "source": [
    "print(df.info())"
   ]
  },
  {
   "cell_type": "code",
   "execution_count": 4,
   "metadata": {},
   "outputs": [
    {
     "data": {
      "text/plain": [
       "<matplotlib.axes._subplots.AxesSubplot at 0x9d33c3d208>"
      ]
     },
     "execution_count": 4,
     "metadata": {},
     "output_type": "execute_result"
    },
    {
     "data": {
      "image/png": "[encoded data removed]",
      "text/plain": [
       "<Figure size 432x288 with 2 Axes>"
      ]
     },
     "metadata": {
      "needs_background": "light"
     },
     "output_type": "display_data"
    }
   ],
   "source": [
    "# Check for missing values\n",
    "\n",
    "sns.heatmap(df.isnull() , yticklabels=False)"
   ]
  },
  {
   "cell_type": "code",
   "execution_count": 5,
   "metadata": {},
   "outputs": [
    {
     "data": {
      "text/html": [
       "<div>\n",
       "<style scoped>\n",
       "    .dataframe tbody tr th:only-of-type {\n",
       "        vertical-align: middle;\n",
       "    }\n",
       "\n",
       "    .dataframe tbody tr th {\n",
       "        vertical-align: top;\n",
       "    }\n",
       "\n",
       "    .dataframe thead th {\n",
       "        text-align: right;\n",
       "    }\n",
       "</style>\n",
       "<table border=\"1\" class=\"dataframe\">\n",
       "  <thead>\n",
       "    <tr style=\"text-align: right;\">\n",
       "      <th></th>\n",
       "      <th>price</th>\n",
       "      <th>area</th>\n",
       "      <th>bedrooms</th>\n",
       "      <th>bathrooms</th>\n",
       "      <th>stories</th>\n",
       "      <th>mainroad</th>\n",
       "      <th>guestroom</th>\n",
       "      <th>basement</th>\n",
       "      <th>hotwaterheating</th>\n",
       "      <th>airconditioning</th>\n",
       "      <th>parking</th>\n",
       "      <th>prefarea</th>\n",
       "      <th>furnishingstatus</th>\n",
       "    </tr>\n",
       "  </thead>\n",
       "  <tbody>\n",
       "    <tr>\n",
       "      <th>0</th>\n",
       "      <td>13300000</td>\n",
       "      <td>7420</td>\n",
       "      <td>4</td>\n",
       "      <td>2</td>\n",
       "      <td>3</td>\n",
       "      <td>yes</td>\n",
       "      <td>no</td>\n",
       "      <td>no</td>\n",
       "      <td>no</td>\n",
       "      <td>yes</td>\n",
       "      <td>2</td>\n",
       "      <td>yes</td>\n",
       "      <td>furnished</td>\n",
       "    </tr>\n",
       "    <tr>\n",
       "      <th>1</th>\n",
       "      <td>12250000</td>\n",
       "      <td>8960</td>\n",
       "      <td>4</td>\n",
       "      <td>4</td>\n",
       "      <td>4</td>\n",
       "      <td>yes</td>\n",
       "      <td>no</td>\n",
       "      <td>no</td>\n",
       "      <td>no</td>\n",
       "      <td>yes</td>\n",
       "      <td>3</td>\n",
       "      <td>no</td>\n",
       "      <td>furnished</td>\n",
       "    </tr>\n",
       "    <tr>\n",
       "      <th>2</th>\n",
       "      <td>12250000</td>\n",
       "      <td>9960</td>\n",
       "      <td>3</td>\n",
       "      <td>2</td>\n",
       "      <td>2</td>\n",
       "      <td>yes</td>\n",
       "      <td>no</td>\n",
       "      <td>yes</td>\n",
       "      <td>no</td>\n",
       "      <td>no</td>\n",
       "      <td>2</td>\n",
       "      <td>yes</td>\n",
       "      <td>semi-furnished</td>\n",
       "    </tr>\n",
       "    <tr>\n",
       "      <th>3</th>\n",
       "      <td>12215000</td>\n",
       "      <td>7500</td>\n",
       "      <td>4</td>\n",
       "      <td>2</td>\n",
       "      <td>2</td>\n",
       "      <td>yes</td>\n",
       "      <td>no</td>\n",
       "      <td>yes</td>\n",
       "      <td>no</td>\n",
       "      <td>yes</td>\n",
       "      <td>3</td>\n",
       "      <td>yes</td>\n",
       "      <td>furnished</td>\n",
       "    </tr>\n",
       "    <tr>\n",
       "      <th>4</th>\n",
       "      <td>11410000</td>\n",
       "      <td>7420</td>\n",
       "      <td>4</td>\n",
       "      <td>1</td>\n",
       "      <td>2</td>\n",
       "      <td>yes</td>\n",
       "      <td>yes</td>\n",
       "      <td>yes</td>\n",
       "      <td>no</td>\n",
       "      <td>yes</td>\n",
       "      <td>2</td>\n",
       "      <td>no</td>\n",
       "      <td>furnished</td>\n",
       "    </tr>\n",
       "  </tbody>\n",
       "</table>\n",
       "</div>"
      ],
      "text/plain": [
       "      price  area  bedrooms  bathrooms  stories mainroad guestroom basement  \\\n",
       "0  13300000  7420         4          2        3      yes        no       no   \n",
       "1  12250000  8960         4          4        4      yes        no       no   \n",
       "2  12250000  9960         3          2        2      yes        no      yes   \n",
       "3  12215000  7500         4          2        2      yes        no      yes   \n",
       "4  11410000  7420         4          1        2      yes       yes      yes   \n",
       "\n",
       "  hotwaterheating airconditioning  parking prefarea furnishingstatus  \n",
       "0              no             yes        2      yes        furnished  \n",
       "1              no             yes        3       no        furnished  \n",
       "2              no              no        2      yes   semi-furnished  \n",
       "3              no             yes        3      yes        furnished  \n",
       "4              no             yes        2       no        furnished  "
      ]
     },
     "execution_count": 5,
     "metadata": {},
     "output_type": "execute_result"
    }
   ],
   "source": [
    "df.head()"
   ]
  },
  {
   "cell_type": "markdown",
   "metadata": {},
   "source": [
    "# Objective - Predicting price of a house given multiple independant features"
   ]
  },
  {
   "cell_type": "code",
   "execution_count": 6,
   "metadata": {},
   "outputs": [],
   "source": [
    "# Encoding categorical data with factor level-2\n",
    "\n",
    "df['mainroad'] = df['mainroad'].map({'yes':1 , 'no':0})\n",
    "df['guestroom'] = df['guestroom'].map({'yes':1 , 'no':0})\n",
    "df['basement'] = df['basement'].map({'yes':1 , 'no':0})\n",
    "df['hotwaterheating'] = df['hotwaterheating'].map({'yes':1 , 'no':0})\n",
    "df['airconditioning'] = df['airconditioning'].map({'yes':1 , 'no':0})\n",
    "df['prefarea'] = df['prefarea'].map({'yes':1 , 'no':0})"
   ]
  },
  {
   "cell_type": "code",
   "execution_count": 7,
   "metadata": {},
   "outputs": [],
   "source": [
    "# Encoding categorical data with dummy variables\n",
    "\n",
    "x = pd.get_dummies(df['furnishingstatus'],drop_first=True)\n",
    "df = pd.concat([x,df],axis=1)\n",
    "df.drop('furnishingstatus',axis=1,inplace=True)"
   ]
  },
  {
   "cell_type": "code",
   "execution_count": 8,
   "metadata": {},
   "outputs": [
    {
     "data": {
      "text/html": [
       "<div>\n",
       "<style scoped>\n",
       "    .dataframe tbody tr th:only-of-type {\n",
       "        vertical-align: middle;\n",
       "    }\n",
       "\n",
       "    .dataframe tbody tr th {\n",
       "        vertical-align: top;\n",
       "    }\n",
       "\n",
       "    .dataframe thead th {\n",
       "        text-align: right;\n",
       "    }\n",
       "</style>\n",
       "<table border=\"1\" class=\"dataframe\">\n",
       "  <thead>\n",
       "    <tr style=\"text-align: right;\">\n",
       "      <th></th>\n",
       "      <th>semi-furnished</th>\n",
       "      <th>unfurnished</th>\n",
       "      <th>price</th>\n",
       "      <th>area</th>\n",
       "      <th>bedrooms</th>\n",
       "      <th>bathrooms</th>\n",
       "      <th>stories</th>\n",
       "      <th>mainroad</th>\n",
       "      <th>guestroom</th>\n",
       "      <th>basement</th>\n",
       "      <th>hotwaterheating</th>\n",
       "      <th>airconditioning</th>\n",
       "      <th>parking</th>\n",
       "      <th>prefarea</th>\n",
       "    </tr>\n",
       "  </thead>\n",
       "  <tbody>\n",
       "    <tr>\n",
       "      <th>0</th>\n",
       "      <td>0</td>\n",
       "      <td>0</td>\n",
       "      <td>13300000</td>\n",
       "      <td>7420</td>\n",
       "      <td>4</td>\n",
       "      <td>2</td>\n",
       "      <td>3</td>\n",
       "      <td>1</td>\n",
       "      <td>0</td>\n",
       "      <td>0</td>\n",
       "      <td>0</td>\n",
       "      <td>1</td>\n",
       "      <td>2</td>\n",
       "      <td>1</td>\n",
       "    </tr>\n",
       "    <tr>\n",
       "      <th>1</th>\n",
       "      <td>0</td>\n",
       "      <td>0</td>\n",
       "      <td>12250000</td>\n",
       "      <td>8960</td>\n",
       "      <td>4</td>\n",
       "      <td>4</td>\n",
       "      <td>4</td>\n",
       "      <td>1</td>\n",
       "      <td>0</td>\n",
       "      <td>0</td>\n",
       "      <td>0</td>\n",
       "      <td>1</td>\n",
       "      <td>3</td>\n",
       "      <td>0</td>\n",
       "    </tr>\n",
       "    <tr>\n",
       "      <th>2</th>\n",
       "      <td>1</td>\n",
       "      <td>0</td>\n",
       "      <td>12250000</td>\n",
       "      <td>9960</td>\n",
       "      <td>3</td>\n",
       "      <td>2</td>\n",
       "      <td>2</td>\n",
       "      <td>1</td>\n",
       "      <td>0</td>\n",
       "      <td>1</td>\n",
       "      <td>0</td>\n",
       "      <td>0</td>\n",
       "      <td>2</td>\n",
       "      <td>1</td>\n",
       "    </tr>\n",
       "    <tr>\n",
       "      <th>3</th>\n",
       "      <td>0</td>\n",
       "      <td>0</td>\n",
       "      <td>12215000</td>\n",
       "      <td>7500</td>\n",
       "      <td>4</td>\n",
       "      <td>2</td>\n",
       "      <td>2</td>\n",
       "      <td>1</td>\n",
       "      <td>0</td>\n",
       "      <td>1</td>\n",
       "      <td>0</td>\n",
       "      <td>1</td>\n",
       "      <td>3</td>\n",
       "      <td>1</td>\n",
       "    </tr>\n",
       "    <tr>\n",
       "      <th>4</th>\n",
       "      <td>0</td>\n",
       "      <td>0</td>\n",
       "      <td>11410000</td>\n",
       "      <td>7420</td>\n",
       "      <td>4</td>\n",
       "      <td>1</td>\n",
       "      <td>2</td>\n",
       "      <td>1</td>\n",
       "      <td>1</td>\n",
       "      <td>1</td>\n",
       "      <td>0</td>\n",
       "      <td>1</td>\n",
       "      <td>2</td>\n",
       "      <td>0</td>\n",
       "    </tr>\n",
       "  </tbody>\n",
       "</table>\n",
       "</div>"
      ],
      "text/plain": [
       "   semi-furnished  unfurnished     price  area  bedrooms  bathrooms  stories  \\\n",
       "0               0            0  13300000  7420         4          2        3   \n",
       "1               0            0  12250000  8960         4          4        4   \n",
       "2               1            0  12250000  9960         3          2        2   \n",
       "3               0            0  12215000  7500         4          2        2   \n",
       "4               0            0  11410000  7420         4          1        2   \n",
       "\n",
       "   mainroad  guestroom  basement  hotwaterheating  airconditioning  parking  \\\n",
       "0         1          0         0                0                1        2   \n",
       "1         1          0         0                0                1        3   \n",
       "2         1          0         1                0                0        2   \n",
       "3         1          0         1                0                1        3   \n",
       "4         1          1         1                0                1        2   \n",
       "\n",
       "   prefarea  \n",
       "0         1  \n",
       "1         0  \n",
       "2         1  \n",
       "3         1  \n",
       "4         0  "
      ]
     },
     "execution_count": 8,
     "metadata": {},
     "output_type": "execute_result"
    }
   ],
   "source": [
    "df.head()"
   ]
  },
  {
   "cell_type": "code",
   "execution_count": 9,
   "metadata": {},
   "outputs": [
    {
     "data": {
      "text/html": [
       "<div>\n",
       "<style scoped>\n",
       "    .dataframe tbody tr th:only-of-type {\n",
       "        vertical-align: middle;\n",
       "    }\n",
       "\n",
       "    .dataframe tbody tr th {\n",
       "        vertical-align: top;\n",
       "    }\n",
       "\n",
       "    .dataframe thead th {\n",
       "        text-align: right;\n",
       "    }\n",
       "</style>\n",
       "<table border=\"1\" class=\"dataframe\">\n",
       "  <thead>\n",
       "    <tr style=\"text-align: right;\">\n",
       "      <th></th>\n",
       "      <th>semi-furnished</th>\n",
       "      <th>unfurnished</th>\n",
       "      <th>price</th>\n",
       "      <th>area</th>\n",
       "      <th>bedrooms</th>\n",
       "      <th>bathrooms</th>\n",
       "      <th>stories</th>\n",
       "      <th>mainroad</th>\n",
       "      <th>guestroom</th>\n",
       "      <th>basement</th>\n",
       "      <th>hotwaterheating</th>\n",
       "      <th>airconditioning</th>\n",
       "      <th>parking</th>\n",
       "      <th>prefarea</th>\n",
       "      <th>area_per_bedroom</th>\n",
       "      <th>bbratio</th>\n",
       "    </tr>\n",
       "  </thead>\n",
       "  <tbody>\n",
       "    <tr>\n",
       "      <th>0</th>\n",
       "      <td>0</td>\n",
       "      <td>0</td>\n",
       "      <td>13300000</td>\n",
       "      <td>7420</td>\n",
       "      <td>4</td>\n",
       "      <td>2</td>\n",
       "      <td>3</td>\n",
       "      <td>1</td>\n",
       "      <td>0</td>\n",
       "      <td>0</td>\n",
       "      <td>0</td>\n",
       "      <td>1</td>\n",
       "      <td>2</td>\n",
       "      <td>1</td>\n",
       "      <td>1855.0</td>\n",
       "      <td>0.500000</td>\n",
       "    </tr>\n",
       "    <tr>\n",
       "      <th>1</th>\n",
       "      <td>0</td>\n",
       "      <td>0</td>\n",
       "      <td>12250000</td>\n",
       "      <td>8960</td>\n",
       "      <td>4</td>\n",
       "      <td>4</td>\n",
       "      <td>4</td>\n",
       "      <td>1</td>\n",
       "      <td>0</td>\n",
       "      <td>0</td>\n",
       "      <td>0</td>\n",
       "      <td>1</td>\n",
       "      <td>3</td>\n",
       "      <td>0</td>\n",
       "      <td>2240.0</td>\n",
       "      <td>1.000000</td>\n",
       "    </tr>\n",
       "    <tr>\n",
       "      <th>2</th>\n",
       "      <td>1</td>\n",
       "      <td>0</td>\n",
       "      <td>12250000</td>\n",
       "      <td>9960</td>\n",
       "      <td>3</td>\n",
       "      <td>2</td>\n",
       "      <td>2</td>\n",
       "      <td>1</td>\n",
       "      <td>0</td>\n",
       "      <td>1</td>\n",
       "      <td>0</td>\n",
       "      <td>0</td>\n",
       "      <td>2</td>\n",
       "      <td>1</td>\n",
       "      <td>3320.0</td>\n",
       "      <td>0.666667</td>\n",
       "    </tr>\n",
       "    <tr>\n",
       "      <th>3</th>\n",
       "      <td>0</td>\n",
       "      <td>0</td>\n",
       "      <td>12215000</td>\n",
       "      <td>7500</td>\n",
       "      <td>4</td>\n",
       "      <td>2</td>\n",
       "      <td>2</td>\n",
       "      <td>1</td>\n",
       "      <td>0</td>\n",
       "      <td>1</td>\n",
       "      <td>0</td>\n",
       "      <td>1</td>\n",
       "      <td>3</td>\n",
       "      <td>1</td>\n",
       "      <td>1875.0</td>\n",
       "      <td>0.500000</td>\n",
       "    </tr>\n",
       "    <tr>\n",
       "      <th>4</th>\n",
       "      <td>0</td>\n",
       "      <td>0</td>\n",
       "      <td>11410000</td>\n",
       "      <td>7420</td>\n",
       "      <td>4</td>\n",
       "      <td>1</td>\n",
       "      <td>2</td>\n",
       "      <td>1</td>\n",
       "      <td>1</td>\n",
       "      <td>1</td>\n",
       "      <td>0</td>\n",
       "      <td>1</td>\n",
       "      <td>2</td>\n",
       "      <td>0</td>\n",
       "      <td>1855.0</td>\n",
       "      <td>0.250000</td>\n",
       "    </tr>\n",
       "  </tbody>\n",
       "</table>\n",
       "</div>"
      ],
      "text/plain": [
       "   semi-furnished  unfurnished     price  area  bedrooms  bathrooms  stories  \\\n",
       "0               0            0  13300000  7420         4          2        3   \n",
       "1               0            0  12250000  8960         4          4        4   \n",
       "2               1            0  12250000  9960         3          2        2   \n",
       "3               0            0  12215000  7500         4          2        2   \n",
       "4               0            0  11410000  7420         4          1        2   \n",
       "\n",
       "   mainroad  guestroom  basement  hotwaterheating  airconditioning  parking  \\\n",
       "0         1          0         0                0                1        2   \n",
       "1         1          0         0                0                1        3   \n",
       "2         1          0         1                0                0        2   \n",
       "3         1          0         1                0                1        3   \n",
       "4         1          1         1                0                1        2   \n",
       "\n",
       "   prefarea  area_per_bedroom   bbratio  \n",
       "0         1            1855.0  0.500000  \n",
       "1         0            2240.0  1.000000  \n",
       "2         1            3320.0  0.666667  \n",
       "3         1            1875.0  0.500000  \n",
       "4         0            1855.0  0.250000  "
      ]
     },
     "execution_count": 9,
     "metadata": {},
     "output_type": "execute_result"
    }
   ],
   "source": [
    "# FEATURE ADDITION - 1\n",
    "\n",
    "df['area_per_bedroom'] = df['area'] / df['bedrooms']\n",
    "\n",
    "# FEATURE ADDITION - 2\n",
    "df['bbratio'] = df['bathrooms'] / df['bedrooms']\n",
    "\n",
    "df.head()"
   ]
  },
  {
   "cell_type": "code",
   "execution_count": 10,
   "metadata": {},
   "outputs": [
    {
     "data": {
      "text/html": [
       "<div>\n",
       "<style scoped>\n",
       "    .dataframe tbody tr th:only-of-type {\n",
       "        vertical-align: middle;\n",
       "    }\n",
       "\n",
       "    .dataframe tbody tr th {\n",
       "        vertical-align: top;\n",
       "    }\n",
       "\n",
       "    .dataframe thead th {\n",
       "        text-align: right;\n",
       "    }\n",
       "</style>\n",
       "<table border=\"1\" class=\"dataframe\">\n",
       "  <thead>\n",
       "    <tr style=\"text-align: right;\">\n",
       "      <th></th>\n",
       "      <th>semi-furnished</th>\n",
       "      <th>unfurnished</th>\n",
       "      <th>price</th>\n",
       "      <th>area</th>\n",
       "      <th>bedrooms</th>\n",
       "      <th>bathrooms</th>\n",
       "      <th>stories</th>\n",
       "      <th>mainroad</th>\n",
       "      <th>guestroom</th>\n",
       "      <th>basement</th>\n",
       "      <th>hotwaterheating</th>\n",
       "      <th>airconditioning</th>\n",
       "      <th>parking</th>\n",
       "      <th>prefarea</th>\n",
       "      <th>area_per_bedroom</th>\n",
       "      <th>bbratio</th>\n",
       "    </tr>\n",
       "  </thead>\n",
       "  <tbody>\n",
       "    <tr>\n",
       "      <th>0</th>\n",
       "      <td>0.0</td>\n",
       "      <td>0.0</td>\n",
       "      <td>1.000000</td>\n",
       "      <td>0.396564</td>\n",
       "      <td>0.6</td>\n",
       "      <td>0.333333</td>\n",
       "      <td>0.666667</td>\n",
       "      <td>1.0</td>\n",
       "      <td>0.0</td>\n",
       "      <td>0.0</td>\n",
       "      <td>0.0</td>\n",
       "      <td>1.0</td>\n",
       "      <td>0.666667</td>\n",
       "      <td>1.0</td>\n",
       "      <td>0.237016</td>\n",
       "      <td>0.4</td>\n",
       "    </tr>\n",
       "    <tr>\n",
       "      <th>1</th>\n",
       "      <td>0.0</td>\n",
       "      <td>0.0</td>\n",
       "      <td>0.909091</td>\n",
       "      <td>0.502405</td>\n",
       "      <td>0.6</td>\n",
       "      <td>1.000000</td>\n",
       "      <td>1.000000</td>\n",
       "      <td>1.0</td>\n",
       "      <td>0.0</td>\n",
       "      <td>0.0</td>\n",
       "      <td>0.0</td>\n",
       "      <td>1.0</td>\n",
       "      <td>1.000000</td>\n",
       "      <td>0.0</td>\n",
       "      <td>0.298923</td>\n",
       "      <td>1.0</td>\n",
       "    </tr>\n",
       "    <tr>\n",
       "      <th>2</th>\n",
       "      <td>1.0</td>\n",
       "      <td>0.0</td>\n",
       "      <td>0.909091</td>\n",
       "      <td>0.571134</td>\n",
       "      <td>0.4</td>\n",
       "      <td>0.333333</td>\n",
       "      <td>0.333333</td>\n",
       "      <td>1.0</td>\n",
       "      <td>0.0</td>\n",
       "      <td>1.0</td>\n",
       "      <td>0.0</td>\n",
       "      <td>0.0</td>\n",
       "      <td>0.666667</td>\n",
       "      <td>1.0</td>\n",
       "      <td>0.472584</td>\n",
       "      <td>0.6</td>\n",
       "    </tr>\n",
       "    <tr>\n",
       "      <th>3</th>\n",
       "      <td>0.0</td>\n",
       "      <td>0.0</td>\n",
       "      <td>0.906061</td>\n",
       "      <td>0.402062</td>\n",
       "      <td>0.6</td>\n",
       "      <td>0.333333</td>\n",
       "      <td>0.333333</td>\n",
       "      <td>1.0</td>\n",
       "      <td>0.0</td>\n",
       "      <td>1.0</td>\n",
       "      <td>0.0</td>\n",
       "      <td>1.0</td>\n",
       "      <td>1.000000</td>\n",
       "      <td>1.0</td>\n",
       "      <td>0.240232</td>\n",
       "      <td>0.4</td>\n",
       "    </tr>\n",
       "    <tr>\n",
       "      <th>4</th>\n",
       "      <td>0.0</td>\n",
       "      <td>0.0</td>\n",
       "      <td>0.836364</td>\n",
       "      <td>0.396564</td>\n",
       "      <td>0.6</td>\n",
       "      <td>0.000000</td>\n",
       "      <td>0.333333</td>\n",
       "      <td>1.0</td>\n",
       "      <td>1.0</td>\n",
       "      <td>1.0</td>\n",
       "      <td>0.0</td>\n",
       "      <td>1.0</td>\n",
       "      <td>0.666667</td>\n",
       "      <td>0.0</td>\n",
       "      <td>0.237016</td>\n",
       "      <td>0.1</td>\n",
       "    </tr>\n",
       "  </tbody>\n",
       "</table>\n",
       "</div>"
      ],
      "text/plain": [
       "   semi-furnished  unfurnished     price      area  bedrooms  bathrooms  \\\n",
       "0             0.0          0.0  1.000000  0.396564       0.6   0.333333   \n",
       "1             0.0          0.0  0.909091  0.502405       0.6   1.000000   \n",
       "2             1.0          0.0  0.909091  0.571134       0.4   0.333333   \n",
       "3             0.0          0.0  0.906061  0.402062       0.6   0.333333   \n",
       "4             0.0          0.0  0.836364  0.396564       0.6   0.000000   \n",
       "\n",
       "    stories  mainroad  guestroom  basement  hotwaterheating  airconditioning  \\\n",
       "0  0.666667       1.0        0.0       0.0              0.0              1.0   \n",
       "1  1.000000       1.0        0.0       0.0              0.0              1.0   \n",
       "2  0.333333       1.0        0.0       1.0              0.0              0.0   \n",
       "3  0.333333       1.0        0.0       1.0              0.0              1.0   \n",
       "4  0.333333       1.0        1.0       1.0              0.0              1.0   \n",
       "\n",
       "    parking  prefarea  area_per_bedroom  bbratio  \n",
       "0  0.666667       1.0          0.237016      0.4  \n",
       "1  1.000000       0.0          0.298923      1.0  \n",
       "2  0.666667       1.0          0.472584      0.6  \n",
       "3  1.000000       1.0          0.240232      0.4  \n",
       "4  0.666667       0.0          0.237016      0.1  "
      ]
     },
     "execution_count": 10,
     "metadata": {},
     "output_type": "execute_result"
    }
   ],
   "source": [
    "# Rescaling the data\n",
    "\n",
    "# normalisation   : min - max scaling , all values will be in between 0 and 1\n",
    "# standardisation : mean-0 , std dev-1  \n",
    "\n",
    "def normalisation(x):\n",
    "    return (x-min(x))/ (max(x)-min(x))\n",
    "\n",
    "df = df.apply(normalisation)\n",
    "df.head()"
   ]
  },
  {
   "cell_type": "markdown",
   "metadata": {},
   "source": [
    "# DATA SPLIT"
   ]
  },
  {
   "cell_type": "code",
   "execution_count": 11,
   "metadata": {},
   "outputs": [],
   "source": [
    "import statsmodels.api as sm\n",
    "\n",
    "X = sm.add_constant(df[['area', 'bedrooms', 'bathrooms', 'stories', 'mainroad',\n",
    "       'guestroom', 'basement', 'hotwaterheating', 'airconditioning',\n",
    "       'parking', 'prefarea', 'semi-furnished', 'unfurnished',\n",
    "       'area_per_bedroom', 'bbratio']])\n",
    "y = df['price']"
   ]
  },
  {
   "cell_type": "code",
   "execution_count": 12,
   "metadata": {},
   "outputs": [],
   "source": [
    "from sklearn.model_selection import train_test_split"
   ]
  },
  {
   "cell_type": "code",
   "execution_count": 13,
   "metadata": {},
   "outputs": [],
   "source": [
    "X_train, X_test, y_train, y_test = train_test_split(X, y, test_size=0.3, random_state=100)"
   ]
  },
  {
   "cell_type": "markdown",
   "metadata": {},
   "source": [
    "# MODEL BUILDING"
   ]
  },
  {
   "cell_type": "code",
   "execution_count": 14,
   "metadata": {},
   "outputs": [],
   "source": [
    "lm = sm.OLS(y_train,X_train).fit()"
   ]
  },
  {
   "cell_type": "markdown",
   "metadata": {},
   "source": [
    "# MODEL DIAGNOSIS"
   ]
  },
  {
   "cell_type": "code",
   "execution_count": 15,
   "metadata": {},
   "outputs": [
    {
     "name": "stdout",
     "output_type": "stream",
     "text": [
      "                 Results: Ordinary least squares\n",
      "==================================================================\n",
      "Model:              OLS              Adj. R-squared:     0.673    \n",
      "Dependent Variable: price            AIC:                -736.8051\n",
      "Date:               2020-05-03 19:09 BIC:                -673.7203\n",
      "No. Observations:   381              Log-Likelihood:     384.40   \n",
      "Df Model:           15               F-statistic:        53.12    \n",
      "Df Residuals:       365              Prob (F-statistic): 4.56e-82 \n",
      "R-squared:          0.686            Scale:              0.0081248\n",
      "------------------------------------------------------------------\n",
      "                    Coef.  Std.Err.    t    P>|t|   [0.025  0.975]\n",
      "------------------------------------------------------------------\n",
      "const               0.0603   0.0586  1.0286 0.3043 -0.0550  0.1755\n",
      "area                0.5745   0.1341  4.2853 0.0000  0.3109  0.8381\n",
      "bedrooms           -0.0587   0.0929 -0.6315 0.5281 -0.2414  0.1241\n",
      "bathrooms           0.2336   0.1264  1.8486 0.0653 -0.0149  0.4821\n",
      "stories             0.1018   0.0193  5.2652 0.0000  0.0638  0.1398\n",
      "mainroad            0.0511   0.0143  3.5799 0.0004  0.0231  0.0792\n",
      "guestroom           0.0260   0.0138  1.8874 0.0599 -0.0011  0.0530\n",
      "basement            0.0208   0.0111  1.8774 0.0613 -0.0010  0.0426\n",
      "hotwaterheating     0.0875   0.0216  4.0481 0.0001  0.0450  0.1301\n",
      "airconditioning     0.0663   0.0113  5.8679 0.0000  0.0441  0.0885\n",
      "parking             0.0562   0.0181  3.1042 0.0021  0.0206  0.0917\n",
      "prefarea            0.0566   0.0119  4.7722 0.0000  0.0333  0.0799\n",
      "semi-furnished     -0.0008   0.0118 -0.0681 0.9457 -0.0240  0.0224\n",
      "unfurnished        -0.0323   0.0127 -2.5501 0.0112 -0.0572 -0.0074\n",
      "area_per_bedroom   -0.3135   0.1465 -2.1390 0.0331 -0.6016 -0.0253\n",
      "bbratio             0.0439   0.1042  0.4213 0.6738 -0.1610  0.2488\n",
      "------------------------------------------------------------------\n",
      "Omnibus:              87.283       Durbin-Watson:          2.087  \n",
      "Prob(Omnibus):        0.000        Jarque-Bera (JB):       276.328\n",
      "Skew:                 1.023        Prob(JB):               0.000  \n",
      "Kurtosis:             6.636        Condition No.:          82     \n",
      "==================================================================\n",
      "\n"
     ]
    }
   ],
   "source": [
    "print(lm.summary2())"
   ]
  },
  {
   "cell_type": "code",
   "execution_count": 16,
   "metadata": {},
   "outputs": [],
   "source": [
    "# VIF\n",
    "\n",
    "def vif_cal(input_data, dependent_col):\n",
    "    vif_df = pd.DataFrame( columns = ['Var', 'Vif'])\n",
    "    x_vars=input_data.drop([dependent_col], axis=1)\n",
    "    xvar_names=x_vars.columns\n",
    "    for i in range(0,xvar_names.shape[0]):\n",
    "        y=x_vars[xvar_names[i]] \n",
    "        x=x_vars[xvar_names.drop(xvar_names[i])]\n",
    "        rsq=sm.OLS(y,x).fit().rsquared  \n",
    "        vif=round(1/(1-rsq),2)\n",
    "        vif_df.loc[i] = [xvar_names[i], vif]\n",
    "    return vif_df.sort_values(by = 'Vif', axis=0, ascending=False, inplace=False)"
   ]
  },
  {
   "cell_type": "code",
   "execution_count": 17,
   "metadata": {},
   "outputs": [
    {
     "name": "stdout",
     "output_type": "stream",
     "text": [
      "                 Var    Vif\n",
      "13  area_per_bedroom  68.71\n",
      "2               area  57.52\n",
      "14           bbratio  29.25\n",
      "4          bathrooms  11.11\n",
      "3           bedrooms  10.68\n",
      "6           mainroad   7.91\n",
      "5            stories   2.81\n",
      "0     semi-furnished   2.61\n",
      "1        unfurnished   2.38\n",
      "8           basement   2.05\n",
      "11           parking   2.01\n",
      "10   airconditioning   1.77\n",
      "12          prefarea   1.51\n",
      "7          guestroom   1.49\n",
      "9    hotwaterheating   1.10\n"
     ]
    }
   ],
   "source": [
    "vif = vif_cal(df,'price')\n",
    "print(vif)"
   ]
  },
  {
   "cell_type": "markdown",
   "metadata": {},
   "source": [
    "# MODEL BUILDING - REMOVING 'bbratio'"
   ]
  },
  {
   "cell_type": "code",
   "execution_count": 18,
   "metadata": {},
   "outputs": [],
   "source": [
    "X = sm.add_constant(df[['area', 'bedrooms', 'bathrooms', 'stories', 'mainroad',\n",
    "       'guestroom', 'basement', 'hotwaterheating', 'airconditioning',\n",
    "       'parking', 'prefarea', 'semi-furnished', 'unfurnished',\n",
    "       'area_per_bedroom']])\n",
    "y = df['price']"
   ]
  },
  {
   "cell_type": "code",
   "execution_count": 19,
   "metadata": {},
   "outputs": [],
   "source": [
    "X_train, X_test, y_train, y_test = train_test_split(X, y, test_size=0.3, random_state=100)"
   ]
  },
  {
   "cell_type": "code",
   "execution_count": 20,
   "metadata": {},
   "outputs": [],
   "source": [
    "lm2 = sm.OLS(y_train,X_train).fit()"
   ]
  },
  {
   "cell_type": "code",
   "execution_count": 21,
   "metadata": {},
   "outputs": [
    {
     "name": "stdout",
     "output_type": "stream",
     "text": [
      "                 Results: Ordinary least squares\n",
      "==================================================================\n",
      "Model:              OLS              Adj. R-squared:     0.674    \n",
      "Dependent Variable: price            AIC:                -738.6198\n",
      "Date:               2020-05-03 19:09 BIC:                -679.4778\n",
      "No. Observations:   381              Log-Likelihood:     384.31   \n",
      "Df Model:           14               F-statistic:        57.03    \n",
      "Df Residuals:       366              Prob (F-statistic): 6.46e-83 \n",
      "R-squared:          0.686            Scale:              0.0081065\n",
      "------------------------------------------------------------------\n",
      "                    Coef.  Std.Err.    t    P>|t|   [0.025  0.975]\n",
      "------------------------------------------------------------------\n",
      "const               0.0799   0.0357  2.2392 0.0257  0.0097  0.1500\n",
      "area                0.5483   0.1186  4.6221 0.0000  0.3150  0.7815\n",
      "bedrooms           -0.0845   0.0699 -1.2094 0.2273 -0.2218  0.0529\n",
      "bathrooms           0.2850   0.0328  8.6863 0.0000  0.2205  0.3495\n",
      "stories             0.1022   0.0193  5.3009 0.0000  0.0643  0.1401\n",
      "mainroad            0.0509   0.0143  3.5682 0.0004  0.0228  0.0789\n",
      "guestroom           0.0265   0.0137  1.9409 0.0530 -0.0003  0.0534\n",
      "basement            0.0210   0.0111  1.8984 0.0584 -0.0008  0.0427\n",
      "hotwaterheating     0.0866   0.0215  4.0307 0.0001  0.0443  0.1288\n",
      "airconditioning     0.0662   0.0113  5.8713 0.0000  0.0441  0.0884\n",
      "parking             0.0563   0.0181  3.1187 0.0020  0.0208  0.0919\n",
      "prefarea            0.0563   0.0118  4.7605 0.0000  0.0330  0.0795\n",
      "semi-furnished     -0.0009   0.0118 -0.0769 0.9388 -0.0241  0.0223\n",
      "unfurnished        -0.0323   0.0127 -2.5540 0.0111 -0.0572 -0.0074\n",
      "area_per_bedroom   -0.2840   0.1286 -2.2077 0.0279 -0.5370 -0.0310\n",
      "------------------------------------------------------------------\n",
      "Omnibus:              88.466       Durbin-Watson:          2.085  \n",
      "Prob(Omnibus):        0.000        Jarque-Bera (JB):       282.794\n",
      "Skew:                 1.034        Prob(JB):               0.000  \n",
      "Kurtosis:             6.679        Condition No.:          67     \n",
      "==================================================================\n",
      "\n"
     ]
    }
   ],
   "source": [
    "print(lm2.summary2())"
   ]
  },
  {
   "cell_type": "code",
   "execution_count": 22,
   "metadata": {},
   "outputs": [
    {
     "name": "stdout",
     "output_type": "stream",
     "text": [
      "                 Var    Vif\n",
      "2               area  20.72\n",
      "13  area_per_bedroom  18.44\n",
      "3           bedrooms  10.03\n",
      "6           mainroad   7.46\n",
      "5            stories   2.78\n",
      "0     semi-furnished   2.48\n",
      "1        unfurnished   2.20\n",
      "8           basement   2.03\n",
      "11           parking   2.00\n",
      "10   airconditioning   1.77\n",
      "4          bathrooms   1.71\n",
      "12          prefarea   1.51\n",
      "7          guestroom   1.48\n",
      "9    hotwaterheating   1.09\n"
     ]
    }
   ],
   "source": [
    "# vif after removing bbratio\n",
    "\n",
    "vif2 = vif_cal(df.drop('bbratio',axis=1),'price')\n",
    "print(vif2)"
   ]
  },
  {
   "cell_type": "markdown",
   "metadata": {},
   "source": [
    "# MODEL BUILDING - REMOVING 'bedrooms'"
   ]
  },
  {
   "cell_type": "code",
   "execution_count": 23,
   "metadata": {},
   "outputs": [],
   "source": [
    "X = sm.add_constant(df[['area', 'bathrooms', 'stories', 'mainroad',\n",
    "       'guestroom', 'basement', 'hotwaterheating', 'airconditioning',\n",
    "       'parking', 'prefarea', 'semi-furnished', 'unfurnished',\n",
    "       'area_per_bedroom']])\n",
    "y = df['price']"
   ]
  },
  {
   "cell_type": "code",
   "execution_count": 24,
   "metadata": {},
   "outputs": [],
   "source": [
    "X_train, X_test, y_train, y_test = train_test_split(X, y, test_size=0.3, random_state=100)"
   ]
  },
  {
   "cell_type": "code",
   "execution_count": 25,
   "metadata": {},
   "outputs": [],
   "source": [
    "lm3 = sm.OLS(y_train,X_train).fit()"
   ]
  },
  {
   "cell_type": "code",
   "execution_count": 26,
   "metadata": {},
   "outputs": [
    {
     "name": "stdout",
     "output_type": "stream",
     "text": [
      "                 Results: Ordinary least squares\n",
      "==================================================================\n",
      "Model:              OLS              Adj. R-squared:     0.673    \n",
      "Dependent Variable: price            AIC:                -739.1004\n",
      "Date:               2020-05-03 19:09 BIC:                -683.9012\n",
      "No. Observations:   381              Log-Likelihood:     383.55   \n",
      "Df Model:           13               F-statistic:        61.23    \n",
      "Df Residuals:       367              Prob (F-statistic): 1.66e-83 \n",
      "R-squared:          0.684            Scale:              0.0081167\n",
      "------------------------------------------------------------------\n",
      "                    Coef.  Std.Err.    t    P>|t|   [0.025  0.975]\n",
      "------------------------------------------------------------------\n",
      "const               0.0427   0.0181  2.3621 0.0187  0.0071  0.0782\n",
      "area                0.4326   0.0702  6.1645 0.0000  0.2946  0.5706\n",
      "bathrooms           0.2814   0.0327  8.6063 0.0000  0.2171  0.3457\n",
      "stories             0.1005   0.0192  5.2237 0.0000  0.0627  0.1384\n",
      "mainroad            0.0515   0.0143  3.6106 0.0003  0.0234  0.0795\n",
      "guestroom           0.0285   0.0136  2.1006 0.0364  0.0018  0.0552\n",
      "basement            0.0201   0.0110  1.8219 0.0693 -0.0016  0.0418\n",
      "hotwaterheating     0.0850   0.0215  3.9632 0.0001  0.0428  0.1272\n",
      "airconditioning     0.0667   0.0113  5.9094 0.0000  0.0445  0.0889\n",
      "parking             0.0573   0.0181  3.1751 0.0016  0.0218  0.0928\n",
      "prefarea            0.0576   0.0118  4.8953 0.0000  0.0345  0.0808\n",
      "semi-furnished      0.0000   0.0118  0.0008 0.9994 -0.0231  0.0231\n",
      "unfurnished        -0.0313   0.0126 -2.4777 0.0137 -0.0562 -0.0065\n",
      "area_per_bedroom   -0.1516   0.0676 -2.2420 0.0256 -0.2846 -0.0186\n",
      "------------------------------------------------------------------\n",
      "Omnibus:              88.924       Durbin-Watson:          2.085  \n",
      "Prob(Omnibus):        0.000        Jarque-Bera (JB):       283.140\n",
      "Skew:                 1.041        Prob(JB):               0.000  \n",
      "Kurtosis:             6.674        Condition No.:          33     \n",
      "==================================================================\n",
      "\n"
     ]
    }
   ],
   "source": [
    "print(lm3.summary2())"
   ]
  },
  {
   "cell_type": "code",
   "execution_count": 27,
   "metadata": {},
   "outputs": [
    {
     "name": "stdout",
     "output_type": "stream",
     "text": [
      "                 Var    Vif\n",
      "2               area  14.98\n",
      "12  area_per_bedroom  13.88\n",
      "5           mainroad   6.10\n",
      "4            stories   2.56\n",
      "0     semi-furnished   2.04\n",
      "10           parking   2.00\n",
      "7           basement   1.90\n",
      "9    airconditioning   1.76\n",
      "1        unfurnished   1.72\n",
      "3          bathrooms   1.69\n",
      "11          prefarea   1.50\n",
      "6          guestroom   1.48\n",
      "8    hotwaterheating   1.09\n"
     ]
    }
   ],
   "source": [
    "# vif after removing bbration , bedrooms\n",
    "\n",
    "vif3 = vif_cal(df.drop(['bbratio','bedrooms'],axis=1),'price')\n",
    "print(vif3)"
   ]
  },
  {
   "cell_type": "markdown",
   "metadata": {},
   "source": [
    "# MODEL BUILDING - REMOVING 'area_per_bedroom'"
   ]
  },
  {
   "cell_type": "code",
   "execution_count": 28,
   "metadata": {},
   "outputs": [],
   "source": [
    "X = sm.add_constant(df[['area', 'bathrooms', 'stories', 'mainroad',\n",
    "       'guestroom', 'basement', 'hotwaterheating', 'airconditioning',\n",
    "       'parking', 'prefarea', 'semi-furnished', 'unfurnished']])\n",
    "y = df['price']"
   ]
  },
  {
   "cell_type": "code",
   "execution_count": 29,
   "metadata": {},
   "outputs": [],
   "source": [
    "X_train, X_test, y_train, y_test = train_test_split(X, y, test_size=0.3, random_state=100)"
   ]
  },
  {
   "cell_type": "code",
   "execution_count": 30,
   "metadata": {},
   "outputs": [],
   "source": [
    "lm4 = sm.OLS(y_train,X_train).fit()"
   ]
  },
  {
   "cell_type": "code",
   "execution_count": 31,
   "metadata": {},
   "outputs": [
    {
     "name": "stdout",
     "output_type": "stream",
     "text": [
      "                 Results: Ordinary least squares\n",
      "==================================================================\n",
      "Model:              OLS              Adj. R-squared:     0.670    \n",
      "Dependent Variable: price            AIC:                -735.9177\n",
      "Date:               2020-05-03 19:09 BIC:                -684.6613\n",
      "No. Observations:   381              Log-Likelihood:     380.96   \n",
      "Df Model:           12               F-statistic:        65.20    \n",
      "Df Residuals:       368              Prob (F-statistic): 2.35e-83 \n",
      "R-squared:          0.680            Scale:              0.0082055\n",
      "------------------------------------------------------------------\n",
      "                    Coef.  Std.Err.    t    P>|t|   [0.025  0.975]\n",
      "------------------------------------------------------------------\n",
      "const               0.0313   0.0174  1.7948 0.0735 -0.0030  0.0655\n",
      "area                0.3008   0.0386  7.7994 0.0000  0.2250  0.3767\n",
      "bathrooms           0.2947   0.0323  9.1141 0.0000  0.2311  0.3582\n",
      "stories             0.1178   0.0177  6.6435 0.0000  0.0829  0.1527\n",
      "mainroad            0.0488   0.0143  3.4186 0.0007  0.0207  0.0769\n",
      "guestroom           0.0301   0.0136  2.2066 0.0280  0.0033  0.0569\n",
      "basement            0.0239   0.0110  2.1789 0.0300  0.0023  0.0455\n",
      "hotwaterheating     0.0864   0.0216  4.0068 0.0001  0.0440  0.1288\n",
      "airconditioning     0.0666   0.0113  5.8702 0.0000  0.0443  0.0889\n",
      "parking             0.0629   0.0180  3.4946 0.0005  0.0275  0.0982\n",
      "prefarea            0.0597   0.0118  5.0549 0.0000  0.0364  0.0829\n",
      "semi-furnished      0.0008   0.0118  0.0671 0.9466 -0.0225  0.0240\n",
      "unfurnished        -0.0318   0.0127 -2.5042 0.0127 -0.0568 -0.0068\n",
      "------------------------------------------------------------------\n",
      "Omnibus:              97.809       Durbin-Watson:          2.097  \n",
      "Prob(Omnibus):        0.000        Jarque-Bera (JB):       326.485\n",
      "Skew:                 1.131        Prob(JB):               0.000  \n",
      "Kurtosis:             6.930        Condition No.:          14     \n",
      "==================================================================\n",
      "\n"
     ]
    }
   ],
   "source": [
    "print(lm4.summary2())"
   ]
  },
  {
   "cell_type": "code",
   "execution_count": 32,
   "metadata": {},
   "outputs": [
    {
     "name": "stdout",
     "output_type": "stream",
     "text": [
      "                Var   Vif\n",
      "5          mainroad  5.51\n",
      "2              area  4.43\n",
      "4           stories  2.32\n",
      "0    semi-furnished  2.00\n",
      "10          parking  1.99\n",
      "7          basement  1.90\n",
      "9   airconditioning  1.76\n",
      "1       unfurnished  1.65\n",
      "3         bathrooms  1.62\n",
      "11         prefarea  1.50\n",
      "6         guestroom  1.47\n",
      "8   hotwaterheating  1.09\n"
     ]
    }
   ],
   "source": [
    "# vif after removing bbratio,bedrooms,area_per_bedroom\n",
    "\n",
    "vif4 = vif_cal(df.drop(['bbratio','bedrooms','area_per_bedroom'],axis=1),'price')\n",
    "print(vif4)"
   ]
  },
  {
   "cell_type": "markdown",
   "metadata": {},
   "source": [
    "# MODEL BUILDING - REMOVING 'semi-furnished'"
   ]
  },
  {
   "cell_type": "code",
   "execution_count": 33,
   "metadata": {},
   "outputs": [],
   "source": [
    "X = sm.add_constant(df[['area', 'bathrooms', 'stories', 'mainroad',\n",
    "       'guestroom', 'basement', 'hotwaterheating', 'airconditioning',\n",
    "       'parking', 'prefarea', 'unfurnished']])\n",
    "y = df['price']"
   ]
  },
  {
   "cell_type": "code",
   "execution_count": 34,
   "metadata": {},
   "outputs": [],
   "source": [
    "X_train, X_test, y_train, y_test = train_test_split(X, y, test_size=0.3, random_state=100)"
   ]
  },
  {
   "cell_type": "code",
   "execution_count": 35,
   "metadata": {},
   "outputs": [],
   "source": [
    "lm5 = sm.OLS(y_train,X_train).fit()"
   ]
  },
  {
   "cell_type": "code",
   "execution_count": 36,
   "metadata": {},
   "outputs": [
    {
     "name": "stdout",
     "output_type": "stream",
     "text": [
      "                 Results: Ordinary least squares\n",
      "==================================================================\n",
      "Model:              OLS              Adj. R-squared:     0.671    \n",
      "Dependent Variable: price            AIC:                -737.9130\n",
      "Date:               2020-05-03 19:09 BIC:                -690.5994\n",
      "No. Observations:   381              Log-Likelihood:     380.96   \n",
      "Df Model:           11               F-statistic:        71.31    \n",
      "Df Residuals:       369              Prob (F-statistic): 2.73e-84 \n",
      "R-squared:          0.680            Scale:              0.0081834\n",
      "------------------------------------------------------------------\n",
      "                    Coef.  Std.Err.    t    P>|t|   [0.025  0.975]\n",
      "------------------------------------------------------------------\n",
      "const               0.0319   0.0149  2.1423 0.0328  0.0026  0.0611\n",
      "area                0.3006   0.0383  7.8508 0.0000  0.2253  0.3758\n",
      "bathrooms           0.2947   0.0323  9.1324 0.0000  0.2313  0.3582\n",
      "stories             0.1178   0.0177  6.6538 0.0000  0.0830  0.1526\n",
      "mainroad            0.0488   0.0143  3.4230 0.0007  0.0208  0.0768\n",
      "guestroom           0.0301   0.0136  2.2111 0.0276  0.0033  0.0569\n",
      "basement            0.0239   0.0110  2.1826 0.0297  0.0024  0.0455\n",
      "hotwaterheating     0.0864   0.0215  4.0137 0.0001  0.0441  0.1287\n",
      "airconditioning     0.0665   0.0113  5.8948 0.0000  0.0443  0.0887\n",
      "parking             0.0629   0.0180  3.5010 0.0005  0.0276  0.0982\n",
      "prefarea            0.0596   0.0118  5.0613 0.0000  0.0365  0.0828\n",
      "unfurnished        -0.0323   0.0102 -3.1694 0.0017 -0.0524 -0.0123\n",
      "------------------------------------------------------------------\n",
      "Omnibus:              97.661       Durbin-Watson:          2.097  \n",
      "Prob(Omnibus):        0.000        Jarque-Bera (JB):       325.388\n",
      "Skew:                 1.130        Prob(JB):               0.000  \n",
      "Kurtosis:             6.923        Condition No.:          13     \n",
      "==================================================================\n",
      "\n"
     ]
    }
   ],
   "source": [
    "print(lm5.summary2())"
   ]
  },
  {
   "cell_type": "code",
   "execution_count": 37,
   "metadata": {},
   "outputs": [
    {
     "name": "stdout",
     "output_type": "stream",
     "text": [
      "                Var   Vif\n",
      "4          mainroad  4.85\n",
      "1              area  4.36\n",
      "3           stories  2.30\n",
      "9           parking  1.99\n",
      "6          basement  1.86\n",
      "8   airconditioning  1.75\n",
      "2         bathrooms  1.62\n",
      "10         prefarea  1.49\n",
      "5         guestroom  1.47\n",
      "0       unfurnished  1.34\n",
      "7   hotwaterheating  1.08\n"
     ]
    }
   ],
   "source": [
    "# vif after removing bbratio,bedrooms,area_per_bedroom,semi-furnished\n",
    "\n",
    "vif5 = vif_cal(df.drop(['bbratio','bedrooms','area_per_bedroom','semi-furnished'],axis=1),'price')\n",
    "print(vif5)"
   ]
  },
  {
   "cell_type": "markdown",
   "metadata": {},
   "source": [
    "# MODEL BUILDING - REMOVING 'basement'"
   ]
  },
  {
   "cell_type": "code",
   "execution_count": 38,
   "metadata": {},
   "outputs": [],
   "source": [
    "X = sm.add_constant(df[['area', 'bathrooms', 'stories', 'mainroad',\n",
    "       'guestroom', 'hotwaterheating', 'airconditioning',\n",
    "       'parking', 'prefarea', 'unfurnished']])\n",
    "y = df['price']"
   ]
  },
  {
   "cell_type": "code",
   "execution_count": 39,
   "metadata": {},
   "outputs": [],
   "source": [
    "X_train, X_test, y_train, y_test = train_test_split(X, y, test_size=0.3, random_state=100)"
   ]
  },
  {
   "cell_type": "code",
   "execution_count": 40,
   "metadata": {},
   "outputs": [],
   "source": [
    "lm6 = sm.OLS(y_train,X_train).fit()"
   ]
  },
  {
   "cell_type": "code",
   "execution_count": 41,
   "metadata": {},
   "outputs": [
    {
     "name": "stdout",
     "output_type": "stream",
     "text": [
      "                 Results: Ordinary least squares\n",
      "==================================================================\n",
      "Model:              OLS              Adj. R-squared:     0.667    \n",
      "Dependent Variable: price            AIC:                -735.0258\n",
      "Date:               2020-05-03 19:09 BIC:                -691.6550\n",
      "No. Observations:   381              Log-Likelihood:     378.51   \n",
      "Df Model:           10               F-statistic:        77.18    \n",
      "Df Residuals:       370              Prob (F-statistic): 3.13e-84 \n",
      "R-squared:          0.676            Scale:              0.0082667\n",
      "------------------------------------------------------------------\n",
      "                    Coef.  Std.Err.    t    P>|t|   [0.025  0.975]\n",
      "------------------------------------------------------------------\n",
      "const               0.0390   0.0146  2.6700 0.0079  0.0103  0.0677\n",
      "area                0.2990   0.0385  7.7716 0.0000  0.2233  0.3746\n",
      "bathrooms           0.3028   0.0322  9.3968 0.0000  0.2394  0.3661\n",
      "stories             0.1081   0.0172  6.2773 0.0000  0.0743  0.1420\n",
      "mainroad            0.0497   0.0143  3.4681 0.0006  0.0215  0.0778\n",
      "guestroom           0.0402   0.0129  3.1244 0.0019  0.0149  0.0655\n",
      "hotwaterheating     0.0876   0.0216  4.0510 0.0001  0.0451  0.1301\n",
      "airconditioning     0.0682   0.0113  6.0281 0.0000  0.0460  0.0905\n",
      "parking             0.0629   0.0180  3.4823 0.0006  0.0274  0.0983\n",
      "prefarea            0.0637   0.0117  5.4519 0.0000  0.0408  0.0867\n",
      "unfurnished        -0.0337   0.0102 -3.2946 0.0011 -0.0538 -0.0136\n",
      "------------------------------------------------------------------\n",
      "Omnibus:              97.054       Durbin-Watson:          2.099  \n",
      "Prob(Omnibus):        0.000        Jarque-Bera (JB):       322.034\n",
      "Skew:                 1.124        Prob(JB):               0.000  \n",
      "Kurtosis:             6.902        Condition No.:          13     \n",
      "==================================================================\n",
      "\n"
     ]
    }
   ],
   "source": [
    "print(lm6.summary2())"
   ]
  },
  {
   "cell_type": "code",
   "execution_count": 42,
   "metadata": {},
   "outputs": [
    {
     "name": "stdout",
     "output_type": "stream",
     "text": [
      "               Var   Vif\n",
      "4         mainroad  4.58\n",
      "1             area  4.36\n",
      "3          stories  2.21\n",
      "8          parking  1.99\n",
      "7  airconditioning  1.75\n",
      "2        bathrooms  1.59\n",
      "9         prefarea  1.44\n",
      "0      unfurnished  1.34\n",
      "5        guestroom  1.29\n",
      "6  hotwaterheating  1.08\n"
     ]
    }
   ],
   "source": [
    "# vif after removing bbratio,bedrooms,area_per_bedroom,semi-furnished,basement\n",
    "\n",
    "vif6 = vif_cal(df.drop(['bbratio','bedrooms','area_per_bedroom','semi-furnished','basement'],axis=1),'price')\n",
    "print(vif6)"
   ]
  },
  {
   "cell_type": "raw",
   "metadata": {},
   "source": [
    "As vif values of all features are < 5 , we proceed for further process"
   ]
  },
  {
   "cell_type": "markdown",
   "metadata": {},
   "source": [
    "# MODEL DIAGNOSIS"
   ]
  },
  {
   "cell_type": "code",
   "execution_count": 43,
   "metadata": {},
   "outputs": [
    {
     "data": {
      "text/plain": [
       "Text(0.5, 1.0, 'Normality test')"
      ]
     },
     "execution_count": 43,
     "metadata": {},
     "output_type": "execute_result"
    },
    {
     "data": {
      "image/png": "[encoded data removed]",
      "text/plain": [
       "<Figure size 432x288 with 1 Axes>"
      ]
     },
     "metadata": {
      "needs_background": "light"
     },
     "output_type": "display_data"
    }
   ],
   "source": [
    "# Residual Analysis\n",
    "\n",
    "resid = lm6.resid_pearson\n",
    "x = sm.ProbPlot(resid)\n",
    "x.ppplot(line='45')\n",
    "plt.title('Normality test')"
   ]
  },
  {
   "cell_type": "code",
   "execution_count": 44,
   "metadata": {},
   "outputs": [
    {
     "data": {
      "text/plain": [
       "Text(0.5, 1.0, 'Test for homoscedasticity')"
      ]
     },
     "execution_count": 44,
     "metadata": {},
     "output_type": "execute_result"
    },
    {
     "data": {
      "image/png": "[encoded data removed]",
      "text/plain": [
       "<Figure size 432x288 with 1 Axes>"
      ]
     },
     "metadata": {
      "needs_background": "light"
     },
     "output_type": "display_data"
    }
   ],
   "source": [
    "# Test for homoscedasticity\n",
    "\n",
    "def standardisation(x):\n",
    "    return (x-x.mean())/x.std()\n",
    "\n",
    "\n",
    "plt.scatter(standardisation(lm6.fittedvalues) , standardisation(lm6.resid))\n",
    "plt.xlabel('standardized predicted values')\n",
    "plt.ylabel('standardized std errors')\n",
    "plt.title('Test for homoscedasticity')"
   ]
  },
  {
   "cell_type": "markdown",
   "metadata": {},
   "source": [
    "# PREDICTIONS"
   ]
  },
  {
   "cell_type": "code",
   "execution_count": 45,
   "metadata": {},
   "outputs": [],
   "source": [
    "pred6 = lm6.predict(X_test)"
   ]
  },
  {
   "cell_type": "markdown",
   "metadata": {},
   "source": [
    "# ACCURACY"
   ]
  },
  {
   "cell_type": "code",
   "execution_count": 46,
   "metadata": {},
   "outputs": [
    {
     "data": {
      "text/plain": [
       "0.10001092336807832"
      ]
     },
     "execution_count": 46,
     "metadata": {},
     "output_type": "execute_result"
    }
   ],
   "source": [
    "# RMSE\n",
    "\n",
    "from sklearn import metrics\n",
    "\n",
    "np.sqrt(metrics.mean_squared_error(y_test,pred6))"
   ]
  },
  {
   "cell_type": "code",
   "execution_count": 47,
   "metadata": {},
   "outputs": [
    {
     "data": {
      "text/plain": [
       "Text(0.5, 1.0, 'actual vs pred')"
      ]
     },
     "execution_count": 47,
     "metadata": {},
     "output_type": "execute_result"
    },
    {
     "data": {
      "image/png": "[encoded data removed]",
      "text/plain": [
       "<Figure size 432x288 with 1 Axes>"
      ]
     },
     "metadata": {
      "needs_background": "light"
     },
     "output_type": "display_data"
    }
   ],
   "source": [
    "# Actual vs pred\n",
    "\n",
    "c = [i for i in range(1,165,1)]\n",
    "\n",
    "plt.plot(c,y_test,'red')\n",
    "plt.plot(c,pred6,'blue')\n",
    "plt.xlabel('index')\n",
    "plt.ylabel('price')\n",
    "plt.title('actual vs pred')"
   ]
  },
  {
   "cell_type": "code",
   "execution_count": 48,
   "metadata": {},
   "outputs": [
    {
     "data": {
      "text/plain": [
       "Text(0.5, 1.0, 'Error terms')"
      ]
     },
     "execution_count": 48,
     "metadata": {},
     "output_type": "execute_result"
    },
    {
     "data": {
      "image/png": "[encoded data removed]",
      "text/plain": [
       "<Figure size 432x288 with 1 Axes>"
      ]
     },
     "metadata": {
      "needs_background": "light"
     },
     "output_type": "display_data"
    }
   ],
   "source": [
    "# Error terms\n",
    "\n",
    "c = [i for i in range(1,165,1)]\n",
    "plt.plot(c,y_test-pred6)\n",
    "plt.xlabel('index')\n",
    "plt.ylabel('resduals')\n",
    "plt.title('Error terms')"
   ]
  }
 ],
 "metadata": {
  "kernelspec": {
   "display_name": "Python 3",
   "language": "python",
   "name": "python3"
  },
  "language_info": {
   "codemirror_mode": {
    "name": "ipython",
    "version": 3
   },
   "file_extension": ".py",
   "mimetype": "text/x-python",
   "name": "python",
   "nbconvert_exporter": "python",
   "pygments_lexer": "ipython3",
   "version": "3.7.6"
  }
 },
 "nbformat": 4,
 "nbformat_minor": 4
}
