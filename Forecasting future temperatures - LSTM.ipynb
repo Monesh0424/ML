{
 "cells": [
  {
   "cell_type": "raw",
   "metadata": {},
   "source": [
    "*****************Case study description*****************\n",
    "\n",
    "--> Data set consists of Average temperatures recorded every month from Nov 1st 1743 for globally.\n",
    "--> Objective is to forecast the change in temperature considering the data from 2000 in INDIA.\n",
    "--> Models used : LSTM"
   ]
  },
  {
   "cell_type": "code",
   "execution_count": 1,
   "metadata": {},
   "outputs": [],
   "source": [
    "import numpy as np\n",
    "import pandas as pd\n",
    "import matplotlib.pyplot as plt\n",
    "import seaborn as sns\n",
    "%matplotlib inline"
   ]
  },
  {
   "cell_type": "code",
   "execution_count": 2,
   "metadata": {},
   "outputs": [
    {
     "data": {
      "text/plain": [
       "'C:\\\\Users\\\\USER\\\\Desktop\\\\final projects for my own job search\\\\time series'"
      ]
     },
     "execution_count": 2,
     "metadata": {},
     "output_type": "execute_result"
    }
   ],
   "source": [
    "pwd"
   ]
  },
  {
   "cell_type": "code",
   "execution_count": 3,
   "metadata": {},
   "outputs": [],
   "source": [
    "# Importing dataset\n",
    "df = pd.read_csv(\"GlobalLandTemperatures_GlobalLandTemperaturesByCountry (1).csv\")"
   ]
  },
  {
   "cell_type": "code",
   "execution_count": 4,
   "metadata": {},
   "outputs": [
    {
     "data": {
      "text/html": [
       "<div>\n",
       "<style scoped>\n",
       "    .dataframe tbody tr th:only-of-type {\n",
       "        vertical-align: middle;\n",
       "    }\n",
       "\n",
       "    .dataframe tbody tr th {\n",
       "        vertical-align: top;\n",
       "    }\n",
       "\n",
       "    .dataframe thead th {\n",
       "        text-align: right;\n",
       "    }\n",
       "</style>\n",
       "<table border=\"1\" class=\"dataframe\">\n",
       "  <thead>\n",
       "    <tr style=\"text-align: right;\">\n",
       "      <th></th>\n",
       "      <th>dt</th>\n",
       "      <th>AverageTemperature</th>\n",
       "      <th>AverageTemperatureUncertainty</th>\n",
       "      <th>Country</th>\n",
       "    </tr>\n",
       "  </thead>\n",
       "  <tbody>\n",
       "    <tr>\n",
       "      <th>0</th>\n",
       "      <td>1743-11-01</td>\n",
       "      <td>4.384</td>\n",
       "      <td>2.294</td>\n",
       "      <td>Åland</td>\n",
       "    </tr>\n",
       "    <tr>\n",
       "      <th>1</th>\n",
       "      <td>1743-12-01</td>\n",
       "      <td>NaN</td>\n",
       "      <td>NaN</td>\n",
       "      <td>Åland</td>\n",
       "    </tr>\n",
       "    <tr>\n",
       "      <th>2</th>\n",
       "      <td>1744-01-01</td>\n",
       "      <td>NaN</td>\n",
       "      <td>NaN</td>\n",
       "      <td>Åland</td>\n",
       "    </tr>\n",
       "    <tr>\n",
       "      <th>3</th>\n",
       "      <td>1744-02-01</td>\n",
       "      <td>NaN</td>\n",
       "      <td>NaN</td>\n",
       "      <td>Åland</td>\n",
       "    </tr>\n",
       "    <tr>\n",
       "      <th>4</th>\n",
       "      <td>1744-03-01</td>\n",
       "      <td>NaN</td>\n",
       "      <td>NaN</td>\n",
       "      <td>Åland</td>\n",
       "    </tr>\n",
       "  </tbody>\n",
       "</table>\n",
       "</div>"
      ],
      "text/plain": [
       "           dt  AverageTemperature  AverageTemperatureUncertainty Country\n",
       "0  1743-11-01               4.384                          2.294   Åland\n",
       "1  1743-12-01                 NaN                            NaN   Åland\n",
       "2  1744-01-01                 NaN                            NaN   Åland\n",
       "3  1744-02-01                 NaN                            NaN   Åland\n",
       "4  1744-03-01                 NaN                            NaN   Åland"
      ]
     },
     "execution_count": 4,
     "metadata": {},
     "output_type": "execute_result"
    }
   ],
   "source": [
    "df.head()"
   ]
  },
  {
   "cell_type": "code",
   "execution_count": 5,
   "metadata": {},
   "outputs": [
    {
     "name": "stdout",
     "output_type": "stream",
     "text": [
      "<class 'pandas.core.frame.DataFrame'>\n",
      "RangeIndex: 577462 entries, 0 to 577461\n",
      "Data columns (total 4 columns):\n",
      " #   Column                         Non-Null Count   Dtype  \n",
      "---  ------                         --------------   -----  \n",
      " 0   dt                             577462 non-null  object \n",
      " 1   AverageTemperature             544811 non-null  float64\n",
      " 2   AverageTemperatureUncertainty  545550 non-null  float64\n",
      " 3   Country                        577462 non-null  object \n",
      "dtypes: float64(2), object(2)\n",
      "memory usage: 17.6+ MB\n"
     ]
    }
   ],
   "source": [
    "df.info()"
   ]
  },
  {
   "cell_type": "raw",
   "metadata": {},
   "source": [
    "Observations:\n",
    "--> There are missing values in the dataset.\n",
    "--> dt column is not datetime object."
   ]
  },
  {
   "cell_type": "markdown",
   "metadata": {},
   "source": [
    "# Data cleaning"
   ]
  },
  {
   "cell_type": "raw",
   "metadata": {},
   "source": [
    "Considering the data only from the year 2000 and filtering accordingly.\n",
    "Objective is to forecast temperatures based on last 20 years monthly recorded temperatures in INDIA."
   ]
  },
  {
   "cell_type": "code",
   "execution_count": 6,
   "metadata": {},
   "outputs": [],
   "source": [
    "# Converting 'dt' column to 'datetime' object.\n",
    "\n",
    "df['dt'] = pd.to_datetime(df['dt'])"
   ]
  },
  {
   "cell_type": "code",
   "execution_count": 7,
   "metadata": {},
   "outputs": [],
   "source": [
    "# Adding column 'year' to sort the data\n",
    "\n",
    "df['year'] = df['dt'].apply(lambda x : x.year)"
   ]
  },
  {
   "cell_type": "code",
   "execution_count": 8,
   "metadata": {},
   "outputs": [
    {
     "data": {
      "text/html": [
       "<div>\n",
       "<style scoped>\n",
       "    .dataframe tbody tr th:only-of-type {\n",
       "        vertical-align: middle;\n",
       "    }\n",
       "\n",
       "    .dataframe tbody tr th {\n",
       "        vertical-align: top;\n",
       "    }\n",
       "\n",
       "    .dataframe thead th {\n",
       "        text-align: right;\n",
       "    }\n",
       "</style>\n",
       "<table border=\"1\" class=\"dataframe\">\n",
       "  <thead>\n",
       "    <tr style=\"text-align: right;\">\n",
       "      <th></th>\n",
       "      <th>dt</th>\n",
       "      <th>AverageTemperature</th>\n",
       "      <th>AverageTemperatureUncertainty</th>\n",
       "      <th>Country</th>\n",
       "      <th>year</th>\n",
       "    </tr>\n",
       "  </thead>\n",
       "  <tbody>\n",
       "    <tr>\n",
       "      <th>0</th>\n",
       "      <td>1743-11-01</td>\n",
       "      <td>4.384</td>\n",
       "      <td>2.294</td>\n",
       "      <td>Åland</td>\n",
       "      <td>1743</td>\n",
       "    </tr>\n",
       "    <tr>\n",
       "      <th>1</th>\n",
       "      <td>1743-12-01</td>\n",
       "      <td>NaN</td>\n",
       "      <td>NaN</td>\n",
       "      <td>Åland</td>\n",
       "      <td>1743</td>\n",
       "    </tr>\n",
       "    <tr>\n",
       "      <th>2</th>\n",
       "      <td>1744-01-01</td>\n",
       "      <td>NaN</td>\n",
       "      <td>NaN</td>\n",
       "      <td>Åland</td>\n",
       "      <td>1744</td>\n",
       "    </tr>\n",
       "    <tr>\n",
       "      <th>3</th>\n",
       "      <td>1744-02-01</td>\n",
       "      <td>NaN</td>\n",
       "      <td>NaN</td>\n",
       "      <td>Åland</td>\n",
       "      <td>1744</td>\n",
       "    </tr>\n",
       "    <tr>\n",
       "      <th>4</th>\n",
       "      <td>1744-03-01</td>\n",
       "      <td>NaN</td>\n",
       "      <td>NaN</td>\n",
       "      <td>Åland</td>\n",
       "      <td>1744</td>\n",
       "    </tr>\n",
       "    <tr>\n",
       "      <th>...</th>\n",
       "      <td>...</td>\n",
       "      <td>...</td>\n",
       "      <td>...</td>\n",
       "      <td>...</td>\n",
       "      <td>...</td>\n",
       "    </tr>\n",
       "    <tr>\n",
       "      <th>577457</th>\n",
       "      <td>2013-01-05</td>\n",
       "      <td>19.059</td>\n",
       "      <td>1.022</td>\n",
       "      <td>Zimbabwe</td>\n",
       "      <td>2013</td>\n",
       "    </tr>\n",
       "    <tr>\n",
       "      <th>577458</th>\n",
       "      <td>2013-01-06</td>\n",
       "      <td>17.613</td>\n",
       "      <td>0.473</td>\n",
       "      <td>Zimbabwe</td>\n",
       "      <td>2013</td>\n",
       "    </tr>\n",
       "    <tr>\n",
       "      <th>577459</th>\n",
       "      <td>2013-01-07</td>\n",
       "      <td>17.000</td>\n",
       "      <td>0.453</td>\n",
       "      <td>Zimbabwe</td>\n",
       "      <td>2013</td>\n",
       "    </tr>\n",
       "    <tr>\n",
       "      <th>577460</th>\n",
       "      <td>2013-01-08</td>\n",
       "      <td>19.759</td>\n",
       "      <td>0.717</td>\n",
       "      <td>Zimbabwe</td>\n",
       "      <td>2013</td>\n",
       "    </tr>\n",
       "    <tr>\n",
       "      <th>577461</th>\n",
       "      <td>2013-01-09</td>\n",
       "      <td>NaN</td>\n",
       "      <td>NaN</td>\n",
       "      <td>Zimbabwe</td>\n",
       "      <td>2013</td>\n",
       "    </tr>\n",
       "  </tbody>\n",
       "</table>\n",
       "<p>577462 rows × 5 columns</p>\n",
       "</div>"
      ],
      "text/plain": [
       "               dt  AverageTemperature  AverageTemperatureUncertainty  \\\n",
       "0      1743-11-01               4.384                          2.294   \n",
       "1      1743-12-01                 NaN                            NaN   \n",
       "2      1744-01-01                 NaN                            NaN   \n",
       "3      1744-02-01                 NaN                            NaN   \n",
       "4      1744-03-01                 NaN                            NaN   \n",
       "...           ...                 ...                            ...   \n",
       "577457 2013-01-05              19.059                          1.022   \n",
       "577458 2013-01-06              17.613                          0.473   \n",
       "577459 2013-01-07              17.000                          0.453   \n",
       "577460 2013-01-08              19.759                          0.717   \n",
       "577461 2013-01-09                 NaN                            NaN   \n",
       "\n",
       "         Country  year  \n",
       "0          Åland  1743  \n",
       "1          Åland  1743  \n",
       "2          Åland  1744  \n",
       "3          Åland  1744  \n",
       "4          Åland  1744  \n",
       "...          ...   ...  \n",
       "577457  Zimbabwe  2013  \n",
       "577458  Zimbabwe  2013  \n",
       "577459  Zimbabwe  2013  \n",
       "577460  Zimbabwe  2013  \n",
       "577461  Zimbabwe  2013  \n",
       "\n",
       "[577462 rows x 5 columns]"
      ]
     },
     "execution_count": 8,
     "metadata": {},
     "output_type": "execute_result"
    }
   ],
   "source": [
    "df"
   ]
  },
  {
   "cell_type": "code",
   "execution_count": 9,
   "metadata": {},
   "outputs": [],
   "source": [
    "df = df.sort_values(by='year') # Sorting"
   ]
  },
  {
   "cell_type": "code",
   "execution_count": 10,
   "metadata": {},
   "outputs": [],
   "source": [
    "df = df.set_index('year')  # Setting year as index"
   ]
  },
  {
   "cell_type": "code",
   "execution_count": 11,
   "metadata": {},
   "outputs": [
    {
     "data": {
      "text/html": [
       "<div>\n",
       "<style scoped>\n",
       "    .dataframe tbody tr th:only-of-type {\n",
       "        vertical-align: middle;\n",
       "    }\n",
       "\n",
       "    .dataframe tbody tr th {\n",
       "        vertical-align: top;\n",
       "    }\n",
       "\n",
       "    .dataframe thead th {\n",
       "        text-align: right;\n",
       "    }\n",
       "</style>\n",
       "<table border=\"1\" class=\"dataframe\">\n",
       "  <thead>\n",
       "    <tr style=\"text-align: right;\">\n",
       "      <th></th>\n",
       "      <th>dt</th>\n",
       "      <th>AverageTemperature</th>\n",
       "      <th>AverageTemperatureUncertainty</th>\n",
       "      <th>Country</th>\n",
       "    </tr>\n",
       "    <tr>\n",
       "      <th>year</th>\n",
       "      <th></th>\n",
       "      <th></th>\n",
       "      <th></th>\n",
       "      <th></th>\n",
       "    </tr>\n",
       "  </thead>\n",
       "  <tbody>\n",
       "    <tr>\n",
       "      <th>1743</th>\n",
       "      <td>1743-11-01</td>\n",
       "      <td>4.384</td>\n",
       "      <td>2.294</td>\n",
       "      <td>Åland</td>\n",
       "    </tr>\n",
       "    <tr>\n",
       "      <th>1743</th>\n",
       "      <td>1743-11-01</td>\n",
       "      <td>10.692</td>\n",
       "      <td>1.857</td>\n",
       "      <td>Guernsey</td>\n",
       "    </tr>\n",
       "    <tr>\n",
       "      <th>1743</th>\n",
       "      <td>1743-12-01</td>\n",
       "      <td>NaN</td>\n",
       "      <td>NaN</td>\n",
       "      <td>Guernsey</td>\n",
       "    </tr>\n",
       "  </tbody>\n",
       "</table>\n",
       "</div>"
      ],
      "text/plain": [
       "             dt  AverageTemperature  AverageTemperatureUncertainty   Country\n",
       "year                                                                        \n",
       "1743 1743-11-01               4.384                          2.294     Åland\n",
       "1743 1743-11-01              10.692                          1.857  Guernsey\n",
       "1743 1743-12-01                 NaN                            NaN  Guernsey"
      ]
     },
     "execution_count": 11,
     "metadata": {},
     "output_type": "execute_result"
    }
   ],
   "source": [
    "df.head(3)"
   ]
  },
  {
   "cell_type": "code",
   "execution_count": 12,
   "metadata": {},
   "outputs": [],
   "source": [
    "df = df.loc[2000:]  # Filtering the data from year 2000"
   ]
  },
  {
   "cell_type": "code",
   "execution_count": 13,
   "metadata": {},
   "outputs": [],
   "source": [
    "df = df[df['Country']=='India']  # Extracting data of 'india'"
   ]
  },
  {
   "cell_type": "markdown",
   "metadata": {},
   "source": [
    "# Data preprocess"
   ]
  },
  {
   "cell_type": "code",
   "execution_count": 14,
   "metadata": {},
   "outputs": [
    {
     "name": "stdout",
     "output_type": "stream",
     "text": [
      "<class 'pandas.core.frame.DataFrame'>\n",
      "Int64Index: 165 entries, 2000 to 2013\n",
      "Data columns (total 4 columns):\n",
      " #   Column                         Non-Null Count  Dtype         \n",
      "---  ------                         --------------  -----         \n",
      " 0   dt                             165 non-null    datetime64[ns]\n",
      " 1   AverageTemperature             164 non-null    float64       \n",
      " 2   AverageTemperatureUncertainty  164 non-null    float64       \n",
      " 3   Country                        165 non-null    object        \n",
      "dtypes: datetime64[ns](1), float64(2), object(1)\n",
      "memory usage: 6.4+ KB\n"
     ]
    }
   ],
   "source": [
    "df.info()"
   ]
  },
  {
   "cell_type": "code",
   "execution_count": 15,
   "metadata": {},
   "outputs": [
    {
     "data": {
      "text/html": [
       "<div>\n",
       "<style scoped>\n",
       "    .dataframe tbody tr th:only-of-type {\n",
       "        vertical-align: middle;\n",
       "    }\n",
       "\n",
       "    .dataframe tbody tr th {\n",
       "        vertical-align: top;\n",
       "    }\n",
       "\n",
       "    .dataframe thead th {\n",
       "        text-align: right;\n",
       "    }\n",
       "</style>\n",
       "<table border=\"1\" class=\"dataframe\">\n",
       "  <thead>\n",
       "    <tr style=\"text-align: right;\">\n",
       "      <th></th>\n",
       "      <th>dt</th>\n",
       "      <th>AverageTemperature</th>\n",
       "      <th>AverageTemperatureUncertainty</th>\n",
       "      <th>Country</th>\n",
       "    </tr>\n",
       "    <tr>\n",
       "      <th>year</th>\n",
       "      <th></th>\n",
       "      <th></th>\n",
       "      <th></th>\n",
       "      <th></th>\n",
       "    </tr>\n",
       "  </thead>\n",
       "  <tbody>\n",
       "    <tr>\n",
       "      <th>2000</th>\n",
       "      <td>2000-01-07</td>\n",
       "      <td>26.980</td>\n",
       "      <td>0.260</td>\n",
       "      <td>India</td>\n",
       "    </tr>\n",
       "    <tr>\n",
       "      <th>2000</th>\n",
       "      <td>2000-01-08</td>\n",
       "      <td>26.821</td>\n",
       "      <td>0.306</td>\n",
       "      <td>India</td>\n",
       "    </tr>\n",
       "    <tr>\n",
       "      <th>2000</th>\n",
       "      <td>2000-01-09</td>\n",
       "      <td>26.505</td>\n",
       "      <td>0.134</td>\n",
       "      <td>India</td>\n",
       "    </tr>\n",
       "    <tr>\n",
       "      <th>2000</th>\n",
       "      <td>2000-01-10</td>\n",
       "      <td>25.583</td>\n",
       "      <td>0.222</td>\n",
       "      <td>India</td>\n",
       "    </tr>\n",
       "    <tr>\n",
       "      <th>2000</th>\n",
       "      <td>2000-01-11</td>\n",
       "      <td>21.986</td>\n",
       "      <td>0.157</td>\n",
       "      <td>India</td>\n",
       "    </tr>\n",
       "  </tbody>\n",
       "</table>\n",
       "</div>"
      ],
      "text/plain": [
       "             dt  AverageTemperature  AverageTemperatureUncertainty Country\n",
       "year                                                                      \n",
       "2000 2000-01-07              26.980                          0.260   India\n",
       "2000 2000-01-08              26.821                          0.306   India\n",
       "2000 2000-01-09              26.505                          0.134   India\n",
       "2000 2000-01-10              25.583                          0.222   India\n",
       "2000 2000-01-11              21.986                          0.157   India"
      ]
     },
     "execution_count": 15,
     "metadata": {},
     "output_type": "execute_result"
    }
   ],
   "source": [
    "df.head()"
   ]
  },
  {
   "cell_type": "code",
   "execution_count": 16,
   "metadata": {},
   "outputs": [],
   "source": [
    "df = df.reset_index()"
   ]
  },
  {
   "cell_type": "code",
   "execution_count": 17,
   "metadata": {},
   "outputs": [],
   "source": [
    "df.sort_values('dt',inplace=True)"
   ]
  },
  {
   "cell_type": "code",
   "execution_count": 18,
   "metadata": {},
   "outputs": [
    {
     "data": {
      "text/html": [
       "<div>\n",
       "<style scoped>\n",
       "    .dataframe tbody tr th:only-of-type {\n",
       "        vertical-align: middle;\n",
       "    }\n",
       "\n",
       "    .dataframe tbody tr th {\n",
       "        vertical-align: top;\n",
       "    }\n",
       "\n",
       "    .dataframe thead th {\n",
       "        text-align: right;\n",
       "    }\n",
       "</style>\n",
       "<table border=\"1\" class=\"dataframe\">\n",
       "  <thead>\n",
       "    <tr style=\"text-align: right;\">\n",
       "      <th></th>\n",
       "      <th>year</th>\n",
       "      <th>dt</th>\n",
       "      <th>AverageTemperature</th>\n",
       "      <th>AverageTemperatureUncertainty</th>\n",
       "      <th>Country</th>\n",
       "    </tr>\n",
       "  </thead>\n",
       "  <tbody>\n",
       "    <tr>\n",
       "      <th>10</th>\n",
       "      <td>2000</td>\n",
       "      <td>2000-01-01</td>\n",
       "      <td>17.840</td>\n",
       "      <td>0.210</td>\n",
       "      <td>India</td>\n",
       "    </tr>\n",
       "    <tr>\n",
       "      <th>11</th>\n",
       "      <td>2000</td>\n",
       "      <td>2000-01-02</td>\n",
       "      <td>19.071</td>\n",
       "      <td>0.159</td>\n",
       "      <td>India</td>\n",
       "    </tr>\n",
       "    <tr>\n",
       "      <th>9</th>\n",
       "      <td>2000</td>\n",
       "      <td>2000-01-03</td>\n",
       "      <td>23.674</td>\n",
       "      <td>0.183</td>\n",
       "      <td>India</td>\n",
       "    </tr>\n",
       "    <tr>\n",
       "      <th>8</th>\n",
       "      <td>2000</td>\n",
       "      <td>2000-01-04</td>\n",
       "      <td>28.868</td>\n",
       "      <td>0.190</td>\n",
       "      <td>India</td>\n",
       "    </tr>\n",
       "    <tr>\n",
       "      <th>7</th>\n",
       "      <td>2000</td>\n",
       "      <td>2000-01-05</td>\n",
       "      <td>30.089</td>\n",
       "      <td>0.166</td>\n",
       "      <td>India</td>\n",
       "    </tr>\n",
       "    <tr>\n",
       "      <th>...</th>\n",
       "      <td>...</td>\n",
       "      <td>...</td>\n",
       "      <td>...</td>\n",
       "      <td>...</td>\n",
       "      <td>...</td>\n",
       "    </tr>\n",
       "    <tr>\n",
       "      <th>160</th>\n",
       "      <td>2013</td>\n",
       "      <td>2013-01-05</td>\n",
       "      <td>31.014</td>\n",
       "      <td>0.205</td>\n",
       "      <td>India</td>\n",
       "    </tr>\n",
       "    <tr>\n",
       "      <th>159</th>\n",
       "      <td>2013</td>\n",
       "      <td>2013-01-06</td>\n",
       "      <td>28.766</td>\n",
       "      <td>0.299</td>\n",
       "      <td>India</td>\n",
       "    </tr>\n",
       "    <tr>\n",
       "      <th>158</th>\n",
       "      <td>2013</td>\n",
       "      <td>2013-01-07</td>\n",
       "      <td>27.012</td>\n",
       "      <td>0.197</td>\n",
       "      <td>India</td>\n",
       "    </tr>\n",
       "    <tr>\n",
       "      <th>157</th>\n",
       "      <td>2013</td>\n",
       "      <td>2013-01-08</td>\n",
       "      <td>26.555</td>\n",
       "      <td>0.242</td>\n",
       "      <td>India</td>\n",
       "    </tr>\n",
       "    <tr>\n",
       "      <th>156</th>\n",
       "      <td>2013</td>\n",
       "      <td>2013-01-09</td>\n",
       "      <td>NaN</td>\n",
       "      <td>NaN</td>\n",
       "      <td>India</td>\n",
       "    </tr>\n",
       "  </tbody>\n",
       "</table>\n",
       "<p>165 rows × 5 columns</p>\n",
       "</div>"
      ],
      "text/plain": [
       "     year         dt  AverageTemperature  AverageTemperatureUncertainty  \\\n",
       "10   2000 2000-01-01              17.840                          0.210   \n",
       "11   2000 2000-01-02              19.071                          0.159   \n",
       "9    2000 2000-01-03              23.674                          0.183   \n",
       "8    2000 2000-01-04              28.868                          0.190   \n",
       "7    2000 2000-01-05              30.089                          0.166   \n",
       "..    ...        ...                 ...                            ...   \n",
       "160  2013 2013-01-05              31.014                          0.205   \n",
       "159  2013 2013-01-06              28.766                          0.299   \n",
       "158  2013 2013-01-07              27.012                          0.197   \n",
       "157  2013 2013-01-08              26.555                          0.242   \n",
       "156  2013 2013-01-09                 NaN                            NaN   \n",
       "\n",
       "    Country  \n",
       "10    India  \n",
       "11    India  \n",
       "9     India  \n",
       "8     India  \n",
       "7     India  \n",
       "..      ...  \n",
       "160   India  \n",
       "159   India  \n",
       "158   India  \n",
       "157   India  \n",
       "156   India  \n",
       "\n",
       "[165 rows x 5 columns]"
      ]
     },
     "execution_count": 18,
     "metadata": {},
     "output_type": "execute_result"
    }
   ],
   "source": [
    "df"
   ]
  },
  {
   "cell_type": "code",
   "execution_count": 19,
   "metadata": {},
   "outputs": [],
   "source": [
    "# Dropping unwanted rows.\n",
    "df = df.drop(['year','AverageTemperatureUncertainty','Country'] , axis=1)"
   ]
  },
  {
   "cell_type": "code",
   "execution_count": 20,
   "metadata": {},
   "outputs": [],
   "source": [
    "# R\n",
    "df.fillna(method='ffill' , inplace=True)"
   ]
  },
  {
   "cell_type": "code",
   "execution_count": 21,
   "metadata": {},
   "outputs": [
    {
     "data": {
      "text/html": [
       "<div>\n",
       "<style scoped>\n",
       "    .dataframe tbody tr th:only-of-type {\n",
       "        vertical-align: middle;\n",
       "    }\n",
       "\n",
       "    .dataframe tbody tr th {\n",
       "        vertical-align: top;\n",
       "    }\n",
       "\n",
       "    .dataframe thead th {\n",
       "        text-align: right;\n",
       "    }\n",
       "</style>\n",
       "<table border=\"1\" class=\"dataframe\">\n",
       "  <thead>\n",
       "    <tr style=\"text-align: right;\">\n",
       "      <th></th>\n",
       "      <th>dt</th>\n",
       "      <th>AverageTemperature</th>\n",
       "    </tr>\n",
       "  </thead>\n",
       "  <tbody>\n",
       "    <tr>\n",
       "      <th>10</th>\n",
       "      <td>2000-01-01</td>\n",
       "      <td>17.840</td>\n",
       "    </tr>\n",
       "    <tr>\n",
       "      <th>11</th>\n",
       "      <td>2000-01-02</td>\n",
       "      <td>19.071</td>\n",
       "    </tr>\n",
       "    <tr>\n",
       "      <th>9</th>\n",
       "      <td>2000-01-03</td>\n",
       "      <td>23.674</td>\n",
       "    </tr>\n",
       "    <tr>\n",
       "      <th>8</th>\n",
       "      <td>2000-01-04</td>\n",
       "      <td>28.868</td>\n",
       "    </tr>\n",
       "    <tr>\n",
       "      <th>7</th>\n",
       "      <td>2000-01-05</td>\n",
       "      <td>30.089</td>\n",
       "    </tr>\n",
       "  </tbody>\n",
       "</table>\n",
       "</div>"
      ],
      "text/plain": [
       "           dt  AverageTemperature\n",
       "10 2000-01-01              17.840\n",
       "11 2000-01-02              19.071\n",
       "9  2000-01-03              23.674\n",
       "8  2000-01-04              28.868\n",
       "7  2000-01-05              30.089"
      ]
     },
     "execution_count": 21,
     "metadata": {},
     "output_type": "execute_result"
    }
   ],
   "source": [
    "df.head()"
   ]
  },
  {
   "cell_type": "code",
   "execution_count": 22,
   "metadata": {},
   "outputs": [],
   "source": [
    "# Converting index object type to datetime object\n",
    "df['dt'] = pd.to_datetime(df['dt'])"
   ]
  },
  {
   "cell_type": "code",
   "execution_count": 23,
   "metadata": {},
   "outputs": [],
   "source": [
    "df.set_index('dt',inplace=True)"
   ]
  },
  {
   "cell_type": "code",
   "execution_count": 24,
   "metadata": {},
   "outputs": [
    {
     "data": {
      "text/html": [
       "<div>\n",
       "<style scoped>\n",
       "    .dataframe tbody tr th:only-of-type {\n",
       "        vertical-align: middle;\n",
       "    }\n",
       "\n",
       "    .dataframe tbody tr th {\n",
       "        vertical-align: top;\n",
       "    }\n",
       "\n",
       "    .dataframe thead th {\n",
       "        text-align: right;\n",
       "    }\n",
       "</style>\n",
       "<table border=\"1\" class=\"dataframe\">\n",
       "  <thead>\n",
       "    <tr style=\"text-align: right;\">\n",
       "      <th></th>\n",
       "      <th>AverageTemperature</th>\n",
       "    </tr>\n",
       "    <tr>\n",
       "      <th>dt</th>\n",
       "      <th></th>\n",
       "    </tr>\n",
       "  </thead>\n",
       "  <tbody>\n",
       "    <tr>\n",
       "      <th>2000-01-01</th>\n",
       "      <td>17.840</td>\n",
       "    </tr>\n",
       "    <tr>\n",
       "      <th>2000-01-02</th>\n",
       "      <td>19.071</td>\n",
       "    </tr>\n",
       "    <tr>\n",
       "      <th>2000-01-03</th>\n",
       "      <td>23.674</td>\n",
       "    </tr>\n",
       "    <tr>\n",
       "      <th>2000-01-04</th>\n",
       "      <td>28.868</td>\n",
       "    </tr>\n",
       "    <tr>\n",
       "      <th>2000-01-05</th>\n",
       "      <td>30.089</td>\n",
       "    </tr>\n",
       "  </tbody>\n",
       "</table>\n",
       "</div>"
      ],
      "text/plain": [
       "            AverageTemperature\n",
       "dt                            \n",
       "2000-01-01              17.840\n",
       "2000-01-02              19.071\n",
       "2000-01-03              23.674\n",
       "2000-01-04              28.868\n",
       "2000-01-05              30.089"
      ]
     },
     "execution_count": 24,
     "metadata": {},
     "output_type": "execute_result"
    }
   ],
   "source": [
    "df.head()"
   ]
  },
  {
   "cell_type": "code",
   "execution_count": 25,
   "metadata": {},
   "outputs": [
    {
     "data": {
      "text/plain": [
       "DatetimeIndex(['2000-01-01', '2000-01-02', '2000-01-03', '2000-01-04',\n",
       "               '2000-01-05', '2000-01-06', '2000-01-07', '2000-01-08',\n",
       "               '2000-01-09', '2000-01-10',\n",
       "               ...\n",
       "               '2012-01-12', '2013-01-01', '2013-01-02', '2013-01-03',\n",
       "               '2013-01-04', '2013-01-05', '2013-01-06', '2013-01-07',\n",
       "               '2013-01-08', '2013-01-09'],\n",
       "              dtype='datetime64[ns]', name='dt', length=165, freq=None)"
      ]
     },
     "execution_count": 25,
     "metadata": {},
     "output_type": "execute_result"
    }
   ],
   "source": [
    "df.index"
   ]
  },
  {
   "cell_type": "code",
   "execution_count": 26,
   "metadata": {},
   "outputs": [
    {
     "data": {
      "text/plain": [
       "AverageTemperature    0\n",
       "dtype: int64"
      ]
     },
     "execution_count": 26,
     "metadata": {},
     "output_type": "execute_result"
    }
   ],
   "source": [
    "# Check for missing values\n",
    "df.isna().sum()"
   ]
  },
  {
   "cell_type": "code",
   "execution_count": 27,
   "metadata": {},
   "outputs": [
    {
     "data": {
      "text/plain": [
       "DatetimeIndex(['2000-01-01', '2000-01-02', '2000-01-03', '2000-01-04',\n",
       "               '2000-01-05', '2000-01-06', '2000-01-07', '2000-01-08',\n",
       "               '2000-01-09', '2000-01-10',\n",
       "               ...\n",
       "               '2012-01-12', '2013-01-01', '2013-01-02', '2013-01-03',\n",
       "               '2013-01-04', '2013-01-05', '2013-01-06', '2013-01-07',\n",
       "               '2013-01-08', '2013-01-09'],\n",
       "              dtype='datetime64[ns]', name='dt', length=165, freq=None)"
      ]
     },
     "execution_count": 27,
     "metadata": {},
     "output_type": "execute_result"
    }
   ],
   "source": [
    "df.index"
   ]
  },
  {
   "cell_type": "code",
   "execution_count": 28,
   "metadata": {},
   "outputs": [
    {
     "name": "stdout",
     "output_type": "stream",
     "text": [
      "<class 'pandas.core.frame.DataFrame'>\n",
      "DatetimeIndex: 165 entries, 2000-01-01 to 2013-01-09\n",
      "Data columns (total 1 columns):\n",
      " #   Column              Non-Null Count  Dtype  \n",
      "---  ------              --------------  -----  \n",
      " 0   AverageTemperature  165 non-null    float64\n",
      "dtypes: float64(1)\n",
      "memory usage: 2.6 KB\n"
     ]
    }
   ],
   "source": [
    "df.info()"
   ]
  },
  {
   "cell_type": "code",
   "execution_count": 29,
   "metadata": {},
   "outputs": [
    {
     "data": {
      "text/plain": [
       "<matplotlib.axes._subplots.AxesSubplot at 0xcd8b3d70d0>"
      ]
     },
     "execution_count": 29,
     "metadata": {},
     "output_type": "execute_result"
    },
    {
     "data": {
      "image/png": "[encoded data removed]",
      "text/plain": [
       "<Figure size 864x576 with 1 Axes>"
      ]
     },
     "metadata": {
      "needs_background": "light"
     },
     "output_type": "display_data"
    }
   ],
   "source": [
    "df.plot(figsize=(12,8))"
   ]
  },
  {
   "cell_type": "code",
   "execution_count": 30,
   "metadata": {},
   "outputs": [
    {
     "data": {
      "text/plain": [
       "DatetimeIndex(['2000-01-01', '2000-01-02', '2000-01-03', '2000-01-04',\n",
       "               '2000-01-05', '2000-01-06', '2000-01-07', '2000-01-08',\n",
       "               '2000-01-09', '2000-01-10',\n",
       "               ...\n",
       "               '2012-01-12', '2013-01-01', '2013-01-02', '2013-01-03',\n",
       "               '2013-01-04', '2013-01-05', '2013-01-06', '2013-01-07',\n",
       "               '2013-01-08', '2013-01-09'],\n",
       "              dtype='datetime64[ns]', name='dt', length=165, freq=None)"
      ]
     },
     "execution_count": 30,
     "metadata": {},
     "output_type": "execute_result"
    }
   ],
   "source": [
    "df.index"
   ]
  },
  {
   "cell_type": "code",
   "execution_count": 31,
   "metadata": {},
   "outputs": [
    {
     "data": {
      "text/html": [
       "<div>\n",
       "<style scoped>\n",
       "    .dataframe tbody tr th:only-of-type {\n",
       "        vertical-align: middle;\n",
       "    }\n",
       "\n",
       "    .dataframe tbody tr th {\n",
       "        vertical-align: top;\n",
       "    }\n",
       "\n",
       "    .dataframe thead th {\n",
       "        text-align: right;\n",
       "    }\n",
       "</style>\n",
       "<table border=\"1\" class=\"dataframe\">\n",
       "  <thead>\n",
       "    <tr style=\"text-align: right;\">\n",
       "      <th></th>\n",
       "      <th>AverageTemperature</th>\n",
       "    </tr>\n",
       "    <tr>\n",
       "      <th>dt</th>\n",
       "      <th></th>\n",
       "    </tr>\n",
       "  </thead>\n",
       "  <tbody>\n",
       "    <tr>\n",
       "      <th>2000-01-01</th>\n",
       "      <td>17.840</td>\n",
       "    </tr>\n",
       "    <tr>\n",
       "      <th>2000-01-02</th>\n",
       "      <td>19.071</td>\n",
       "    </tr>\n",
       "    <tr>\n",
       "      <th>2000-01-03</th>\n",
       "      <td>23.674</td>\n",
       "    </tr>\n",
       "    <tr>\n",
       "      <th>2000-01-04</th>\n",
       "      <td>28.868</td>\n",
       "    </tr>\n",
       "    <tr>\n",
       "      <th>2000-01-05</th>\n",
       "      <td>30.089</td>\n",
       "    </tr>\n",
       "    <tr>\n",
       "      <th>...</th>\n",
       "      <td>...</td>\n",
       "    </tr>\n",
       "    <tr>\n",
       "      <th>2013-01-05</th>\n",
       "      <td>31.014</td>\n",
       "    </tr>\n",
       "    <tr>\n",
       "      <th>2013-01-06</th>\n",
       "      <td>28.766</td>\n",
       "    </tr>\n",
       "    <tr>\n",
       "      <th>2013-01-07</th>\n",
       "      <td>27.012</td>\n",
       "    </tr>\n",
       "    <tr>\n",
       "      <th>2013-01-08</th>\n",
       "      <td>26.555</td>\n",
       "    </tr>\n",
       "    <tr>\n",
       "      <th>2013-01-09</th>\n",
       "      <td>26.555</td>\n",
       "    </tr>\n",
       "  </tbody>\n",
       "</table>\n",
       "<p>165 rows × 1 columns</p>\n",
       "</div>"
      ],
      "text/plain": [
       "            AverageTemperature\n",
       "dt                            \n",
       "2000-01-01              17.840\n",
       "2000-01-02              19.071\n",
       "2000-01-03              23.674\n",
       "2000-01-04              28.868\n",
       "2000-01-05              30.089\n",
       "...                        ...\n",
       "2013-01-05              31.014\n",
       "2013-01-06              28.766\n",
       "2013-01-07              27.012\n",
       "2013-01-08              26.555\n",
       "2013-01-09              26.555\n",
       "\n",
       "[165 rows x 1 columns]"
      ]
     },
     "execution_count": 31,
     "metadata": {},
     "output_type": "execute_result"
    }
   ],
   "source": [
    "df"
   ]
  },
  {
   "cell_type": "code",
   "execution_count": 32,
   "metadata": {},
   "outputs": [
    {
     "data": {
      "text/plain": [
       "DatetimeIndex(['2000-01-01', '2000-01-02', '2000-01-03', '2000-01-04',\n",
       "               '2000-01-05', '2000-01-06', '2000-01-07', '2000-01-08',\n",
       "               '2000-01-09', '2000-01-10',\n",
       "               ...\n",
       "               '2012-01-12', '2013-01-01', '2013-01-02', '2013-01-03',\n",
       "               '2013-01-04', '2013-01-05', '2013-01-06', '2013-01-07',\n",
       "               '2013-01-08', '2013-01-09'],\n",
       "              dtype='datetime64[ns]', name='dt', length=165, freq=None)"
      ]
     },
     "execution_count": 32,
     "metadata": {},
     "output_type": "execute_result"
    }
   ],
   "source": [
    "df.index"
   ]
  },
  {
   "cell_type": "markdown",
   "metadata": {},
   "source": [
    "# Data split"
   ]
  },
  {
   "cell_type": "code",
   "execution_count": 33,
   "metadata": {},
   "outputs": [],
   "source": [
    "train = df[0:131] #80% for train data\n",
    "test = df[131:] # 20% for test data"
   ]
  },
  {
   "cell_type": "markdown",
   "metadata": {},
   "source": [
    "# Scaling"
   ]
  },
  {
   "cell_type": "code",
   "execution_count": 34,
   "metadata": {},
   "outputs": [],
   "source": [
    "from sklearn.preprocessing import MinMaxScaler"
   ]
  },
  {
   "cell_type": "code",
   "execution_count": 35,
   "metadata": {},
   "outputs": [],
   "source": [
    "scaler = MinMaxScaler()"
   ]
  },
  {
   "cell_type": "code",
   "execution_count": 36,
   "metadata": {},
   "outputs": [
    {
     "data": {
      "text/plain": [
       "MinMaxScaler()"
      ]
     },
     "execution_count": 36,
     "metadata": {},
     "output_type": "execute_result"
    }
   ],
   "source": [
    "scaler.fit(train)"
   ]
  },
  {
   "cell_type": "code",
   "execution_count": 37,
   "metadata": {},
   "outputs": [],
   "source": [
    "scaled_train = scaler.transform(train)\n",
    "scaled_test = scaler.transform(test)"
   ]
  },
  {
   "cell_type": "markdown",
   "metadata": {},
   "source": [
    "# Time seres generator"
   ]
  },
  {
   "cell_type": "code",
   "execution_count": 38,
   "metadata": {},
   "outputs": [],
   "source": [
    "from keras.preprocessing.sequence import TimeseriesGenerator"
   ]
  },
  {
   "cell_type": "code",
   "execution_count": 39,
   "metadata": {},
   "outputs": [],
   "source": [
    "# length: Length of the output sequences (in number of timesteps)\n",
    "generator = TimeseriesGenerator(scaled_train , scaled_train , length=12, batch_size=1)"
   ]
  },
  {
   "cell_type": "code",
   "execution_count": 40,
   "metadata": {},
   "outputs": [
    {
     "data": {
      "text/plain": [
       "131"
      ]
     },
     "execution_count": 40,
     "metadata": {},
     "output_type": "execute_result"
    }
   ],
   "source": [
    "len(scaled_train)"
   ]
  },
  {
   "cell_type": "code",
   "execution_count": 41,
   "metadata": {},
   "outputs": [
    {
     "data": {
      "text/plain": [
       "119"
      ]
     },
     "execution_count": 41,
     "metadata": {},
     "output_type": "execute_result"
    }
   ],
   "source": [
    "len(generator)  # length of generator will be len(scaled_train) - length"
   ]
  },
  {
   "cell_type": "markdown",
   "metadata": {},
   "source": [
    "# Model"
   ]
  },
  {
   "cell_type": "code",
   "execution_count": 42,
   "metadata": {},
   "outputs": [],
   "source": [
    "from keras.models import Sequential\n",
    "from keras.layers import Dense\n",
    "from keras.layers import LSTM"
   ]
  },
  {
   "cell_type": "code",
   "execution_count": 43,
   "metadata": {},
   "outputs": [],
   "source": [
    "# define model\n",
    "model = Sequential()  # initiating topology of network\n",
    "model.add(LSTM(100, activation='relu', input_shape=(12, 1))) # input layer is LSTM\n",
    "model.add(Dense(1)) # Output layer\n",
    "model.compile(optimizer='adam', loss='mse')"
   ]
  },
  {
   "cell_type": "code",
   "execution_count": 44,
   "metadata": {},
   "outputs": [
    {
     "name": "stdout",
     "output_type": "stream",
     "text": [
      "Model: \"sequential\"\n",
      "_________________________________________________________________\n",
      "Layer (type)                 Output Shape              Param #   \n",
      "=================================================================\n",
      "lstm (LSTM)                  (None, 100)               40800     \n",
      "_________________________________________________________________\n",
      "dense (Dense)                (None, 1)                 101       \n",
      "=================================================================\n",
      "Total params: 40,901\n",
      "Trainable params: 40,901\n",
      "Non-trainable params: 0\n",
      "_________________________________________________________________\n"
     ]
    }
   ],
   "source": [
    "# summary of model\n",
    "\n",
    "model.summary()"
   ]
  },
  {
   "cell_type": "raw",
   "metadata": {},
   "source": [
    "Model is constructed with 'SEQUENTIAL' topology.\n",
    "LSTM layer is added input layer with 100 neurons. Activation functionis 'relu'.\n",
    "Since this is a regression problem , loss will be 'mse'.\n",
    "optimizer - strategy for weight and biases updation is adam."
   ]
  },
  {
   "cell_type": "code",
   "execution_count": 45,
   "metadata": {},
   "outputs": [
    {
     "name": "stdout",
     "output_type": "stream",
     "text": [
      "WARNING:tensorflow:From <ipython-input-45-1e0bb9283f11>:2: Model.fit_generator (from tensorflow.python.keras.engine.training) is deprecated and will be removed in a future version.\n",
      "Instructions for updating:\n",
      "Please use Model.fit, which supports generators.\n",
      "Epoch 1/50\n",
      "119/119 [==============================] - 1s 10ms/step - loss: 0.1136\n",
      "Epoch 2/50\n",
      "119/119 [==============================] - 1s 9ms/step - loss: 0.0832\n",
      "Epoch 3/50\n",
      "119/119 [==============================] - 1s 9ms/step - loss: 0.0537\n",
      "Epoch 4/50\n",
      "119/119 [==============================] - 1s 9ms/step - loss: 0.0252\n",
      "Epoch 5/50\n",
      "119/119 [==============================] - 1s 9ms/step - loss: 0.0130\n",
      "Epoch 6/50\n",
      "119/119 [==============================] - 1s 9ms/step - loss: 0.0111\n",
      "Epoch 7/50\n",
      "119/119 [==============================] - 1s 9ms/step - loss: 0.0067\n",
      "Epoch 8/50\n",
      "119/119 [==============================] - 1s 9ms/step - loss: 0.0050\n",
      "Epoch 9/50\n",
      "119/119 [==============================] - 1s 9ms/step - loss: 0.0051\n",
      "Epoch 10/50\n",
      "119/119 [==============================] - 1s 9ms/step - loss: 0.0052\n",
      "Epoch 11/50\n",
      "119/119 [==============================] - 1s 9ms/step - loss: 0.0052\n",
      "Epoch 12/50\n",
      "119/119 [==============================] - 1s 9ms/step - loss: 0.0039\n",
      "Epoch 13/50\n",
      "119/119 [==============================] - 1s 9ms/step - loss: 0.0055\n",
      "Epoch 14/50\n",
      "119/119 [==============================] - 1s 9ms/step - loss: 0.0035\n",
      "Epoch 15/50\n",
      "119/119 [==============================] - 1s 9ms/step - loss: 0.0053\n",
      "Epoch 16/50\n",
      "119/119 [==============================] - 1s 9ms/step - loss: 0.0043\n",
      "Epoch 17/50\n",
      "119/119 [==============================] - 1s 9ms/step - loss: 0.0042\n",
      "Epoch 18/50\n",
      "119/119 [==============================] - 1s 9ms/step - loss: 0.0048\n",
      "Epoch 19/50\n",
      "119/119 [==============================] - 1s 9ms/step - loss: 0.0075\n",
      "Epoch 20/50\n",
      "119/119 [==============================] - 1s 9ms/step - loss: 0.0043\n",
      "Epoch 21/50\n",
      "119/119 [==============================] - 1s 9ms/step - loss: 0.0059\n",
      "Epoch 22/50\n",
      "119/119 [==============================] - 1s 10ms/step - loss: 0.0038\n",
      "Epoch 23/50\n",
      "119/119 [==============================] - 1s 10ms/step - loss: 0.0034\n",
      "Epoch 24/50\n",
      "119/119 [==============================] - 1s 9ms/step - loss: 0.0034\n",
      "Epoch 25/50\n",
      "119/119 [==============================] - 1s 9ms/step - loss: 0.0040\n",
      "Epoch 26/50\n",
      "119/119 [==============================] - 1s 9ms/step - loss: 0.0038\n",
      "Epoch 27/50\n",
      "119/119 [==============================] - 1s 9ms/step - loss: 0.0037\n",
      "Epoch 28/50\n",
      "119/119 [==============================] - 1s 9ms/step - loss: 0.0035\n",
      "Epoch 29/50\n",
      "119/119 [==============================] - 1s 9ms/step - loss: 0.0037\n",
      "Epoch 30/50\n",
      "119/119 [==============================] - 1s 9ms/step - loss: 0.0034\n",
      "Epoch 31/50\n",
      "119/119 [==============================] - 1s 9ms/step - loss: 0.0038\n",
      "Epoch 32/50\n",
      "119/119 [==============================] - 1s 9ms/step - loss: 0.0028\n",
      "Epoch 33/50\n",
      "119/119 [==============================] - 1s 9ms/step - loss: 0.0038\n",
      "Epoch 34/50\n",
      "119/119 [==============================] - 1s 9ms/step - loss: 0.0030\n",
      "Epoch 35/50\n",
      "119/119 [==============================] - 1s 9ms/step - loss: 0.0035\n",
      "Epoch 36/50\n",
      "119/119 [==============================] - 1s 10ms/step - loss: 0.0029\n",
      "Epoch 37/50\n",
      "119/119 [==============================] - 1s 9ms/step - loss: 0.0036\n",
      "Epoch 38/50\n",
      "119/119 [==============================] - 1s 9ms/step - loss: 0.0036\n",
      "Epoch 39/50\n",
      "119/119 [==============================] - 1s 9ms/step - loss: 0.0034\n",
      "Epoch 40/50\n",
      "119/119 [==============================] - 1s 9ms/step - loss: 0.0032\n",
      "Epoch 41/50\n",
      "119/119 [==============================] - 1s 9ms/step - loss: 0.0032\n",
      "Epoch 42/50\n",
      "119/119 [==============================] - 1s 9ms/step - loss: 0.0032\n",
      "Epoch 43/50\n",
      "119/119 [==============================] - 1s 9ms/step - loss: 0.0037\n",
      "Epoch 44/50\n",
      "119/119 [==============================] - 1s 9ms/step - loss: 0.0036\n",
      "Epoch 45/50\n",
      "119/119 [==============================] - 1s 9ms/step - loss: 0.0036\n",
      "Epoch 46/50\n",
      "119/119 [==============================] - 1s 9ms/step - loss: 0.0040\n",
      "Epoch 47/50\n",
      "119/119 [==============================] - 1s 9ms/step - loss: 0.0032\n",
      "Epoch 48/50\n",
      "119/119 [==============================] - 1s 9ms/step - loss: 0.0032\n",
      "Epoch 49/50\n",
      "119/119 [==============================] - 1s 9ms/step - loss: 0.0032\n",
      "Epoch 50/50\n",
      "119/119 [==============================] - 1s 9ms/step - loss: 0.0042\n"
     ]
    },
    {
     "data": {
      "text/plain": [
       "<tensorflow.python.keras.callbacks.History at 0xcd94eabb20>"
      ]
     },
     "execution_count": 45,
     "metadata": {},
     "output_type": "execute_result"
    }
   ],
   "source": [
    "# Training the model\n",
    "model.fit_generator(generator , epochs=50 )"
   ]
  },
  {
   "cell_type": "code",
   "execution_count": 46,
   "metadata": {},
   "outputs": [],
   "source": [
    "test_predictions = []  # empty list\n",
    "\n",
    "first_eval_batch = scaled_train[-12:]   # last 12 values from training data\n",
    "current_batch = first_eval_batch.reshape((1, 12, 1))  # Inorder to predict , we need to reshape the data.\n",
    "for i in range(len(test)):\n",
    "    current_pred = model.predict(current_batch)[0]  # Prediction\n",
    "    test_predictions.append(current_pred) # Storing prediction\n",
    "    current_batch = np.append(current_batch[:,1:,:],[[current_pred]],axis=1) # update batch to include prediction and drop first value"
   ]
  },
  {
   "cell_type": "code",
   "execution_count": 47,
   "metadata": {},
   "outputs": [
    {
     "data": {
      "text/plain": [
       "array([[ 0.02460882],\n",
       "       [-0.04487909],\n",
       "       [ 0.21059744],\n",
       "       [ 0.53243243],\n",
       "       [ 0.72290185],\n",
       "       [ 0.94679943],\n",
       "       [ 0.83655761],\n",
       "       [ 0.71834993],\n",
       "       [ 0.67027027],\n",
       "       [ 0.65519203],\n",
       "       [ 0.5655761 ],\n",
       "       [ 0.34658606],\n",
       "       [ 0.07567568],\n",
       "       [-0.02354196],\n",
       "       [ 0.19075391],\n",
       "       [ 0.51529161],\n",
       "       [ 0.77937411],\n",
       "       [ 0.97411095],\n",
       "       [ 0.95497866],\n",
       "       [ 0.75320057],\n",
       "       [ 0.68463727],\n",
       "       [ 0.6715505 ],\n",
       "       [ 0.53207681],\n",
       "       [ 0.28826458],\n",
       "       [ 0.10761024],\n",
       "       [ 0.00362731],\n",
       "       [ 0.22290185],\n",
       "       [ 0.53100996],\n",
       "       [ 0.77325747],\n",
       "       [ 0.98897582],\n",
       "       [ 0.82908962],\n",
       "       [ 0.70433855],\n",
       "       [ 0.67183499],\n",
       "       [ 0.67183499]])"
      ]
     },
     "execution_count": 47,
     "metadata": {},
     "output_type": "execute_result"
    }
   ],
   "source": [
    "# Actual values\n",
    "\n",
    "scaled_test"
   ]
  },
  {
   "cell_type": "code",
   "execution_count": 48,
   "metadata": {},
   "outputs": [
    {
     "data": {
      "text/plain": [
       "[array([0.07282155], dtype=float32),\n",
       " array([0.02573266], dtype=float32),\n",
       " array([0.30577534], dtype=float32),\n",
       " array([0.6306478], dtype=float32),\n",
       " array([0.87357754], dtype=float32),\n",
       " array([0.95330274], dtype=float32),\n",
       " array([0.87565064], dtype=float32),\n",
       " array([0.74615127], dtype=float32),\n",
       " array([0.67720515], dtype=float32),\n",
       " array([0.6191038], dtype=float32),\n",
       " array([0.5234725], dtype=float32),\n",
       " array([0.3140981], dtype=float32),\n",
       " array([0.0585123], dtype=float32),\n",
       " array([0.01631743], dtype=float32),\n",
       " array([0.2943079], dtype=float32),\n",
       " array([0.608321], dtype=float32),\n",
       " array([0.8452165], dtype=float32),\n",
       " array([0.9209835], dtype=float32),\n",
       " array([0.8574344], dtype=float32),\n",
       " array([0.74863607], dtype=float32),\n",
       " array([0.6670618], dtype=float32),\n",
       " array([0.59588414], dtype=float32),\n",
       " array([0.48588467], dtype=float32),\n",
       " array([0.27812034], dtype=float32),\n",
       " array([0.05298676], dtype=float32),\n",
       " array([0.01239665], dtype=float32),\n",
       " array([0.27844408], dtype=float32),\n",
       " array([0.58649814], dtype=float32),\n",
       " array([0.8200452], dtype=float32),\n",
       " array([0.8980344], dtype=float32),\n",
       " array([0.8470249], dtype=float32),\n",
       " array([0.7494286], dtype=float32),\n",
       " array([0.6622114], dtype=float32),\n",
       " array([0.5810892], dtype=float32)]"
      ]
     },
     "execution_count": 48,
     "metadata": {},
     "output_type": "execute_result"
    }
   ],
   "source": [
    "# predictions\n",
    "\n",
    "test_predictions"
   ]
  },
  {
   "cell_type": "code",
   "execution_count": 49,
   "metadata": {},
   "outputs": [],
   "source": [
    "# Inverse transformation of predictions\n",
    "\n",
    "true_pred = scaler.inverse_transform(test_predictions)"
   ]
  },
  {
   "cell_type": "code",
   "execution_count": 50,
   "metadata": {},
   "outputs": [
    {
     "name": "stderr",
     "output_type": "stream",
     "text": [
      "<ipython-input-50-4bbc625e8aa3>:1: SettingWithCopyWarning: \n",
      "A value is trying to be set on a copy of a slice from a DataFrame.\n",
      "Try using .loc[row_indexer,col_indexer] = value instead\n",
      "\n",
      "See the caveats in the documentation: https://pandas.pydata.org/pandas-docs/stable/user_guide/indexing.html#returning-a-view-versus-a-copy\n",
      "  test['predictions'] = true_pred\n"
     ]
    }
   ],
   "source": [
    "# Adding predicted values to actual values which are in test data.\n",
    "test['predictions'] = true_pred"
   ]
  },
  {
   "cell_type": "code",
   "execution_count": 51,
   "metadata": {},
   "outputs": [
    {
     "data": {
      "text/html": [
       "<div>\n",
       "<style scoped>\n",
       "    .dataframe tbody tr th:only-of-type {\n",
       "        vertical-align: middle;\n",
       "    }\n",
       "\n",
       "    .dataframe tbody tr th {\n",
       "        vertical-align: top;\n",
       "    }\n",
       "\n",
       "    .dataframe thead th {\n",
       "        text-align: right;\n",
       "    }\n",
       "</style>\n",
       "<table border=\"1\" class=\"dataframe\">\n",
       "  <thead>\n",
       "    <tr style=\"text-align: right;\">\n",
       "      <th></th>\n",
       "      <th>AverageTemperature</th>\n",
       "      <th>predictions</th>\n",
       "    </tr>\n",
       "    <tr>\n",
       "      <th>dt</th>\n",
       "      <th></th>\n",
       "      <th></th>\n",
       "    </tr>\n",
       "  </thead>\n",
       "  <tbody>\n",
       "    <tr>\n",
       "      <th>2010-01-12</th>\n",
       "      <td>17.455</td>\n",
       "      <td>18.132871</td>\n",
       "    </tr>\n",
       "    <tr>\n",
       "      <th>2011-01-01</th>\n",
       "      <td>16.478</td>\n",
       "      <td>17.470801</td>\n",
       "    </tr>\n",
       "    <tr>\n",
       "      <th>2011-01-02</th>\n",
       "      <td>20.070</td>\n",
       "      <td>21.408201</td>\n",
       "    </tr>\n",
       "    <tr>\n",
       "      <th>2011-01-03</th>\n",
       "      <td>24.595</td>\n",
       "      <td>25.975908</td>\n",
       "    </tr>\n",
       "    <tr>\n",
       "      <th>2011-01-04</th>\n",
       "      <td>27.273</td>\n",
       "      <td>29.391500</td>\n",
       "    </tr>\n",
       "    <tr>\n",
       "      <th>2011-01-05</th>\n",
       "      <td>30.421</td>\n",
       "      <td>30.512437</td>\n",
       "    </tr>\n",
       "    <tr>\n",
       "      <th>2011-01-06</th>\n",
       "      <td>28.871</td>\n",
       "      <td>29.420648</td>\n",
       "    </tr>\n",
       "    <tr>\n",
       "      <th>2011-01-07</th>\n",
       "      <td>27.209</td>\n",
       "      <td>27.599887</td>\n",
       "    </tr>\n",
       "    <tr>\n",
       "      <th>2011-01-08</th>\n",
       "      <td>26.533</td>\n",
       "      <td>26.630504</td>\n",
       "    </tr>\n",
       "    <tr>\n",
       "      <th>2011-01-09</th>\n",
       "      <td>26.321</td>\n",
       "      <td>25.813599</td>\n",
       "    </tr>\n",
       "    <tr>\n",
       "      <th>2011-01-10</th>\n",
       "      <td>25.061</td>\n",
       "      <td>24.469023</td>\n",
       "    </tr>\n",
       "    <tr>\n",
       "      <th>2011-01-11</th>\n",
       "      <td>21.982</td>\n",
       "      <td>21.525219</td>\n",
       "    </tr>\n",
       "    <tr>\n",
       "      <th>2011-01-12</th>\n",
       "      <td>18.173</td>\n",
       "      <td>17.931683</td>\n",
       "    </tr>\n",
       "    <tr>\n",
       "      <th>2012-01-01</th>\n",
       "      <td>16.778</td>\n",
       "      <td>17.338423</td>\n",
       "    </tr>\n",
       "    <tr>\n",
       "      <th>2012-01-02</th>\n",
       "      <td>19.791</td>\n",
       "      <td>21.246969</td>\n",
       "    </tr>\n",
       "    <tr>\n",
       "      <th>2012-01-03</th>\n",
       "      <td>24.354</td>\n",
       "      <td>25.661993</td>\n",
       "    </tr>\n",
       "    <tr>\n",
       "      <th>2012-01-04</th>\n",
       "      <td>28.067</td>\n",
       "      <td>28.992744</td>\n",
       "    </tr>\n",
       "    <tr>\n",
       "      <th>2012-01-05</th>\n",
       "      <td>30.805</td>\n",
       "      <td>30.058028</td>\n",
       "    </tr>\n",
       "    <tr>\n",
       "      <th>2012-01-06</th>\n",
       "      <td>30.536</td>\n",
       "      <td>29.164528</td>\n",
       "    </tr>\n",
       "    <tr>\n",
       "      <th>2012-01-07</th>\n",
       "      <td>27.699</td>\n",
       "      <td>27.634823</td>\n",
       "    </tr>\n",
       "    <tr>\n",
       "      <th>2012-01-08</th>\n",
       "      <td>26.735</td>\n",
       "      <td>26.487889</td>\n",
       "    </tr>\n",
       "    <tr>\n",
       "      <th>2012-01-09</th>\n",
       "      <td>26.551</td>\n",
       "      <td>25.487131</td>\n",
       "    </tr>\n",
       "    <tr>\n",
       "      <th>2012-01-10</th>\n",
       "      <td>24.590</td>\n",
       "      <td>23.940538</td>\n",
       "    </tr>\n",
       "    <tr>\n",
       "      <th>2012-01-11</th>\n",
       "      <td>21.162</td>\n",
       "      <td>21.019372</td>\n",
       "    </tr>\n",
       "    <tr>\n",
       "      <th>2012-01-12</th>\n",
       "      <td>18.622</td>\n",
       "      <td>17.853994</td>\n",
       "    </tr>\n",
       "    <tr>\n",
       "      <th>2013-01-01</th>\n",
       "      <td>17.160</td>\n",
       "      <td>17.283297</td>\n",
       "    </tr>\n",
       "    <tr>\n",
       "      <th>2013-01-02</th>\n",
       "      <td>20.243</td>\n",
       "      <td>21.023924</td>\n",
       "    </tr>\n",
       "    <tr>\n",
       "      <th>2013-01-03</th>\n",
       "      <td>24.575</td>\n",
       "      <td>25.355164</td>\n",
       "    </tr>\n",
       "    <tr>\n",
       "      <th>2013-01-04</th>\n",
       "      <td>27.981</td>\n",
       "      <td>28.638835</td>\n",
       "    </tr>\n",
       "    <tr>\n",
       "      <th>2013-01-05</th>\n",
       "      <td>31.014</td>\n",
       "      <td>29.735364</td>\n",
       "    </tr>\n",
       "    <tr>\n",
       "      <th>2013-01-06</th>\n",
       "      <td>28.766</td>\n",
       "      <td>29.018170</td>\n",
       "    </tr>\n",
       "    <tr>\n",
       "      <th>2013-01-07</th>\n",
       "      <td>27.012</td>\n",
       "      <td>27.645966</td>\n",
       "    </tr>\n",
       "    <tr>\n",
       "      <th>2013-01-08</th>\n",
       "      <td>26.555</td>\n",
       "      <td>26.419693</td>\n",
       "    </tr>\n",
       "    <tr>\n",
       "      <th>2013-01-09</th>\n",
       "      <td>26.555</td>\n",
       "      <td>25.279114</td>\n",
       "    </tr>\n",
       "  </tbody>\n",
       "</table>\n",
       "</div>"
      ],
      "text/plain": [
       "            AverageTemperature  predictions\n",
       "dt                                         \n",
       "2010-01-12              17.455    18.132871\n",
       "2011-01-01              16.478    17.470801\n",
       "2011-01-02              20.070    21.408201\n",
       "2011-01-03              24.595    25.975908\n",
       "2011-01-04              27.273    29.391500\n",
       "2011-01-05              30.421    30.512437\n",
       "2011-01-06              28.871    29.420648\n",
       "2011-01-07              27.209    27.599887\n",
       "2011-01-08              26.533    26.630504\n",
       "2011-01-09              26.321    25.813599\n",
       "2011-01-10              25.061    24.469023\n",
       "2011-01-11              21.982    21.525219\n",
       "2011-01-12              18.173    17.931683\n",
       "2012-01-01              16.778    17.338423\n",
       "2012-01-02              19.791    21.246969\n",
       "2012-01-03              24.354    25.661993\n",
       "2012-01-04              28.067    28.992744\n",
       "2012-01-05              30.805    30.058028\n",
       "2012-01-06              30.536    29.164528\n",
       "2012-01-07              27.699    27.634823\n",
       "2012-01-08              26.735    26.487889\n",
       "2012-01-09              26.551    25.487131\n",
       "2012-01-10              24.590    23.940538\n",
       "2012-01-11              21.162    21.019372\n",
       "2012-01-12              18.622    17.853994\n",
       "2013-01-01              17.160    17.283297\n",
       "2013-01-02              20.243    21.023924\n",
       "2013-01-03              24.575    25.355164\n",
       "2013-01-04              27.981    28.638835\n",
       "2013-01-05              31.014    29.735364\n",
       "2013-01-06              28.766    29.018170\n",
       "2013-01-07              27.012    27.645966\n",
       "2013-01-08              26.555    26.419693\n",
       "2013-01-09              26.555    25.279114"
      ]
     },
     "execution_count": 51,
     "metadata": {},
     "output_type": "execute_result"
    }
   ],
   "source": [
    "test"
   ]
  },
  {
   "cell_type": "code",
   "execution_count": null,
   "metadata": {},
   "outputs": [],
   "source": [
    "It can be seen tat predicted values are almost close to actual values. \n",
    "LSTM worked better compared to forecasting models."
   ]
  }
 ],
 "metadata": {
  "kernelspec": {
   "display_name": "Python 3",
   "language": "python",
   "name": "python3"
  },
  "language_info": {
   "codemirror_mode": {
    "name": "ipython",
    "version": 3
   },
   "file_extension": ".py",
   "mimetype": "text/x-python",
   "name": "python",
   "nbconvert_exporter": "python",
   "pygments_lexer": "ipython3",
   "version": "3.8.3"
  },
  "toc": {
   "base_numbering": 1,
   "nav_menu": {},
   "number_sections": true,
   "sideBar": true,
   "skip_h1_title": false,
   "title_cell": "Table of Contents",
   "title_sidebar": "Contents",
   "toc_cell": false,
   "toc_position": {},
   "toc_section_display": true,
   "toc_window_display": false
  }
 },
 "nbformat": 4,
 "nbformat_minor": 2
}
