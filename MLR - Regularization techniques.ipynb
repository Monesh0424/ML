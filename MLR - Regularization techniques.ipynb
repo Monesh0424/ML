{
 "cells": [
  {
   "cell_type": "code",
   "execution_count": 1,
   "metadata": {},
   "outputs": [],
   "source": [
    "# Importing libraries\n",
    "\n",
    "import numpy as np\n",
    "import pandas as pd\n",
    "import seaborn as sns\n",
    "import matplotlib.pyplot as plt\n",
    "%matplotlib inline"
   ]
  },
  {
   "cell_type": "code",
   "execution_count": 2,
   "metadata": {},
   "outputs": [
    {
     "data": {
      "text/html": [
       "<div>\n",
       "<style scoped>\n",
       "    .dataframe tbody tr th:only-of-type {\n",
       "        vertical-align: middle;\n",
       "    }\n",
       "\n",
       "    .dataframe tbody tr th {\n",
       "        vertical-align: top;\n",
       "    }\n",
       "\n",
       "    .dataframe thead th {\n",
       "        text-align: right;\n",
       "    }\n",
       "</style>\n",
       "<table border=\"1\" class=\"dataframe\">\n",
       "  <thead>\n",
       "    <tr style=\"text-align: right;\">\n",
       "      <th></th>\n",
       "      <th>Sl.NO.</th>\n",
       "      <th>PLAYER NAME</th>\n",
       "      <th>AGE</th>\n",
       "      <th>COUNTRY</th>\n",
       "      <th>TEAM</th>\n",
       "      <th>PLAYING ROLE</th>\n",
       "      <th>T-RUNS</th>\n",
       "      <th>T-WKTS</th>\n",
       "      <th>ODI-RUNS-S</th>\n",
       "      <th>ODI-SR-B</th>\n",
       "      <th>...</th>\n",
       "      <th>SR-B</th>\n",
       "      <th>SIXERS</th>\n",
       "      <th>RUNS-C</th>\n",
       "      <th>WKTS</th>\n",
       "      <th>AVE-BL</th>\n",
       "      <th>ECON</th>\n",
       "      <th>SR-BL</th>\n",
       "      <th>AUCTION YEAR</th>\n",
       "      <th>BASE PRICE</th>\n",
       "      <th>SOLD PRICE</th>\n",
       "    </tr>\n",
       "  </thead>\n",
       "  <tbody>\n",
       "    <tr>\n",
       "      <th>0</th>\n",
       "      <td>1</td>\n",
       "      <td>Abdulla, YA</td>\n",
       "      <td>2</td>\n",
       "      <td>SA</td>\n",
       "      <td>KXIP</td>\n",
       "      <td>Allrounder</td>\n",
       "      <td>0</td>\n",
       "      <td>0</td>\n",
       "      <td>0</td>\n",
       "      <td>0.00</td>\n",
       "      <td>...</td>\n",
       "      <td>0.00</td>\n",
       "      <td>0</td>\n",
       "      <td>307</td>\n",
       "      <td>15</td>\n",
       "      <td>20.47</td>\n",
       "      <td>8.90</td>\n",
       "      <td>13.93</td>\n",
       "      <td>2009</td>\n",
       "      <td>50000</td>\n",
       "      <td>50000</td>\n",
       "    </tr>\n",
       "    <tr>\n",
       "      <th>1</th>\n",
       "      <td>2</td>\n",
       "      <td>Abdur Razzak</td>\n",
       "      <td>2</td>\n",
       "      <td>BAN</td>\n",
       "      <td>RCB</td>\n",
       "      <td>Bowler</td>\n",
       "      <td>214</td>\n",
       "      <td>18</td>\n",
       "      <td>657</td>\n",
       "      <td>71.41</td>\n",
       "      <td>...</td>\n",
       "      <td>0.00</td>\n",
       "      <td>0</td>\n",
       "      <td>29</td>\n",
       "      <td>0</td>\n",
       "      <td>0.00</td>\n",
       "      <td>14.50</td>\n",
       "      <td>0.00</td>\n",
       "      <td>2008</td>\n",
       "      <td>50000</td>\n",
       "      <td>50000</td>\n",
       "    </tr>\n",
       "    <tr>\n",
       "      <th>2</th>\n",
       "      <td>3</td>\n",
       "      <td>Agarkar, AB</td>\n",
       "      <td>2</td>\n",
       "      <td>IND</td>\n",
       "      <td>KKR</td>\n",
       "      <td>Bowler</td>\n",
       "      <td>571</td>\n",
       "      <td>58</td>\n",
       "      <td>1269</td>\n",
       "      <td>80.62</td>\n",
       "      <td>...</td>\n",
       "      <td>121.01</td>\n",
       "      <td>5</td>\n",
       "      <td>1059</td>\n",
       "      <td>29</td>\n",
       "      <td>36.52</td>\n",
       "      <td>8.81</td>\n",
       "      <td>24.90</td>\n",
       "      <td>2008</td>\n",
       "      <td>200000</td>\n",
       "      <td>350000</td>\n",
       "    </tr>\n",
       "    <tr>\n",
       "      <th>3</th>\n",
       "      <td>4</td>\n",
       "      <td>Ashwin, R</td>\n",
       "      <td>1</td>\n",
       "      <td>IND</td>\n",
       "      <td>CSK</td>\n",
       "      <td>Bowler</td>\n",
       "      <td>284</td>\n",
       "      <td>31</td>\n",
       "      <td>241</td>\n",
       "      <td>84.56</td>\n",
       "      <td>...</td>\n",
       "      <td>76.32</td>\n",
       "      <td>0</td>\n",
       "      <td>1125</td>\n",
       "      <td>49</td>\n",
       "      <td>22.96</td>\n",
       "      <td>6.23</td>\n",
       "      <td>22.14</td>\n",
       "      <td>2011</td>\n",
       "      <td>100000</td>\n",
       "      <td>850000</td>\n",
       "    </tr>\n",
       "    <tr>\n",
       "      <th>4</th>\n",
       "      <td>5</td>\n",
       "      <td>Badrinath, S</td>\n",
       "      <td>2</td>\n",
       "      <td>IND</td>\n",
       "      <td>CSK</td>\n",
       "      <td>Batsman</td>\n",
       "      <td>63</td>\n",
       "      <td>0</td>\n",
       "      <td>79</td>\n",
       "      <td>45.93</td>\n",
       "      <td>...</td>\n",
       "      <td>120.71</td>\n",
       "      <td>28</td>\n",
       "      <td>0</td>\n",
       "      <td>0</td>\n",
       "      <td>0.00</td>\n",
       "      <td>0.00</td>\n",
       "      <td>0.00</td>\n",
       "      <td>2011</td>\n",
       "      <td>100000</td>\n",
       "      <td>800000</td>\n",
       "    </tr>\n",
       "  </tbody>\n",
       "</table>\n",
       "<p>5 rows × 26 columns</p>\n",
       "</div>"
      ],
      "text/plain": [
       "   Sl.NO.   PLAYER NAME  AGE COUNTRY  TEAM PLAYING ROLE  T-RUNS  T-WKTS  \\\n",
       "0       1   Abdulla, YA    2      SA  KXIP   Allrounder       0       0   \n",
       "1       2  Abdur Razzak    2     BAN   RCB       Bowler     214      18   \n",
       "2       3   Agarkar, AB    2     IND   KKR       Bowler     571      58   \n",
       "3       4     Ashwin, R    1     IND   CSK       Bowler     284      31   \n",
       "4       5  Badrinath, S    2     IND   CSK      Batsman      63       0   \n",
       "\n",
       "   ODI-RUNS-S  ODI-SR-B  ...    SR-B  SIXERS  RUNS-C  WKTS  AVE-BL   ECON  \\\n",
       "0           0      0.00  ...    0.00       0     307    15   20.47   8.90   \n",
       "1         657     71.41  ...    0.00       0      29     0    0.00  14.50   \n",
       "2        1269     80.62  ...  121.01       5    1059    29   36.52   8.81   \n",
       "3         241     84.56  ...   76.32       0    1125    49   22.96   6.23   \n",
       "4          79     45.93  ...  120.71      28       0     0    0.00   0.00   \n",
       "\n",
       "   SR-BL  AUCTION YEAR  BASE PRICE  SOLD PRICE  \n",
       "0  13.93          2009       50000       50000  \n",
       "1   0.00          2008       50000       50000  \n",
       "2  24.90          2008      200000      350000  \n",
       "3  22.14          2011      100000      850000  \n",
       "4   0.00          2011      100000      800000  \n",
       "\n",
       "[5 rows x 26 columns]"
      ]
     },
     "execution_count": 2,
     "metadata": {},
     "output_type": "execute_result"
    }
   ],
   "source": [
    "# Importing data\n",
    "ipl_auction_df = pd.read_csv(r'C:\\Users\\USER\\Desktop\\wiley\\Machine Learning (Codes and Data Files)\\Data\\IPL IMB381IPL2013.csv')\n",
    "ipl_auction_df.head()"
   ]
  },
  {
   "cell_type": "markdown",
   "metadata": {},
   "source": [
    "# Objective - To predict 'SOLD PRICE' of a player in IPL,given past performance measures"
   ]
  },
  {
   "cell_type": "code",
   "execution_count": 3,
   "metadata": {},
   "outputs": [
    {
     "data": {
      "text/plain": [
       "Index(['Sl.NO.', 'PLAYER NAME', 'AGE', 'COUNTRY', 'TEAM', 'PLAYING ROLE',\n",
       "       'T-RUNS', 'T-WKTS', 'ODI-RUNS-S', 'ODI-SR-B', 'ODI-WKTS', 'ODI-SR-BL',\n",
       "       'CAPTAINCY EXP', 'RUNS-S', 'HS', 'AVE', 'SR-B', 'SIXERS', 'RUNS-C',\n",
       "       'WKTS', 'AVE-BL', 'ECON', 'SR-BL', 'AUCTION YEAR', 'BASE PRICE',\n",
       "       'SOLD PRICE'],\n",
       "      dtype='object')"
      ]
     },
     "execution_count": 3,
     "metadata": {},
     "output_type": "execute_result"
    }
   ],
   "source": [
    "ipl_auction_df.columns"
   ]
  },
  {
   "cell_type": "code",
   "execution_count": 4,
   "metadata": {},
   "outputs": [],
   "source": [
    "# Seleting required features\n",
    "\n",
    "X_features = ['AGE', 'COUNTRY', 'PLAYING ROLE',\n",
    "       'T-RUNS', 'T-WKTS', 'ODI-RUNS-S', 'ODI-SR-B', 'ODI-WKTS', 'ODI-SR-BL',\n",
    "       'CAPTAINCY EXP', 'RUNS-S', 'HS', 'AVE', 'SR-B', 'SIXERS', 'RUNS-C',\n",
    "       'WKTS', 'AVE-BL', 'ECON', 'SR-BL']"
   ]
  },
  {
   "cell_type": "code",
   "execution_count": 5,
   "metadata": {},
   "outputs": [],
   "source": [
    "cat_feat = ['AGE','COUNTRY','PLAYING ROLE','CAPTAINCY EXP']"
   ]
  },
  {
   "cell_type": "code",
   "execution_count": 6,
   "metadata": {},
   "outputs": [],
   "source": [
    "# Encoding categorical data\n",
    "\n",
    "ipl_auction_encoded_df = pd.get_dummies(ipl_auction_df[X_features],columns=cat_feat,drop_first=True) "
   ]
  },
  {
   "cell_type": "code",
   "execution_count": 7,
   "metadata": {},
   "outputs": [
    {
     "data": {
      "text/plain": [
       "Index(['T-RUNS', 'T-WKTS', 'ODI-RUNS-S', 'ODI-SR-B', 'ODI-WKTS', 'ODI-SR-BL',\n",
       "       'RUNS-S', 'HS', 'AVE', 'SR-B', 'SIXERS', 'RUNS-C', 'WKTS', 'AVE-BL',\n",
       "       'ECON', 'SR-BL', 'AGE_2', 'AGE_3', 'COUNTRY_BAN', 'COUNTRY_ENG',\n",
       "       'COUNTRY_IND', 'COUNTRY_NZ', 'COUNTRY_PAK', 'COUNTRY_SA', 'COUNTRY_SL',\n",
       "       'COUNTRY_WI', 'COUNTRY_ZIM', 'PLAYING ROLE_Batsman',\n",
       "       'PLAYING ROLE_Bowler', 'PLAYING ROLE_W. Keeper', 'CAPTAINCY EXP_1'],\n",
       "      dtype='object')"
      ]
     },
     "execution_count": 7,
     "metadata": {},
     "output_type": "execute_result"
    }
   ],
   "source": [
    "ipl_auction_encoded_df.columns"
   ]
  },
  {
   "cell_type": "code",
   "execution_count": 8,
   "metadata": {},
   "outputs": [],
   "source": [
    "X = ipl_auction_encoded_df\n",
    "y = ipl_auction_df['SOLD PRICE']"
   ]
  },
  {
   "cell_type": "markdown",
   "metadata": {},
   "source": [
    "# SCALING"
   ]
  },
  {
   "cell_type": "code",
   "execution_count": 9,
   "metadata": {},
   "outputs": [],
   "source": [
    "from sklearn.preprocessing import StandardScaler"
   ]
  },
  {
   "cell_type": "code",
   "execution_count": 10,
   "metadata": {},
   "outputs": [],
   "source": [
    "X_scaler = StandardScaler()"
   ]
  },
  {
   "cell_type": "code",
   "execution_count": 11,
   "metadata": {},
   "outputs": [],
   "source": [
    "X_scaled = X_scaler.fit_transform(X)"
   ]
  },
  {
   "cell_type": "code",
   "execution_count": 12,
   "metadata": {},
   "outputs": [],
   "source": [
    "y = (y - y.mean())/y.std()"
   ]
  },
  {
   "cell_type": "markdown",
   "metadata": {},
   "source": [
    "# DATA SPLIT"
   ]
  },
  {
   "cell_type": "code",
   "execution_count": 13,
   "metadata": {},
   "outputs": [],
   "source": [
    "from sklearn.model_selection import train_test_split"
   ]
  },
  {
   "cell_type": "code",
   "execution_count": 14,
   "metadata": {},
   "outputs": [],
   "source": [
    "X_train, X_test, y_train, y_test = train_test_split(X_scaled, y, test_size=0.2, random_state=42)"
   ]
  },
  {
   "cell_type": "markdown",
   "metadata": {},
   "source": [
    "# MODEL BUILDING"
   ]
  },
  {
   "cell_type": "code",
   "execution_count": 15,
   "metadata": {},
   "outputs": [],
   "source": [
    "from sklearn.linear_model import LinearRegression"
   ]
  },
  {
   "cell_type": "code",
   "execution_count": 16,
   "metadata": {},
   "outputs": [],
   "source": [
    "lm = LinearRegression()"
   ]
  },
  {
   "cell_type": "code",
   "execution_count": 17,
   "metadata": {},
   "outputs": [
    {
     "data": {
      "text/plain": [
       "LinearRegression(copy_X=True, fit_intercept=True, n_jobs=None, normalize=False)"
      ]
     },
     "execution_count": 17,
     "metadata": {},
     "output_type": "execute_result"
    }
   ],
   "source": [
    "lm.fit(X_train,y_train)"
   ]
  },
  {
   "cell_type": "code",
   "execution_count": 18,
   "metadata": {},
   "outputs": [
    {
     "data": {
      "text/plain": [
       "array([-0.43539611, -0.04632556,  0.50840867, -0.03323988,  0.2220377 ,\n",
       "       -0.05065703,  0.17282657, -0.49173336,  0.58571405, -0.11654753,\n",
       "        0.24880095,  0.09546057,  0.16428731,  0.26400753, -0.08253341,\n",
       "       -0.28643889, -0.26842214, -0.21910913, -0.02622351,  0.24817898,\n",
       "        0.18760332,  0.10776084,  0.04737488,  0.05191335,  0.01235245,\n",
       "        0.00547115, -0.03124706,  0.08530192,  0.01790803, -0.05077454,\n",
       "        0.18745577])"
      ]
     },
     "execution_count": 18,
     "metadata": {},
     "output_type": "execute_result"
    }
   ],
   "source": [
    "# Coeff\n",
    "\n",
    "lm.coef_"
   ]
  },
  {
   "cell_type": "code",
   "execution_count": 19,
   "metadata": {},
   "outputs": [
    {
     "data": {
      "text/plain": [
       "0.021855995320328277"
      ]
     },
     "execution_count": 19,
     "metadata": {},
     "output_type": "execute_result"
    }
   ],
   "source": [
    "# Intercepts\n",
    "lm.intercept_"
   ]
  },
  {
   "cell_type": "markdown",
   "metadata": {},
   "source": [
    "# Most Influential Features"
   ]
  },
  {
   "cell_type": "code",
   "execution_count": 20,
   "metadata": {},
   "outputs": [],
   "source": [
    "df = pd.DataFrame({'coef':lm.coef_ , 'columns':ipl_auction_encoded_df.columns})"
   ]
  },
  {
   "cell_type": "code",
   "execution_count": 21,
   "metadata": {},
   "outputs": [],
   "source": [
    "df_sorted=df.sort_values(by='coef',ascending=False)"
   ]
  },
  {
   "cell_type": "code",
   "execution_count": 22,
   "metadata": {},
   "outputs": [
    {
     "data": {
      "image/png": "[encoded data removed]",
      "text/plain": [
       "<Figure size 576x432 with 1 Axes>"
      ]
     },
     "metadata": {
      "needs_background": "light"
     },
     "output_type": "display_data"
    }
   ],
   "source": [
    "plt.figure(figsize=(8,6))\n",
    "sns.barplot('coef','columns',data=df_sorted)\n",
    "plt.xlabel('coeff from LR')\n",
    "plt.ylabel('features')\n",
    "plt.title('Influential features - Sorted(high to low)')\n",
    "plt.tight_layout()"
   ]
  },
  {
   "cell_type": "raw",
   "metadata": {},
   "source": [
    "Observations - Features AVE , ODI-RUNS-S , AVE-BL are highly influential features in \n",
    "               predicting SOLD PRICE of player.\n",
    "               \n",
    "             - If ECON , SR-B , AGE increases , SOLD price may decrease. They create negative\n",
    "               impact on SOLD PRICE."
   ]
  },
  {
   "cell_type": "markdown",
   "metadata": {},
   "source": [
    "# Check for OVERFIT"
   ]
  },
  {
   "cell_type": "code",
   "execution_count": 23,
   "metadata": {},
   "outputs": [
    {
     "data": {
      "text/plain": [
       "0.6793950429977006"
      ]
     },
     "execution_count": 23,
     "metadata": {},
     "output_type": "execute_result"
    }
   ],
   "source": [
    "# RMSE on training data\n",
    "y_pred_train = lm.predict(X_train)\n",
    "\n",
    "from sklearn import metrics\n",
    "\n",
    "np.sqrt(metrics.mean_squared_error(y_train,y_pred_train))\n"
   ]
  },
  {
   "cell_type": "code",
   "execution_count": 24,
   "metadata": {},
   "outputs": [
    {
     "data": {
      "text/plain": [
       "0.7485680800731184"
      ]
     },
     "execution_count": 24,
     "metadata": {},
     "output_type": "execute_result"
    }
   ],
   "source": [
    "# RMSE on testing data\n",
    "y_pred_test = lm.predict(X_test)\n",
    "\n",
    "np.sqrt(metrics.mean_squared_error(y_test,y_pred_test))"
   ]
  },
  {
   "cell_type": "raw",
   "metadata": {},
   "source": [
    "Observation - Model without overfit will have same error on training and testing dataset.\n",
    "            - In this case, there is a difference between them.\n",
    "            - This indicates OVERFIT in the model.\n",
    "            - To deal with OVERFITTING problem, we apply REGULARISATION techniques."
   ]
  },
  {
   "cell_type": "markdown",
   "metadata": {},
   "source": [
    "# LASSO REGRESSION"
   ]
  },
  {
   "cell_type": "code",
   "execution_count": 25,
   "metadata": {},
   "outputs": [],
   "source": [
    "from sklearn.linear_model import Lasso"
   ]
  },
  {
   "cell_type": "code",
   "execution_count": 26,
   "metadata": {},
   "outputs": [],
   "source": [
    "lasso = Lasso(alpha=0.01,max_iter=500)"
   ]
  },
  {
   "cell_type": "code",
   "execution_count": 27,
   "metadata": {},
   "outputs": [
    {
     "data": {
      "text/plain": [
       "Lasso(alpha=0.01, copy_X=True, fit_intercept=True, max_iter=500,\n",
       "      normalize=False, positive=False, precompute=False, random_state=None,\n",
       "      selection='cyclic', tol=0.0001, warm_start=False)"
      ]
     },
     "execution_count": 27,
     "metadata": {},
     "output_type": "execute_result"
    }
   ],
   "source": [
    "lasso.fit(X_train,y_train)"
   ]
  },
  {
   "cell_type": "code",
   "execution_count": 28,
   "metadata": {},
   "outputs": [
    {
     "name": "stdout",
     "output_type": "stream",
     "text": [
      "0.6883735056292882\n",
      "0.6982872223862224\n"
     ]
    }
   ],
   "source": [
    "# Check for overfit\n",
    "\n",
    "# RMSE on training data\n",
    "y_pred_train_lasso = lasso.predict(X_train)\n",
    "print(np.sqrt(metrics.mean_squared_error(y_train,y_pred_train_lasso)))\n",
    "\n",
    "\n",
    "# RMSE on testing data\n",
    "y_pred_test_lasso = lasso.predict(X_test)\n",
    "print(np.sqrt(metrics.mean_squared_error(y_test,y_pred_test_lasso)))"
   ]
  },
  {
   "cell_type": "code",
   "execution_count": 29,
   "metadata": {},
   "outputs": [],
   "source": [
    "lasso_df = pd.DataFrame({'col': ipl_auction_encoded_df.columns , 'coef':lasso.coef_})"
   ]
  },
  {
   "cell_type": "code",
   "execution_count": 30,
   "metadata": {},
   "outputs": [
    {
     "data": {
      "text/html": [
       "<div>\n",
       "<style scoped>\n",
       "    .dataframe tbody tr th:only-of-type {\n",
       "        vertical-align: middle;\n",
       "    }\n",
       "\n",
       "    .dataframe tbody tr th {\n",
       "        vertical-align: top;\n",
       "    }\n",
       "\n",
       "    .dataframe thead th {\n",
       "        text-align: right;\n",
       "    }\n",
       "</style>\n",
       "<table border=\"1\" class=\"dataframe\">\n",
       "  <thead>\n",
       "    <tr style=\"text-align: right;\">\n",
       "      <th></th>\n",
       "      <th>col</th>\n",
       "      <th>coef</th>\n",
       "    </tr>\n",
       "  </thead>\n",
       "  <tbody>\n",
       "    <tr>\n",
       "      <th>7</th>\n",
       "      <td>HS</td>\n",
       "      <td>-0.352652</td>\n",
       "    </tr>\n",
       "    <tr>\n",
       "      <th>0</th>\n",
       "      <td>T-RUNS</td>\n",
       "      <td>-0.301242</td>\n",
       "    </tr>\n",
       "    <tr>\n",
       "      <th>16</th>\n",
       "      <td>AGE_2</td>\n",
       "      <td>-0.202695</td>\n",
       "    </tr>\n",
       "    <tr>\n",
       "      <th>17</th>\n",
       "      <td>AGE_3</td>\n",
       "      <td>-0.177818</td>\n",
       "    </tr>\n",
       "    <tr>\n",
       "      <th>9</th>\n",
       "      <td>SR-B</td>\n",
       "      <td>-0.083146</td>\n",
       "    </tr>\n",
       "    <tr>\n",
       "      <th>29</th>\n",
       "      <td>PLAYING ROLE_W. Keeper</td>\n",
       "      <td>-0.048160</td>\n",
       "    </tr>\n",
       "    <tr>\n",
       "      <th>5</th>\n",
       "      <td>ODI-SR-BL</td>\n",
       "      <td>-0.035893</td>\n",
       "    </tr>\n",
       "    <tr>\n",
       "      <th>14</th>\n",
       "      <td>ECON</td>\n",
       "      <td>-0.035888</td>\n",
       "    </tr>\n",
       "    <tr>\n",
       "      <th>26</th>\n",
       "      <td>COUNTRY_ZIM</td>\n",
       "      <td>-0.025943</td>\n",
       "    </tr>\n",
       "    <tr>\n",
       "      <th>18</th>\n",
       "      <td>COUNTRY_BAN</td>\n",
       "      <td>-0.023023</td>\n",
       "    </tr>\n",
       "    <tr>\n",
       "      <th>25</th>\n",
       "      <td>COUNTRY_WI</td>\n",
       "      <td>-0.021617</td>\n",
       "    </tr>\n",
       "    <tr>\n",
       "      <th>24</th>\n",
       "      <td>COUNTRY_SL</td>\n",
       "      <td>-0.001749</td>\n",
       "    </tr>\n",
       "    <tr>\n",
       "      <th>15</th>\n",
       "      <td>SR-BL</td>\n",
       "      <td>-0.001134</td>\n",
       "    </tr>\n",
       "    <tr>\n",
       "      <th>13</th>\n",
       "      <td>AVE-BL</td>\n",
       "      <td>-0.000000</td>\n",
       "    </tr>\n",
       "    <tr>\n",
       "      <th>28</th>\n",
       "      <td>PLAYING ROLE_Bowler</td>\n",
       "      <td>0.000000</td>\n",
       "    </tr>\n",
       "    <tr>\n",
       "      <th>1</th>\n",
       "      <td>T-WKTS</td>\n",
       "      <td>-0.000000</td>\n",
       "    </tr>\n",
       "    <tr>\n",
       "      <th>3</th>\n",
       "      <td>ODI-SR-B</td>\n",
       "      <td>-0.000000</td>\n",
       "    </tr>\n",
       "    <tr>\n",
       "      <th>23</th>\n",
       "      <td>COUNTRY_SA</td>\n",
       "      <td>0.012654</td>\n",
       "    </tr>\n",
       "    <tr>\n",
       "      <th>22</th>\n",
       "      <td>COUNTRY_PAK</td>\n",
       "      <td>0.030018</td>\n",
       "    </tr>\n",
       "    <tr>\n",
       "      <th>27</th>\n",
       "      <td>PLAYING ROLE_Batsman</td>\n",
       "      <td>0.057139</td>\n",
       "    </tr>\n",
       "    <tr>\n",
       "      <th>21</th>\n",
       "      <td>COUNTRY_NZ</td>\n",
       "      <td>0.063061</td>\n",
       "    </tr>\n",
       "    <tr>\n",
       "      <th>11</th>\n",
       "      <td>RUNS-C</td>\n",
       "      <td>0.069853</td>\n",
       "    </tr>\n",
       "    <tr>\n",
       "      <th>12</th>\n",
       "      <td>WKTS</td>\n",
       "      <td>0.114688</td>\n",
       "    </tr>\n",
       "    <tr>\n",
       "      <th>6</th>\n",
       "      <td>RUNS-S</td>\n",
       "      <td>0.131827</td>\n",
       "    </tr>\n",
       "    <tr>\n",
       "      <th>4</th>\n",
       "      <td>ODI-WKTS</td>\n",
       "      <td>0.157779</td>\n",
       "    </tr>\n",
       "    <tr>\n",
       "      <th>30</th>\n",
       "      <td>CAPTAINCY EXP_1</td>\n",
       "      <td>0.158808</td>\n",
       "    </tr>\n",
       "    <tr>\n",
       "      <th>20</th>\n",
       "      <td>COUNTRY_IND</td>\n",
       "      <td>0.191417</td>\n",
       "    </tr>\n",
       "    <tr>\n",
       "      <th>19</th>\n",
       "      <td>COUNTRY_ENG</td>\n",
       "      <td>0.219205</td>\n",
       "    </tr>\n",
       "    <tr>\n",
       "      <th>10</th>\n",
       "      <td>SIXERS</td>\n",
       "      <td>0.233129</td>\n",
       "    </tr>\n",
       "    <tr>\n",
       "      <th>2</th>\n",
       "      <td>ODI-RUNS-S</td>\n",
       "      <td>0.413059</td>\n",
       "    </tr>\n",
       "    <tr>\n",
       "      <th>8</th>\n",
       "      <td>AVE</td>\n",
       "      <td>0.458135</td>\n",
       "    </tr>\n",
       "  </tbody>\n",
       "</table>\n",
       "</div>"
      ],
      "text/plain": [
       "                       col      coef\n",
       "7                       HS -0.352652\n",
       "0                   T-RUNS -0.301242\n",
       "16                   AGE_2 -0.202695\n",
       "17                   AGE_3 -0.177818\n",
       "9                     SR-B -0.083146\n",
       "29  PLAYING ROLE_W. Keeper -0.048160\n",
       "5                ODI-SR-BL -0.035893\n",
       "14                    ECON -0.035888\n",
       "26             COUNTRY_ZIM -0.025943\n",
       "18             COUNTRY_BAN -0.023023\n",
       "25              COUNTRY_WI -0.021617\n",
       "24              COUNTRY_SL -0.001749\n",
       "15                   SR-BL -0.001134\n",
       "13                  AVE-BL -0.000000\n",
       "28     PLAYING ROLE_Bowler  0.000000\n",
       "1                   T-WKTS -0.000000\n",
       "3                 ODI-SR-B -0.000000\n",
       "23              COUNTRY_SA  0.012654\n",
       "22             COUNTRY_PAK  0.030018\n",
       "27    PLAYING ROLE_Batsman  0.057139\n",
       "21              COUNTRY_NZ  0.063061\n",
       "11                  RUNS-C  0.069853\n",
       "12                    WKTS  0.114688\n",
       "6                   RUNS-S  0.131827\n",
       "4                 ODI-WKTS  0.157779\n",
       "30         CAPTAINCY EXP_1  0.158808\n",
       "20             COUNTRY_IND  0.191417\n",
       "19             COUNTRY_ENG  0.219205\n",
       "10                  SIXERS  0.233129\n",
       "2               ODI-RUNS-S  0.413059\n",
       "8                      AVE  0.458135"
      ]
     },
     "execution_count": 30,
     "metadata": {},
     "output_type": "execute_result"
    }
   ],
   "source": [
    "lasso_df.sort_values(by='coef')"
   ]
  },
  {
   "cell_type": "raw",
   "metadata": {},
   "source": [
    "Features whose coeff are 0 , are not necessary in making predictions."
   ]
  },
  {
   "cell_type": "markdown",
   "metadata": {},
   "source": [
    "# RIDGE REGRESSION"
   ]
  },
  {
   "cell_type": "code",
   "execution_count": 31,
   "metadata": {},
   "outputs": [],
   "source": [
    "from sklearn.linear_model import Ridge"
   ]
  },
  {
   "cell_type": "code",
   "execution_count": 32,
   "metadata": {},
   "outputs": [],
   "source": [
    "ridge = Ridge(alpha=1 , max_iter=500)"
   ]
  },
  {
   "cell_type": "code",
   "execution_count": 33,
   "metadata": {},
   "outputs": [
    {
     "data": {
      "text/plain": [
       "Ridge(alpha=1, copy_X=True, fit_intercept=True, max_iter=500, normalize=False,\n",
       "      random_state=None, solver='auto', tol=0.001)"
      ]
     },
     "execution_count": 33,
     "metadata": {},
     "output_type": "execute_result"
    }
   ],
   "source": [
    "ridge.fit(X_train,y_train)"
   ]
  },
  {
   "cell_type": "code",
   "execution_count": 34,
   "metadata": {},
   "outputs": [
    {
     "name": "stdout",
     "output_type": "stream",
     "text": [
      "0.6804918665100159\n",
      "0.723792344862343\n"
     ]
    }
   ],
   "source": [
    "# Check for overfit\n",
    "\n",
    "# RMSE on training data\n",
    "y_pred_train_ridge = ridge.predict(X_train)\n",
    "print(np.sqrt(metrics.mean_squared_error(y_train,y_pred_train_ridge)))\n",
    "\n",
    "\n",
    "# RMSE on testing data\n",
    "y_pred_test_ridge = ridge.predict(X_test)\n",
    "print(np.sqrt(metrics.mean_squared_error(y_test,y_pred_test_ridge)))"
   ]
  },
  {
   "cell_type": "raw",
   "metadata": {},
   "source": [
    "Observations - The differene between RMSE in training data and testing data is minimum in LASSO,\n",
    "               when compared to RIDGE. \n",
    "             - LASSO reduces coefficients to 0 , which indicates that these features are not \n",
    "               necessary in predicting SOLD PRICE of player in IPL.\n",
    "             - LASSO regression uses L1 penalty on features whose coeff inflates.\n",
    "             - LASSO can be used as 'FEATURE SELECTION TECHNIQUE'"
   ]
  }
 ],
 "metadata": {
  "kernelspec": {
   "display_name": "Python 3",
   "language": "python",
   "name": "python3"
  },
  "language_info": {
   "codemirror_mode": {
    "name": "ipython",
    "version": 3
   },
   "file_extension": ".py",
   "mimetype": "text/x-python",
   "name": "python",
   "nbconvert_exporter": "python",
   "pygments_lexer": "ipython3",
   "version": "3.7.6"
  }
 },
 "nbformat": 4,
 "nbformat_minor": 4
}
